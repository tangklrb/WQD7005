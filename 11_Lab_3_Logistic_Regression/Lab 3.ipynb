{
 "cells": [
  {
   "cell_type": "markdown",
   "metadata": {},
   "source": [
    "# 0. Prequisite\n",
    "## Perform the following steps before trying the exercises:\n",
    "\n",
    "### a) Import pandas as \"pd\" and load the lab1 dataset into \"df\".\n",
    "### b) Print dataset information to refresh your memory.\n",
    "### c) Run preprocess_data function on the dataframe to perform preprocessing steps discussed last week.\n",
    "### d) Split your data into training and test with 70:30 distribution, stratified, random state 0."
   ]
  },
  {
   "cell_type": "code",
   "execution_count": 1,
   "metadata": {},
   "outputs": [],
   "source": [
    "import pandas as pd\n",
    "import matplotlib\n",
    "import seaborn as sns\n",
    "from sklearn import preprocessing\n",
    "from sklearn.linear_model import LogisticRegression\n",
    "from sklearn.model_selection import train_test_split"
   ]
  },
  {
   "cell_type": "code",
   "execution_count": 2,
   "metadata": {},
   "outputs": [
    {
     "name": "stdout",
     "output_type": "stream",
     "text": [
      "<class 'pandas.core.frame.DataFrame'>\n",
      "RangeIndex: 9686 entries, 0 to 9685\n",
      "Data columns (total 28 columns):\n",
      " #   Column            Non-Null Count  Dtype  \n",
      "---  ------            --------------  -----  \n",
      " 0   TargetB           9686 non-null   int64  \n",
      " 1   ID                9686 non-null   int64  \n",
      " 2   TargetD           4843 non-null   float64\n",
      " 3   GiftCnt36         9686 non-null   int64  \n",
      " 4   GiftCntAll        9686 non-null   int64  \n",
      " 5   GiftCntCard36     9686 non-null   int64  \n",
      " 6   GiftCntCardAll    9686 non-null   int64  \n",
      " 7   GiftAvgLast       9686 non-null   float64\n",
      " 8   GiftAvg36         9686 non-null   float64\n",
      " 9   GiftAvgAll        9686 non-null   float64\n",
      " 10  GiftAvgCard36     7906 non-null   float64\n",
      " 11  GiftTimeLast      9686 non-null   int64  \n",
      " 12  GiftTimeFirst     9686 non-null   int64  \n",
      " 13  PromCnt12         9686 non-null   int64  \n",
      " 14  PromCnt36         9686 non-null   int64  \n",
      " 15  PromCntAll        9686 non-null   int64  \n",
      " 16  PromCntCard12     9686 non-null   int64  \n",
      " 17  PromCntCard36     9686 non-null   int64  \n",
      " 18  PromCntCardAll    9686 non-null   int64  \n",
      " 19  StatusCat96NK     9686 non-null   object \n",
      " 20  StatusCatStarAll  9686 non-null   int64  \n",
      " 21  DemCluster        9686 non-null   int64  \n",
      " 22  DemAge            7279 non-null   float64\n",
      " 23  DemGender         9686 non-null   object \n",
      " 24  DemHomeOwner      9686 non-null   object \n",
      " 25  DemMedHomeValue   9686 non-null   int64  \n",
      " 26  DemPctVeterans    9686 non-null   int64  \n",
      " 27  DemMedIncome      9686 non-null   int64  \n",
      "dtypes: float64(6), int64(19), object(3)\n",
      "memory usage: 2.1+ MB\n"
     ]
    }
   ],
   "source": [
    "df = pd.read_csv('lab1.csv')\n",
    "df.info()"
   ]
  },
  {
   "cell_type": "code",
   "execution_count": 3,
   "metadata": {},
   "outputs": [],
   "source": [
    "def preprocess_data(df):\n",
    "    \n",
    "    # Week 1\n",
    "    # 3.1 Setting correct type to variables\n",
    "    df.DemCluster = df.DemCluster.astype('category')\n",
    "    df.DemHomeOwner = df.DemHomeOwner.replace({'H': 1,'U':0})\n",
    "    # 3.2 Correcting invalid values\n",
    "    df.DemAge = df.DemAge.mask(df.DemAge == 0, df.DemAge.mean(skipna=True))\n",
    "    df.DemMedHomeValue = df.DemMedHomeValue.mask(df.DemMedHomeValue == 0, df.DemMedHomeValue.mean(skipna=True))\n",
    "    # 3.3 Imputing Missing Values\n",
    "    df.DemAge.fillna(df.DemAge.mean(), inplace = True)\n",
    "    df.DemMedHomeValue.fillna(df.DemMedHomeValue.mean(), inplace = True)\n",
    "    df.GiftAvgCard36.fillna(df.GiftAvgCard36.mean(), inplace = True)\n",
    "    # 3.4 Dropping Unnecessary Variables\n",
    "    df.drop(['ID', 'TargetD'], axis=1, inplace=True)\n",
    "    # 3.5 Formatting Categorical Variable\n",
    "    df.DemHomeOwner = df.DemHomeOwner.astype('category')\n",
    "    df.DemGender = df.DemGender.astype('category')\n",
    "    \n",
    "    # Week 2\n",
    "    # make copies of features & target data from\n",
    "    df_features = df.drop(['TargetB'], axis=1)\n",
    "    df_target = df[['TargetB']]\n",
    "    # convert categorial data\n",
    "    label_encoder = preprocessing.LabelEncoder()\n",
    "    df_features['StatusCat96NK'] = label_encoder.fit_transform(df_features['StatusCat96NK'])\n",
    "    df_features['DemGender'] = label_encoder.fit_transform(df_features['DemGender'])\n",
    "    # split the data into training & test sets\n",
    "    \n",
    "    return(\n",
    "        df_features.columns,\n",
    "        df_target.columns,\n",
    "        train_test_split(\n",
    "        df_features.values, df_target.values, \n",
    "        stratify = df_target.values, random_state = 0, test_size=0.30\n",
    "    ))\n",
    "    "
   ]
  },
  {
   "cell_type": "code",
   "execution_count": 4,
   "metadata": {},
   "outputs": [],
   "source": [
    "x_col, y_col, (x_train, x_test, y_train, y_test) = preprocess_data(df)"
   ]
  },
  {
   "cell_type": "code",
   "execution_count": null,
   "metadata": {},
   "outputs": [],
   "source": []
  },
  {
   "cell_type": "markdown",
   "metadata": {},
   "source": [
    "# 1. Standardisation and Logistic Regression\n",
    "## Perform following operations and answer the following questions:"
   ]
  },
  {
   "cell_type": "markdown",
   "metadata": {},
   "source": [
    "### a) What is the difference between logistic regression and linear regression?\n",
    "\n",
    "Linear Regression is used to solve regression problems in which the dependent/output variable is countinuous/descrete. While Logistic Regression is used to solve classification problems where the dependent/output variable is binary.\n",
    "\n",
    "### b) Describe how logistic regression perform its prediction.\n",
    "\n",
    "Similar to Linear Regression, a linear function (formed by the independent variables and their correlation) is produced, with modification in such a way that, instead of being a linear function, it's part of a logistic function, so that the result is always between 0 and 1.\n",
    "\n",
    "### c) Write code to perform standardisation on your training and test dataset. \n",
    "\n",
    "\n",
    "\n"
   ]
  },
  {
   "cell_type": "code",
   "execution_count": 5,
   "metadata": {
    "scrolled": true
   },
   "outputs": [
    {
     "data": {
      "text/plain": [
       "<matplotlib.axes._subplots.AxesSubplot at 0x7f6c73906908>"
      ]
     },
     "execution_count": 5,
     "metadata": {},
     "output_type": "execute_result"
    },
    {
     "data": {
      "image/png": "[encoded data removed]",
      "text/plain": [
       "<Figure size 432x288 with 1 Axes>"
      ]
     },
     "metadata": {
      "needs_background": "light"
     },
     "output_type": "display_data"
    }
   ],
   "source": [
    "# Before Standardization\n",
    "sns.distplot(x_train, bins = 100)"
   ]
  },
  {
   "cell_type": "code",
   "execution_count": 6,
   "metadata": {},
   "outputs": [
    {
     "data": {
      "text/plain": [
       "array([[2, 4, 1, ..., 136400.0, 3, 0],\n",
       "       [2, 8, 1, ..., 344300.0, 24, 0],\n",
       "       [1, 6, 1, ..., 68200.0, 35, 42011],\n",
       "       ...,\n",
       "       [1, 1, 1, ..., 38300.0, 27, 41324],\n",
       "       [2, 2, 1, ..., 190000.0, 28, 0],\n",
       "       [3, 24, 2, ..., 50000.0, 24, 0]], dtype=object)"
      ]
     },
     "execution_count": 6,
     "metadata": {},
     "output_type": "execute_result"
    }
   ],
   "source": [
    "x_train"
   ]
  },
  {
   "cell_type": "code",
   "execution_count": 7,
   "metadata": {},
   "outputs": [],
   "source": [
    "scaler = preprocessing.StandardScaler()\n",
    "\n",
    "x_train = scaler.fit_transform(x_train)\n",
    "x_test = scaler.transform(x_test) \n"
   ]
  },
  {
   "cell_type": "code",
   "execution_count": 8,
   "metadata": {
    "scrolled": false
   },
   "outputs": [
    {
     "data": {
      "text/plain": [
       "<matplotlib.axes._subplots.AxesSubplot at 0x7f6c70f3c9e8>"
      ]
     },
     "execution_count": 8,
     "metadata": {},
     "output_type": "execute_result"
    },
    {
     "data": {
      "image/png": "[encoded data removed]",
      "text/plain": [
       "<Figure size 432x288 with 1 Axes>"
      ]
     },
     "metadata": {
      "needs_background": "light"
     },
     "output_type": "display_data"
    }
   ],
   "source": [
    "# After Standardization\n",
    "sns.distplot(x_train, bins = 100)"
   ]
  },
  {
   "cell_type": "code",
   "execution_count": 9,
   "metadata": {},
   "outputs": [
    {
     "data": {
      "text/plain": [
       "array([[-0.56968888, -0.71376787, -0.5353033 , ...,  0.25653975,\n",
       "        -2.41101505, -1.41429318],\n",
       "       [-0.56968888, -0.27593686, -0.5353033 , ...,  2.39963659,\n",
       "        -0.57092241, -1.41429318],\n",
       "       [-1.03838085, -0.49485236, -0.5353033 , ..., -0.44648672,\n",
       "         0.39293564,  0.05775913],\n",
       "       ...,\n",
       "       [-1.03838085, -1.04214112, -0.5353033 , ..., -0.75470508,\n",
       "        -0.30805203,  0.03368686],\n",
       "       [-0.56968888, -0.93268337, -0.5353033 , ...,  0.80906496,\n",
       "        -0.22042857, -1.41429318],\n",
       "       [-0.1009969 ,  1.47538718,  0.08840462, ..., -0.6340979 ,\n",
       "        -0.57092241, -1.41429318]])"
      ]
     },
     "execution_count": 9,
     "metadata": {},
     "output_type": "execute_result"
    }
   ],
   "source": [
    "x_train"
   ]
  },
  {
   "cell_type": "code",
   "execution_count": null,
   "metadata": {},
   "outputs": [],
   "source": []
  },
  {
   "cell_type": "markdown",
   "metadata": {},
   "source": [
    "### d) What does standardisation do to your data? How does it benefit your regression model? \n",
    "\n",
    "Standardisation transforms the features so that the mean is always zero and scaled to have standard deviation of one. As such, the distribution of the features values becomes more normal distributed. With the same mean and unit scale, we can compare features to features directly. \n",
    "\n",
    "### e) Write code to fit a logistic regression model to your training data. How does it perform on the training and test data? Do you see any indication of overfitting?\n",
    "\n",
    "No sign of overfitting. The training set and test set accuracy are quite close.\n",
    "\n"
   ]
  },
  {
   "cell_type": "code",
   "execution_count": 10,
   "metadata": {},
   "outputs": [
    {
     "name": "stdout",
     "output_type": "stream",
     "text": [
      "Training Set Accuracy: 0.5801\n",
      "Test Set Accuracy: 0.5850\n"
     ]
    },
    {
     "name": "stderr",
     "output_type": "stream",
     "text": [
      "/home/kitlim/py3_kernel/lib/python3.6/site-packages/sklearn/utils/validation.py:73: DataConversionWarning: A column-vector y was passed when a 1d array was expected. Please change the shape of y to (n_samples, ), for example using ravel().\n",
      "  return f(**kwargs)\n"
     ]
    }
   ],
   "source": [
    "logistic_regression = LogisticRegression()\n",
    "logistic_regression.fit(x_train, y_train)\n",
    "\n",
    "# Check the accurary\n",
    "print(\n",
    "    'Training Set Accuracy: {:.4f}'. \n",
    "    format(logistic_regression.score(x_train, y_train))\n",
    ")\n",
    "\n",
    "print(\n",
    "    'Test Set Accuracy: {:.4f}'.\n",
    "    format(logistic_regression.score(x_test, y_test))\n",
    ")\n"
   ]
  },
  {
   "cell_type": "markdown",
   "metadata": {},
   "source": [
    "\n",
    "### f) Write code to find the most important features in your model.\n",
    "\n"
   ]
  },
  {
   "cell_type": "code",
   "execution_count": 11,
   "metadata": {},
   "outputs": [
    {
     "data": {
      "text/html": [
       "<div>\n",
       "<style scoped>\n",
       "    .dataframe tbody tr th:only-of-type {\n",
       "        vertical-align: middle;\n",
       "    }\n",
       "\n",
       "    .dataframe tbody tr th {\n",
       "        vertical-align: top;\n",
       "    }\n",
       "\n",
       "    .dataframe thead th {\n",
       "        text-align: right;\n",
       "    }\n",
       "</style>\n",
       "<table border=\"1\" class=\"dataframe\">\n",
       "  <thead>\n",
       "    <tr style=\"text-align: right;\">\n",
       "      <th></th>\n",
       "      <th>feature</th>\n",
       "      <th>importance</th>\n",
       "    </tr>\n",
       "  </thead>\n",
       "  <tbody>\n",
       "    <tr>\n",
       "      <th>9</th>\n",
       "      <td>GiftTimeFirst</td>\n",
       "      <td>0.250808</td>\n",
       "    </tr>\n",
       "    <tr>\n",
       "      <th>22</th>\n",
       "      <td>DemMedHomeValue</td>\n",
       "      <td>0.121731</td>\n",
       "    </tr>\n",
       "    <tr>\n",
       "      <th>2</th>\n",
       "      <td>GiftCntCard36</td>\n",
       "      <td>0.120540</td>\n",
       "    </tr>\n",
       "    <tr>\n",
       "      <th>12</th>\n",
       "      <td>PromCntAll</td>\n",
       "      <td>0.115006</td>\n",
       "    </tr>\n",
       "    <tr>\n",
       "      <th>14</th>\n",
       "      <td>PromCntCard36</td>\n",
       "      <td>0.093456</td>\n",
       "    </tr>\n",
       "  </tbody>\n",
       "</table>\n",
       "</div>"
      ],
      "text/plain": [
       "            feature  importance\n",
       "9     GiftTimeFirst    0.250808\n",
       "22  DemMedHomeValue    0.121731\n",
       "2     GiftCntCard36    0.120540\n",
       "12       PromCntAll    0.115006\n",
       "14    PromCntCard36    0.093456"
      ]
     },
     "execution_count": 11,
     "metadata": {},
     "output_type": "execute_result"
    }
   ],
   "source": [
    "import numpy as np\n",
    "\n",
    "# grab feature importances from the model and feature name from the original X\n",
    "importances = pd.DataFrame({\n",
    "    'feature': x_col,\n",
    "    'importance': logistic_regression.coef_[0]\n",
    "})\n",
    "\n",
    "importances.sort_values('importance', ascending = False).head()"
   ]
  }
 ],
 "metadata": {
  "kernelspec": {
   "display_name": "py3",
   "language": "python",
   "name": "py3"
  },
  "language_info": {
   "codemirror_mode": {
    "name": "ipython",
    "version": 3
   },
   "file_extension": ".py",
   "mimetype": "text/x-python",
   "name": "python",
   "nbconvert_exporter": "python",
   "pygments_lexer": "ipython3",
   "version": "3.6.9"
  }
 },
 "nbformat": 4,
 "nbformat_minor": 2
}
