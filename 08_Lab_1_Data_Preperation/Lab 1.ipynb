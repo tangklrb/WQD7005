{
 "cells": [
  {
   "cell_type": "code",
   "execution_count": 1,
   "metadata": {},
   "outputs": [],
   "source": [
    "import pandas as pd\n",
    "import matplotlib\n",
    "import seaborn as sns\n"
   ]
  },
  {
   "cell_type": "code",
   "execution_count": 2,
   "metadata": {},
   "outputs": [],
   "source": [
    "df = pd.read_csv('lab1.csv')"
   ]
  },
  {
   "cell_type": "code",
   "execution_count": 3,
   "metadata": {
    "scrolled": true
   },
   "outputs": [
    {
     "name": "stdout",
     "output_type": "stream",
     "text": [
      "<class 'pandas.core.frame.DataFrame'>\n",
      "RangeIndex: 9686 entries, 0 to 9685\n",
      "Data columns (total 28 columns):\n",
      " #   Column            Non-Null Count  Dtype  \n",
      "---  ------            --------------  -----  \n",
      " 0   TargetB           9686 non-null   int64  \n",
      " 1   ID                9686 non-null   int64  \n",
      " 2   TargetD           4843 non-null   float64\n",
      " 3   GiftCnt36         9686 non-null   int64  \n",
      " 4   GiftCntAll        9686 non-null   int64  \n",
      " 5   GiftCntCard36     9686 non-null   int64  \n",
      " 6   GiftCntCardAll    9686 non-null   int64  \n",
      " 7   GiftAvgLast       9686 non-null   float64\n",
      " 8   GiftAvg36         9686 non-null   float64\n",
      " 9   GiftAvgAll        9686 non-null   float64\n",
      " 10  GiftAvgCard36     7906 non-null   float64\n",
      " 11  GiftTimeLast      9686 non-null   int64  \n",
      " 12  GiftTimeFirst     9686 non-null   int64  \n",
      " 13  PromCnt12         9686 non-null   int64  \n",
      " 14  PromCnt36         9686 non-null   int64  \n",
      " 15  PromCntAll        9686 non-null   int64  \n",
      " 16  PromCntCard12     9686 non-null   int64  \n",
      " 17  PromCntCard36     9686 non-null   int64  \n",
      " 18  PromCntCardAll    9686 non-null   int64  \n",
      " 19  StatusCat96NK     9686 non-null   object \n",
      " 20  StatusCatStarAll  9686 non-null   int64  \n",
      " 21  DemCluster        9686 non-null   int64  \n",
      " 22  DemAge            7279 non-null   float64\n",
      " 23  DemGender         9686 non-null   object \n",
      " 24  DemHomeOwner      9686 non-null   object \n",
      " 25  DemMedHomeValue   9686 non-null   int64  \n",
      " 26  DemPctVeterans    9686 non-null   int64  \n",
      " 27  DemMedIncome      9686 non-null   int64  \n",
      "dtypes: float64(6), int64(19), object(3)\n",
      "memory usage: 2.1+ MB\n"
     ]
    }
   ],
   "source": [
    "# 2. Exploring Data\n",
    "\n",
    "df.info()"
   ]
  },
  {
   "cell_type": "code",
   "execution_count": 4,
   "metadata": {},
   "outputs": [
    {
     "data": {
      "text/plain": [
       "(9686, 28)"
      ]
     },
     "execution_count": 4,
     "metadata": {},
     "output_type": "execute_result"
    }
   ],
   "source": [
    "df.shape"
   ]
  },
  {
   "cell_type": "code",
   "execution_count": 5,
   "metadata": {},
   "outputs": [
    {
     "data": {
      "text/plain": [
       "count    7279.000000\n",
       "mean       59.150845\n",
       "std        16.516400\n",
       "min         0.000000\n",
       "25%        47.000000\n",
       "50%        60.000000\n",
       "75%        73.000000\n",
       "max        87.000000\n",
       "Name: DemAge, dtype: float64"
      ]
     },
     "execution_count": 5,
     "metadata": {},
     "output_type": "execute_result"
    }
   ],
   "source": [
    "# 2.1. Explore column data\n",
    "\n",
    "df.DemAge.describe()"
   ]
  },
  {
   "cell_type": "code",
   "execution_count": 6,
   "metadata": {
    "scrolled": true
   },
   "outputs": [
    {
     "data": {
      "text/plain": [
       "array([nan, 67., 53., 47., 58., 39., 50., 45., 80., 61., 76., 41., 75.,\n",
       "       59., 51., 31., 54., 70., 42., 65., 81., 38., 56., 69., 52., 33.,\n",
       "       73., 71., 29., 60., 83., 43., 35., 77., 44., 72., 64., 34., 55.,\n",
       "       37., 57., 46., 49., 32., 66., 87., 40., 79., 25., 63., 62., 48.,\n",
       "       68., 86., 23., 27., 74., 78., 85., 26.,  7., 36., 82., 24., 17.,\n",
       "       30., 84., 21., 28., 22., 19., 16., 14.,  6.,  0.,  2., 20., 18.,\n",
       "       15.,  4.])"
      ]
     },
     "execution_count": 6,
     "metadata": {},
     "output_type": "execute_result"
    }
   ],
   "source": [
    "df.DemAge.unique()"
   ]
  },
  {
   "cell_type": "code",
   "execution_count": 7,
   "metadata": {
    "scrolled": false
   },
   "outputs": [
    {
     "data": {
      "text/plain": [
       "(69.6, 78.3]     1437\n",
       "(60.9, 69.6]     1250\n",
       "(43.5, 52.2]     1223\n",
       "(52.2, 60.9]     1043\n",
       "(78.3, 87.0]      932\n",
       "(34.8, 43.5]      889\n",
       "(26.1, 34.8]      342\n",
       "(17.4, 26.1]       72\n",
       "(8.7, 17.4]        53\n",
       "(-0.088, 8.7]      38\n",
       "Name: DemAge, dtype: int64"
      ]
     },
     "execution_count": 7,
     "metadata": {},
     "output_type": "execute_result"
    }
   ],
   "source": [
    "df.DemAge.value_counts(bins=10)"
   ]
  },
  {
   "cell_type": "code",
   "execution_count": 8,
   "metadata": {
    "scrolled": true
   },
   "outputs": [
    {
     "data": {
      "text/plain": [
       "TargetB                0\n",
       "ID                     0\n",
       "TargetD             4843\n",
       "GiftCnt36              0\n",
       "GiftCntAll             0\n",
       "GiftCntCard36          0\n",
       "GiftCntCardAll         0\n",
       "GiftAvgLast            0\n",
       "GiftAvg36              0\n",
       "GiftAvgAll             0\n",
       "GiftAvgCard36       1780\n",
       "GiftTimeLast           0\n",
       "GiftTimeFirst          0\n",
       "PromCnt12              0\n",
       "PromCnt36              0\n",
       "PromCntAll             0\n",
       "PromCntCard12          0\n",
       "PromCntCard36          0\n",
       "PromCntCardAll         0\n",
       "StatusCat96NK          0\n",
       "StatusCatStarAll       0\n",
       "DemCluster             0\n",
       "DemAge              2407\n",
       "DemGender              0\n",
       "DemHomeOwner           0\n",
       "DemMedHomeValue        0\n",
       "DemPctVeterans         0\n",
       "DemMedIncome           0\n",
       "dtype: int64"
      ]
     },
     "execution_count": 8,
     "metadata": {},
     "output_type": "execute_result"
    }
   ],
   "source": [
    "# Exploring other columns\n",
    "\n",
    "df.isnull().sum()"
   ]
  },
  {
   "cell_type": "code",
   "execution_count": 9,
   "metadata": {
    "scrolled": false
   },
   "outputs": [
    {
     "data": {
      "text/plain": [
       "count    9686.000000\n",
       "mean        3.205451\n",
       "std         2.133421\n",
       "min         0.000000\n",
       "25%         2.000000\n",
       "50%         3.000000\n",
       "75%         4.000000\n",
       "max        16.000000\n",
       "Name: GiftCnt36, dtype: float64"
      ]
     },
     "execution_count": 9,
     "metadata": {},
     "output_type": "execute_result"
    }
   ],
   "source": [
    "df.GiftCnt36.describe()"
   ]
  },
  {
   "cell_type": "code",
   "execution_count": 10,
   "metadata": {
    "scrolled": true
   },
   "outputs": [
    {
     "data": {
      "text/plain": [
       "array([ 2,  1,  6,  3,  7,  4,  5,  8, 11,  9,  0, 10, 13, 12, 15, 16])"
      ]
     },
     "execution_count": 10,
     "metadata": {},
     "output_type": "execute_result"
    }
   ],
   "source": [
    "df.GiftCnt36.unique()"
   ]
  },
  {
   "cell_type": "code",
   "execution_count": 11,
   "metadata": {
    "scrolled": true
   },
   "outputs": [
    {
     "data": {
      "text/plain": [
       "(1.6, 3.2]       4113\n",
       "(-0.017, 1.6]    2124\n",
       "(4.8, 6.4]       1397\n",
       "(3.2, 4.8]       1268\n",
       "(6.4, 8.0]        544\n",
       "(8.0, 9.6]         99\n",
       "(9.6, 11.2]        96\n",
       "(11.2, 12.8]       27\n",
       "(12.8, 14.4]       16\n",
       "(14.4, 16.0]        2\n",
       "Name: GiftCnt36, dtype: int64"
      ]
     },
     "execution_count": 11,
     "metadata": {},
     "output_type": "execute_result"
    }
   ],
   "source": [
    "df.GiftCnt36.value_counts(bins=10)"
   ]
  },
  {
   "cell_type": "code",
   "execution_count": 12,
   "metadata": {
    "scrolled": false
   },
   "outputs": [
    {
     "data": {
      "text/plain": [
       "count    9686.000000\n",
       "mean        0.500000\n",
       "std         0.500026\n",
       "min         0.000000\n",
       "25%         0.000000\n",
       "50%         0.500000\n",
       "75%         1.000000\n",
       "max         1.000000\n",
       "Name: TargetB, dtype: float64"
      ]
     },
     "execution_count": 12,
     "metadata": {},
     "output_type": "execute_result"
    }
   ],
   "source": [
    "df.TargetB.describe()"
   ]
  },
  {
   "cell_type": "code",
   "execution_count": 13,
   "metadata": {
    "scrolled": false
   },
   "outputs": [
    {
     "data": {
      "text/plain": [
       "array([0, 1])"
      ]
     },
     "execution_count": 13,
     "metadata": {},
     "output_type": "execute_result"
    }
   ],
   "source": [
    "df.TargetB.unique()"
   ]
  },
  {
   "cell_type": "code",
   "execution_count": 14,
   "metadata": {
    "scrolled": true
   },
   "outputs": [
    {
     "data": {
      "text/plain": [
       "1    4843\n",
       "0    4843\n",
       "Name: TargetB, dtype: int64"
      ]
     },
     "execution_count": 14,
     "metadata": {},
     "output_type": "execute_result"
    }
   ],
   "source": [
    "df.TargetB.value_counts()"
   ]
  },
  {
   "cell_type": "code",
   "execution_count": 15,
   "metadata": {},
   "outputs": [],
   "source": [
    "# 2.2 Grouping and plotting distributions of columns"
   ]
  },
  {
   "cell_type": "code",
   "execution_count": 16,
   "metadata": {},
   "outputs": [
    {
     "data": {
      "text/plain": [
       "1    4843\n",
       "0    4843\n",
       "Name: TargetB, dtype: int64"
      ]
     },
     "execution_count": 16,
     "metadata": {},
     "output_type": "execute_result"
    }
   ],
   "source": [
    "df.TargetB.value_counts()"
   ]
  },
  {
   "cell_type": "code",
   "execution_count": 17,
   "metadata": {},
   "outputs": [
    {
     "data": {
      "text/plain": [
       "TargetB\n",
       "0    58.304444\n",
       "1    59.979070\n",
       "Name: DemAge, dtype: float64"
      ]
     },
     "execution_count": 17,
     "metadata": {},
     "output_type": "execute_result"
    }
   ],
   "source": [
    "df.groupby('TargetB').DemAge.mean()"
   ]
  },
  {
   "cell_type": "code",
   "execution_count": 18,
   "metadata": {},
   "outputs": [
    {
     "data": {
      "text/plain": [
       "TargetB  DemGender\n",
       "0        F            2614\n",
       "         M            1963\n",
       "         U             266\n",
       "1        F            2609\n",
       "         M            1962\n",
       "         U             272\n",
       "Name: DemGender, dtype: int64"
      ]
     },
     "execution_count": 18,
     "metadata": {},
     "output_type": "execute_result"
    }
   ],
   "source": [
    "df.groupby('TargetB').DemGender.value_counts()"
   ]
  },
  {
   "cell_type": "code",
   "execution_count": 19,
   "metadata": {},
   "outputs": [
    {
     "data": {
      "text/plain": [
       "TargetB  DemGender\n",
       "0        F            0.539748\n",
       "         M            0.405327\n",
       "         U            0.054925\n",
       "1        F            0.538716\n",
       "         M            0.405121\n",
       "         U            0.056164\n",
       "Name: DemGender, dtype: float64"
      ]
     },
     "execution_count": 19,
     "metadata": {},
     "output_type": "execute_result"
    }
   ],
   "source": [
    "df.groupby('TargetB').DemGender.value_counts(normalize=True)"
   ]
  },
  {
   "cell_type": "code",
   "execution_count": 20,
   "metadata": {},
   "outputs": [
    {
     "data": {
      "text/plain": [
       "<matplotlib.axes._subplots.AxesSubplot at 0x7f148ec2a0f0>"
      ]
     },
     "execution_count": 20,
     "metadata": {},
     "output_type": "execute_result"
    },
    {
     "data": {
      "image/png": "[encoded data removed]",
      "text/plain": [
       "<Figure size 432x288 with 1 Axes>"
      ]
     },
     "metadata": {
      "needs_background": "light"
     },
     "output_type": "display_data"
    }
   ],
   "source": [
    "sns.distplot(df.DemAge)"
   ]
  },
  {
   "cell_type": "code",
   "execution_count": 21,
   "metadata": {},
   "outputs": [
    {
     "data": {
      "text/plain": [
       "<matplotlib.axes._subplots.AxesSubplot at 0x7f148c462e48>"
      ]
     },
     "execution_count": 21,
     "metadata": {},
     "output_type": "execute_result"
    },
    {
     "data": {
      "image/png": "[encoded data removed]",
      "text/plain": [
       "<Figure size 432x288 with 1 Axes>"
      ]
     },
     "metadata": {
      "needs_background": "light"
     },
     "output_type": "display_data"
    }
   ],
   "source": [
    "sns.distplot(df.DemAge.dropna())"
   ]
  },
  {
   "cell_type": "code",
   "execution_count": 22,
   "metadata": {},
   "outputs": [
    {
     "data": {
      "text/plain": [
       "<matplotlib.axes._subplots.AxesSubplot at 0x7f148c3ab208>"
      ]
     },
     "execution_count": 22,
     "metadata": {},
     "output_type": "execute_result"
    },
    {
     "data": {
      "image/png": "[encoded data removed]",
      "text/plain": [
       "<Figure size 432x288 with 1 Axes>"
      ]
     },
     "metadata": {
      "needs_background": "light"
     },
     "output_type": "display_data"
    }
   ],
   "source": [
    "sns.countplot(df.DemGender)"
   ]
  },
  {
   "cell_type": "code",
   "execution_count": 23,
   "metadata": {},
   "outputs": [
    {
     "data": {
      "text/plain": [
       "<matplotlib.axes._subplots.AxesSubplot at 0x7f148c462cf8>"
      ]
     },
     "execution_count": 23,
     "metadata": {},
     "output_type": "execute_result"
    },
    {
     "data": {
      "image/png": "[encoded data removed]",
      "text/plain": [
       "<Figure size 432x288 with 1 Axes>"
      ]
     },
     "metadata": {
      "needs_background": "light"
     },
     "output_type": "display_data"
    }
   ],
   "source": [
    "sns.boxplot(x = df.TargetB, y = df.DemMedHomeValue)"
   ]
  },
  {
   "cell_type": "code",
   "execution_count": 24,
   "metadata": {
    "scrolled": true
   },
   "outputs": [
    {
     "data": {
      "text/html": [
       "<div>\n",
       "<style scoped>\n",
       "    .dataframe tbody tr th:only-of-type {\n",
       "        vertical-align: middle;\n",
       "    }\n",
       "\n",
       "    .dataframe tbody tr th {\n",
       "        vertical-align: top;\n",
       "    }\n",
       "\n",
       "    .dataframe thead th {\n",
       "        text-align: right;\n",
       "    }\n",
       "</style>\n",
       "<table border=\"1\" class=\"dataframe\">\n",
       "  <thead>\n",
       "    <tr style=\"text-align: right;\">\n",
       "      <th></th>\n",
       "      <th>TargetB</th>\n",
       "      <th>DemCluster</th>\n",
       "      <th>DemHomeOwner</th>\n",
       "    </tr>\n",
       "  </thead>\n",
       "  <tbody>\n",
       "    <tr>\n",
       "      <th>0</th>\n",
       "      <td>0</td>\n",
       "      <td>0</td>\n",
       "      <td>U</td>\n",
       "    </tr>\n",
       "    <tr>\n",
       "      <th>1</th>\n",
       "      <td>0</td>\n",
       "      <td>23</td>\n",
       "      <td>U</td>\n",
       "    </tr>\n",
       "    <tr>\n",
       "      <th>2</th>\n",
       "      <td>1</td>\n",
       "      <td>0</td>\n",
       "      <td>U</td>\n",
       "    </tr>\n",
       "    <tr>\n",
       "      <th>3</th>\n",
       "      <td>1</td>\n",
       "      <td>0</td>\n",
       "      <td>U</td>\n",
       "    </tr>\n",
       "    <tr>\n",
       "      <th>4</th>\n",
       "      <td>0</td>\n",
       "      <td>35</td>\n",
       "      <td>U</td>\n",
       "    </tr>\n",
       "    <tr>\n",
       "      <th>...</th>\n",
       "      <td>...</td>\n",
       "      <td>...</td>\n",
       "      <td>...</td>\n",
       "    </tr>\n",
       "    <tr>\n",
       "      <th>9681</th>\n",
       "      <td>1</td>\n",
       "      <td>44</td>\n",
       "      <td>H</td>\n",
       "    </tr>\n",
       "    <tr>\n",
       "      <th>9682</th>\n",
       "      <td>0</td>\n",
       "      <td>44</td>\n",
       "      <td>H</td>\n",
       "    </tr>\n",
       "    <tr>\n",
       "      <th>9683</th>\n",
       "      <td>1</td>\n",
       "      <td>40</td>\n",
       "      <td>H</td>\n",
       "    </tr>\n",
       "    <tr>\n",
       "      <th>9684</th>\n",
       "      <td>0</td>\n",
       "      <td>40</td>\n",
       "      <td>H</td>\n",
       "    </tr>\n",
       "    <tr>\n",
       "      <th>9685</th>\n",
       "      <td>0</td>\n",
       "      <td>38</td>\n",
       "      <td>H</td>\n",
       "    </tr>\n",
       "  </tbody>\n",
       "</table>\n",
       "<p>9686 rows × 3 columns</p>\n",
       "</div>"
      ],
      "text/plain": [
       "      TargetB  DemCluster DemHomeOwner\n",
       "0           0           0            U\n",
       "1           0          23            U\n",
       "2           1           0            U\n",
       "3           1           0            U\n",
       "4           0          35            U\n",
       "...       ...         ...          ...\n",
       "9681        1          44            H\n",
       "9682        0          44            H\n",
       "9683        1          40            H\n",
       "9684        0          40            H\n",
       "9685        0          38            H\n",
       "\n",
       "[9686 rows x 3 columns]"
      ]
     },
     "execution_count": 24,
     "metadata": {},
     "output_type": "execute_result"
    }
   ],
   "source": [
    "## 3. Modifying and Correcting Data\n",
    "df[['TargetB', 'DemCluster', 'DemHomeOwner']]"
   ]
  },
  {
   "cell_type": "code",
   "execution_count": 25,
   "metadata": {},
   "outputs": [
    {
     "data": {
      "text/plain": [
       "count    9686.000000\n",
       "mean       27.150320\n",
       "std        14.832665\n",
       "min         0.000000\n",
       "25%        14.000000\n",
       "50%        27.000000\n",
       "75%        40.000000\n",
       "max        53.000000\n",
       "Name: DemCluster, dtype: float64"
      ]
     },
     "execution_count": 25,
     "metadata": {},
     "output_type": "execute_result"
    }
   ],
   "source": [
    "df.DemCluster.describe()"
   ]
  },
  {
   "cell_type": "code",
   "execution_count": 26,
   "metadata": {},
   "outputs": [
    {
     "data": {
      "text/plain": [
       "H    5377\n",
       "U    4309\n",
       "Name: DemHomeOwner, dtype: int64"
      ]
     },
     "execution_count": 26,
     "metadata": {},
     "output_type": "execute_result"
    }
   ],
   "source": [
    "df.DemHomeOwner.value_counts()"
   ]
  },
  {
   "cell_type": "code",
   "execution_count": 27,
   "metadata": {
    "scrolled": true
   },
   "outputs": [
    {
     "data": {
      "text/plain": [
       "count     9686\n",
       "unique      54\n",
       "top         40\n",
       "freq       432\n",
       "Name: DemCluster, dtype: int64"
      ]
     },
     "execution_count": 27,
     "metadata": {},
     "output_type": "execute_result"
    }
   ],
   "source": [
    "# 3.1 Setting correct type to variables\n",
    "\n",
    "df.DemCluster = df.DemCluster.astype('category')\n",
    "df.DemCluster.describe()"
   ]
  },
  {
   "cell_type": "code",
   "execution_count": 28,
   "metadata": {},
   "outputs": [],
   "source": [
    "# convert H = 1, U = 0\n",
    "df.DemHomeOwner = df.DemHomeOwner.replace({'H': 1,'U':0})\n",
    "\n",
    "# alternative: use get_dummies fuction to split into two using one hot encoding\n",
    "# and overwrite original column with the new column H.\n",
    "# df.DemHomeOwner = pd.get_dummies(df.DemHomeOwner).H"
   ]
  },
  {
   "cell_type": "code",
   "execution_count": 29,
   "metadata": {
    "scrolled": false
   },
   "outputs": [
    {
     "data": {
      "text/plain": [
       "(-0.088, 8.7]      38\n",
       "(8.7, 17.4]        53\n",
       "(17.4, 26.1]       72\n",
       "(26.1, 34.8]      342\n",
       "(34.8, 43.5]      889\n",
       "(43.5, 52.2]     1223\n",
       "(52.2, 60.9]     1043\n",
       "(60.9, 69.6]     1250\n",
       "(69.6, 78.3]     1437\n",
       "(78.3, 87.0]      932\n",
       "Name: DemAge, dtype: int64"
      ]
     },
     "execution_count": 29,
     "metadata": {},
     "output_type": "execute_result"
    }
   ],
   "source": [
    "# 3.2 Correcting invalid values\n",
    "# replacing Erroneous value with mean\n",
    "\n",
    "df.DemAge.value_counts(bins = 10, sort = False)"
   ]
  },
  {
   "cell_type": "code",
   "execution_count": 30,
   "metadata": {
    "scrolled": false
   },
   "outputs": [
    {
     "data": {
      "text/plain": [
       "(1.9140000000000001, 10.5]      37\n",
       "(10.5, 19.0]                    58\n",
       "(19.0, 27.5]                   136\n",
       "(27.5, 36.0]                   440\n",
       "(36.0, 44.5]                   797\n",
       "(44.5, 53.0]                  1300\n",
       "(53.0, 61.5]                  1028\n",
       "(61.5, 70.0]                  1230\n",
       "(70.0, 78.5]                  1321\n",
       "(78.5, 87.0]                   932\n",
       "Name: DemAge, dtype: int64"
      ]
     },
     "execution_count": 30,
     "metadata": {},
     "output_type": "execute_result"
    }
   ],
   "source": [
    "df.DemAge = df.DemAge.mask(df.DemAge == 0, df.DemAge.mean(skipna=True))\n",
    "df.DemAge.value_counts(bins = 10, sort = False)"
   ]
  },
  {
   "cell_type": "code",
   "execution_count": 31,
   "metadata": {
    "scrolled": true
   },
   "outputs": [
    {
     "data": {
      "text/plain": [
       "(6907.499, 66750.0]     3777\n",
       "(66750.0, 126000.0]     3439\n",
       "(126000.0, 185250.0]    1024\n",
       "(185250.0, 244500.0]     591\n",
       "(244500.0, 303750.0]     285\n",
       "(303750.0, 363000.0]     224\n",
       "(363000.0, 422250.0]     118\n",
       "(422250.0, 481500.0]      77\n",
       "(481500.0, 540750.0]      55\n",
       "(540750.0, 600000.0]      96\n",
       "Name: DemMedHomeValue, dtype: int64"
      ]
     },
     "execution_count": 31,
     "metadata": {},
     "output_type": "execute_result"
    }
   ],
   "source": [
    "df.DemMedHomeValue = df.DemMedHomeValue.mask(df.DemMedHomeValue == 0, df.DemMedHomeValue.mean(skipna=True))\n",
    "df.DemMedHomeValue.value_counts(bins = 10, sort = False)"
   ]
  },
  {
   "cell_type": "code",
   "execution_count": 32,
   "metadata": {},
   "outputs": [],
   "source": [
    "# 3.3 Imputing Missing Values\n",
    "\n",
    "df.DemAge.fillna(df.DemAge.mean(), inplace = True)\n",
    "df.DemMedHomeValue.fillna(df.DemMedHomeValue.mean(), inplace = True)\n",
    "df.GiftAvgCard36.fillna(df.GiftAvgCard36.mean(), inplace = True)\n"
   ]
  },
  {
   "cell_type": "code",
   "execution_count": 33,
   "metadata": {
    "scrolled": true
   },
   "outputs": [
    {
     "data": {
      "text/plain": [
       "0"
      ]
     },
     "execution_count": 33,
     "metadata": {},
     "output_type": "execute_result"
    }
   ],
   "source": [
    "df.DemAge.isnull().sum()"
   ]
  },
  {
   "cell_type": "code",
   "execution_count": 34,
   "metadata": {},
   "outputs": [],
   "source": [
    "# 3.4 Dropping Unnecessary Variables\n",
    "# ID is control number with no meaning, and TargetD is not used needed in this data set\n",
    "\n",
    "df.drop(['ID', 'TargetD'], axis=1, inplace=True)\n"
   ]
  },
  {
   "cell_type": "code",
   "execution_count": 35,
   "metadata": {},
   "outputs": [
    {
     "data": {
      "text/plain": [
       "(9686, 26)"
      ]
     },
     "execution_count": 35,
     "metadata": {},
     "output_type": "execute_result"
    }
   ],
   "source": [
    "df.shape"
   ]
  },
  {
   "cell_type": "code",
   "execution_count": 36,
   "metadata": {},
   "outputs": [
    {
     "data": {
      "text/plain": [
       "TargetB                int64\n",
       "GiftCnt36              int64\n",
       "GiftCntAll             int64\n",
       "GiftCntCard36          int64\n",
       "GiftCntCardAll         int64\n",
       "GiftAvgLast          float64\n",
       "GiftAvg36            float64\n",
       "GiftAvgAll           float64\n",
       "GiftAvgCard36        float64\n",
       "GiftTimeLast           int64\n",
       "GiftTimeFirst          int64\n",
       "PromCnt12              int64\n",
       "PromCnt36              int64\n",
       "PromCntAll             int64\n",
       "PromCntCard12          int64\n",
       "PromCntCard36          int64\n",
       "PromCntCardAll         int64\n",
       "StatusCat96NK         object\n",
       "StatusCatStarAll       int64\n",
       "DemCluster          category\n",
       "DemAge               float64\n",
       "DemGender             object\n",
       "DemHomeOwner           int64\n",
       "DemMedHomeValue      float64\n",
       "DemPctVeterans         int64\n",
       "DemMedIncome           int64\n",
       "dtype: object"
      ]
     },
     "execution_count": 36,
     "metadata": {},
     "output_type": "execute_result"
    }
   ],
   "source": [
    "# 3.5 Formatting Categorical Variable\n",
    "df.dtypes"
   ]
  },
  {
   "cell_type": "code",
   "execution_count": 37,
   "metadata": {
    "scrolled": true
   },
   "outputs": [
    {
     "data": {
      "text/html": [
       "<div>\n",
       "<style scoped>\n",
       "    .dataframe tbody tr th:only-of-type {\n",
       "        vertical-align: middle;\n",
       "    }\n",
       "\n",
       "    .dataframe tbody tr th {\n",
       "        vertical-align: top;\n",
       "    }\n",
       "\n",
       "    .dataframe thead th {\n",
       "        text-align: right;\n",
       "    }\n",
       "</style>\n",
       "<table border=\"1\" class=\"dataframe\">\n",
       "  <thead>\n",
       "    <tr style=\"text-align: right;\">\n",
       "      <th></th>\n",
       "      <th>TargetB</th>\n",
       "      <th>GiftCnt36</th>\n",
       "      <th>GiftCntAll</th>\n",
       "      <th>GiftCntCard36</th>\n",
       "      <th>GiftCntCardAll</th>\n",
       "      <th>GiftAvgLast</th>\n",
       "      <th>GiftAvg36</th>\n",
       "      <th>GiftAvgAll</th>\n",
       "      <th>GiftAvgCard36</th>\n",
       "      <th>GiftTimeLast</th>\n",
       "      <th>...</th>\n",
       "      <th>PromCnt36</th>\n",
       "      <th>PromCntAll</th>\n",
       "      <th>PromCntCard12</th>\n",
       "      <th>PromCntCard36</th>\n",
       "      <th>PromCntCardAll</th>\n",
       "      <th>StatusCatStarAll</th>\n",
       "      <th>DemAge</th>\n",
       "      <th>DemMedHomeValue</th>\n",
       "      <th>DemPctVeterans</th>\n",
       "      <th>DemMedIncome</th>\n",
       "    </tr>\n",
       "  </thead>\n",
       "  <tbody>\n",
       "    <tr>\n",
       "      <th>count</th>\n",
       "      <td>9686.000000</td>\n",
       "      <td>9686.000000</td>\n",
       "      <td>9686.000000</td>\n",
       "      <td>9686.000000</td>\n",
       "      <td>9686.000000</td>\n",
       "      <td>9686.000000</td>\n",
       "      <td>9686.000000</td>\n",
       "      <td>9686.000000</td>\n",
       "      <td>9686.000000</td>\n",
       "      <td>9686.000000</td>\n",
       "      <td>...</td>\n",
       "      <td>9686.000000</td>\n",
       "      <td>9686.000000</td>\n",
       "      <td>9686.000000</td>\n",
       "      <td>9686.000000</td>\n",
       "      <td>9686.000000</td>\n",
       "      <td>9686.000000</td>\n",
       "      <td>9686.000000</td>\n",
       "      <td>9686.000000</td>\n",
       "      <td>9686.000000</td>\n",
       "      <td>9686.000000</td>\n",
       "    </tr>\n",
       "    <tr>\n",
       "      <th>mean</th>\n",
       "      <td>0.500000</td>\n",
       "      <td>3.205451</td>\n",
       "      <td>10.507640</td>\n",
       "      <td>1.856597</td>\n",
       "      <td>5.582490</td>\n",
       "      <td>16.017739</td>\n",
       "      <td>14.876203</td>\n",
       "      <td>12.489325</td>\n",
       "      <td>14.224431</td>\n",
       "      <td>18.002168</td>\n",
       "      <td>...</td>\n",
       "      <td>29.348235</td>\n",
       "      <td>48.483481</td>\n",
       "      <td>5.392009</td>\n",
       "      <td>11.954677</td>\n",
       "      <td>19.007124</td>\n",
       "      <td>0.540574</td>\n",
       "      <td>59.158971</td>\n",
       "      <td>112166.517539</td>\n",
       "      <td>30.604274</td>\n",
       "      <td>40491.444249</td>\n",
       "    </tr>\n",
       "    <tr>\n",
       "      <th>std</th>\n",
       "      <td>0.500026</td>\n",
       "      <td>2.133421</td>\n",
       "      <td>8.993401</td>\n",
       "      <td>1.595419</td>\n",
       "      <td>4.736894</td>\n",
       "      <td>12.041805</td>\n",
       "      <td>10.057007</td>\n",
       "      <td>9.209297</td>\n",
       "      <td>9.054955</td>\n",
       "      <td>4.073549</td>\n",
       "      <td>...</td>\n",
       "      <td>7.809743</td>\n",
       "      <td>23.061483</td>\n",
       "      <td>1.323648</td>\n",
       "      <td>4.571568</td>\n",
       "      <td>8.562193</td>\n",
       "      <td>0.498377</td>\n",
       "      <td>14.305022</td>\n",
       "      <td>97997.669026</td>\n",
       "      <td>11.394988</td>\n",
       "      <td>28707.494146</td>\n",
       "    </tr>\n",
       "    <tr>\n",
       "      <th>min</th>\n",
       "      <td>0.000000</td>\n",
       "      <td>0.000000</td>\n",
       "      <td>1.000000</td>\n",
       "      <td>0.000000</td>\n",
       "      <td>0.000000</td>\n",
       "      <td>0.000000</td>\n",
       "      <td>0.000000</td>\n",
       "      <td>1.500000</td>\n",
       "      <td>1.330000</td>\n",
       "      <td>4.000000</td>\n",
       "      <td>...</td>\n",
       "      <td>4.000000</td>\n",
       "      <td>5.000000</td>\n",
       "      <td>0.000000</td>\n",
       "      <td>2.000000</td>\n",
       "      <td>2.000000</td>\n",
       "      <td>0.000000</td>\n",
       "      <td>2.000000</td>\n",
       "      <td>7500.000000</td>\n",
       "      <td>0.000000</td>\n",
       "      <td>0.000000</td>\n",
       "    </tr>\n",
       "    <tr>\n",
       "      <th>25%</th>\n",
       "      <td>0.000000</td>\n",
       "      <td>2.000000</td>\n",
       "      <td>4.000000</td>\n",
       "      <td>1.000000</td>\n",
       "      <td>2.000000</td>\n",
       "      <td>10.000000</td>\n",
       "      <td>9.600000</td>\n",
       "      <td>7.750000</td>\n",
       "      <td>10.000000</td>\n",
       "      <td>16.000000</td>\n",
       "      <td>...</td>\n",
       "      <td>25.000000</td>\n",
       "      <td>29.000000</td>\n",
       "      <td>5.000000</td>\n",
       "      <td>7.000000</td>\n",
       "      <td>12.000000</td>\n",
       "      <td>0.000000</td>\n",
       "      <td>51.000000</td>\n",
       "      <td>53500.000000</td>\n",
       "      <td>25.000000</td>\n",
       "      <td>24464.000000</td>\n",
       "    </tr>\n",
       "    <tr>\n",
       "      <th>50%</th>\n",
       "      <td>0.500000</td>\n",
       "      <td>3.000000</td>\n",
       "      <td>8.000000</td>\n",
       "      <td>1.000000</td>\n",
       "      <td>4.000000</td>\n",
       "      <td>15.000000</td>\n",
       "      <td>13.500000</td>\n",
       "      <td>10.710000</td>\n",
       "      <td>14.224431</td>\n",
       "      <td>18.000000</td>\n",
       "      <td>...</td>\n",
       "      <td>31.000000</td>\n",
       "      <td>48.000000</td>\n",
       "      <td>6.000000</td>\n",
       "      <td>13.000000</td>\n",
       "      <td>19.000000</td>\n",
       "      <td>1.000000</td>\n",
       "      <td>59.158971</td>\n",
       "      <td>78450.000000</td>\n",
       "      <td>31.000000</td>\n",
       "      <td>43100.000000</td>\n",
       "    </tr>\n",
       "    <tr>\n",
       "      <th>75%</th>\n",
       "      <td>1.000000</td>\n",
       "      <td>4.000000</td>\n",
       "      <td>15.000000</td>\n",
       "      <td>3.000000</td>\n",
       "      <td>8.000000</td>\n",
       "      <td>20.000000</td>\n",
       "      <td>18.500000</td>\n",
       "      <td>15.000000</td>\n",
       "      <td>15.382500</td>\n",
       "      <td>20.000000</td>\n",
       "      <td>...</td>\n",
       "      <td>33.000000</td>\n",
       "      <td>65.000000</td>\n",
       "      <td>6.000000</td>\n",
       "      <td>16.000000</td>\n",
       "      <td>26.000000</td>\n",
       "      <td>1.000000</td>\n",
       "      <td>69.000000</td>\n",
       "      <td>128175.000000</td>\n",
       "      <td>37.000000</td>\n",
       "      <td>56876.000000</td>\n",
       "    </tr>\n",
       "    <tr>\n",
       "      <th>max</th>\n",
       "      <td>1.000000</td>\n",
       "      <td>16.000000</td>\n",
       "      <td>91.000000</td>\n",
       "      <td>9.000000</td>\n",
       "      <td>41.000000</td>\n",
       "      <td>450.000000</td>\n",
       "      <td>260.000000</td>\n",
       "      <td>450.000000</td>\n",
       "      <td>260.000000</td>\n",
       "      <td>27.000000</td>\n",
       "      <td>...</td>\n",
       "      <td>78.000000</td>\n",
       "      <td>174.000000</td>\n",
       "      <td>17.000000</td>\n",
       "      <td>28.000000</td>\n",
       "      <td>56.000000</td>\n",
       "      <td>1.000000</td>\n",
       "      <td>87.000000</td>\n",
       "      <td>600000.000000</td>\n",
       "      <td>85.000000</td>\n",
       "      <td>200001.000000</td>\n",
       "    </tr>\n",
       "  </tbody>\n",
       "</table>\n",
       "<p>8 rows × 22 columns</p>\n",
       "</div>"
      ],
      "text/plain": [
       "           TargetB    GiftCnt36   GiftCntAll  GiftCntCard36  GiftCntCardAll  \\\n",
       "count  9686.000000  9686.000000  9686.000000    9686.000000     9686.000000   \n",
       "mean      0.500000     3.205451    10.507640       1.856597        5.582490   \n",
       "std       0.500026     2.133421     8.993401       1.595419        4.736894   \n",
       "min       0.000000     0.000000     1.000000       0.000000        0.000000   \n",
       "25%       0.000000     2.000000     4.000000       1.000000        2.000000   \n",
       "50%       0.500000     3.000000     8.000000       1.000000        4.000000   \n",
       "75%       1.000000     4.000000    15.000000       3.000000        8.000000   \n",
       "max       1.000000    16.000000    91.000000       9.000000       41.000000   \n",
       "\n",
       "       GiftAvgLast    GiftAvg36   GiftAvgAll  GiftAvgCard36  GiftTimeLast  \\\n",
       "count  9686.000000  9686.000000  9686.000000    9686.000000   9686.000000   \n",
       "mean     16.017739    14.876203    12.489325      14.224431     18.002168   \n",
       "std      12.041805    10.057007     9.209297       9.054955      4.073549   \n",
       "min       0.000000     0.000000     1.500000       1.330000      4.000000   \n",
       "25%      10.000000     9.600000     7.750000      10.000000     16.000000   \n",
       "50%      15.000000    13.500000    10.710000      14.224431     18.000000   \n",
       "75%      20.000000    18.500000    15.000000      15.382500     20.000000   \n",
       "max     450.000000   260.000000   450.000000     260.000000     27.000000   \n",
       "\n",
       "       ...    PromCnt36   PromCntAll  PromCntCard12  PromCntCard36  \\\n",
       "count  ...  9686.000000  9686.000000    9686.000000    9686.000000   \n",
       "mean   ...    29.348235    48.483481       5.392009      11.954677   \n",
       "std    ...     7.809743    23.061483       1.323648       4.571568   \n",
       "min    ...     4.000000     5.000000       0.000000       2.000000   \n",
       "25%    ...    25.000000    29.000000       5.000000       7.000000   \n",
       "50%    ...    31.000000    48.000000       6.000000      13.000000   \n",
       "75%    ...    33.000000    65.000000       6.000000      16.000000   \n",
       "max    ...    78.000000   174.000000      17.000000      28.000000   \n",
       "\n",
       "       PromCntCardAll  StatusCatStarAll       DemAge  DemMedHomeValue  \\\n",
       "count     9686.000000       9686.000000  9686.000000      9686.000000   \n",
       "mean        19.007124          0.540574    59.158971    112166.517539   \n",
       "std          8.562193          0.498377    14.305022     97997.669026   \n",
       "min          2.000000          0.000000     2.000000      7500.000000   \n",
       "25%         12.000000          0.000000    51.000000     53500.000000   \n",
       "50%         19.000000          1.000000    59.158971     78450.000000   \n",
       "75%         26.000000          1.000000    69.000000    128175.000000   \n",
       "max         56.000000          1.000000    87.000000    600000.000000   \n",
       "\n",
       "       DemPctVeterans   DemMedIncome  \n",
       "count     9686.000000    9686.000000  \n",
       "mean        30.604274   40491.444249  \n",
       "std         11.394988   28707.494146  \n",
       "min          0.000000       0.000000  \n",
       "25%         25.000000   24464.000000  \n",
       "50%         31.000000   43100.000000  \n",
       "75%         37.000000   56876.000000  \n",
       "max         85.000000  200001.000000  \n",
       "\n",
       "[8 rows x 22 columns]"
      ]
     },
     "execution_count": 37,
     "metadata": {},
     "output_type": "execute_result"
    }
   ],
   "source": [
    "# DemHomeOwner -> to categorial\n",
    "df.DemHomeOwner = df.DemHomeOwner.astype('category')\n",
    "\n",
    "# DemGender -> to categorial\n",
    "df.DemGender = df.DemGender.astype('category')\n",
    "\n",
    "df.describe()"
   ]
  },
  {
   "cell_type": "code",
   "execution_count": 38,
   "metadata": {},
   "outputs": [
    {
     "data": {
      "text/plain": [
       "TargetB                int64\n",
       "GiftCnt36              int64\n",
       "GiftCntAll             int64\n",
       "GiftCntCard36          int64\n",
       "GiftCntCardAll         int64\n",
       "GiftAvgLast          float64\n",
       "GiftAvg36            float64\n",
       "GiftAvgAll           float64\n",
       "GiftAvgCard36        float64\n",
       "GiftTimeLast           int64\n",
       "GiftTimeFirst          int64\n",
       "PromCnt12              int64\n",
       "PromCnt36              int64\n",
       "PromCntAll             int64\n",
       "PromCntCard12          int64\n",
       "PromCntCard36          int64\n",
       "PromCntCardAll         int64\n",
       "StatusCat96NK         object\n",
       "StatusCatStarAll       int64\n",
       "DemCluster          category\n",
       "DemAge               float64\n",
       "DemGender           category\n",
       "DemHomeOwner        category\n",
       "DemMedHomeValue      float64\n",
       "DemPctVeterans         int64\n",
       "DemMedIncome           int64\n",
       "dtype: object"
      ]
     },
     "execution_count": 38,
     "metadata": {},
     "output_type": "execute_result"
    }
   ],
   "source": [
    "# 3.6 Wrap up\n",
    "df.dtypes\n"
   ]
  },
  {
   "cell_type": "code",
   "execution_count": 39,
   "metadata": {},
   "outputs": [
    {
     "data": {
      "text/plain": [
       "TargetB             0\n",
       "GiftCnt36           0\n",
       "GiftCntAll          0\n",
       "GiftCntCard36       0\n",
       "GiftCntCardAll      0\n",
       "GiftAvgLast         0\n",
       "GiftAvg36           0\n",
       "GiftAvgAll          0\n",
       "GiftAvgCard36       0\n",
       "GiftTimeLast        0\n",
       "GiftTimeFirst       0\n",
       "PromCnt12           0\n",
       "PromCnt36           0\n",
       "PromCntAll          0\n",
       "PromCntCard12       0\n",
       "PromCntCard36       0\n",
       "PromCntCardAll      0\n",
       "StatusCat96NK       0\n",
       "StatusCatStarAll    0\n",
       "DemCluster          0\n",
       "DemAge              0\n",
       "DemGender           0\n",
       "DemHomeOwner        0\n",
       "DemMedHomeValue     0\n",
       "DemPctVeterans      0\n",
       "DemMedIncome        0\n",
       "dtype: int64"
      ]
     },
     "execution_count": 39,
     "metadata": {},
     "output_type": "execute_result"
    }
   ],
   "source": [
    "df.isnull().sum()"
   ]
  },
  {
   "cell_type": "code",
   "execution_count": 41,
   "metadata": {},
   "outputs": [],
   "source": [
    "df.to_csv('lab1_processed.csv', index=False)"
   ]
  },
  {
   "cell_type": "code",
   "execution_count": null,
   "metadata": {},
   "outputs": [],
   "source": []
  }
 ],
 "metadata": {
  "kernelspec": {
   "display_name": "py3",
   "language": "python",
   "name": "py3"
  },
  "language_info": {
   "codemirror_mode": {
    "name": "ipython",
    "version": 3
   },
   "file_extension": ".py",
   "mimetype": "text/x-python",
   "name": "python",
   "nbconvert_exporter": "python",
   "pygments_lexer": "ipython3",
   "version": "3.6.9"
  }
 },
 "nbformat": 4,
 "nbformat_minor": 2
}
