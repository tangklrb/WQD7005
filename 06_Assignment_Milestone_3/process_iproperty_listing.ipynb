{
 "cells": [
  {
   "cell_type": "markdown",
   "metadata": {},
   "source": [
    "## Load Data and Data Exploration"
   ]
  },
  {
   "cell_type": "code",
   "execution_count": 163,
   "metadata": {},
   "outputs": [],
   "source": [
    "import re\n",
    "import datetime\n",
    "import numpy as np \n",
    "import pandas as pd\n",
    "from geopy.distance import distance\n"
   ]
  },
  {
   "cell_type": "code",
   "execution_count": 164,
   "metadata": {},
   "outputs": [],
   "source": [
    "# load data from csv\n",
    "listings = pd.read_csv(\"iproperty_listing.csv.tar.gz\", compression='gzip', low_memory=False)"
   ]
  },
  {
   "cell_type": "code",
   "execution_count": 165,
   "metadata": {
    "scrolled": true
   },
   "outputs": [
    {
     "data": {
      "text/html": [
       "<div>\n",
       "<style scoped>\n",
       "    .dataframe tbody tr th:only-of-type {\n",
       "        vertical-align: middle;\n",
       "    }\n",
       "\n",
       "    .dataframe tbody tr th {\n",
       "        vertical-align: top;\n",
       "    }\n",
       "\n",
       "    .dataframe thead th {\n",
       "        text-align: right;\n",
       "    }\n",
       "</style>\n",
       "<table border=\"1\" class=\"dataframe\">\n",
       "  <thead>\n",
       "    <tr style=\"text-align: right;\">\n",
       "      <th></th>\n",
       "      <th>iproperty_listing.csv</th>\n",
       "      <th>kind</th>\n",
       "      <th>title</th>\n",
       "      <th>subtitle</th>\n",
       "      <th>tier</th>\n",
       "      <th>propertyType</th>\n",
       "      <th>color</th>\n",
       "      <th>transacted</th>\n",
       "      <th>price_type</th>\n",
       "      <th>price_currency</th>\n",
       "      <th>...</th>\n",
       "      <th>attr_transportDescription</th>\n",
       "      <th>attr_governmentWebsite</th>\n",
       "      <th>attr_minimumStay</th>\n",
       "      <th>attr_architectName</th>\n",
       "      <th>attr_contractorName</th>\n",
       "      <th>attr_projectType</th>\n",
       "      <th>attr_budgetRange</th>\n",
       "      <th>poi_education</th>\n",
       "      <th>poi_healthcare</th>\n",
       "      <th>poi_transportation</th>\n",
       "    </tr>\n",
       "  </thead>\n",
       "  <tbody>\n",
       "    <tr>\n",
       "      <th>0</th>\n",
       "      <td>sale-8526600</td>\n",
       "      <td>property</td>\n",
       "      <td>Taman Sri Pulai, Jempol</td>\n",
       "      <td>NaN</td>\n",
       "      <td>1.0</td>\n",
       "      <td>1-sty Terrace/Link House</td>\n",
       "      <td>NaN</td>\n",
       "      <td>NaN</td>\n",
       "      <td>sale</td>\n",
       "      <td>MYR</td>\n",
       "      <td>...</td>\n",
       "      <td>NaN</td>\n",
       "      <td>NaN</td>\n",
       "      <td>NaN</td>\n",
       "      <td>NaN</td>\n",
       "      <td>NaN</td>\n",
       "      <td>NaN</td>\n",
       "      <td>NaN</td>\n",
       "      <td>0.0</td>\n",
       "      <td>0.0</td>\n",
       "      <td>0.0</td>\n",
       "    </tr>\n",
       "    <tr>\n",
       "      <th>1</th>\n",
       "      <td>sale-8726821</td>\n",
       "      <td>property</td>\n",
       "      <td>Pekan Mahsan, Jempol</td>\n",
       "      <td>NaN</td>\n",
       "      <td>1.0</td>\n",
       "      <td>Residential Land</td>\n",
       "      <td>NaN</td>\n",
       "      <td>NaN</td>\n",
       "      <td>sale</td>\n",
       "      <td>MYR</td>\n",
       "      <td>...</td>\n",
       "      <td>NaN</td>\n",
       "      <td>NaN</td>\n",
       "      <td>NaN</td>\n",
       "      <td>NaN</td>\n",
       "      <td>NaN</td>\n",
       "      <td>NaN</td>\n",
       "      <td>NaN</td>\n",
       "      <td>0.0</td>\n",
       "      <td>0.0</td>\n",
       "      <td>0.0</td>\n",
       "    </tr>\n",
       "    <tr>\n",
       "      <th>2</th>\n",
       "      <td>sale-8114392</td>\n",
       "      <td>property</td>\n",
       "      <td>The Light Point, Gelugor</td>\n",
       "      <td>NaN</td>\n",
       "      <td>1.0</td>\n",
       "      <td>Condominium</td>\n",
       "      <td>NaN</td>\n",
       "      <td>NaN</td>\n",
       "      <td>sale</td>\n",
       "      <td>MYR</td>\n",
       "      <td>...</td>\n",
       "      <td>NaN</td>\n",
       "      <td>NaN</td>\n",
       "      <td>NaN</td>\n",
       "      <td>NaN</td>\n",
       "      <td>NaN</td>\n",
       "      <td>NaN</td>\n",
       "      <td>NaN</td>\n",
       "      <td>12.0</td>\n",
       "      <td>1.0</td>\n",
       "      <td>0.0</td>\n",
       "    </tr>\n",
       "    <tr>\n",
       "      <th>3</th>\n",
       "      <td>sale-8081290</td>\n",
       "      <td>property</td>\n",
       "      <td>The Light Collection II, Gelugor</td>\n",
       "      <td>NaN</td>\n",
       "      <td>1.0</td>\n",
       "      <td>Condominium</td>\n",
       "      <td>NaN</td>\n",
       "      <td>NaN</td>\n",
       "      <td>sale</td>\n",
       "      <td>MYR</td>\n",
       "      <td>...</td>\n",
       "      <td>NaN</td>\n",
       "      <td>NaN</td>\n",
       "      <td>NaN</td>\n",
       "      <td>NaN</td>\n",
       "      <td>NaN</td>\n",
       "      <td>NaN</td>\n",
       "      <td>NaN</td>\n",
       "      <td>16.0</td>\n",
       "      <td>2.0</td>\n",
       "      <td>0.0</td>\n",
       "    </tr>\n",
       "    <tr>\n",
       "      <th>4</th>\n",
       "      <td>sale-7691638</td>\n",
       "      <td>property</td>\n",
       "      <td>The Light Point, Gelugor</td>\n",
       "      <td>NaN</td>\n",
       "      <td>1.0</td>\n",
       "      <td>Condominium</td>\n",
       "      <td>NaN</td>\n",
       "      <td>NaN</td>\n",
       "      <td>sale</td>\n",
       "      <td>MYR</td>\n",
       "      <td>...</td>\n",
       "      <td>NaN</td>\n",
       "      <td>NaN</td>\n",
       "      <td>NaN</td>\n",
       "      <td>NaN</td>\n",
       "      <td>NaN</td>\n",
       "      <td>NaN</td>\n",
       "      <td>NaN</td>\n",
       "      <td>12.0</td>\n",
       "      <td>1.0</td>\n",
       "      <td>0.0</td>\n",
       "    </tr>\n",
       "  </tbody>\n",
       "</table>\n",
       "<p>5 rows × 102 columns</p>\n",
       "</div>"
      ],
      "text/plain": [
       "  iproperty_listing.csv      kind                             title  subtitle  \\\n",
       "0          sale-8526600  property           Taman Sri Pulai, Jempol       NaN   \n",
       "1          sale-8726821  property              Pekan Mahsan, Jempol       NaN   \n",
       "2          sale-8114392  property          The Light Point, Gelugor       NaN   \n",
       "3          sale-8081290  property  The Light Collection II, Gelugor       NaN   \n",
       "4          sale-7691638  property          The Light Point, Gelugor       NaN   \n",
       "\n",
       "   tier              propertyType color  transacted price_type price_currency  \\\n",
       "0   1.0  1-sty Terrace/Link House   NaN         NaN       sale            MYR   \n",
       "1   1.0          Residential Land   NaN         NaN       sale            MYR   \n",
       "2   1.0               Condominium   NaN         NaN       sale            MYR   \n",
       "3   1.0               Condominium   NaN         NaN       sale            MYR   \n",
       "4   1.0               Condominium   NaN         NaN       sale            MYR   \n",
       "\n",
       "   ...  attr_transportDescription  attr_governmentWebsite  attr_minimumStay  \\\n",
       "0  ...                        NaN                     NaN               NaN   \n",
       "1  ...                        NaN                     NaN               NaN   \n",
       "2  ...                        NaN                     NaN               NaN   \n",
       "3  ...                        NaN                     NaN               NaN   \n",
       "4  ...                        NaN                     NaN               NaN   \n",
       "\n",
       "   attr_architectName  attr_contractorName  attr_projectType attr_budgetRange  \\\n",
       "0                 NaN                  NaN               NaN              NaN   \n",
       "1                 NaN                  NaN               NaN              NaN   \n",
       "2                 NaN                  NaN               NaN              NaN   \n",
       "3                 NaN                  NaN               NaN              NaN   \n",
       "4                 NaN                  NaN               NaN              NaN   \n",
       "\n",
       "   poi_education  poi_healthcare poi_transportation  \n",
       "0            0.0             0.0                0.0  \n",
       "1            0.0             0.0                0.0  \n",
       "2           12.0             1.0                0.0  \n",
       "3           16.0             2.0                0.0  \n",
       "4           12.0             1.0                0.0  \n",
       "\n",
       "[5 rows x 102 columns]"
      ]
     },
     "execution_count": 165,
     "metadata": {},
     "output_type": "execute_result"
    }
   ],
   "source": [
    "# perform general exploration\n",
    "listings.head()"
   ]
  },
  {
   "cell_type": "code",
   "execution_count": 166,
   "metadata": {},
   "outputs": [
    {
     "data": {
      "text/plain": [
       "transacted                             68769\n",
       "price_minPricePerSizeUnitByLandArea    68769\n",
       "attr_buildYear                         68769\n",
       "attr_developerName                     68769\n",
       "attr_hasImage360                       68769\n",
       "                                       ...  \n",
       "state                                      1\n",
       "city                                       1\n",
       "poi_healthcare                             1\n",
       "poi_education                              1\n",
       "iproperty_listing.csv                      1\n",
       "Length: 102, dtype: int64"
      ]
     },
     "execution_count": 166,
     "metadata": {},
     "output_type": "execute_result"
    }
   ],
   "source": [
    "listings.isnull().sum().sort_values(ascending = False)"
   ]
  },
  {
   "cell_type": "code",
   "execution_count": 167,
   "metadata": {},
   "outputs": [
    {
     "data": {
      "text/plain": [
       "(68769, 102)"
      ]
     },
     "execution_count": 167,
     "metadata": {},
     "output_type": "execute_result"
    }
   ],
   "source": [
    "listings.shape"
   ]
  },
  {
   "cell_type": "markdown",
   "metadata": {},
   "source": [
    "## Drop Unuseful Columns"
   ]
  },
  {
   "cell_type": "code",
   "execution_count": 168,
   "metadata": {},
   "outputs": [],
   "source": [
    "# drop all columns without any data\n",
    "listings.dropna(how='all', axis=1, inplace=True)"
   ]
  },
  {
   "cell_type": "code",
   "execution_count": 169,
   "metadata": {},
   "outputs": [
    {
     "data": {
      "text/plain": [
       "(68769, 53)"
      ]
     },
     "execution_count": 169,
     "metadata": {},
     "output_type": "execute_result"
    }
   ],
   "source": [
    "listings.shape"
   ]
  },
  {
   "cell_type": "code",
   "execution_count": 170,
   "metadata": {},
   "outputs": [
    {
     "data": {
      "text/plain": [
       "price_maxPricePerSizeUnitByBuiltUp           68742\n",
       "attr_completionStatus                        68738\n",
       "price_minPricePerSizeUnitByBuiltUp           68723\n",
       "attr_promotion                               68709\n",
       "attr_projectLandEncumbrance                  68700\n",
       "attr_projectApprovalAuthorityBuildingPlan    68685\n",
       "attr_projectBuildingReferenceNo              68685\n",
       "attr_projectAdvertisingPermitValidity        68685\n",
       "attr_projectLicenseValidity                  68684\n",
       "attr_projectAdvertisingPermit                68680\n",
       "attr_highlight                               68646\n",
       "attr_completionDate                          68603\n",
       "attr_projectStage                            68586\n",
       "color                                        68586\n",
       "attr_bumiDiscount                            68586\n",
       "attr_totalUnits                              68586\n",
       "attr_maintenanceFee                          67267\n",
       "attr_auctionDate                             66089\n",
       "attr_maximumPricePerSizeUnit                 62780\n",
       "attr_pricePSF                                62761\n",
       "attr_minimumPricePerSizeUnit                 62761\n",
       "attr_facingDirection                         46812\n",
       "township                                     39130\n",
       "attr_occupancy                               33694\n",
       "attr_landArea                                32008\n",
       "attr_unitType                                30853\n",
       "attr_carPark                                 26308\n",
       "attr_titleType                               23054\n",
       "attr_landTitleType                           21577\n",
       "longitude                                    20495\n",
       "latitude                                     20494\n",
       "attr_furnishing                              17412\n",
       "attr_builtUp                                 11033\n",
       "attr_tenure                                  10117\n",
       "attr_bathroom                                 4135\n",
       "attr_bedroom                                  3860\n",
       "attr_sizeUnit                                  185\n",
       "attr_downloadUrl                               184\n",
       "tier                                             1\n",
       "propertyType                                     1\n",
       "title                                            1\n",
       "price_currency                                   1\n",
       "kind                                             1\n",
       "price_type                                       1\n",
       "poi_transportation                               1\n",
       "price_min                                        1\n",
       "price_max                                        1\n",
       "formatedAddress                                  1\n",
       "state                                            1\n",
       "city                                             1\n",
       "poi_healthcare                                   1\n",
       "poi_education                                    1\n",
       "iproperty_listing.csv                            1\n",
       "dtype: int64"
      ]
     },
     "execution_count": 170,
     "metadata": {},
     "output_type": "execute_result"
    }
   ],
   "source": [
    "listings.isnull().sum().sort_values(ascending = False)"
   ]
  },
  {
   "cell_type": "code",
   "execution_count": 171,
   "metadata": {},
   "outputs": [],
   "source": [
    "# drop columns which majority of rows contain no data\n",
    "listings.drop(['price_maxPricePerSizeUnitByBuiltUp', 'attr_completionStatus',\n",
    "       'price_minPricePerSizeUnitByBuiltUp', 'attr_promotion',\n",
    "       'attr_projectLandEncumbrance',\n",
    "       'attr_projectApprovalAuthorityBuildingPlan',\n",
    "       'attr_projectBuildingReferenceNo',\n",
    "       'attr_projectAdvertisingPermitValidity', 'attr_projectLicenseValidity',\n",
    "       'attr_projectAdvertisingPermit', 'attr_highlight',\n",
    "       'attr_completionDate', 'attr_projectStage', 'color',\n",
    "       'attr_bumiDiscount', 'attr_totalUnits', 'attr_maintenanceFee',\n",
    "       'attr_auctionDate', 'attr_maximumPricePerSizeUnit', 'attr_pricePSF',\n",
    "       'attr_minimumPricePerSizeUnit'], axis=1, inplace=True)"
   ]
  },
  {
   "cell_type": "code",
   "execution_count": 172,
   "metadata": {},
   "outputs": [
    {
     "data": {
      "text/plain": [
       "(68769, 32)"
      ]
     },
     "execution_count": 172,
     "metadata": {},
     "output_type": "execute_result"
    }
   ],
   "source": [
    "listings.shape"
   ]
  },
  {
   "cell_type": "markdown",
   "metadata": {},
   "source": [
    "## Fill Missing Categorial Data"
   ]
  },
  {
   "cell_type": "code",
   "execution_count": 173,
   "metadata": {},
   "outputs": [
    {
     "data": {
      "text/plain": [
       "iproperty_listing.csv        1\n",
       "kind                         1\n",
       "title                        1\n",
       "tier                         1\n",
       "propertyType                 1\n",
       "price_type                   1\n",
       "price_currency               1\n",
       "price_min                    1\n",
       "price_max                    1\n",
       "formatedAddress              1\n",
       "latitude                 20494\n",
       "longitude                20495\n",
       "state                        1\n",
       "city                         1\n",
       "township                 39130\n",
       "attr_bedroom              3860\n",
       "attr_bathroom             4135\n",
       "attr_landArea            32008\n",
       "attr_builtUp             11033\n",
       "attr_carPark             26308\n",
       "attr_furnishing          17412\n",
       "attr_landTitleType       21577\n",
       "attr_tenure              10117\n",
       "attr_facingDirection     46812\n",
       "attr_unitType            30853\n",
       "attr_occupancy           33694\n",
       "attr_titleType           23054\n",
       "attr_sizeUnit              185\n",
       "attr_downloadUrl           184\n",
       "poi_education                1\n",
       "poi_healthcare               1\n",
       "poi_transportation           1\n",
       "dtype: int64"
      ]
     },
     "execution_count": 173,
     "metadata": {},
     "output_type": "execute_result"
    }
   ],
   "source": [
    "# list columns and their null value count\n",
    "col_with_na = listings.isnull().sum()\n",
    "col_with_na[~(col_with_na==0)]"
   ]
  },
  {
   "cell_type": "code",
   "execution_count": 174,
   "metadata": {},
   "outputs": [
    {
     "data": {
      "text/plain": [
       "Unknown      7674\n",
       "North        3672\n",
       "South        3458\n",
       "East         1622\n",
       "NorthEast    1561\n",
       "SouthEast    1323\n",
       "SouthWest    1157\n",
       "NorthWest     912\n",
       "West          578\n",
       "Name: attr_facingDirection, dtype: int64"
      ]
     },
     "execution_count": 174,
     "metadata": {},
     "output_type": "execute_result"
    }
   ],
   "source": [
    "listings['attr_facingDirection'].value_counts()"
   ]
  },
  {
   "cell_type": "code",
   "execution_count": 175,
   "metadata": {},
   "outputs": [],
   "source": [
    "listings['attr_facingDirection'].fillna(value='Unknown', inplace=True)"
   ]
  },
  {
   "cell_type": "code",
   "execution_count": 176,
   "metadata": {},
   "outputs": [
    {
     "data": {
      "text/plain": [
       "Vacant            23185\n",
       "Tenanted           5161\n",
       "Owner Occupied     4406\n",
       "Unknown            2323\n",
       "Name: attr_occupancy, dtype: int64"
      ]
     },
     "execution_count": 176,
     "metadata": {},
     "output_type": "execute_result"
    }
   ],
   "source": [
    "listings['attr_occupancy'].value_counts()"
   ]
  },
  {
   "cell_type": "code",
   "execution_count": 177,
   "metadata": {},
   "outputs": [],
   "source": [
    "listings['attr_occupancy'].fillna(value='Unknown', inplace=True)"
   ]
  },
  {
   "cell_type": "code",
   "execution_count": 178,
   "metadata": {},
   "outputs": [
    {
     "data": {
      "text/plain": [
       "Intermediate    24625\n",
       "Corner          10207\n",
       "EndLot           2081\n",
       "Duplex            412\n",
       "Penthouse         286\n",
       "Studio            197\n",
       "SOHO               64\n",
       "Triplex            44\n",
       "Name: attr_unitType, dtype: int64"
      ]
     },
     "execution_count": 178,
     "metadata": {},
     "output_type": "execute_result"
    }
   ],
   "source": [
    "listings['attr_unitType'].value_counts()"
   ]
  },
  {
   "cell_type": "code",
   "execution_count": 179,
   "metadata": {},
   "outputs": [],
   "source": [
    "listings['attr_unitType'].fillna(value='Unknown', inplace=True)"
   ]
  },
  {
   "cell_type": "code",
   "execution_count": 180,
   "metadata": {},
   "outputs": [
    {
     "data": {
      "text/plain": [
       "Individual    25961\n",
       "Strata        18463\n",
       "Unknown        1291\n",
       "Name: attr_titleType, dtype: int64"
      ]
     },
     "execution_count": 180,
     "metadata": {},
     "output_type": "execute_result"
    }
   ],
   "source": [
    "listings['attr_titleType'].value_counts()"
   ]
  },
  {
   "cell_type": "code",
   "execution_count": 181,
   "metadata": {},
   "outputs": [],
   "source": [
    "listings['attr_titleType'].fillna(value='Unknown', inplace=True)"
   ]
  },
  {
   "cell_type": "code",
   "execution_count": 182,
   "metadata": {
    "scrolled": true
   },
   "outputs": [
    {
     "data": {
      "text/plain": [
       "Residential    43954\n",
       "Commercial      2556\n",
       "Unknown          471\n",
       "Industrial       211\n",
       "Name: attr_landTitleType, dtype: int64"
      ]
     },
     "execution_count": 182,
     "metadata": {},
     "output_type": "execute_result"
    }
   ],
   "source": [
    "listings['attr_landTitleType'].value_counts()"
   ]
  },
  {
   "cell_type": "code",
   "execution_count": 183,
   "metadata": {},
   "outputs": [],
   "source": [
    "listings['attr_landTitleType'].fillna(value='Unknown', inplace=True)"
   ]
  },
  {
   "cell_type": "code",
   "execution_count": 184,
   "metadata": {
    "scrolled": true
   },
   "outputs": [
    {
     "data": {
      "text/plain": [
       "Partly Furnished    24380\n",
       "Fully Furnished     13263\n",
       "Unfurnished         12752\n",
       "Unknown               962\n",
       "Name: attr_furnishing, dtype: int64"
      ]
     },
     "execution_count": 184,
     "metadata": {},
     "output_type": "execute_result"
    }
   ],
   "source": [
    "listings['attr_furnishing'].value_counts()"
   ]
  },
  {
   "cell_type": "code",
   "execution_count": 185,
   "metadata": {},
   "outputs": [],
   "source": [
    "listings['attr_furnishing'].fillna(value='Unknown', inplace=True)"
   ]
  },
  {
   "cell_type": "code",
   "execution_count": 186,
   "metadata": {},
   "outputs": [
    {
     "data": {
      "text/plain": [
       "Freehold               42844\n",
       "Leasehold              14985\n",
       "Malay Reserved Land      474\n",
       "Lease Tenancy            189\n",
       "Unknown                  160\n",
       "Name: attr_tenure, dtype: int64"
      ]
     },
     "execution_count": 186,
     "metadata": {},
     "output_type": "execute_result"
    }
   ],
   "source": [
    "listings['attr_tenure'].value_counts()"
   ]
  },
  {
   "cell_type": "code",
   "execution_count": 187,
   "metadata": {},
   "outputs": [],
   "source": [
    "listings['attr_tenure'].fillna(value='Unknown', inplace=True)"
   ]
  },
  {
   "cell_type": "code",
   "execution_count": 188,
   "metadata": {},
   "outputs": [
    {
     "data": {
      "text/plain": [
       "SQUARE_FEET      67999\n",
       "ACRES              323\n",
       "SQUARE_METERS      251\n",
       "HECTARE             11\n",
       "Name: attr_sizeUnit, dtype: int64"
      ]
     },
     "execution_count": 188,
     "metadata": {},
     "output_type": "execute_result"
    }
   ],
   "source": [
    "listings['attr_sizeUnit'].value_counts()"
   ]
  },
  {
   "cell_type": "code",
   "execution_count": 189,
   "metadata": {},
   "outputs": [],
   "source": [
    "# do not fill size unit, this column is important for later part, rows without data will be dropped"
   ]
  },
  {
   "cell_type": "markdown",
   "metadata": {},
   "source": [
    "## Further Exploration On Numerical Data "
   ]
  },
  {
   "cell_type": "code",
   "execution_count": 190,
   "metadata": {},
   "outputs": [],
   "source": [
    "# the following columns consist of data with inconsistent format\n",
    "# they are mixed of categorial, string & numerical data, need to study on the data first before cleaning"
   ]
  },
  {
   "cell_type": "code",
   "execution_count": 191,
   "metadata": {},
   "outputs": [
    {
     "data": {
      "text/plain": [
       "22x75                   1162\n",
       "20x70                   1025\n",
       "22x70                    766\n",
       "1400                     744\n",
       "1,400                    500\n",
       "                        ... \n",
       "19,238                     1\n",
       "1,050 sq. ft - 1,670       1\n",
       "3068                       1\n",
       "4,390                      1\n",
       "6700sf                     1\n",
       "Name: attr_landArea, Length: 8945, dtype: int64"
      ]
     },
     "execution_count": 191,
     "metadata": {},
     "output_type": "execute_result"
    }
   ],
   "source": [
    "listings['attr_landArea'].value_counts()"
   ]
  },
  {
   "cell_type": "code",
   "execution_count": 192,
   "metadata": {
    "scrolled": true
   },
   "outputs": [
    {
     "data": {
      "text/plain": [
       "2,000     1046\n",
       "1,400      879\n",
       "1,800      825\n",
       "1,600      733\n",
       "3,000      714\n",
       "          ... \n",
       "101.84       1\n",
       "4,376        1\n",
       "28,140       1\n",
       "5,553        1\n",
       "96           1\n",
       "Name: attr_builtUp, Length: 4926, dtype: int64"
      ]
     },
     "execution_count": 192,
     "metadata": {},
     "output_type": "execute_result"
    }
   ],
   "source": [
    "listings['attr_builtUp'].value_counts()"
   ]
  },
  {
   "cell_type": "code",
   "execution_count": 193,
   "metadata": {},
   "outputs": [
    {
     "data": {
      "text/plain": [
       "2        20806\n",
       "1        11414\n",
       "3         4058\n",
       "4         3614\n",
       "6         1104\n",
       "5          726\n",
       "8          209\n",
       "10         206\n",
       "7           82\n",
       "0           52\n",
       "20          33\n",
       "30          25\n",
       "12          19\n",
       "1 - 2       18\n",
       "2 - 3       17\n",
       "9           16\n",
       "15          13\n",
       "2 - 4        9\n",
       "1 - 3        9\n",
       "11           6\n",
       "14           4\n",
       "13           3\n",
       "17           3\n",
       "16           2\n",
       "2 - 6        2\n",
       "1 - 4        2\n",
       "18           2\n",
       "0 - 2        1\n",
       "3 - 6        1\n",
       "4 - 6        1\n",
       "28           1\n",
       "1 - 5        1\n",
       "23           1\n",
       "3 - 4        1\n",
       "Name: attr_carPark, dtype: int64"
      ]
     },
     "execution_count": 193,
     "metadata": {},
     "output_type": "execute_result"
    }
   ],
   "source": [
    "listings['attr_carPark'].value_counts()"
   ]
  },
  {
   "cell_type": "code",
   "execution_count": 194,
   "metadata": {},
   "outputs": [
    {
     "data": {
      "text/plain": [
       "2        22860\n",
       "3        16764\n",
       "4         8308\n",
       "5         6054\n",
       "1         4229\n",
       "6         3661\n",
       "7         1681\n",
       "8          581\n",
       "9          206\n",
       "10          87\n",
       "12          25\n",
       "20          23\n",
       "11          21\n",
       "0           17\n",
       "1 - 2       14\n",
       "2 - 3       14\n",
       "13          13\n",
       "15          12\n",
       "1 - 3        8\n",
       "14           8\n",
       "5 - 6        6\n",
       "3 - 4        6\n",
       "4 - 5        6\n",
       "16           3\n",
       "1 - 4        3\n",
       "17           3\n",
       "1 - 5        3\n",
       "2 - 4        2\n",
       "3 - 6        2\n",
       "4 - 6        2\n",
       "0 - 3        2\n",
       "6 - 7        2\n",
       "2 - 5        2\n",
       "7 - 8        1\n",
       "2 - 6        1\n",
       "6 - 8        1\n",
       "0 - 4        1\n",
       "2 - 9        1\n",
       "5 - 7        1\n",
       "Name: attr_bathroom, dtype: int64"
      ]
     },
     "execution_count": 194,
     "metadata": {},
     "output_type": "execute_result"
    }
   ],
   "source": [
    "listings['attr_bathroom'].value_counts()"
   ]
  },
  {
   "cell_type": "code",
   "execution_count": 195,
   "metadata": {},
   "outputs": [
    {
     "data": {
      "text/plain": [
       "3        17241\n",
       "4        14863\n",
       "4+1       5484\n",
       "3+1       5291\n",
       "5         4375\n",
       "         ...  \n",
       "11+          1\n",
       "5 - 7        1\n",
       "1 - 7        1\n",
       "14+          1\n",
       "1 - 6        1\n",
       "Name: attr_bedroom, Length: 65, dtype: int64"
      ]
     },
     "execution_count": 195,
     "metadata": {},
     "output_type": "execute_result"
    }
   ],
   "source": [
    "listings['attr_bedroom'].value_counts()"
   ]
  },
  {
   "cell_type": "markdown",
   "metadata": {},
   "source": [
    "## Drop Rows With Missing important Data"
   ]
  },
  {
   "cell_type": "code",
   "execution_count": 196,
   "metadata": {},
   "outputs": [],
   "source": [
    "# drop rows with no size unit\n",
    "listings.dropna(subset=['attr_sizeUnit'], inplace=True)"
   ]
  },
  {
   "cell_type": "code",
   "execution_count": 197,
   "metadata": {},
   "outputs": [],
   "source": [
    "# drop rows with no data in both attr_landArea and attr_builtUp\n",
    "listings.dropna(subset=['attr_landArea', 'attr_builtUp'], how='all', inplace=True)"
   ]
  },
  {
   "cell_type": "code",
   "execution_count": 198,
   "metadata": {},
   "outputs": [],
   "source": [
    "# drop rows without latitude, longitude and township \n",
    "listings.dropna(subset=['latitude', 'longitude', 'township'], how='all', inplace=True)"
   ]
  },
  {
   "cell_type": "code",
   "execution_count": 199,
   "metadata": {},
   "outputs": [],
   "source": [
    "# some listings are not specifically for a particular type of property, drop these type of listings\n",
    "listings = listings[\n",
    "    (~listings['attr_landArea'].str.contains('~', na = False)) & \n",
    "    (~listings['attr_landArea'].str.contains('-', na = False)) & \n",
    "    (~listings['attr_landArea'].str.contains('/', na = False))\n",
    "]"
   ]
  },
  {
   "cell_type": "code",
   "execution_count": 200,
   "metadata": {},
   "outputs": [
    {
     "data": {
      "text/plain": [
       "latitude          2692\n",
       "longitude         2693\n",
       "township         21120\n",
       "attr_bedroom      2014\n",
       "attr_bathroom     2218\n",
       "attr_landArea    28301\n",
       "attr_builtUp      5121\n",
       "attr_carPark     16561\n",
       "dtype: int64"
      ]
     },
     "execution_count": 200,
     "metadata": {},
     "output_type": "execute_result"
    }
   ],
   "source": [
    "# remaining columns with NaN value for further action\n",
    "col_with_na = listings.isnull().sum()\n",
    "col_with_na[~(col_with_na==0)]"
   ]
  },
  {
   "cell_type": "code",
   "execution_count": 201,
   "metadata": {},
   "outputs": [
    {
     "data": {
      "text/plain": [
       "(49714, 32)"
      ]
     },
     "execution_count": 201,
     "metadata": {},
     "output_type": "execute_result"
    }
   ],
   "source": [
    "listings.shape"
   ]
  },
  {
   "cell_type": "markdown",
   "metadata": {},
   "source": [
    "## Cleaning/Correcting Data"
   ]
  },
  {
   "cell_type": "markdown",
   "metadata": {},
   "source": [
    "### Discrepancies and Issues between attr_landArea, attr_builtUp and attr_sizeUnit"
   ]
  },
  {
   "cell_type": "code",
   "execution_count": 202,
   "metadata": {},
   "outputs": [],
   "source": [
    "# convert to lower case\n",
    "listings['attr_landArea'] = listings['attr_landArea'].str.lower()\n",
    "listings['attr_builtUp'] = listings['attr_builtUp'].str.lower()\n",
    "\n",
    "# remove characters single quotes ('), double quotes (\") and commas(,)\n",
    "listings['attr_landArea'] = listings['attr_landArea'].str.replace(\"['\\\"`’,]\", \"\")\n",
    "listings['attr_builtUp'] = listings['attr_builtUp'].str.replace(\"['\\\"`’,]\", \"\")\n",
    "\n",
    "# some values are in area dimension instead, replace x and X with *\n",
    "listings['attr_landArea'] = listings['attr_landArea'].str.replace(\"[×x]\", \"*\")\n",
    "listings['attr_builtUp'] = listings['attr_builtUp'].str.replace(\"[×x]\", \"*\")\n",
    "\n",
    "# listings[['attr_landArea', 'attr_builtUp']]"
   ]
  },
  {
   "cell_type": "code",
   "execution_count": 203,
   "metadata": {},
   "outputs": [
    {
     "data": {
      "text/html": [
       "<div>\n",
       "<style scoped>\n",
       "    .dataframe tbody tr th:only-of-type {\n",
       "        vertical-align: middle;\n",
       "    }\n",
       "\n",
       "    .dataframe tbody tr th {\n",
       "        vertical-align: top;\n",
       "    }\n",
       "\n",
       "    .dataframe thead th {\n",
       "        text-align: right;\n",
       "    }\n",
       "</style>\n",
       "<table border=\"1\" class=\"dataframe\">\n",
       "  <thead>\n",
       "    <tr style=\"text-align: right;\">\n",
       "      <th></th>\n",
       "      <th>attr_landArea</th>\n",
       "      <th>attr_builtUp</th>\n",
       "      <th>attr_sizeUnit</th>\n",
       "      <th>propertyType</th>\n",
       "      <th>attr_builtUp_to_landArea</th>\n",
       "    </tr>\n",
       "  </thead>\n",
       "  <tbody>\n",
       "    <tr>\n",
       "      <th>34095</th>\n",
       "      <td>205.0</td>\n",
       "      <td>3272.0</td>\n",
       "      <td>SQUARE_METERS</td>\n",
       "      <td>3-sty Terrace/Link House</td>\n",
       "      <td>15.960976</td>\n",
       "    </tr>\n",
       "    <tr>\n",
       "      <th>60489</th>\n",
       "      <td>111.0</td>\n",
       "      <td>1195.0</td>\n",
       "      <td>SQUARE_METERS</td>\n",
       "      <td>1-sty Terrace/Link House</td>\n",
       "      <td>10.765766</td>\n",
       "    </tr>\n",
       "  </tbody>\n",
       "</table>\n",
       "</div>"
      ],
      "text/plain": [
       "       attr_landArea  attr_builtUp  attr_sizeUnit              propertyType  \\\n",
       "34095          205.0        3272.0  SQUARE_METERS  3-sty Terrace/Link House   \n",
       "60489          111.0        1195.0  SQUARE_METERS  1-sty Terrace/Link House   \n",
       "\n",
       "       attr_builtUp_to_landArea  \n",
       "34095                 15.960976  \n",
       "60489                 10.765766  "
      ]
     },
     "execution_count": 203,
     "metadata": {},
     "output_type": "execute_result"
    }
   ],
   "source": [
    "# attr_landArea labeled with sqm as uom, but attr_builtUp and attr_sizeUnit could be in sqf\n",
    "\n",
    "# find rows with sq meter explicitly stated in attr_landArea\n",
    "listings_sqm = listings[(listings['attr_landArea'].str.contains('sq', na = False)) & listings['attr_landArea'].str.contains('m', na = False)][['attr_landArea', 'attr_builtUp', 'attr_sizeUnit', 'propertyType']]\n",
    "\n",
    "# clean attr_landArea\n",
    "listings_sqm['attr_landArea'] = listings_sqm['attr_landArea'].str.extract('(\\d*\\.?\\d?\\d)').astype(float)\n",
    "\n",
    "# clean attr_builtUp\n",
    "listings_sqm['attr_builtUp'] = listings_sqm['attr_builtUp'].astype(float)\n",
    "\n",
    "# correct attr_sizeUnit\n",
    "listings_sqm['attr_sizeUnit'] = 'SQUARE_METERS'\n",
    "\n",
    "# compute builtUp to landArea ratio to detect if the builtUp area could be in different uom\n",
    "listings_sqm['attr_builtUp_to_landArea'] = listings_sqm['attr_builtUp'] / listings_sqm['attr_landArea']\n",
    "\n",
    "listings_sqm[listings_sqm['attr_builtUp_to_landArea'] > 10]"
   ]
  },
  {
   "cell_type": "code",
   "execution_count": 204,
   "metadata": {},
   "outputs": [],
   "source": [
    "# correct attr_builtUp if attr_builtUp is unreasonably higher than attr_landArea\n",
    "\n",
    "\n",
    "def sqf_to_sqm (x):\n",
    "    return x * 0.09290304\n",
    "\n",
    "\n",
    "# convert from sqf to sqm (assume builtUp is in sqf if it's 10 time higher than landArea)\n",
    "listings_sqm.loc[\n",
    "    listings_sqm['attr_builtUp_to_landArea'] > 10, 'attr_builtUp'\n",
    "] = listings_sqm.loc[\n",
    "    listings_sqm['attr_builtUp_to_landArea'] > 10, 'attr_builtUp'\n",
    "].apply(\n",
    "    lambda x: sqf_to_sqm(x)\n",
    ")\n",
    "\n",
    "# listings_sqm"
   ]
  },
  {
   "cell_type": "code",
   "execution_count": 205,
   "metadata": {},
   "outputs": [],
   "source": [
    "# update the original listings with the corrected values\n",
    "listings.loc[listings_sqm.index, 'attr_landArea'] = listings_sqm[['attr_landArea']]\n",
    "listings.loc[listings_sqm.index, 'attr_builtUp'] = listings_sqm[['attr_builtUp']]\n",
    "listings.loc[listings_sqm.index, 'attr_sizeUnit'] = listings_sqm[['attr_sizeUnit']]\n",
    "\n"
   ]
  },
  {
   "cell_type": "code",
   "execution_count": 206,
   "metadata": {},
   "outputs": [
    {
     "data": {
      "text/html": [
       "<div>\n",
       "<style scoped>\n",
       "    .dataframe tbody tr th:only-of-type {\n",
       "        vertical-align: middle;\n",
       "    }\n",
       "\n",
       "    .dataframe tbody tr th {\n",
       "        vertical-align: top;\n",
       "    }\n",
       "\n",
       "    .dataframe thead th {\n",
       "        text-align: right;\n",
       "    }\n",
       "</style>\n",
       "<table border=\"1\" class=\"dataframe\">\n",
       "  <thead>\n",
       "    <tr style=\"text-align: right;\">\n",
       "      <th></th>\n",
       "      <th>attr_landArea</th>\n",
       "      <th>attr_builtUp</th>\n",
       "      <th>attr_sizeUnit</th>\n",
       "      <th>propertyType</th>\n",
       "      <th>price_min</th>\n",
       "    </tr>\n",
       "  </thead>\n",
       "  <tbody>\n",
       "    <tr>\n",
       "      <th>5818</th>\n",
       "      <td>10000 acres</td>\n",
       "      <td>5000</td>\n",
       "      <td>SQUARE_FEET</td>\n",
       "      <td>Bungalow</td>\n",
       "      <td>788000.0</td>\n",
       "    </tr>\n",
       "    <tr>\n",
       "      <th>7850</th>\n",
       "      <td>9 acres</td>\n",
       "      <td>NaN</td>\n",
       "      <td>SQUARE_FEET</td>\n",
       "      <td>Residential Land</td>\n",
       "      <td>4700000.0</td>\n",
       "    </tr>\n",
       "    <tr>\n",
       "      <th>11608</th>\n",
       "      <td>1 acre</td>\n",
       "      <td>1</td>\n",
       "      <td>ACRES</td>\n",
       "      <td>Residential Land</td>\n",
       "      <td>1960000.0</td>\n",
       "    </tr>\n",
       "    <tr>\n",
       "      <th>16183</th>\n",
       "      <td>40.45 acer</td>\n",
       "      <td>1029</td>\n",
       "      <td>SQUARE_FEET</td>\n",
       "      <td>Apartment</td>\n",
       "      <td>304000.0</td>\n",
       "    </tr>\n",
       "    <tr>\n",
       "      <th>18969</th>\n",
       "      <td>3.66 acres</td>\n",
       "      <td>NaN</td>\n",
       "      <td>SQUARE_FEET</td>\n",
       "      <td>Residential Land</td>\n",
       "      <td>30000000.0</td>\n",
       "    </tr>\n",
       "    <tr>\n",
       "      <th>31350</th>\n",
       "      <td>2 acres</td>\n",
       "      <td>NaN</td>\n",
       "      <td>SQUARE_FEET</td>\n",
       "      <td>Bungalow</td>\n",
       "      <td>980000.0</td>\n",
       "    </tr>\n",
       "    <tr>\n",
       "      <th>31550</th>\n",
       "      <td>8 acres</td>\n",
       "      <td>NaN</td>\n",
       "      <td>ACRES</td>\n",
       "      <td>Residential Land</td>\n",
       "      <td>10200000.0</td>\n",
       "    </tr>\n",
       "    <tr>\n",
       "      <th>45482</th>\n",
       "      <td>0.23 hectares</td>\n",
       "      <td>NaN</td>\n",
       "      <td>HECTARE</td>\n",
       "      <td>Residential Land</td>\n",
       "      <td>20500.0</td>\n",
       "    </tr>\n",
       "    <tr>\n",
       "      <th>45484</th>\n",
       "      <td>0.23 hectares</td>\n",
       "      <td>NaN</td>\n",
       "      <td>HECTARE</td>\n",
       "      <td>1-sty Terrace/Link House</td>\n",
       "      <td>33500.0</td>\n",
       "    </tr>\n",
       "    <tr>\n",
       "      <th>48147</th>\n",
       "      <td>5 acres</td>\n",
       "      <td>1066</td>\n",
       "      <td>SQUARE_FEET</td>\n",
       "      <td>Serviced Residence</td>\n",
       "      <td>388888.0</td>\n",
       "    </tr>\n",
       "    <tr>\n",
       "      <th>51968</th>\n",
       "      <td>0.13 acres</td>\n",
       "      <td>NaN</td>\n",
       "      <td>SQUARE_FEET</td>\n",
       "      <td>Residential Land</td>\n",
       "      <td>70000.0</td>\n",
       "    </tr>\n",
       "    <tr>\n",
       "      <th>62977</th>\n",
       "      <td>3 acres</td>\n",
       "      <td>3</td>\n",
       "      <td>ACRES</td>\n",
       "      <td>Residential Land</td>\n",
       "      <td>1600000.0</td>\n",
       "    </tr>\n",
       "    <tr>\n",
       "      <th>63687</th>\n",
       "      <td>2.71 acres</td>\n",
       "      <td>NaN</td>\n",
       "      <td>SQUARE_METERS</td>\n",
       "      <td>Residential Land</td>\n",
       "      <td>15000000.0</td>\n",
       "    </tr>\n",
       "  </tbody>\n",
       "</table>\n",
       "</div>"
      ],
      "text/plain": [
       "       attr_landArea attr_builtUp  attr_sizeUnit              propertyType  \\\n",
       "5818     10000 acres         5000    SQUARE_FEET                  Bungalow   \n",
       "7850         9 acres          NaN    SQUARE_FEET          Residential Land   \n",
       "11608         1 acre            1          ACRES          Residential Land   \n",
       "16183     40.45 acer         1029    SQUARE_FEET                 Apartment   \n",
       "18969     3.66 acres          NaN    SQUARE_FEET          Residential Land   \n",
       "31350        2 acres          NaN    SQUARE_FEET                  Bungalow   \n",
       "31550        8 acres          NaN          ACRES          Residential Land   \n",
       "45482  0.23 hectares          NaN        HECTARE          Residential Land   \n",
       "45484  0.23 hectares          NaN        HECTARE  1-sty Terrace/Link House   \n",
       "48147        5 acres         1066    SQUARE_FEET        Serviced Residence   \n",
       "51968     0.13 acres          NaN    SQUARE_FEET          Residential Land   \n",
       "62977        3 acres            3          ACRES          Residential Land   \n",
       "63687     2.71 acres          NaN  SQUARE_METERS          Residential Land   \n",
       "\n",
       "        price_min  \n",
       "5818     788000.0  \n",
       "7850    4700000.0  \n",
       "11608   1960000.0  \n",
       "16183    304000.0  \n",
       "18969  30000000.0  \n",
       "31350    980000.0  \n",
       "31550  10200000.0  \n",
       "45482     20500.0  \n",
       "45484     33500.0  \n",
       "48147    388888.0  \n",
       "51968     70000.0  \n",
       "62977   1600000.0  \n",
       "63687  15000000.0  "
      ]
     },
     "execution_count": 206,
     "metadata": {},
     "output_type": "execute_result"
    }
   ],
   "source": [
    "# find rows with acre and hectare explicitly stated in attr_landArea\n",
    "listings_land = listings[(listings['attr_landArea'].str.contains('ac', na = False)) | listings['attr_landArea'].str.contains('hec', na = False)][['attr_landArea', 'attr_builtUp', 'attr_sizeUnit', 'propertyType', 'price_min']]\n",
    "listings_land"
   ]
  },
  {
   "cell_type": "code",
   "execution_count": 207,
   "metadata": {},
   "outputs": [
    {
     "data": {
      "text/html": [
       "<div>\n",
       "<style scoped>\n",
       "    .dataframe tbody tr th:only-of-type {\n",
       "        vertical-align: middle;\n",
       "    }\n",
       "\n",
       "    .dataframe tbody tr th {\n",
       "        vertical-align: top;\n",
       "    }\n",
       "\n",
       "    .dataframe thead th {\n",
       "        text-align: right;\n",
       "    }\n",
       "</style>\n",
       "<table border=\"1\" class=\"dataframe\">\n",
       "  <thead>\n",
       "    <tr style=\"text-align: right;\">\n",
       "      <th></th>\n",
       "      <th>attr_landArea</th>\n",
       "      <th>attr_builtUp</th>\n",
       "      <th>attr_sizeUnit</th>\n",
       "      <th>propertyType</th>\n",
       "      <th>price_min</th>\n",
       "    </tr>\n",
       "  </thead>\n",
       "  <tbody>\n",
       "    <tr>\n",
       "      <th>5818</th>\n",
       "      <td>NaN</td>\n",
       "      <td>5000</td>\n",
       "      <td>SQUARE_FEET</td>\n",
       "      <td>Bungalow</td>\n",
       "      <td>788000.0</td>\n",
       "    </tr>\n",
       "    <tr>\n",
       "      <th>7850</th>\n",
       "      <td>9</td>\n",
       "      <td>NaN</td>\n",
       "      <td>ACRES</td>\n",
       "      <td>Residential Land</td>\n",
       "      <td>4700000.0</td>\n",
       "    </tr>\n",
       "    <tr>\n",
       "      <th>11608</th>\n",
       "      <td>1</td>\n",
       "      <td>1</td>\n",
       "      <td>ACRES</td>\n",
       "      <td>Residential Land</td>\n",
       "      <td>1960000.0</td>\n",
       "    </tr>\n",
       "    <tr>\n",
       "      <th>16183</th>\n",
       "      <td>NaN</td>\n",
       "      <td>1029</td>\n",
       "      <td>SQUARE_FEET</td>\n",
       "      <td>Apartment</td>\n",
       "      <td>304000.0</td>\n",
       "    </tr>\n",
       "    <tr>\n",
       "      <th>18969</th>\n",
       "      <td>3.66</td>\n",
       "      <td>NaN</td>\n",
       "      <td>ACRES</td>\n",
       "      <td>Residential Land</td>\n",
       "      <td>30000000.0</td>\n",
       "    </tr>\n",
       "    <tr>\n",
       "      <th>31350</th>\n",
       "      <td>NaN</td>\n",
       "      <td>NaN</td>\n",
       "      <td>SQUARE_FEET</td>\n",
       "      <td>Bungalow</td>\n",
       "      <td>980000.0</td>\n",
       "    </tr>\n",
       "    <tr>\n",
       "      <th>31550</th>\n",
       "      <td>8</td>\n",
       "      <td>NaN</td>\n",
       "      <td>ACRES</td>\n",
       "      <td>Residential Land</td>\n",
       "      <td>10200000.0</td>\n",
       "    </tr>\n",
       "    <tr>\n",
       "      <th>45482</th>\n",
       "      <td>0.23</td>\n",
       "      <td>NaN</td>\n",
       "      <td>HECTARE</td>\n",
       "      <td>Residential Land</td>\n",
       "      <td>20500.0</td>\n",
       "    </tr>\n",
       "    <tr>\n",
       "      <th>45484</th>\n",
       "      <td>NaN</td>\n",
       "      <td>NaN</td>\n",
       "      <td>SQUARE_FEET</td>\n",
       "      <td>1-sty Terrace/Link House</td>\n",
       "      <td>33500.0</td>\n",
       "    </tr>\n",
       "    <tr>\n",
       "      <th>48147</th>\n",
       "      <td>NaN</td>\n",
       "      <td>1066</td>\n",
       "      <td>SQUARE_FEET</td>\n",
       "      <td>Serviced Residence</td>\n",
       "      <td>388888.0</td>\n",
       "    </tr>\n",
       "    <tr>\n",
       "      <th>51968</th>\n",
       "      <td>0.13</td>\n",
       "      <td>NaN</td>\n",
       "      <td>ACRES</td>\n",
       "      <td>Residential Land</td>\n",
       "      <td>70000.0</td>\n",
       "    </tr>\n",
       "    <tr>\n",
       "      <th>62977</th>\n",
       "      <td>3</td>\n",
       "      <td>3</td>\n",
       "      <td>ACRES</td>\n",
       "      <td>Residential Land</td>\n",
       "      <td>1600000.0</td>\n",
       "    </tr>\n",
       "    <tr>\n",
       "      <th>63687</th>\n",
       "      <td>2.71</td>\n",
       "      <td>NaN</td>\n",
       "      <td>ACRES</td>\n",
       "      <td>Residential Land</td>\n",
       "      <td>15000000.0</td>\n",
       "    </tr>\n",
       "  </tbody>\n",
       "</table>\n",
       "</div>"
      ],
      "text/plain": [
       "      attr_landArea attr_builtUp attr_sizeUnit              propertyType  \\\n",
       "5818            NaN         5000   SQUARE_FEET                  Bungalow   \n",
       "7850              9          NaN         ACRES          Residential Land   \n",
       "11608             1            1         ACRES          Residential Land   \n",
       "16183           NaN         1029   SQUARE_FEET                 Apartment   \n",
       "18969          3.66          NaN         ACRES          Residential Land   \n",
       "31350           NaN          NaN   SQUARE_FEET                  Bungalow   \n",
       "31550             8          NaN         ACRES          Residential Land   \n",
       "45482          0.23          NaN       HECTARE          Residential Land   \n",
       "45484           NaN          NaN   SQUARE_FEET  1-sty Terrace/Link House   \n",
       "48147           NaN         1066   SQUARE_FEET        Serviced Residence   \n",
       "51968          0.13          NaN         ACRES          Residential Land   \n",
       "62977             3            3         ACRES          Residential Land   \n",
       "63687          2.71          NaN         ACRES          Residential Land   \n",
       "\n",
       "        price_min  \n",
       "5818     788000.0  \n",
       "7850    4700000.0  \n",
       "11608   1960000.0  \n",
       "16183    304000.0  \n",
       "18969  30000000.0  \n",
       "31350    980000.0  \n",
       "31550  10200000.0  \n",
       "45482     20500.0  \n",
       "45484     33500.0  \n",
       "48147    388888.0  \n",
       "51968     70000.0  \n",
       "62977   1600000.0  \n",
       "63687  15000000.0  "
      ]
     },
     "execution_count": 207,
     "metadata": {},
     "output_type": "execute_result"
    }
   ],
   "source": [
    "# not reasonable for property with such land area & selling price, other than Residential/Bungalow Land\n",
    "# correct the uom and remove land area for such non Land type listing\n",
    "listings_land.loc[~listings_land['propertyType'].str.contains('Land', na = False), 'attr_landArea'] = np.nan\n",
    "listings_land.loc[~listings_land['propertyType'].str.contains('Land', na = False), 'attr_sizeUnit'] = \"SQUARE_FEET\"\n",
    "\n",
    "# update size unit accordingly for Land type listings\n",
    "listings_land.loc[\n",
    "    (listings_land['attr_landArea'].str.contains('ac', na = False)) &\n",
    "    (listings_land['propertyType'].str.contains('Land', na = False))\n",
    "    , 'attr_sizeUnit'\n",
    "] = \"ACRES\"\n",
    "\n",
    "listings_land.loc[\n",
    "    (listings_land['attr_landArea'].str.contains('hec', na = False)) &\n",
    "    (listings_land['propertyType'].str.contains('Land', na = False))\n",
    "    , 'attr_sizeUnit'\n",
    "] = \"HECTARE\"\n",
    "\n",
    "# clean attr_landArea\n",
    "listings_land['attr_landArea'] = listings_land['attr_landArea'].str.replace(\"[a-z ]+\", \"\")\n",
    "\n",
    "listings_land"
   ]
  },
  {
   "cell_type": "code",
   "execution_count": 208,
   "metadata": {},
   "outputs": [],
   "source": [
    "# update the original listings with the corrected values\n",
    "listings.loc[listings_land.index, 'attr_landArea'] = listings_land[['attr_landArea']]\n",
    "listings.loc[listings_land.index, 'attr_sizeUnit'] = listings_land[['attr_sizeUnit']]\n"
   ]
  },
  {
   "cell_type": "code",
   "execution_count": 209,
   "metadata": {},
   "outputs": [
    {
     "data": {
      "text/html": [
       "<div>\n",
       "<style scoped>\n",
       "    .dataframe tbody tr th:only-of-type {\n",
       "        vertical-align: middle;\n",
       "    }\n",
       "\n",
       "    .dataframe tbody tr th {\n",
       "        vertical-align: top;\n",
       "    }\n",
       "\n",
       "    .dataframe thead th {\n",
       "        text-align: right;\n",
       "    }\n",
       "</style>\n",
       "<table border=\"1\" class=\"dataframe\">\n",
       "  <thead>\n",
       "    <tr style=\"text-align: right;\">\n",
       "      <th></th>\n",
       "      <th>attr_landArea</th>\n",
       "      <th>attr_builtUp</th>\n",
       "      <th>attr_sizeUnit</th>\n",
       "      <th>propertyType</th>\n",
       "      <th>price_min</th>\n",
       "    </tr>\n",
       "  </thead>\n",
       "  <tbody>\n",
       "    <tr>\n",
       "      <th>4250</th>\n",
       "      <td>12310</td>\n",
       "      <td>NaN</td>\n",
       "      <td>SQUARE_FEET</td>\n",
       "      <td>Semi-detached House</td>\n",
       "      <td>700200.0</td>\n",
       "    </tr>\n",
       "    <tr>\n",
       "      <th>4286</th>\n",
       "      <td>1302</td>\n",
       "      <td>NaN</td>\n",
       "      <td>SQUARE_FEET</td>\n",
       "      <td>1-sty Terrace/Link House</td>\n",
       "      <td>320000.0</td>\n",
       "    </tr>\n",
       "    <tr>\n",
       "      <th>4434</th>\n",
       "      <td>1400</td>\n",
       "      <td>972</td>\n",
       "      <td>SQUARE_FEET</td>\n",
       "      <td>1-sty Terrace/Link House</td>\n",
       "      <td>160000.0</td>\n",
       "    </tr>\n",
       "    <tr>\n",
       "      <th>5534</th>\n",
       "      <td>1399</td>\n",
       "      <td>840</td>\n",
       "      <td>SQUARE_FEET</td>\n",
       "      <td>1-sty Terrace/Link House</td>\n",
       "      <td>171000.0</td>\n",
       "    </tr>\n",
       "    <tr>\n",
       "      <th>19813</th>\n",
       "      <td>1700</td>\n",
       "      <td>1797</td>\n",
       "      <td>SQUARE_FEET</td>\n",
       "      <td>1-sty Terrace/Link House</td>\n",
       "      <td>234000.0</td>\n",
       "    </tr>\n",
       "    <tr>\n",
       "      <th>25274</th>\n",
       "      <td>110</td>\n",
       "      <td>710</td>\n",
       "      <td>SQUARE_FEET</td>\n",
       "      <td>1-sty Terrace/Link House</td>\n",
       "      <td>115000.0</td>\n",
       "    </tr>\n",
       "    <tr>\n",
       "      <th>28579</th>\n",
       "      <td>23 * 85</td>\n",
       "      <td>3345</td>\n",
       "      <td>SQUARE_FEET</td>\n",
       "      <td>2.5-sty Terrace/Link House</td>\n",
       "      <td>1920000.0</td>\n",
       "    </tr>\n",
       "    <tr>\n",
       "      <th>30900</th>\n",
       "      <td>1302</td>\n",
       "      <td>NaN</td>\n",
       "      <td>SQUARE_FEET</td>\n",
       "      <td>1-sty Terrace/Link House</td>\n",
       "      <td>54000.0</td>\n",
       "    </tr>\n",
       "    <tr>\n",
       "      <th>31186</th>\n",
       "      <td>2100</td>\n",
       "      <td>2100</td>\n",
       "      <td>SQUARE_FEET</td>\n",
       "      <td>Semi-detached House</td>\n",
       "      <td>234000.0</td>\n",
       "    </tr>\n",
       "    <tr>\n",
       "      <th>31199</th>\n",
       "      <td>1540</td>\n",
       "      <td>NaN</td>\n",
       "      <td>SQUARE_FEET</td>\n",
       "      <td>2-sty Terrace/Link House</td>\n",
       "      <td>498000.0</td>\n",
       "    </tr>\n",
       "    <tr>\n",
       "      <th>32568</th>\n",
       "      <td>3790</td>\n",
       "      <td>2000</td>\n",
       "      <td>SQUARE_FEET</td>\n",
       "      <td>2-sty Terrace/Link House</td>\n",
       "      <td>618000.0</td>\n",
       "    </tr>\n",
       "    <tr>\n",
       "      <th>40636</th>\n",
       "      <td>4350</td>\n",
       "      <td>3900</td>\n",
       "      <td>SQUARE_FEET</td>\n",
       "      <td>Bungalow</td>\n",
       "      <td>1730000.0</td>\n",
       "    </tr>\n",
       "    <tr>\n",
       "      <th>40730</th>\n",
       "      <td>40 * 85 +2261</td>\n",
       "      <td>3670</td>\n",
       "      <td>SQUARE_FEET</td>\n",
       "      <td>Semi-detached House</td>\n",
       "      <td>1700000.0</td>\n",
       "    </tr>\n",
       "    <tr>\n",
       "      <th>47834</th>\n",
       "      <td>592</td>\n",
       "      <td>592</td>\n",
       "      <td>SQUARE_FEET</td>\n",
       "      <td>Condominium</td>\n",
       "      <td>286000.0</td>\n",
       "    </tr>\n",
       "    <tr>\n",
       "      <th>47869</th>\n",
       "      <td>1217</td>\n",
       "      <td>740</td>\n",
       "      <td>SQUARE_FEET</td>\n",
       "      <td>1-sty Terrace/Link House</td>\n",
       "      <td>300000.0</td>\n",
       "    </tr>\n",
       "    <tr>\n",
       "      <th>47936</th>\n",
       "      <td>130</td>\n",
       "      <td>67.45</td>\n",
       "      <td>SQUARE_FEET</td>\n",
       "      <td>1-sty Terrace/Link House</td>\n",
       "      <td>137700.0</td>\n",
       "    </tr>\n",
       "    <tr>\n",
       "      <th>50089</th>\n",
       "      <td>935</td>\n",
       "      <td>NaN</td>\n",
       "      <td>SQUARE_FEET</td>\n",
       "      <td>Serviced Residence</td>\n",
       "      <td>380000.0</td>\n",
       "    </tr>\n",
       "    <tr>\n",
       "      <th>51373</th>\n",
       "      <td>9612</td>\n",
       "      <td>NaN</td>\n",
       "      <td>SQUARE_FEET</td>\n",
       "      <td>Bungalow Land</td>\n",
       "      <td>478000.0</td>\n",
       "    </tr>\n",
       "    <tr>\n",
       "      <th>51434</th>\n",
       "      <td>1593</td>\n",
       "      <td>1452</td>\n",
       "      <td>SQUARE_FEET</td>\n",
       "      <td>1-sty Terrace/Link House</td>\n",
       "      <td>220000.0</td>\n",
       "    </tr>\n",
       "    <tr>\n",
       "      <th>51964</th>\n",
       "      <td>2330</td>\n",
       "      <td>3208</td>\n",
       "      <td>SQUARE_FEET</td>\n",
       "      <td>Semi-detached House</td>\n",
       "      <td>249318.0</td>\n",
       "    </tr>\n",
       "    <tr>\n",
       "      <th>58176</th>\n",
       "      <td>3913</td>\n",
       "      <td>3500</td>\n",
       "      <td>SQUARE_FEET</td>\n",
       "      <td>Semi-detached House</td>\n",
       "      <td>1960000.0</td>\n",
       "    </tr>\n",
       "    <tr>\n",
       "      <th>62078</th>\n",
       "      <td>50*75</td>\n",
       "      <td>NaN</td>\n",
       "      <td>SQUARE_FEET</td>\n",
       "      <td>2-sty Terrace/Link House</td>\n",
       "      <td>1130000.0</td>\n",
       "    </tr>\n",
       "    <tr>\n",
       "      <th>63000</th>\n",
       "      <td>1080</td>\n",
       "      <td>1080</td>\n",
       "      <td>SQUARE_FEET</td>\n",
       "      <td>1-sty Terrace/Link House</td>\n",
       "      <td>324000.0</td>\n",
       "    </tr>\n",
       "    <tr>\n",
       "      <th>66523</th>\n",
       "      <td>3746</td>\n",
       "      <td>NaN</td>\n",
       "      <td>SQUARE_FEET</td>\n",
       "      <td>Semi-detached House</td>\n",
       "      <td>30000.0</td>\n",
       "    </tr>\n",
       "    <tr>\n",
       "      <th>67366</th>\n",
       "      <td>1540</td>\n",
       "      <td>NaN</td>\n",
       "      <td>SQUARE_FEET</td>\n",
       "      <td>1-sty Terrace/Link House</td>\n",
       "      <td>145800.0</td>\n",
       "    </tr>\n",
       "  </tbody>\n",
       "</table>\n",
       "</div>"
      ],
      "text/plain": [
       "       attr_landArea attr_builtUp attr_sizeUnit                propertyType  \\\n",
       "4250           12310          NaN   SQUARE_FEET         Semi-detached House   \n",
       "4286            1302          NaN   SQUARE_FEET    1-sty Terrace/Link House   \n",
       "4434            1400          972   SQUARE_FEET    1-sty Terrace/Link House   \n",
       "5534            1399          840   SQUARE_FEET    1-sty Terrace/Link House   \n",
       "19813           1700         1797   SQUARE_FEET    1-sty Terrace/Link House   \n",
       "25274            110          710   SQUARE_FEET    1-sty Terrace/Link House   \n",
       "28579        23 * 85         3345   SQUARE_FEET  2.5-sty Terrace/Link House   \n",
       "30900           1302          NaN   SQUARE_FEET    1-sty Terrace/Link House   \n",
       "31186           2100         2100   SQUARE_FEET         Semi-detached House   \n",
       "31199           1540          NaN   SQUARE_FEET    2-sty Terrace/Link House   \n",
       "32568           3790         2000   SQUARE_FEET    2-sty Terrace/Link House   \n",
       "40636           4350         3900   SQUARE_FEET                    Bungalow   \n",
       "40730  40 * 85 +2261         3670   SQUARE_FEET         Semi-detached House   \n",
       "47834            592          592   SQUARE_FEET                 Condominium   \n",
       "47869           1217          740   SQUARE_FEET    1-sty Terrace/Link House   \n",
       "47936            130        67.45   SQUARE_FEET    1-sty Terrace/Link House   \n",
       "50089            935          NaN   SQUARE_FEET          Serviced Residence   \n",
       "51373           9612          NaN   SQUARE_FEET               Bungalow Land   \n",
       "51434           1593         1452   SQUARE_FEET    1-sty Terrace/Link House   \n",
       "51964           2330         3208   SQUARE_FEET         Semi-detached House   \n",
       "58176           3913         3500   SQUARE_FEET         Semi-detached House   \n",
       "62078          50*75          NaN   SQUARE_FEET    2-sty Terrace/Link House   \n",
       "63000           1080         1080   SQUARE_FEET    1-sty Terrace/Link House   \n",
       "66523           3746          NaN   SQUARE_FEET         Semi-detached House   \n",
       "67366           1540          NaN   SQUARE_FEET    1-sty Terrace/Link House   \n",
       "\n",
       "       price_min  \n",
       "4250    700200.0  \n",
       "4286    320000.0  \n",
       "4434    160000.0  \n",
       "5534    171000.0  \n",
       "19813   234000.0  \n",
       "25274   115000.0  \n",
       "28579  1920000.0  \n",
       "30900    54000.0  \n",
       "31186   234000.0  \n",
       "31199   498000.0  \n",
       "32568   618000.0  \n",
       "40636  1730000.0  \n",
       "40730  1700000.0  \n",
       "47834   286000.0  \n",
       "47869   300000.0  \n",
       "47936   137700.0  \n",
       "50089   380000.0  \n",
       "51373   478000.0  \n",
       "51434   220000.0  \n",
       "51964   249318.0  \n",
       "58176  1960000.0  \n",
       "62078  1130000.0  \n",
       "63000   324000.0  \n",
       "66523    30000.0  \n",
       "67366   145800.0  "
      ]
     },
     "execution_count": 209,
     "metadata": {},
     "output_type": "execute_result"
    }
   ],
   "source": [
    "# find rows with sq ft explicitly stated in attr_landArea\n",
    "listings_sqf = listings[\n",
    "    (listings['attr_landArea'].str.contains('sq', na = False)) & \n",
    "    listings['attr_landArea'].str.contains('f', na = False)\n",
    "][['attr_landArea', 'attr_builtUp', 'attr_sizeUnit', 'propertyType', 'price_min']]\n",
    "\n",
    "# clean attr_landArea\n",
    "listings_sqf['attr_landArea'] = listings_sqf['attr_landArea'].str.replace(\"[sqft]\", \"\").str.strip('. ')\n",
    "listings_sqf"
   ]
  },
  {
   "cell_type": "code",
   "execution_count": 210,
   "metadata": {},
   "outputs": [],
   "source": [
    "# update the original listings with the corrected values\n",
    "listings.loc[listings_sqf.index, 'attr_landArea'] = listings_sqf[['attr_landArea']]\n"
   ]
  },
  {
   "cell_type": "code",
   "execution_count": 211,
   "metadata": {},
   "outputs": [
    {
     "data": {
      "text/plain": [
       "(49714, 32)"
      ]
     },
     "execution_count": 211,
     "metadata": {},
     "output_type": "execute_result"
    }
   ],
   "source": [
    "# for the remaining landArea after the above cleaning, the values generally come in the following type\n",
    "# - the computed area in square feet (1047 sqf etc)\n",
    "# - the formula/breakdown of the area measurement (width * depth, or width * depth + extra land )\n",
    "# - combination of above\n",
    "# all 3 type of value listed above may come in various format \n",
    "# the function below tries to standardize the format, evaluate all possibilities\n",
    "# and return the computed area if successful, or return NaN if failed or results is zero\n",
    "# no such issue for builtUp area\n",
    "\n",
    "\n",
    "def fix_landArea(area):\n",
    "    area = str(area).replace(\"or\", \"@\").replace(\"=\", \"@\").replace(\"plus\", \"+\").replace(\"feet\", \"\").replace(\" * \", \"*\").replace(\"ft\", \"\").replace(\"sf\", \"\").replace(\"s f\", \"\").replace(\"ft2\", \"\").replace(\"land\", \"\").strip()\n",
    "    \n",
    "    try:\n",
    "        fixed_area = eval(area)\n",
    "    except:\n",
    "        done = False\n",
    "        possible_splits = area.split('@') + area.split(' (') + area.split(') ') + area.split('(') + area.split(')')\n",
    "        \n",
    "        for x in possible_splits:\n",
    "            try:\n",
    "                fixed_area = eval(x.strip(\" +-\"))\n",
    "            except:\n",
    "                continue\n",
    "            else:\n",
    "                done = True\n",
    "                break\n",
    "                \n",
    "        if done:\n",
    "            return(fixed_area if fixed_area != 0 else np.nan)\n",
    "        else:\n",
    "            return(np.nan)\n",
    "    else:\n",
    "        return(fixed_area if fixed_area != 0 else np.nan)\n",
    "\n",
    "\n",
    "# correct all land area\n",
    "listings['attr_landArea'] = listings['attr_landArea'].apply(\n",
    "    lambda x: np.nan if pd.isnull(x) else fix_landArea(x)\n",
    ")\n",
    "\n",
    "listings.shape"
   ]
  },
  {
   "cell_type": "code",
   "execution_count": 212,
   "metadata": {},
   "outputs": [
    {
     "data": {
      "text/plain": [
       "(49697, 32)"
      ]
     },
     "execution_count": 212,
     "metadata": {},
     "output_type": "execute_result"
    }
   ],
   "source": [
    "# once again, drop rows with no data in both attr_landArea and attr_builtUp after correction\n",
    "listings.dropna(subset=['attr_landArea', 'attr_builtUp'], how='all', inplace=True)\n",
    "listings.shape"
   ]
  },
  {
   "cell_type": "code",
   "execution_count": 213,
   "metadata": {},
   "outputs": [],
   "source": [
    "# add new columns for both land area and built up, standardizing by converting to square feet\n",
    "\n",
    "conversion_rate = {\n",
    "    'SQUARE_FEET': 1,\n",
    "    'SQUARE_METERS': 10.76391042,\n",
    "    'ACRES': 43560,\n",
    "    'HECTARE': 107639.1041671\n",
    "}\n",
    "\n",
    "\n",
    "def convert_to_sqf(area, unit):\n",
    "    return(float(area) * conversion_rate[unit])\n",
    "\n",
    "\n",
    "listings['landArea_sqf'] = listings[['attr_landArea', 'attr_sizeUnit']].apply(\n",
    "    lambda x: convert_to_sqf(x['attr_landArea'], x['attr_sizeUnit']), axis=1\n",
    ")\n",
    "\n",
    "listings['builtUp_sqf'] = listings[['attr_builtUp', 'attr_sizeUnit']].apply(\n",
    "    lambda x: convert_to_sqf(x['attr_builtUp'], x['attr_sizeUnit']), axis=1\n",
    ")\n"
   ]
  },
  {
   "cell_type": "code",
   "execution_count": 214,
   "metadata": {},
   "outputs": [
    {
     "data": {
      "text/plain": [
       "Condominium                   15315\n",
       "Serviced Residence             8528\n",
       "2-sty Terrace/Link House       7771\n",
       "Semi-detached House            4152\n",
       "Apartment                      4142\n",
       "Bungalow                       3417\n",
       "1-sty Terrace/Link House       1626\n",
       "3-sty Terrace/Link House       1174\n",
       "Residential Land                783\n",
       "2.5-sty Terrace/Link House      743\n",
       "Flat                            609\n",
       "Cluster House                   442\n",
       "Townhouse                       438\n",
       "Bungalow Land                   274\n",
       "1.5-sty Terrace/Link House      176\n",
       "3.5-sty Terrace/Link House       58\n",
       "4-sty Terrace/Link House         45\n",
       "4.5-sty Terrace/Link House        4\n",
       "Name: propertyType, dtype: int64"
      ]
     },
     "execution_count": 214,
     "metadata": {},
     "output_type": "execute_result"
    }
   ],
   "source": [
    "listings['propertyType'].value_counts()"
   ]
  },
  {
   "cell_type": "code",
   "execution_count": 215,
   "metadata": {},
   "outputs": [
    {
     "data": {
      "text/plain": [
       "count       268.000000\n",
       "mean      12958.777041\n",
       "std       12103.351099\n",
       "min           7.000000\n",
       "25%        7876.500000\n",
       "50%        9358.500000\n",
       "75%       14017.000000\n",
       "max      137487.000000\n",
       "Name: landArea_sqf, dtype: float64"
      ]
     },
     "execution_count": 215,
     "metadata": {},
     "output_type": "execute_result"
    }
   ],
   "source": [
    "# exploration on Land Type listings\n",
    "# prices/areas for Land Type Listings are very different \n",
    "\n",
    "listings[listings['propertyType'] == 'Bungalow Land']['landArea_sqf'].describe()"
   ]
  },
  {
   "cell_type": "code",
   "execution_count": 216,
   "metadata": {
    "scrolled": true
   },
   "outputs": [
    {
     "data": {
      "text/plain": [
       "43042    137487.0\n",
       "7516     100021.0\n",
       "35988     45844.0\n",
       "11024     43560.0\n",
       "54827     39352.0\n",
       "           ...   \n",
       "35905     10197.0\n",
       "28265     10183.0\n",
       "7260      10086.0\n",
       "31951     10062.0\n",
       "30260     10010.0\n",
       "Name: landArea_sqf, Length: 116, dtype: float64"
      ]
     },
     "execution_count": 216,
     "metadata": {},
     "output_type": "execute_result"
    }
   ],
   "source": [
    "listings[(listings['propertyType'] == 'Bungalow Land') & (listings['landArea_sqf'] > 10000)]['landArea_sqf'].dropna().sort_values(ascending = False)"
   ]
  },
  {
   "cell_type": "code",
   "execution_count": 217,
   "metadata": {},
   "outputs": [
    {
     "data": {
      "text/plain": [
       "count    7.490000e+02\n",
       "mean     3.410662e+06\n",
       "std      7.042837e+07\n",
       "min      2.000000e+00\n",
       "25%      8.256000e+03\n",
       "50%      1.425000e+04\n",
       "75%      9.943700e+04\n",
       "max      1.873080e+09\n",
       "Name: landArea_sqf, dtype: float64"
      ]
     },
     "execution_count": 217,
     "metadata": {},
     "output_type": "execute_result"
    }
   ],
   "source": [
    "listings[listings['propertyType'] == 'Residential Land']['landArea_sqf'].describe()"
   ]
  },
  {
   "cell_type": "code",
   "execution_count": 218,
   "metadata": {},
   "outputs": [
    {
     "data": {
      "text/plain": [
       "57810    9999.00000\n",
       "67245    9988.00000\n",
       "67214    9978.00000\n",
       "31889    9900.00000\n",
       "27916    9881.00000\n",
       "            ...    \n",
       "12805    1400.00000\n",
       "15469    1300.00000\n",
       "33488      10.37387\n",
       "31564       8.00000\n",
       "66654       2.00000\n",
       "Name: landArea_sqf, Length: 273, dtype: float64"
      ]
     },
     "execution_count": 218,
     "metadata": {},
     "output_type": "execute_result"
    }
   ],
   "source": [
    "listings[(listings['propertyType'] == 'Residential Land') & (listings['landArea_sqf'] < 10000)]['landArea_sqf'].dropna().sort_values(ascending = False)"
   ]
  },
  {
   "cell_type": "code",
   "execution_count": 219,
   "metadata": {
    "scrolled": true
   },
   "outputs": [
    {
     "data": {
      "text/plain": [
       "(48640, 34)"
      ]
     },
     "execution_count": 219,
     "metadata": {},
     "output_type": "execute_result"
    }
   ],
   "source": [
    "# 'Bungalow Land' containts rows with unreasonably high area\n",
    "# 'Residential Land' containts rows with unreasonably low area\n",
    "# since a land cannot be actually considered as a property, drop listings for these two property types\n",
    "\n",
    "listings = listings[~(listings['propertyType'] == 'Bungalow Land') & ~(listings['propertyType'] == 'Residential Land')]\n",
    "listings.shape"
   ]
  },
  {
   "cell_type": "markdown",
   "metadata": {},
   "source": [
    "### Drop Other Listings with Unusual Prices"
   ]
  },
  {
   "cell_type": "code",
   "execution_count": 220,
   "metadata": {
    "scrolled": true
   },
   "outputs": [
    {
     "data": {
      "text/plain": [
       "<matplotlib.axes._subplots.AxesSubplot at 0x7f53ca779780>"
      ]
     },
     "execution_count": 220,
     "metadata": {},
     "output_type": "execute_result"
    },
    {
     "data": {
      "image/png": "[encoded data removed]",
      "text/plain": [
       "<Figure size 432x288 with 1 Axes>"
      ]
     },
     "metadata": {
      "needs_background": "light"
     },
     "output_type": "display_data"
    }
   ],
   "source": [
    "# most listings has wrong information on builtUp & LandArea, wrong uom, wrong propertyType etc\n",
    "# too complicated to study by each property Type\n",
    "\n",
    "# calculate the asking price psf of land area\n",
    "listings['price_min_landarea_psf'] = listings['price_min'] / listings['landArea_sqf']\n",
    "# listings[['price_min_landarea_psf']].describe()\n",
    "\n",
    "min_landarea_psf, max_landarea_psf = listings['price_min_landarea_psf'].quantile([0.01, 0.99])\n",
    "\n",
    "# drop if they are outliers\n",
    "listings = listings[\n",
    "    pd.isna(listings['price_min_landarea_psf']) |\n",
    "    (\n",
    "        (listings['price_min_landarea_psf'] > min_landarea_psf) &\n",
    "        (listings['price_min_landarea_psf'] < max_landarea_psf)\n",
    "    )\n",
    "]\n",
    "\n",
    "listings['price_min_landarea_psf'].plot.hist(bins = 11, alpha = 0.5)\n"
   ]
  },
  {
   "cell_type": "code",
   "execution_count": 221,
   "metadata": {
    "scrolled": true
   },
   "outputs": [
    {
     "data": {
      "text/plain": [
       "(48232, 35)"
      ]
     },
     "execution_count": 221,
     "metadata": {},
     "output_type": "execute_result"
    }
   ],
   "source": [
    "listings.shape"
   ]
  },
  {
   "cell_type": "code",
   "execution_count": 222,
   "metadata": {
    "scrolled": true
   },
   "outputs": [
    {
     "data": {
      "text/plain": [
       "<matplotlib.axes._subplots.AxesSubplot at 0x7f53c9b05470>"
      ]
     },
     "execution_count": 222,
     "metadata": {},
     "output_type": "execute_result"
    },
    {
     "data": {
      "image/png": "[encoded data removed]",
      "text/plain": [
       "<Figure size 432x288 with 1 Axes>"
      ]
     },
     "metadata": {
      "needs_background": "light"
     },
     "output_type": "display_data"
    }
   ],
   "source": [
    "# calculate the asking price psf of built up area\n",
    "listings['price_min_builtup_psf'] = listings['price_min'] / listings['builtUp_sqf']\n",
    "# listings[['price_min_builtup_psf']].describe()\n",
    "\n",
    "min_builtup_psf, max_builtup_psf = listings['price_min_builtup_psf'].quantile([0.01, 0.99])\n",
    "\n",
    "# drop if they are outliers\n",
    "listings = listings[\n",
    "    pd.isna(listings['price_min_builtup_psf']) |\n",
    "    (\n",
    "        (listings['price_min_builtup_psf'] > min_landarea_psf) &\n",
    "        (listings['price_min_builtup_psf'] < max_landarea_psf)\n",
    "    )\n",
    "]\n",
    "\n",
    "listings['price_min_builtup_psf'].plot.hist(bins = 11, alpha = 0.5)"
   ]
  },
  {
   "cell_type": "code",
   "execution_count": 223,
   "metadata": {
    "scrolled": true
   },
   "outputs": [
    {
     "data": {
      "text/plain": [
       "(46224, 36)"
      ]
     },
     "execution_count": 223,
     "metadata": {},
     "output_type": "execute_result"
    }
   ],
   "source": [
    "listings.shape"
   ]
  },
  {
   "cell_type": "code",
   "execution_count": 224,
   "metadata": {
    "scrolled": true
   },
   "outputs": [],
   "source": [
    "# for listings without land area, copy from built up area\n",
    "listings['landArea_sqf'] = listings[['landArea_sqf', 'builtUp_sqf']].apply(\n",
    "    lambda x: x['builtUp_sqf'] if pd.isna(x['landArea_sqf']) else x['landArea_sqf'], axis=1 \n",
    ")\n",
    "\n",
    "# for listings without built up area, copy from land area\n",
    "listings['builtUp_sqf'] = listings[['landArea_sqf', 'builtUp_sqf']].apply(\n",
    "    lambda x: x['landArea_sqf'] if pd.isna(x['builtUp_sqf']) else x['builtUp_sqf'], axis=1 \n",
    ")\n",
    "\n",
    "# re-calculate the asking price psf of land area\n",
    "listings['price_min_landarea_psf'] = listings['price_min'] / listings['landArea_sqf']\n",
    "\n",
    "# re-calculate the asking price psf of built up area\n",
    "listings['price_min_builtup_psf'] = listings['price_min'] / listings['builtUp_sqf']"
   ]
  },
  {
   "cell_type": "markdown",
   "metadata": {},
   "source": [
    "### Fill Missing Latitude and Logitude by Integrating Another Dataset using Township Name"
   ]
  },
  {
   "cell_type": "code",
   "execution_count": 225,
   "metadata": {},
   "outputs": [
    {
     "name": "stderr",
     "output_type": "stream",
     "text": [
      "/home/kitlim/.local/lib/python3.6/site-packages/ipykernel_launcher.py:10: SettingWithCopyWarning: \n",
      "A value is trying to be set on a copy of a slice from a DataFrame.\n",
      "Try using .loc[row_indexer,col_indexer] = value instead\n",
      "\n",
      "See the caveats in the documentation: https://pandas.pydata.org/pandas-docs/stable/user_guide/indexing.html#returning-a-view-versus-a-copy\n",
      "  # Remove the CWD from sys.path while we load stuff.\n",
      "/home/kitlim/.local/lib/python3.6/site-packages/ipykernel_launcher.py:11: SettingWithCopyWarning: \n",
      "A value is trying to be set on a copy of a slice from a DataFrame.\n",
      "Try using .loc[row_indexer,col_indexer] = value instead\n",
      "\n",
      "See the caveats in the documentation: https://pandas.pydata.org/pandas-docs/stable/user_guide/indexing.html#returning-a-view-versus-a-copy\n",
      "  # This is added back by InteractiveShellApp.init_path()\n"
     ]
    }
   ],
   "source": [
    "# find rows which geo coordinate is out of Malaysia\n",
    "listings_wrong_gps = listings[\n",
    "    (listings['latitude'] < -0.84 ) |\n",
    "    (listings['latitude'] > 7.4 ) |\n",
    "    (listings['longitude'] < 99 ) |\n",
    "    (listings['longitude'] > 119 )\n",
    "]\n",
    "\n",
    "# set to NaN to the geo coordinates\n",
    "listings_wrong_gps['latitude'] = np.nan\n",
    "listings_wrong_gps['longitude'] = np.nan\n",
    "\n",
    "# update the original listings with the removed geo coordinates\n",
    "listings.loc[listings_wrong_gps.index, 'latitude'] = listings_wrong_gps[['latitude']]\n",
    "listings.loc[listings_wrong_gps.index, 'longitude'] = listings_wrong_gps[['longitude']]"
   ]
  },
  {
   "cell_type": "code",
   "execution_count": 226,
   "metadata": {},
   "outputs": [],
   "source": [
    "\n",
    "\n",
    "def clean_string(string):\n",
    "    return re.sub(r'\\W+', '', str(string))\n",
    "\n",
    "\n",
    "def retrieve_coordinates(state, city, township, latlon):\n",
    "    matched_condominiums = condominiums[\n",
    "        (condominiums['clean_state'] == clean_string(state)) &\n",
    "        (condominiums['clean_city'] == clean_string(city)) &\n",
    "        (\n",
    "            (condominiums['clean_township'] == clean_string(township)) | \n",
    "            (condominiums['clean_name'] == clean_string(township))\n",
    "        )\n",
    "    ][latlon]\n",
    "    \n",
    "    if len(matched_condominiums) == 0:\n",
    "        return np.nan\n",
    "    else:\n",
    "        return matched_condominiums.values[0]\n",
    "\n",
    "\n",
    "# load data from csv\n",
    "condominiums = pd.read_csv(\"iproperty_condominium.csv.tar.gz\", compression='gzip', low_memory=False)\n",
    "\n",
    "# drop all condominium which has no geo coordinates\n",
    "condominiums = condominiums[~((condominiums['Latitude'] == 0) & (condominiums['Longitude'] == 0))]\n",
    "condominiums.dropna(how='all', inplace=True)\n",
    "condominiums['clean_state'] = condominiums['State'].apply(clean_string)\n",
    "condominiums['clean_city'] = condominiums['City'].apply(clean_string)\n",
    "condominiums['clean_township'] = condominiums['Township'].apply(clean_string)\n",
    "condominiums['clean_name'] = condominiums['iproperty_condominium.csv'].apply(clean_string)\n",
    "\n",
    "# make a copy of listings with no geo coordinates\n",
    "listings_nogps = listings[\n",
    "    (pd.isna(listings['latitude'])) | \n",
    "    (pd.isna(listings['longitude']))\n",
    "][['state', 'city', 'township', 'latitude', 'longitude']]\n",
    "\n",
    "# lookup geo coordinates from condominium dataset\n",
    "listings_nogps['latitude'] = listings_nogps.apply(\n",
    "    lambda x: retrieve_coordinates(x['state'], x['city'], x['township'], 'Latitude'), axis=1\n",
    ")\n",
    "\n",
    "listings_nogps['longitude'] = listings_nogps.apply(\n",
    "    lambda x: retrieve_coordinates(x['state'], x['city'], x['township'], 'Longitude'), axis=1\n",
    ")\n",
    "\n",
    "# drop rows which failed to get geo coordinates\n",
    "listings_nogps.dropna(subset=['latitude', 'longitude'], how='all').sort_values('latitude')\n",
    "\n",
    "# update the original listings with the corrected geo coordinates\n",
    "listings.loc[listings_nogps.index, 'latitude'] = listings_nogps[['latitude']]\n",
    "listings.loc[listings_nogps.index, 'longitude'] = listings_nogps[['longitude']]\n",
    "\n",
    "# # fill geo location by lookup using address/city name via geopy geocoders\n",
    "# # experimental, not working as perfectly as expected\n",
    "# from geopy.geocoders import Nominatim\n",
    "# from geopy.extra.rate_limiter import RateLimiter\n",
    "# geolocator = Nominatim(user_agent=\"kitlim-assignment\")\n",
    "# nom.geocode(\"Jalan Jalil Perwira 2, Bukit Jalil, Kuala Lumpur\")\n",
    "# geolocator.geocode(\"Woodlands Drive 14, Woodlands, Singapore\").point\n",
    "\n",
    "# # with rate limit\n",
    "# geocode = RateLimiter(geolocator.geocode, min_delay_seconds=1)\n",
    "# df['location'] = df['name'].apply(geocode)\n",
    "# df['point'] = df['location'].apply(lambda loc: tuple(loc.point) if loc else None)\n",
    "\n",
    "# listings_wrong_gps['coordinates_by_address'] = listings_wrong_gps[['state', 'city', 'township', 'formatedAddress']].apply(\n",
    "#     lambda x:\n",
    "#     nom.geocode(x['city'] + ', ' + x['state']),\n",
    "#     #nom.geocode(x['formatedAddress']),\n",
    "#     axis=1\n",
    "# )\n",
    "\n",
    "# drop remaining rows in the main listing with no geo coordinates\n",
    "listings = listings[~pd.isna(listings['latitude'])]"
   ]
  },
  {
   "cell_type": "code",
   "execution_count": 227,
   "metadata": {},
   "outputs": [],
   "source": [
    "# listings_wrong_gps"
   ]
  },
  {
   "cell_type": "code",
   "execution_count": 228,
   "metadata": {},
   "outputs": [],
   "source": [
    "# listings_wrong_gps"
   ]
  },
  {
   "cell_type": "code",
   "execution_count": 229,
   "metadata": {},
   "outputs": [],
   "source": [
    "# listings_wrong_gps"
   ]
  },
  {
   "cell_type": "code",
   "execution_count": 230,
   "metadata": {
    "scrolled": true
   },
   "outputs": [],
   "source": [
    "# drop columns which no longer in use\n",
    "listings.drop(['attr_landArea', 'attr_builtUp', 'attr_sizeUnit', 'township'], axis=1, inplace=True)\n",
    "\n",
    "# drop other unuseful columns\n",
    "listings.drop(['iproperty_listing.csv', 'title', 'kind', 'tier', 'formatedAddress', 'attr_downloadUrl'], axis=1, inplace=True)"
   ]
  },
  {
   "cell_type": "code",
   "execution_count": 231,
   "metadata": {
    "scrolled": true
   },
   "outputs": [
    {
     "data": {
      "text/plain": [
       "attr_bedroom       976\n",
       "attr_bathroom     1147\n",
       "attr_carPark     14739\n",
       "dtype: int64"
      ]
     },
     "execution_count": 231,
     "metadata": {},
     "output_type": "execute_result"
    }
   ],
   "source": [
    "# remaining columns with NaN value for further action\n",
    "col_with_na = listings.isnull().sum()\n",
    "col_with_na[~(col_with_na==0)]\n"
   ]
  },
  {
   "cell_type": "code",
   "execution_count": 232,
   "metadata": {},
   "outputs": [],
   "source": [
    "# correct bedroom count\n",
    "# fill as 0 for NaN value\n",
    "def fix_bedroom(bedroom):\n",
    "    count = str(bedroom).lower().replace(\"studio\", \"1\")\n",
    "    count = re.sub('[a-zA-Z]', '', count)\n",
    "    \n",
    "    try:\n",
    "        return(eval(count))\n",
    "    except:\n",
    "        return(0)\n",
    "    \n",
    "\n",
    "listings['attr_bedroom'] = listings['attr_bedroom'].apply(fix_bedroom)"
   ]
  },
  {
   "cell_type": "code",
   "execution_count": 233,
   "metadata": {},
   "outputs": [],
   "source": [
    "# correct bathroom count\n",
    "# fill as 0 for NaN value\n",
    "listings['attr_bathroom'] = listings['attr_bathroom'].apply(\n",
    "    lambda x: 0 if pd.isna(x) else x\n",
    ")"
   ]
  },
  {
   "cell_type": "code",
   "execution_count": 234,
   "metadata": {},
   "outputs": [],
   "source": [
    "# correct bathroom count\n",
    "# fill as 0 for NaN value\n",
    "listings['attr_carPark'] = listings['attr_carPark'].apply(\n",
    "    lambda x: 0 if pd.isna(x) else x\n",
    ")"
   ]
  },
  {
   "cell_type": "code",
   "execution_count": 235,
   "metadata": {},
   "outputs": [
    {
     "data": {
      "text/plain": [
       "Series([], dtype: int64)"
      ]
     },
     "execution_count": 235,
     "metadata": {},
     "output_type": "execute_result"
    }
   ],
   "source": [
    "# remaining columns with NaN value for further action\n",
    "col_with_na = listings.isnull().sum()\n",
    "col_with_na[~(col_with_na==0)]\n"
   ]
  },
  {
   "cell_type": "code",
   "execution_count": 236,
   "metadata": {},
   "outputs": [
    {
     "data": {
      "text/plain": [
       "(46109, 26)"
      ]
     },
     "execution_count": 236,
     "metadata": {},
     "output_type": "execute_result"
    }
   ],
   "source": [
    "listings.shape"
   ]
  },
  {
   "cell_type": "code",
   "execution_count": 237,
   "metadata": {},
   "outputs": [],
   "source": [
    "listings.to_csv(\"iproperty_listing_clean.csv\")"
   ]
  },
  {
   "cell_type": "markdown",
   "metadata": {},
   "source": [
    "### Add Columns from Another Dataset to Indicate the Level "
   ]
  },
  {
   "cell_type": "code",
   "execution_count": 238,
   "metadata": {},
   "outputs": [
    {
     "data": {
      "text/plain": [
       "<matplotlib.axes._subplots.AxesSubplot at 0x7f53ca8e0c18>"
      ]
     },
     "execution_count": 238,
     "metadata": {},
     "output_type": "execute_result"
    },
    {
     "data": {
      "image/png": "[encoded data removed]",
      "text/plain": [
       "<Figure size 432x288 with 1 Axes>"
      ]
     },
     "metadata": {
      "needs_background": "light"
     },
     "output_type": "display_data"
    }
   ],
   "source": [
    "# load data from csv\n",
    "townships = pd.read_csv(\"brickz_township.csv.tar.gz\", compression='gzip', low_memory=False)\n",
    "\n",
    "# drop NaN\n",
    "townships.dropna(subset=['latitude', 'longitude'], how='any', inplace=True)\n",
    "\n",
    "# create new column, coordinates as a tuple of latitue & longitude\n",
    "townships['coordinates'] = list(zip(townships['latitude'], townships['longitude']))\n",
    "\n",
    "# clean median_psf\n",
    "townships['median_psf'] = townships['median_psf'].str.replace(',', '').astype(float)\n",
    "# townships['median_psf'].sort_values()\n",
    "\n",
    "min_psf, max_psf = townships['median_psf'].quantile([0.01, 0.99])\n",
    "\n",
    "# drop if they are outliers\n",
    "townships = townships[\n",
    "    pd.isna(townships['median_psf']) |\n",
    "    (\n",
    "        (townships['median_psf'] > min_psf) &\n",
    "        (townships['median_psf'] < max_psf)\n",
    "    )\n",
    "]\n",
    "\n",
    "townships['median_psf'].plot.hist(bins = 10, alpha = 0.5)\n",
    "\n",
    "### found an issue with the data crawled from brickz, \n",
    "### the geo coordinates for estimated 6500 township are not correct\n",
    "### they are placed at the city center of KL, needs correction"
   ]
  },
  {
   "cell_type": "code",
   "execution_count": 239,
   "metadata": {},
   "outputs": [
    {
     "data": {
      "text/html": [
       "<div>\n",
       "<style scoped>\n",
       "    .dataframe tbody tr th:only-of-type {\n",
       "        vertical-align: middle;\n",
       "    }\n",
       "\n",
       "    .dataframe tbody tr th {\n",
       "        vertical-align: top;\n",
       "    }\n",
       "\n",
       "    .dataframe thead th {\n",
       "        text-align: right;\n",
       "    }\n",
       "</style>\n",
       "<table border=\"1\" class=\"dataframe\">\n",
       "  <thead>\n",
       "    <tr style=\"text-align: right;\">\n",
       "      <th></th>\n",
       "      <th>brickz_township.csv</th>\n",
       "      <th>area</th>\n",
       "      <th>township</th>\n",
       "      <th>category</th>\n",
       "      <th>tenure</th>\n",
       "      <th>building_type</th>\n",
       "      <th>upper_quartile_psf</th>\n",
       "      <th>lower_quartile_psf</th>\n",
       "      <th>median_psf</th>\n",
       "      <th>upper_quartile_price</th>\n",
       "      <th>lower_quartile_price</th>\n",
       "      <th>median_price</th>\n",
       "      <th>latitude</th>\n",
       "      <th>longitude</th>\n",
       "      <th>coordinates</th>\n",
       "    </tr>\n",
       "  </thead>\n",
       "  <tbody>\n",
       "    <tr>\n",
       "      <th>0</th>\n",
       "      <td>johor</td>\n",
       "      <td>ayer-baloi</td>\n",
       "      <td>15-km-dari-bandar-pontian</td>\n",
       "      <td>landed</td>\n",
       "      <td>FREEHOLD</td>\n",
       "      <td>BUNGALOW</td>\n",
       "      <td>19</td>\n",
       "      <td>19</td>\n",
       "      <td>19.0</td>\n",
       "      <td>250,000</td>\n",
       "      <td>250,000</td>\n",
       "      <td>250,000</td>\n",
       "      <td>1.515174</td>\n",
       "      <td>103.378648</td>\n",
       "      <td>(1.515174, 103.378648)</td>\n",
       "    </tr>\n",
       "    <tr>\n",
       "      <th>1</th>\n",
       "      <td>johor</td>\n",
       "      <td>ayer-baloi</td>\n",
       "      <td>kawasan-kayu-ara-pasong</td>\n",
       "      <td>landed</td>\n",
       "      <td>FREEHOLD</td>\n",
       "      <td>BUNGALOW</td>\n",
       "      <td>65</td>\n",
       "      <td>65</td>\n",
       "      <td>65.0</td>\n",
       "      <td>300,000</td>\n",
       "      <td>300,000</td>\n",
       "      <td>300,000</td>\n",
       "      <td>1.514728</td>\n",
       "      <td>103.379062</td>\n",
       "      <td>(1.514728, 103.379062)</td>\n",
       "    </tr>\n",
       "    <tr>\n",
       "      <th>2</th>\n",
       "      <td>johor</td>\n",
       "      <td>ayer-baloi</td>\n",
       "      <td>kayu-air-pasong</td>\n",
       "      <td>landed</td>\n",
       "      <td>FREEHOLD</td>\n",
       "      <td>BUNGALOW, SEMI-D, TERRACE HOUSE</td>\n",
       "      <td>72</td>\n",
       "      <td>69</td>\n",
       "      <td>72.0</td>\n",
       "      <td>425,000</td>\n",
       "      <td>383,000</td>\n",
       "      <td>412,500</td>\n",
       "      <td>1.516278</td>\n",
       "      <td>103.376766</td>\n",
       "      <td>(1.516278, 103.376766)</td>\n",
       "    </tr>\n",
       "    <tr>\n",
       "      <th>3</th>\n",
       "      <td>johor</td>\n",
       "      <td>ayer-baloi</td>\n",
       "      <td>pt--hj-dahlan</td>\n",
       "      <td>landed</td>\n",
       "      <td>FREEHOLD</td>\n",
       "      <td>BUNGALOW</td>\n",
       "      <td>86</td>\n",
       "      <td>76</td>\n",
       "      <td>84.0</td>\n",
       "      <td>395,000</td>\n",
       "      <td>350,000</td>\n",
       "      <td>385,000</td>\n",
       "      <td>1.543709</td>\n",
       "      <td>103.366132</td>\n",
       "      <td>(1.543709, 103.366132)</td>\n",
       "    </tr>\n",
       "    <tr>\n",
       "      <th>4</th>\n",
       "      <td>johor</td>\n",
       "      <td>ayer-baloi</td>\n",
       "      <td>taman-air-baloi-i</td>\n",
       "      <td>landed</td>\n",
       "      <td>FREEHOLD</td>\n",
       "      <td>SEMI-D, TERRACE HOUSE</td>\n",
       "      <td>112</td>\n",
       "      <td>84</td>\n",
       "      <td>102.0</td>\n",
       "      <td>167,250</td>\n",
       "      <td>61,250</td>\n",
       "      <td>67,500</td>\n",
       "      <td>1.592736</td>\n",
       "      <td>103.338974</td>\n",
       "      <td>(1.5927360000000002, 103.338974)</td>\n",
       "    </tr>\n",
       "    <tr>\n",
       "      <th>...</th>\n",
       "      <td>...</td>\n",
       "      <td>...</td>\n",
       "      <td>...</td>\n",
       "      <td>...</td>\n",
       "      <td>...</td>\n",
       "      <td>...</td>\n",
       "      <td>...</td>\n",
       "      <td>...</td>\n",
       "      <td>...</td>\n",
       "      <td>...</td>\n",
       "      <td>...</td>\n",
       "      <td>...</td>\n",
       "      <td>...</td>\n",
       "      <td>...</td>\n",
       "      <td>...</td>\n",
       "    </tr>\n",
       "    <tr>\n",
       "      <th>28994</th>\n",
       "      <td>terengganu</td>\n",
       "      <td>tok-jamal</td>\n",
       "      <td>taman-ehsan-i--kt-52-96--pengadang-baru</td>\n",
       "      <td>landed</td>\n",
       "      <td>FREEHOLD</td>\n",
       "      <td>SEMI-D</td>\n",
       "      <td>106</td>\n",
       "      <td>106</td>\n",
       "      <td>106.0</td>\n",
       "      <td>299,000</td>\n",
       "      <td>299,000</td>\n",
       "      <td>299,000</td>\n",
       "      <td>3.152640</td>\n",
       "      <td>101.711611</td>\n",
       "      <td>(3.1526400000000003, 101.711611)</td>\n",
       "    </tr>\n",
       "    <tr>\n",
       "      <th>28995</th>\n",
       "      <td>terengganu</td>\n",
       "      <td>tok-jamal</td>\n",
       "      <td>taman-haji-da--kt-767-</td>\n",
       "      <td>landed</td>\n",
       "      <td>FREEHOLD</td>\n",
       "      <td>SEMI-D</td>\n",
       "      <td>95</td>\n",
       "      <td>95</td>\n",
       "      <td>95.0</td>\n",
       "      <td>300,000</td>\n",
       "      <td>300,000</td>\n",
       "      <td>300,000</td>\n",
       "      <td>3.152640</td>\n",
       "      <td>101.711611</td>\n",
       "      <td>(3.1526400000000003, 101.711611)</td>\n",
       "    </tr>\n",
       "    <tr>\n",
       "      <th>28996</th>\n",
       "      <td>terengganu</td>\n",
       "      <td>tok-jamal</td>\n",
       "      <td>taman-jamilee--kt-86--pengadang-baru</td>\n",
       "      <td>landed</td>\n",
       "      <td>FREEHOLD</td>\n",
       "      <td>BUNGALOW</td>\n",
       "      <td>130</td>\n",
       "      <td>130</td>\n",
       "      <td>130.0</td>\n",
       "      <td>525,000</td>\n",
       "      <td>525,000</td>\n",
       "      <td>525,000</td>\n",
       "      <td>3.152640</td>\n",
       "      <td>101.711611</td>\n",
       "      <td>(3.1526400000000003, 101.711611)</td>\n",
       "    </tr>\n",
       "    <tr>\n",
       "      <th>28997</th>\n",
       "      <td>terengganu</td>\n",
       "      <td>tok-jamal</td>\n",
       "      <td>taman-selesa--kt-694--pengadang-baru</td>\n",
       "      <td>landed</td>\n",
       "      <td>FREEHOLD</td>\n",
       "      <td>BUNGALOW</td>\n",
       "      <td>68</td>\n",
       "      <td>68</td>\n",
       "      <td>68.0</td>\n",
       "      <td>270,000</td>\n",
       "      <td>270,000</td>\n",
       "      <td>270,000</td>\n",
       "      <td>3.152640</td>\n",
       "      <td>101.711611</td>\n",
       "      <td>(3.1526400000000003, 101.711611)</td>\n",
       "    </tr>\n",
       "    <tr>\n",
       "      <th>28998</th>\n",
       "      <td>terengganu</td>\n",
       "      <td>tok-jamal</td>\n",
       "      <td>tok-jamal</td>\n",
       "      <td>landed</td>\n",
       "      <td>FREEHOLD</td>\n",
       "      <td>BUNGALOW, SEMI-D, TERRACE HOUSE</td>\n",
       "      <td>218</td>\n",
       "      <td>92</td>\n",
       "      <td>157.0</td>\n",
       "      <td>330,000</td>\n",
       "      <td>291,000</td>\n",
       "      <td>300,000</td>\n",
       "      <td>5.282156</td>\n",
       "      <td>103.113491</td>\n",
       "      <td>(5.282156, 103.113491)</td>\n",
       "    </tr>\n",
       "  </tbody>\n",
       "</table>\n",
       "<p>28411 rows × 15 columns</p>\n",
       "</div>"
      ],
      "text/plain": [
       "      brickz_township.csv        area  \\\n",
       "0                   johor  ayer-baloi   \n",
       "1                   johor  ayer-baloi   \n",
       "2                   johor  ayer-baloi   \n",
       "3                   johor  ayer-baloi   \n",
       "4                   johor  ayer-baloi   \n",
       "...                   ...         ...   \n",
       "28994          terengganu   tok-jamal   \n",
       "28995          terengganu   tok-jamal   \n",
       "28996          terengganu   tok-jamal   \n",
       "28997          terengganu   tok-jamal   \n",
       "28998          terengganu   tok-jamal   \n",
       "\n",
       "                                      township category    tenure  \\\n",
       "0                    15-km-dari-bandar-pontian   landed  FREEHOLD   \n",
       "1                      kawasan-kayu-ara-pasong   landed  FREEHOLD   \n",
       "2                              kayu-air-pasong   landed  FREEHOLD   \n",
       "3                                pt--hj-dahlan   landed  FREEHOLD   \n",
       "4                            taman-air-baloi-i   landed  FREEHOLD   \n",
       "...                                        ...      ...       ...   \n",
       "28994  taman-ehsan-i--kt-52-96--pengadang-baru   landed  FREEHOLD   \n",
       "28995                   taman-haji-da--kt-767-   landed  FREEHOLD   \n",
       "28996     taman-jamilee--kt-86--pengadang-baru   landed  FREEHOLD   \n",
       "28997     taman-selesa--kt-694--pengadang-baru   landed  FREEHOLD   \n",
       "28998                                tok-jamal   landed  FREEHOLD   \n",
       "\n",
       "                         building_type upper_quartile_psf lower_quartile_psf  \\\n",
       "0                             BUNGALOW                 19                 19   \n",
       "1                             BUNGALOW                 65                 65   \n",
       "2      BUNGALOW, SEMI-D, TERRACE HOUSE                 72                 69   \n",
       "3                             BUNGALOW                 86                 76   \n",
       "4                SEMI-D, TERRACE HOUSE                112                 84   \n",
       "...                                ...                ...                ...   \n",
       "28994                           SEMI-D                106                106   \n",
       "28995                           SEMI-D                 95                 95   \n",
       "28996                         BUNGALOW                130                130   \n",
       "28997                         BUNGALOW                 68                 68   \n",
       "28998  BUNGALOW, SEMI-D, TERRACE HOUSE                218                 92   \n",
       "\n",
       "       median_psf upper_quartile_price lower_quartile_price median_price  \\\n",
       "0            19.0              250,000              250,000      250,000   \n",
       "1            65.0              300,000              300,000      300,000   \n",
       "2            72.0              425,000              383,000      412,500   \n",
       "3            84.0              395,000              350,000      385,000   \n",
       "4           102.0              167,250               61,250       67,500   \n",
       "...           ...                  ...                  ...          ...   \n",
       "28994       106.0              299,000              299,000      299,000   \n",
       "28995        95.0              300,000              300,000      300,000   \n",
       "28996       130.0              525,000              525,000      525,000   \n",
       "28997        68.0              270,000              270,000      270,000   \n",
       "28998       157.0              330,000              291,000      300,000   \n",
       "\n",
       "       latitude   longitude                       coordinates  \n",
       "0      1.515174  103.378648            (1.515174, 103.378648)  \n",
       "1      1.514728  103.379062            (1.514728, 103.379062)  \n",
       "2      1.516278  103.376766            (1.516278, 103.376766)  \n",
       "3      1.543709  103.366132            (1.543709, 103.366132)  \n",
       "4      1.592736  103.338974  (1.5927360000000002, 103.338974)  \n",
       "...         ...         ...                               ...  \n",
       "28994  3.152640  101.711611  (3.1526400000000003, 101.711611)  \n",
       "28995  3.152640  101.711611  (3.1526400000000003, 101.711611)  \n",
       "28996  3.152640  101.711611  (3.1526400000000003, 101.711611)  \n",
       "28997  3.152640  101.711611  (3.1526400000000003, 101.711611)  \n",
       "28998  5.282156  103.113491            (5.282156, 103.113491)  \n",
       "\n",
       "[28411 rows x 15 columns]"
      ]
     },
     "execution_count": 239,
     "metadata": {},
     "output_type": "execute_result"
    }
   ],
   "source": [
    "townships"
   ]
  },
  {
   "cell_type": "code",
   "execution_count": 243,
   "metadata": {},
   "outputs": [
    {
     "data": {
      "text/plain": [
       "3791      (0.208, 101.711)\n",
       "61458     (1.137, 101.665)\n",
       "49846     (1.167, 110.567)\n",
       "13219     (1.353, 104.226)\n",
       "13217     (1.356, 104.224)\n",
       "               ...        \n",
       "31186     (6.485, 116.761)\n",
       "31322     (6.533, 100.231)\n",
       "10119     (6.546, 101.417)\n",
       "50847     (6.649, 100.257)\n",
       "22085    (40.111, -88.207)\n",
       "Name: coordinates, Length: 13653, dtype: object"
      ]
     },
     "execution_count": 243,
     "metadata": {},
     "output_type": "execute_result"
    }
   ],
   "source": [
    "# create new column, coordinates as a tuple of latitue & longitude\n",
    "listings['coordinates'] = list(zip(round(listings['latitude'], 4), round(listings['longitude'], 4)))\n",
    "listings['coordinates'].drop_duplicates().sort_values()\n"
   ]
  },
  {
   "cell_type": "code",
   "execution_count": 244,
   "metadata": {},
   "outputs": [],
   "source": [
    "## find geocode by address\n",
    "# from geopy.geocoders import Nominatim\n",
    "# nom = Nominatim(user_agent=\"my-application\")\n",
    "# nom.geocode(\"Jalan Jalil Perwira 2, Bukit Jalil, Kuala Lumpur\")\n",
    "# nom.geocode(\"Woodlands Drive 14, Woodlands, Singapore\")\n",
    "\n",
    "nearby_psf_found = {}\n",
    "\n",
    "\n",
    "# calculate distance between two points\n",
    "def calc_distance(source, target):\n",
    "    return(distance(source, target).m)\n",
    "\n",
    "\n",
    "# find nearby township psf\n",
    "def nearby_township_psf(target_coordinate):\n",
    "    if target_coordinate in nearby_psf_found :\n",
    "        township_psf = nearby_psf_found[target_coordinate]\n",
    "    else :\n",
    "        townships['distance'] = townships['coordinates'].apply(\n",
    "            lambda x: \n",
    "            calc_distance(x, target_coordinate)\n",
    "        )\n",
    "        \n",
    "        township_psf = (\n",
    "            townships[townships['distance'] <= 300]['median_psf'].mean(),\n",
    "            townships[townships['distance'] <= 1000]['median_psf'].mean(),\n",
    "            townships[townships['distance'] <= 3000]['median_psf'].mean()\n",
    "        )\n",
    "        \n",
    "        nearby_psf_found.update({ target_coordinate: township_psf })\n",
    "\n",
    "    print('.', end='')\n",
    "    \n",
    "    return (township_psf)\n",
    "    # sample return whole dataframe\n",
    "    # return (townships[townships['distance'] <= radius].sort_values('distance'))\n",
    "    \n",
    "\n",
    "# listings_sample = listings.sample(n=5)\n",
    "# listings_sample\n"
   ]
  },
  {
   "cell_type": "code",
   "execution_count": 245,
   "metadata": {},
   "outputs": [
    {
     "name": "stdout",
     "output_type": "stream",
     "text": [
      "Start 2020-05-10 02:15:13.852658\n"
     ]
    },
    {
     "name": "stdout",
     "output_type": "stream",
     "text": [
      "......................................................................................................................................................................................................................................................................................................................................................................................................................................................................................................................................................................................................................................................................................................................................................................................................................................................................................................................................................................................................................................................................................................................................................................................................................................................................................................................................................................................................................................................................................................................................................................................................................................................................................................................................................................................................................................................................................................................................................................................................................................................................................................................................................................................................................................................................................................................................................................................................................................................................................................................................................................................................................................................................................................................................................................................................................................................................................................................................................................................................................................................................................................................................................................................................................................................................................................................................................................................................................................................................................................................................................................................................................................................................................................................................................................................................................................................................................................................................................................................................................................................................................................................................................................................................................................................................................................................................................................................................................................................................................................................................................................................................................................................................................................................................................................................................................................................................................................................................................................................................................................................................................................................................................................................................................................................................................................................................................................................................................................................................................................................................................................................................................................................................................................................................................................................................................................................................................................................................................................................................................................................................................................................................................................................................................................................................................................................................................................................................................................................................................................................................................................................................................................................................................................................................................................................................................................................................................................................................................................................................................................................................................................................................................................................................................................................................................................................................................................................................................................................................................................................................................................................................................................................................................................................................................................................................................................................................................................................................................................................................................................................................................................................................................................................................................................................................................................................................................................................................................................................................................................................................................................................................................................................................................................................................................................................................................................................................................................................................................................................................................................................................................................................................................................................................................................................................................................................................................................................................................................................................................................................................................................................................................................................................................................................................................................................................................................................................................................................................................................................................................................................................................................................................................................................................................................................................................................................................................................................................................................................................................................................................................................................................................................................................................................................................................................................................................................................................................................................................................................................................................................................................................................................................................................................................................................................................................................................................................................................................................................................................................................................................................................................................................................................................................................................................................................................................................................................................................................................................................................................................................................................................................................................................................................................................................................................................................................................................................................................................................................................................................................................................................................................................................................................................................................................................................................................................................................................................................................................................................................................................................................................................................................................................................................................................................................................................................................................................................................................................................................................................................................................................................................................................................................................................................................................................................................................................................................................................................................................................................................................................................................................................................................................................................................................................................................................................................................................................................................................................................................................................................................................................................................................................................................................................................................................................................................................................................................................................................................................................................................................................................................................................................................................................................................................................................................................................................................................................................................................................................................................................................................................................................................................................................................................................................................................................................................................................................................................................................................................................................................................................................................................................................................................................................................................................................................................................................................................................................................................................................................................................................................................................................................................................................................................................................................................................................................................................................................................................................................................................................................................................................................................................................................................................................................................................................................................................................................................................................................................................................................................................................................................................................................................................................................................................................................................................................................................................................................................................................................................................................................................................................................................................................................................................................................................................................................................................................................................................................................................................................................................................................................................................................................................................................................................................................................................................................................................................................................................................................................................................................................................................................................................................................................................................................................................................................................................................................................................................................................................................................................................................................................................................................................................................................................................................................................................................................................................................................................................................................................................................................................................................................................................................................................................................................................................................................................................................................................................................................................................................................................................................................................................................................................................................................................................................................................................................................................................................................................................................................................................................................................................................................................................................................................................................................................................................................................................................................................................................................................................................................................................................................................................................................................................................................................................................................................................................................................................................................................................................................................................................................................................................................................................................................................................................................................................................................................................................................................................................................................................................................................................................................................................................................................................................................................................................................................................................................................................................................................................................................................................................................................................................................................................................................................................................................................................................................................................................................................................................................................................................................................................................................................................................................................................................................................................................................................................................................................................................................................................................................................................................................................................................................................................................................................................................................................................................................................................................................................................................................................................................................................................................................................................................................................................................................................................................................................................................................................................................................................................................................................................................................................................................................................................................................................................................................................................................................................................................................................................................................................................................................................................................................................................................................................................................."
     ]
    },
    {
     "name": "stdout",
     "output_type": "stream",
     "text": [
      ".................................................................................................................................................................................................................................................................................................................................................................................................................................................................................................................................................................................................................................................................................................................................................................................................................................................................................................................................................................................................................................................................................................................................................................................................................................................................................................................................................................................................................................................................................................................................................................................................................................................................................................................................................................................................................................................................................................................................................................................................................................................................................................................................................................................................................................................................................................................................................................................................................................................................................................................................................................................................................................................................................................................................................................................................................................................................................................................................................................................................................................................................................................................................................................................................................................................................................................................................................................................................................................................................................................................................................................................................................................................................................................................................................................................................................................................................................................................................................................................................................................................................................................................................................................................................................................................................................................................................................................................................................................................................................................................................................................................................................................................................................................................................................................................................................................................................................................................................................................................................................................................................................................................................................................................................................................................................................................................................................................................................................................................................................................................................................................................................................................................................................................................................................................................................................................................................................................................................................................................................................................................................................................................................................................................................................................................................................................................................................................................................................................................................................................................................................................................................................................................................................................................................................................................................................................................................................................................................................................................................................................................................................................................................................................................................................................................................................................................................................................................................................................................................................................................................................................................................................................................................................................................................................................................................................................................................................................................................................................................................................................................................................................................................................................................................................................................................................................................................................................................................................................................................................................................................."
     ]
    },
    {
     "name": "stdout",
     "output_type": "stream",
     "text": [
      ".............................................................................................................................................................................................................................................................................................................................................................................................................................................................................................................................................................................................................................................................................................................................................................................................................................................................................................................................................................................................................................................................................................................................................................................................................................................................................................................................................................................................................................................................................................................................................................................................................................................................................................................................................................................................................................................................................................................................................................................................................................................................................................................................................................................................................................................................................................................................................................................................................................................................................................................................................................................................................................................................................................................................................................................................................................................................................................................................................................................................................................................................................................................................................................................................................................................................................................................................................................................................................................................................................................................................................................................................................................................................................................................................................................................................................................................................................................................................................................................................................................................................................................................................................................................................................................................................................................................................................................................................................................................................................................................................................................................................................................................................................................................................................................................................................................................................................................................................................................................................................................................................................................................................................................................................................................................................................................................................................................................................................................................................................................................................................................................................................................................................................................................................................................................................................................................................................................................................................................................................................................................................................................................................................................................................................................................................................................................................................................................................................................................................................................................................................................................................................................................................................................................................................................................................................................................................................................................................................................................................................................................................................................................................................................................................................................................................................................................................................................................................................................................................................................................................................................................................................................................................................................................................................................................................................................................................................................................................................................................................................................................................................................................................................................................................................................................................................................................................................................................................................................................................................................................................................."
     ]
    },
    {
     "name": "stdout",
     "output_type": "stream",
     "text": [
      "......................................................................................................................................................................................................................................................................................................................................................................................................................................................................................................................................................................................................................................................................................................................................................................................................................................................................................................................................................................................................................................................................................................................................................................................................................................................................................................................................................................................................................................................................................................................................................................................................................................................................................................................................................................................................................................................................................................................................................................................................................................................................................................................................................................................................................................................................................................................................................................................................................................................................................................................................................................................................................................................................................................................................................................................................................................................................................................................................................................................................................................................................................................................................................................................................................................................................................................................................................................................................................................................................................................................................................................................................................................................................................................................................................................................................................................................................................................................................................................................................................................................................................................................................................................................................................................................................................................................................................................................................................................................................................................................................................................................................................................................................................................................................................................................................................................................................................................................................................................................................................................................................................................................................................................................................................................................................................................................................Completed 2020-05-10 18:43:02.774036\n"
     ]
    }
   ],
   "source": [
    "print('Start', datetime.datetime.now())\n",
    "listings['nearby_township_psf'] = listings.apply(\n",
    "    lambda x: nearby_township_psf((x['coordinates'])), axis=1\n",
    ")\n",
    "print('Completed', datetime.datetime.now())"
   ]
  },
  {
   "cell_type": "code",
   "execution_count": 77,
   "metadata": {},
   "outputs": [],
   "source": [
    "\n",
    "# zr = (3.1607051,101.7127131)\n",
    "# nearby_township = {}\n",
    "# nearby_township['300m'] = nearby_township_psf(zr, 300)\n",
    "# nearby_township['1km'] = nearby_township_psf(zr, 1000)\n",
    "# nearby_township['3km'] = nearby_township_psf(zr, 3000)\n",
    "\n",
    "# print(nearby_township)"
   ]
  },
  {
   "cell_type": "code",
   "execution_count": null,
   "metadata": {},
   "outputs": [],
   "source": []
  },
  {
   "cell_type": "code",
   "execution_count": 246,
   "metadata": {},
   "outputs": [],
   "source": [
    "listings[[\n",
    "    'nearby_township_psf_300m', 'nearby_township_psf_1km', 'nearby_township_psf_3km'\n",
    "]] = pd.DataFrame(listings['nearby_township_psf'].tolist(), index=listings.index)                                                                                                                       \n"
   ]
  },
  {
   "cell_type": "code",
   "execution_count": 248,
   "metadata": {},
   "outputs": [
    {
     "data": {
      "text/html": [
       "<div>\n",
       "<style scoped>\n",
       "    .dataframe tbody tr th:only-of-type {\n",
       "        vertical-align: middle;\n",
       "    }\n",
       "\n",
       "    .dataframe tbody tr th {\n",
       "        vertical-align: top;\n",
       "    }\n",
       "\n",
       "    .dataframe thead th {\n",
       "        text-align: right;\n",
       "    }\n",
       "</style>\n",
       "<table border=\"1\" class=\"dataframe\">\n",
       "  <thead>\n",
       "    <tr style=\"text-align: right;\">\n",
       "      <th></th>\n",
       "      <th>propertyType</th>\n",
       "      <th>price_type</th>\n",
       "      <th>price_currency</th>\n",
       "      <th>price_min</th>\n",
       "      <th>price_max</th>\n",
       "      <th>latitude</th>\n",
       "      <th>longitude</th>\n",
       "      <th>state</th>\n",
       "      <th>city</th>\n",
       "      <th>attr_bedroom</th>\n",
       "      <th>...</th>\n",
       "      <th>poi_transportation</th>\n",
       "      <th>landArea_sqf</th>\n",
       "      <th>builtUp_sqf</th>\n",
       "      <th>price_min_landarea_psf</th>\n",
       "      <th>price_min_builtup_psf</th>\n",
       "      <th>coordinates</th>\n",
       "      <th>nearby_township_psf</th>\n",
       "      <th>nearby_township_psf_300m</th>\n",
       "      <th>nearby_township_psf_1km</th>\n",
       "      <th>nearby_township_psf_3km</th>\n",
       "    </tr>\n",
       "  </thead>\n",
       "  <tbody>\n",
       "    <tr>\n",
       "      <th>2</th>\n",
       "      <td>Condominium</td>\n",
       "      <td>sale</td>\n",
       "      <td>MYR</td>\n",
       "      <td>1800000.0</td>\n",
       "      <td>1800000.0</td>\n",
       "      <td>5.362406</td>\n",
       "      <td>100.315562</td>\n",
       "      <td>Penang</td>\n",
       "      <td>Gelugor</td>\n",
       "      <td>4</td>\n",
       "      <td>...</td>\n",
       "      <td>0.0</td>\n",
       "      <td>1927.0</td>\n",
       "      <td>1927.0</td>\n",
       "      <td>934.094447</td>\n",
       "      <td>934.094447</td>\n",
       "      <td>(5.362, 100.316)</td>\n",
       "      <td>(762.0, 435.6666666666667, 458.9685039370079)</td>\n",
       "      <td>762.000000</td>\n",
       "      <td>435.666667</td>\n",
       "      <td>458.968504</td>\n",
       "    </tr>\n",
       "    <tr>\n",
       "      <th>3</th>\n",
       "      <td>Condominium</td>\n",
       "      <td>sale</td>\n",
       "      <td>MYR</td>\n",
       "      <td>785000.0</td>\n",
       "      <td>785000.0</td>\n",
       "      <td>5.367127</td>\n",
       "      <td>100.308871</td>\n",
       "      <td>Penang</td>\n",
       "      <td>Gelugor</td>\n",
       "      <td>1</td>\n",
       "      <td>...</td>\n",
       "      <td>0.0</td>\n",
       "      <td>581.0</td>\n",
       "      <td>581.0</td>\n",
       "      <td>1351.118761</td>\n",
       "      <td>1351.118761</td>\n",
       "      <td>(5.367, 100.309)</td>\n",
       "      <td>(486.0, 430.5, 444.81081081081084)</td>\n",
       "      <td>486.000000</td>\n",
       "      <td>430.500000</td>\n",
       "      <td>444.810811</td>\n",
       "    </tr>\n",
       "    <tr>\n",
       "      <th>4</th>\n",
       "      <td>Condominium</td>\n",
       "      <td>sale</td>\n",
       "      <td>MYR</td>\n",
       "      <td>1280000.0</td>\n",
       "      <td>1280000.0</td>\n",
       "      <td>5.362406</td>\n",
       "      <td>100.315562</td>\n",
       "      <td>Penang</td>\n",
       "      <td>Gelugor</td>\n",
       "      <td>4</td>\n",
       "      <td>...</td>\n",
       "      <td>0.0</td>\n",
       "      <td>1830.0</td>\n",
       "      <td>1830.0</td>\n",
       "      <td>699.453552</td>\n",
       "      <td>699.453552</td>\n",
       "      <td>(5.362, 100.316)</td>\n",
       "      <td>(762.0, 435.6666666666667, 458.9685039370079)</td>\n",
       "      <td>762.000000</td>\n",
       "      <td>435.666667</td>\n",
       "      <td>458.968504</td>\n",
       "    </tr>\n",
       "    <tr>\n",
       "      <th>5</th>\n",
       "      <td>Condominium</td>\n",
       "      <td>sale</td>\n",
       "      <td>MYR</td>\n",
       "      <td>610000.0</td>\n",
       "      <td>610000.0</td>\n",
       "      <td>5.367127</td>\n",
       "      <td>100.308871</td>\n",
       "      <td>Penang</td>\n",
       "      <td>Gelugor</td>\n",
       "      <td>1</td>\n",
       "      <td>...</td>\n",
       "      <td>0.0</td>\n",
       "      <td>517.0</td>\n",
       "      <td>517.0</td>\n",
       "      <td>1179.883946</td>\n",
       "      <td>1179.883946</td>\n",
       "      <td>(5.367, 100.309)</td>\n",
       "      <td>(486.0, 430.5, 444.81081081081084)</td>\n",
       "      <td>486.000000</td>\n",
       "      <td>430.500000</td>\n",
       "      <td>444.810811</td>\n",
       "    </tr>\n",
       "    <tr>\n",
       "      <th>6</th>\n",
       "      <td>Condominium</td>\n",
       "      <td>sale</td>\n",
       "      <td>MYR</td>\n",
       "      <td>1500000.0</td>\n",
       "      <td>1500000.0</td>\n",
       "      <td>5.367127</td>\n",
       "      <td>100.308871</td>\n",
       "      <td>Penang</td>\n",
       "      <td>Gelugor</td>\n",
       "      <td>4</td>\n",
       "      <td>...</td>\n",
       "      <td>0.0</td>\n",
       "      <td>1507.0</td>\n",
       "      <td>1507.0</td>\n",
       "      <td>995.355010</td>\n",
       "      <td>995.355010</td>\n",
       "      <td>(5.367, 100.309)</td>\n",
       "      <td>(486.0, 430.5, 444.81081081081084)</td>\n",
       "      <td>486.000000</td>\n",
       "      <td>430.500000</td>\n",
       "      <td>444.810811</td>\n",
       "    </tr>\n",
       "    <tr>\n",
       "      <th>...</th>\n",
       "      <td>...</td>\n",
       "      <td>...</td>\n",
       "      <td>...</td>\n",
       "      <td>...</td>\n",
       "      <td>...</td>\n",
       "      <td>...</td>\n",
       "      <td>...</td>\n",
       "      <td>...</td>\n",
       "      <td>...</td>\n",
       "      <td>...</td>\n",
       "      <td>...</td>\n",
       "      <td>...</td>\n",
       "      <td>...</td>\n",
       "      <td>...</td>\n",
       "      <td>...</td>\n",
       "      <td>...</td>\n",
       "      <td>...</td>\n",
       "      <td>...</td>\n",
       "      <td>...</td>\n",
       "      <td>...</td>\n",
       "      <td>...</td>\n",
       "    </tr>\n",
       "    <tr>\n",
       "      <th>68753</th>\n",
       "      <td>2-sty Terrace/Link House</td>\n",
       "      <td>sale</td>\n",
       "      <td>MYR</td>\n",
       "      <td>197200.0</td>\n",
       "      <td>197200.0</td>\n",
       "      <td>4.280286</td>\n",
       "      <td>117.898768</td>\n",
       "      <td>Sabah</td>\n",
       "      <td>Tawau</td>\n",
       "      <td>4</td>\n",
       "      <td>...</td>\n",
       "      <td>0.0</td>\n",
       "      <td>1800.0</td>\n",
       "      <td>1800.0</td>\n",
       "      <td>109.555556</td>\n",
       "      <td>109.555556</td>\n",
       "      <td>(4.28, 117.899)</td>\n",
       "      <td>(nan, 182.6, 206.41176470588235)</td>\n",
       "      <td>NaN</td>\n",
       "      <td>182.600000</td>\n",
       "      <td>206.411765</td>\n",
       "    </tr>\n",
       "    <tr>\n",
       "      <th>68755</th>\n",
       "      <td>3-sty Terrace/Link House</td>\n",
       "      <td>sale</td>\n",
       "      <td>MYR</td>\n",
       "      <td>196830.0</td>\n",
       "      <td>196830.0</td>\n",
       "      <td>4.286237</td>\n",
       "      <td>117.887653</td>\n",
       "      <td>Sabah</td>\n",
       "      <td>Tawau</td>\n",
       "      <td>4</td>\n",
       "      <td>...</td>\n",
       "      <td>0.0</td>\n",
       "      <td>1512.0</td>\n",
       "      <td>1512.0</td>\n",
       "      <td>130.178571</td>\n",
       "      <td>130.178571</td>\n",
       "      <td>(4.286, 117.888)</td>\n",
       "      <td>(134.0, 180.2, 219.04761904761904)</td>\n",
       "      <td>134.000000</td>\n",
       "      <td>180.200000</td>\n",
       "      <td>219.047619</td>\n",
       "    </tr>\n",
       "    <tr>\n",
       "      <th>68757</th>\n",
       "      <td>2-sty Terrace/Link House</td>\n",
       "      <td>sale</td>\n",
       "      <td>MYR</td>\n",
       "      <td>232000.0</td>\n",
       "      <td>232000.0</td>\n",
       "      <td>4.280286</td>\n",
       "      <td>117.898768</td>\n",
       "      <td>Sabah</td>\n",
       "      <td>Tawau</td>\n",
       "      <td>4</td>\n",
       "      <td>...</td>\n",
       "      <td>0.0</td>\n",
       "      <td>1800.0</td>\n",
       "      <td>1800.0</td>\n",
       "      <td>128.888889</td>\n",
       "      <td>128.888889</td>\n",
       "      <td>(4.28, 117.899)</td>\n",
       "      <td>(nan, 182.6, 206.41176470588235)</td>\n",
       "      <td>NaN</td>\n",
       "      <td>182.600000</td>\n",
       "      <td>206.411765</td>\n",
       "    </tr>\n",
       "    <tr>\n",
       "      <th>68759</th>\n",
       "      <td>2-sty Terrace/Link House</td>\n",
       "      <td>sale</td>\n",
       "      <td>MYR</td>\n",
       "      <td>665000.0</td>\n",
       "      <td>665000.0</td>\n",
       "      <td>5.964054</td>\n",
       "      <td>116.105541</td>\n",
       "      <td>Sabah</td>\n",
       "      <td>Kota Kinabatangan</td>\n",
       "      <td>4</td>\n",
       "      <td>...</td>\n",
       "      <td>0.0</td>\n",
       "      <td>2189.0</td>\n",
       "      <td>2189.0</td>\n",
       "      <td>303.791686</td>\n",
       "      <td>303.791686</td>\n",
       "      <td>(5.964, 116.106)</td>\n",
       "      <td>(233.66666666666666, 347.7857142857143, 346.60...</td>\n",
       "      <td>233.666667</td>\n",
       "      <td>347.785714</td>\n",
       "      <td>346.606667</td>\n",
       "    </tr>\n",
       "    <tr>\n",
       "      <th>68764</th>\n",
       "      <td>Semi-detached House</td>\n",
       "      <td>sale</td>\n",
       "      <td>MYR</td>\n",
       "      <td>420000.0</td>\n",
       "      <td>420000.0</td>\n",
       "      <td>3.830025</td>\n",
       "      <td>101.404645</td>\n",
       "      <td>Perak</td>\n",
       "      <td>Slim River</td>\n",
       "      <td>4</td>\n",
       "      <td>...</td>\n",
       "      <td>0.0</td>\n",
       "      <td>3600.0</td>\n",
       "      <td>3600.0</td>\n",
       "      <td>116.666667</td>\n",
       "      <td>116.666667</td>\n",
       "      <td>(3.83, 101.405)</td>\n",
       "      <td>(nan, 94.875, 116.84615384615384)</td>\n",
       "      <td>NaN</td>\n",
       "      <td>94.875000</td>\n",
       "      <td>116.846154</td>\n",
       "    </tr>\n",
       "  </tbody>\n",
       "</table>\n",
       "<p>46109 rows × 31 columns</p>\n",
       "</div>"
      ],
      "text/plain": [
       "                   propertyType price_type price_currency  price_min  \\\n",
       "2                   Condominium       sale            MYR  1800000.0   \n",
       "3                   Condominium       sale            MYR   785000.0   \n",
       "4                   Condominium       sale            MYR  1280000.0   \n",
       "5                   Condominium       sale            MYR   610000.0   \n",
       "6                   Condominium       sale            MYR  1500000.0   \n",
       "...                         ...        ...            ...        ...   \n",
       "68753  2-sty Terrace/Link House       sale            MYR   197200.0   \n",
       "68755  3-sty Terrace/Link House       sale            MYR   196830.0   \n",
       "68757  2-sty Terrace/Link House       sale            MYR   232000.0   \n",
       "68759  2-sty Terrace/Link House       sale            MYR   665000.0   \n",
       "68764       Semi-detached House       sale            MYR   420000.0   \n",
       "\n",
       "       price_max  latitude   longitude   state               city  \\\n",
       "2      1800000.0  5.362406  100.315562  Penang            Gelugor   \n",
       "3       785000.0  5.367127  100.308871  Penang            Gelugor   \n",
       "4      1280000.0  5.362406  100.315562  Penang            Gelugor   \n",
       "5       610000.0  5.367127  100.308871  Penang            Gelugor   \n",
       "6      1500000.0  5.367127  100.308871  Penang            Gelugor   \n",
       "...          ...       ...         ...     ...                ...   \n",
       "68753   197200.0  4.280286  117.898768   Sabah              Tawau   \n",
       "68755   196830.0  4.286237  117.887653   Sabah              Tawau   \n",
       "68757   232000.0  4.280286  117.898768   Sabah              Tawau   \n",
       "68759   665000.0  5.964054  116.105541   Sabah  Kota Kinabatangan   \n",
       "68764   420000.0  3.830025  101.404645   Perak         Slim River   \n",
       "\n",
       "       attr_bedroom  ... poi_transportation landArea_sqf builtUp_sqf  \\\n",
       "2                 4  ...                0.0       1927.0      1927.0   \n",
       "3                 1  ...                0.0        581.0       581.0   \n",
       "4                 4  ...                0.0       1830.0      1830.0   \n",
       "5                 1  ...                0.0        517.0       517.0   \n",
       "6                 4  ...                0.0       1507.0      1507.0   \n",
       "...             ...  ...                ...          ...         ...   \n",
       "68753             4  ...                0.0       1800.0      1800.0   \n",
       "68755             4  ...                0.0       1512.0      1512.0   \n",
       "68757             4  ...                0.0       1800.0      1800.0   \n",
       "68759             4  ...                0.0       2189.0      2189.0   \n",
       "68764             4  ...                0.0       3600.0      3600.0   \n",
       "\n",
       "      price_min_landarea_psf price_min_builtup_psf       coordinates  \\\n",
       "2                 934.094447            934.094447  (5.362, 100.316)   \n",
       "3                1351.118761           1351.118761  (5.367, 100.309)   \n",
       "4                 699.453552            699.453552  (5.362, 100.316)   \n",
       "5                1179.883946           1179.883946  (5.367, 100.309)   \n",
       "6                 995.355010            995.355010  (5.367, 100.309)   \n",
       "...                      ...                   ...               ...   \n",
       "68753             109.555556            109.555556   (4.28, 117.899)   \n",
       "68755             130.178571            130.178571  (4.286, 117.888)   \n",
       "68757             128.888889            128.888889   (4.28, 117.899)   \n",
       "68759             303.791686            303.791686  (5.964, 116.106)   \n",
       "68764             116.666667            116.666667   (3.83, 101.405)   \n",
       "\n",
       "                                     nearby_township_psf  \\\n",
       "2          (762.0, 435.6666666666667, 458.9685039370079)   \n",
       "3                     (486.0, 430.5, 444.81081081081084)   \n",
       "4          (762.0, 435.6666666666667, 458.9685039370079)   \n",
       "5                     (486.0, 430.5, 444.81081081081084)   \n",
       "6                     (486.0, 430.5, 444.81081081081084)   \n",
       "...                                                  ...   \n",
       "68753                   (nan, 182.6, 206.41176470588235)   \n",
       "68755                 (134.0, 180.2, 219.04761904761904)   \n",
       "68757                   (nan, 182.6, 206.41176470588235)   \n",
       "68759  (233.66666666666666, 347.7857142857143, 346.60...   \n",
       "68764                  (nan, 94.875, 116.84615384615384)   \n",
       "\n",
       "      nearby_township_psf_300m nearby_township_psf_1km  \\\n",
       "2                   762.000000              435.666667   \n",
       "3                   486.000000              430.500000   \n",
       "4                   762.000000              435.666667   \n",
       "5                   486.000000              430.500000   \n",
       "6                   486.000000              430.500000   \n",
       "...                        ...                     ...   \n",
       "68753                      NaN              182.600000   \n",
       "68755               134.000000              180.200000   \n",
       "68757                      NaN              182.600000   \n",
       "68759               233.666667              347.785714   \n",
       "68764                      NaN               94.875000   \n",
       "\n",
       "       nearby_township_psf_3km  \n",
       "2                   458.968504  \n",
       "3                   444.810811  \n",
       "4                   458.968504  \n",
       "5                   444.810811  \n",
       "6                   444.810811  \n",
       "...                        ...  \n",
       "68753               206.411765  \n",
       "68755               219.047619  \n",
       "68757               206.411765  \n",
       "68759               346.606667  \n",
       "68764               116.846154  \n",
       "\n",
       "[46109 rows x 31 columns]"
      ]
     },
     "execution_count": 248,
     "metadata": {},
     "output_type": "execute_result"
    }
   ],
   "source": [
    "listings"
   ]
  },
  {
   "cell_type": "code",
   "execution_count": 247,
   "metadata": {},
   "outputs": [],
   "source": [
    "listings.to_csv(\"iproperty_listing_clean_with_psf_nearby.csv\")"
   ]
  },
  {
   "cell_type": "code",
   "execution_count": null,
   "metadata": {},
   "outputs": [],
   "source": [
    "listings.to_csv()"
   ]
  }
 ],
 "metadata": {
  "kernelspec": {
   "display_name": "Python 3",
   "language": "python",
   "name": "python3"
  },
  "language_info": {
   "codemirror_mode": {
    "name": "ipython",
    "version": 3
   },
   "file_extension": ".py",
   "mimetype": "text/x-python",
   "name": "python",
   "nbconvert_exporter": "python",
   "pygments_lexer": "ipython3",
   "version": "3.6.9"
  }
 },
 "nbformat": 4,
 "nbformat_minor": 4
}
