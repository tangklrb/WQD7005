{
 "cells": [
  {
   "cell_type": "code",
   "execution_count": 1,
   "metadata": {},
   "outputs": [],
   "source": [
    "import json\n",
    "import numpy as np\n",
    "import pandas as pd"
   ]
  },
  {
   "cell_type": "code",
   "execution_count": 2,
   "metadata": {},
   "outputs": [
    {
     "data": {
      "text/html": [
       "<div>\n",
       "<style scoped>\n",
       "    .dataframe tbody tr th:only-of-type {\n",
       "        vertical-align: middle;\n",
       "    }\n",
       "\n",
       "    .dataframe tbody tr th {\n",
       "        vertical-align: top;\n",
       "    }\n",
       "\n",
       "    .dataframe thead th {\n",
       "        text-align: right;\n",
       "    }\n",
       "</style>\n",
       "<table border=\"1\" class=\"dataframe\">\n",
       "  <thead>\n",
       "    <tr style=\"text-align: right;\">\n",
       "      <th></th>\n",
       "      <th>Unnamed: 0</th>\n",
       "      <th>project_id</th>\n",
       "      <th>latitude</th>\n",
       "      <th>longitude</th>\n",
       "      <th>township</th>\n",
       "      <th>state</th>\n",
       "      <th>area</th>\n",
       "      <th>median_psf</th>\n",
       "      <th>median_price</th>\n",
       "      <th>poi_nearby_education</th>\n",
       "      <th>poi_nearby_transportation</th>\n",
       "      <th>poi_nearby_healthcare</th>\n",
       "      <th>nearest_school</th>\n",
       "      <th>nearest_train_station</th>\n",
       "      <th>nearest_hospital</th>\n",
       "      <th>total_poi_nearby</th>\n",
       "      <th>nearest_poi</th>\n",
       "      <th>transaction_count</th>\n",
       "      <th>coordinates</th>\n",
       "    </tr>\n",
       "  </thead>\n",
       "  <tbody>\n",
       "    <tr>\n",
       "      <th>0</th>\n",
       "      <td>1</td>\n",
       "      <td>28054</td>\n",
       "      <td>1.850838</td>\n",
       "      <td>103.098501</td>\n",
       "      <td>Taman Melewar 2</td>\n",
       "      <td>Johor</td>\n",
       "      <td>Parit Raja</td>\n",
       "      <td>32.5</td>\n",
       "      <td>140000.0</td>\n",
       "      <td>7</td>\n",
       "      <td>0</td>\n",
       "      <td>3</td>\n",
       "      <td>698.877585</td>\n",
       "      <td>118249.246278</td>\n",
       "      <td>16451.842589</td>\n",
       "      <td>10</td>\n",
       "      <td>698.877585</td>\n",
       "      <td>4</td>\n",
       "      <td>(1.8508384999999998, 103.0985005)</td>\n",
       "    </tr>\n",
       "    <tr>\n",
       "      <th>1</th>\n",
       "      <td>3</td>\n",
       "      <td>19000</td>\n",
       "      <td>2.424192</td>\n",
       "      <td>103.837082</td>\n",
       "      <td>Taman Mersing</td>\n",
       "      <td>Johor</td>\n",
       "      <td>Mersing</td>\n",
       "      <td>92.5</td>\n",
       "      <td>290000.0</td>\n",
       "      <td>10</td>\n",
       "      <td>0</td>\n",
       "      <td>2</td>\n",
       "      <td>583.035476</td>\n",
       "      <td>179112.693473</td>\n",
       "      <td>1101.439888</td>\n",
       "      <td>12</td>\n",
       "      <td>583.035476</td>\n",
       "      <td>4</td>\n",
       "      <td>(2.4241923, 103.8370822)</td>\n",
       "    </tr>\n",
       "    <tr>\n",
       "      <th>2</th>\n",
       "      <td>4</td>\n",
       "      <td>19009</td>\n",
       "      <td>2.502480</td>\n",
       "      <td>102.831990</td>\n",
       "      <td>Taman Mewah, Sungai Segamat</td>\n",
       "      <td>Johor</td>\n",
       "      <td>Segamat</td>\n",
       "      <td>56.0</td>\n",
       "      <td>160000.0</td>\n",
       "      <td>16</td>\n",
       "      <td>0</td>\n",
       "      <td>4</td>\n",
       "      <td>479.442036</td>\n",
       "      <td>67412.610445</td>\n",
       "      <td>1880.370354</td>\n",
       "      <td>20</td>\n",
       "      <td>479.442036</td>\n",
       "      <td>4</td>\n",
       "      <td>(2.50248, 102.83199)</td>\n",
       "    </tr>\n",
       "    <tr>\n",
       "      <th>3</th>\n",
       "      <td>5</td>\n",
       "      <td>19036</td>\n",
       "      <td>1.989595</td>\n",
       "      <td>102.873294</td>\n",
       "      <td>Taman Mutiara, Parit Sulong</td>\n",
       "      <td>Johor</td>\n",
       "      <td>Parit Sulong</td>\n",
       "      <td>122.5</td>\n",
       "      <td>324400.0</td>\n",
       "      <td>7</td>\n",
       "      <td>0</td>\n",
       "      <td>2</td>\n",
       "      <td>642.169632</td>\n",
       "      <td>88940.537416</td>\n",
       "      <td>15543.042648</td>\n",
       "      <td>9</td>\n",
       "      <td>642.169632</td>\n",
       "      <td>4</td>\n",
       "      <td>(1.9895953000000002, 102.8732944)</td>\n",
       "    </tr>\n",
       "    <tr>\n",
       "      <th>4</th>\n",
       "      <td>9</td>\n",
       "      <td>28046</td>\n",
       "      <td>2.109806</td>\n",
       "      <td>103.396274</td>\n",
       "      <td>Taman Perdana</td>\n",
       "      <td>Johor</td>\n",
       "      <td>Kluang</td>\n",
       "      <td>102.0</td>\n",
       "      <td>235000.0</td>\n",
       "      <td>4</td>\n",
       "      <td>0</td>\n",
       "      <td>1</td>\n",
       "      <td>377.403414</td>\n",
       "      <td>135795.961947</td>\n",
       "      <td>10312.273554</td>\n",
       "      <td>5</td>\n",
       "      <td>377.403414</td>\n",
       "      <td>4</td>\n",
       "      <td>(2.1098055000000002, 103.39627409999999)</td>\n",
       "    </tr>\n",
       "    <tr>\n",
       "      <th>...</th>\n",
       "      <td>...</td>\n",
       "      <td>...</td>\n",
       "      <td>...</td>\n",
       "      <td>...</td>\n",
       "      <td>...</td>\n",
       "      <td>...</td>\n",
       "      <td>...</td>\n",
       "      <td>...</td>\n",
       "      <td>...</td>\n",
       "      <td>...</td>\n",
       "      <td>...</td>\n",
       "      <td>...</td>\n",
       "      <td>...</td>\n",
       "      <td>...</td>\n",
       "      <td>...</td>\n",
       "      <td>...</td>\n",
       "      <td>...</td>\n",
       "      <td>...</td>\n",
       "      <td>...</td>\n",
       "    </tr>\n",
       "    <tr>\n",
       "      <th>6757</th>\n",
       "      <td>7466</td>\n",
       "      <td>23082</td>\n",
       "      <td>3.016821</td>\n",
       "      <td>101.623228</td>\n",
       "      <td>Bandar Puteri Puchong</td>\n",
       "      <td>Selangor</td>\n",
       "      <td>Bandar Puteri Puchong</td>\n",
       "      <td>542.0</td>\n",
       "      <td>965000.0</td>\n",
       "      <td>19</td>\n",
       "      <td>4</td>\n",
       "      <td>3</td>\n",
       "      <td>851.781025</td>\n",
       "      <td>1181.540717</td>\n",
       "      <td>777.226157</td>\n",
       "      <td>26</td>\n",
       "      <td>777.226157</td>\n",
       "      <td>193</td>\n",
       "      <td>(3.0168207000000002, 101.6232283)</td>\n",
       "    </tr>\n",
       "    <tr>\n",
       "      <th>6758</th>\n",
       "      <td>7467</td>\n",
       "      <td>11372</td>\n",
       "      <td>3.053950</td>\n",
       "      <td>101.528999</td>\n",
       "      <td>Seksyen 19, Shah Alam</td>\n",
       "      <td>Selangor</td>\n",
       "      <td>Shah Alam</td>\n",
       "      <td>271.0</td>\n",
       "      <td>200000.0</td>\n",
       "      <td>21</td>\n",
       "      <td>2</td>\n",
       "      <td>3</td>\n",
       "      <td>330.456470</td>\n",
       "      <td>492.440153</td>\n",
       "      <td>1366.133911</td>\n",
       "      <td>26</td>\n",
       "      <td>330.456470</td>\n",
       "      <td>193</td>\n",
       "      <td>(3.0539500713347993, 101.52899932861)</td>\n",
       "    </tr>\n",
       "    <tr>\n",
       "      <th>6759</th>\n",
       "      <td>7468</td>\n",
       "      <td>11479</td>\n",
       "      <td>3.130250</td>\n",
       "      <td>101.473999</td>\n",
       "      <td>Seri Jati &amp; Baiduri</td>\n",
       "      <td>Selangor</td>\n",
       "      <td>Setia Alam/Alam Nusantara</td>\n",
       "      <td>NaN</td>\n",
       "      <td>NaN</td>\n",
       "      <td>8</td>\n",
       "      <td>0</td>\n",
       "      <td>0</td>\n",
       "      <td>1549.983563</td>\n",
       "      <td>7098.462905</td>\n",
       "      <td>5893.744567</td>\n",
       "      <td>8</td>\n",
       "      <td>1549.983563</td>\n",
       "      <td>0</td>\n",
       "      <td>(3.13025, 101.47399899999999)</td>\n",
       "    </tr>\n",
       "    <tr>\n",
       "      <th>6760</th>\n",
       "      <td>7469</td>\n",
       "      <td>10419</td>\n",
       "      <td>2.876342</td>\n",
       "      <td>101.806980</td>\n",
       "      <td>Bandar Bukit Mahkota Bangi</td>\n",
       "      <td>Selangor</td>\n",
       "      <td>Bangi</td>\n",
       "      <td>246.0</td>\n",
       "      <td>382500.0</td>\n",
       "      <td>6</td>\n",
       "      <td>0</td>\n",
       "      <td>1</td>\n",
       "      <td>738.335774</td>\n",
       "      <td>3857.170753</td>\n",
       "      <td>8069.968183</td>\n",
       "      <td>7</td>\n",
       "      <td>738.335774</td>\n",
       "      <td>188</td>\n",
       "      <td>(2.8763422999999997, 101.80697959999999)</td>\n",
       "    </tr>\n",
       "    <tr>\n",
       "      <th>6761</th>\n",
       "      <td>7470</td>\n",
       "      <td>10783</td>\n",
       "      <td>3.150960</td>\n",
       "      <td>101.598999</td>\n",
       "      <td>Palm Spring</td>\n",
       "      <td>Selangor</td>\n",
       "      <td>Sunway Damansara</td>\n",
       "      <td>390.0</td>\n",
       "      <td>400000.0</td>\n",
       "      <td>37</td>\n",
       "      <td>7</td>\n",
       "      <td>2</td>\n",
       "      <td>238.398729</td>\n",
       "      <td>607.892035</td>\n",
       "      <td>2290.998276</td>\n",
       "      <td>46</td>\n",
       "      <td>238.398729</td>\n",
       "      <td>192</td>\n",
       "      <td>(3.15096, 101.59899899999999)</td>\n",
       "    </tr>\n",
       "  </tbody>\n",
       "</table>\n",
       "<p>6762 rows × 19 columns</p>\n",
       "</div>"
      ],
      "text/plain": [
       "      Unnamed: 0  project_id  latitude   longitude  \\\n",
       "0              1       28054  1.850838  103.098501   \n",
       "1              3       19000  2.424192  103.837082   \n",
       "2              4       19009  2.502480  102.831990   \n",
       "3              5       19036  1.989595  102.873294   \n",
       "4              9       28046  2.109806  103.396274   \n",
       "...          ...         ...       ...         ...   \n",
       "6757        7466       23082  3.016821  101.623228   \n",
       "6758        7467       11372  3.053950  101.528999   \n",
       "6759        7468       11479  3.130250  101.473999   \n",
       "6760        7469       10419  2.876342  101.806980   \n",
       "6761        7470       10783  3.150960  101.598999   \n",
       "\n",
       "                         township     state                       area  \\\n",
       "0                 Taman Melewar 2     Johor                 Parit Raja   \n",
       "1                   Taman Mersing     Johor                    Mersing   \n",
       "2     Taman Mewah, Sungai Segamat     Johor                    Segamat   \n",
       "3     Taman Mutiara, Parit Sulong     Johor               Parit Sulong   \n",
       "4                   Taman Perdana     Johor                     Kluang   \n",
       "...                           ...       ...                        ...   \n",
       "6757        Bandar Puteri Puchong  Selangor      Bandar Puteri Puchong   \n",
       "6758        Seksyen 19, Shah Alam  Selangor                  Shah Alam   \n",
       "6759          Seri Jati & Baiduri  Selangor  Setia Alam/Alam Nusantara   \n",
       "6760   Bandar Bukit Mahkota Bangi  Selangor                      Bangi   \n",
       "6761                  Palm Spring  Selangor           Sunway Damansara   \n",
       "\n",
       "      median_psf  median_price  poi_nearby_education  \\\n",
       "0           32.5      140000.0                     7   \n",
       "1           92.5      290000.0                    10   \n",
       "2           56.0      160000.0                    16   \n",
       "3          122.5      324400.0                     7   \n",
       "4          102.0      235000.0                     4   \n",
       "...          ...           ...                   ...   \n",
       "6757       542.0      965000.0                    19   \n",
       "6758       271.0      200000.0                    21   \n",
       "6759         NaN           NaN                     8   \n",
       "6760       246.0      382500.0                     6   \n",
       "6761       390.0      400000.0                    37   \n",
       "\n",
       "      poi_nearby_transportation  poi_nearby_healthcare  nearest_school  \\\n",
       "0                             0                      3      698.877585   \n",
       "1                             0                      2      583.035476   \n",
       "2                             0                      4      479.442036   \n",
       "3                             0                      2      642.169632   \n",
       "4                             0                      1      377.403414   \n",
       "...                         ...                    ...             ...   \n",
       "6757                          4                      3      851.781025   \n",
       "6758                          2                      3      330.456470   \n",
       "6759                          0                      0     1549.983563   \n",
       "6760                          0                      1      738.335774   \n",
       "6761                          7                      2      238.398729   \n",
       "\n",
       "      nearest_train_station  nearest_hospital  total_poi_nearby  nearest_poi  \\\n",
       "0             118249.246278      16451.842589                10   698.877585   \n",
       "1             179112.693473       1101.439888                12   583.035476   \n",
       "2              67412.610445       1880.370354                20   479.442036   \n",
       "3              88940.537416      15543.042648                 9   642.169632   \n",
       "4             135795.961947      10312.273554                 5   377.403414   \n",
       "...                     ...               ...               ...          ...   \n",
       "6757            1181.540717        777.226157                26   777.226157   \n",
       "6758             492.440153       1366.133911                26   330.456470   \n",
       "6759            7098.462905       5893.744567                 8  1549.983563   \n",
       "6760            3857.170753       8069.968183                 7   738.335774   \n",
       "6761             607.892035       2290.998276                46   238.398729   \n",
       "\n",
       "      transaction_count                               coordinates  \n",
       "0                     4         (1.8508384999999998, 103.0985005)  \n",
       "1                     4                  (2.4241923, 103.8370822)  \n",
       "2                     4                      (2.50248, 102.83199)  \n",
       "3                     4         (1.9895953000000002, 102.8732944)  \n",
       "4                     4  (2.1098055000000002, 103.39627409999999)  \n",
       "...                 ...                                       ...  \n",
       "6757                193         (3.0168207000000002, 101.6232283)  \n",
       "6758                193     (3.0539500713347993, 101.52899932861)  \n",
       "6759                  0             (3.13025, 101.47399899999999)  \n",
       "6760                188  (2.8763422999999997, 101.80697959999999)  \n",
       "6761                192             (3.15096, 101.59899899999999)  \n",
       "\n",
       "[6762 rows x 19 columns]"
      ]
     },
     "execution_count": 2,
     "metadata": {},
     "output_type": "execute_result"
    }
   ],
   "source": [
    "townships = pd.read_csv('../data/processed/edgeprop_townships_preprocessed.csv')\n",
    "townships['coordinates'] = list(zip(townships['latitude'], townships['longitude']))\n",
    "townships"
   ]
  },
  {
   "cell_type": "code",
   "execution_count": 3,
   "metadata": {},
   "outputs": [],
   "source": [
    "from geopy.distance import distance\n",
    "\n",
    "# calculate distance between two points\n",
    "def calc_distance(source, target):\n",
    "    return(distance(source, target).m)\n",
    "\n",
    "\n",
    "# find nearby city\n",
    "def nearby_city(target_coordinate):\n",
    "    townships = pd.read_csv('../data/processed/edgeprop_townships_preprocessed.csv')\n",
    "    townships['coordinates'] = list(zip(townships['latitude'], townships['longitude']))\n",
    "    \n",
    "    townships['distance'] = townships['coordinates'].apply(\n",
    "        lambda x: calc_distance(x, target_coordinate)\n",
    "    )\n",
    "\n",
    "    # return all cities within 15km\n",
    "    nearby_cities = townships[townships['distance'] <= 5000][\n",
    "        ['area', 'distance']\n",
    "    ].groupby('area').min().reset_index().sort_values('distance')\n",
    "\n",
    "    return (json.dumps(list(nearby_cities['area'])))\n",
    "\n",
    "\n"
   ]
  },
  {
   "cell_type": "code",
   "execution_count": 4,
   "metadata": {},
   "outputs": [],
   "source": [
    "nearby_cities = nearby_city((3.064520, 101.665436))"
   ]
  },
  {
   "cell_type": "code",
   "execution_count": 5,
   "metadata": {},
   "outputs": [
    {
     "data": {
      "text/plain": [
       "'[\"Bukit Jalil\", \"Bandar Baru Sri Petaling\", \"Jalan Klang Lama (Old Klang Road)\", \"Taman OUG\", \"Bandar Kinrara Puchong\", \"Petaling Jaya\", \"Kuchai Lama\", \"Kelana Jaya\", \"Salak Selatan\", \"Sri Petaling\", \"Puchong\", \"Pantai Dalam/Kerinchi\", \"Seri Kembangan\", \"Puncak Jalil\", \"Taman Desa\", \"Sungai Besi\", \"Desa Petaling\", \"Bangsar South\", \"Bandar Tasik Selatan\"]'"
      ]
     },
     "execution_count": 5,
     "metadata": {},
     "output_type": "execute_result"
    }
   ],
   "source": [
    "nearby_cities"
   ]
  },
  {
   "cell_type": "code",
   "execution_count": null,
   "metadata": {},
   "outputs": [],
   "source": []
  },
  {
   "cell_type": "code",
   "execution_count": 6,
   "metadata": {},
   "outputs": [],
   "source": [
    "from geopy.distance import distance\n",
    "\n",
    "# calculate distance between two points\n",
    "def calc_distance(source, target):\n",
    "    return(distance(source, target).m)\n",
    "\n",
    "\n",
    "# find nearby city\n",
    "def nearest_poi(target_coordinate):\n",
    "    # target_coordinate = (request.args.get('lat'), request.args.get('lng'))\n",
    "\n",
    "    pois = pd.read_csv('../data/processed/iproperty_pois_preprocessed.csv')\n",
    "    pois['coordinates'] = list(zip(pois['latitude'], pois['longitude']))\n",
    "    \n",
    "    pois['distance'] = pois['coordinates'].apply(\n",
    "        lambda x: calc_distance(x, target_coordinate)\n",
    "    )\n",
    "\n",
    "    # return all cities within 15km\n",
    "#     nearby_cities = townships[townships['distance'] <= 5000][\n",
    "#         ['area', 'distance']\n",
    "#     ].groupby('area').min().reset_index().sort_values('distance')\n",
    "\n",
    "#     return (json.dumps(list(nearby_cities['area'])))\n",
    "\n",
    "\n",
    "    # return all cities within 15km\n",
    "    return(pois['distance'].min())\n",
    "\n",
    "#     return(json.dumps(list(nearest_poi)))\n",
    "\n",
    "\n"
   ]
  },
  {
   "cell_type": "code",
   "execution_count": 7,
   "metadata": {},
   "outputs": [
    {
     "data": {
      "text/plain": [
       "156.40462573036172"
      ]
     },
     "execution_count": 7,
     "metadata": {},
     "output_type": "execute_result"
    }
   ],
   "source": [
    "nearest_poi((3.064520, 101.665436))"
   ]
  },
  {
   "cell_type": "code",
   "execution_count": 8,
   "metadata": {},
   "outputs": [],
   "source": [
    "transactions = pd.read_csv('../data/processed/edgeprop_transactions_processed.csv')"
   ]
  },
  {
   "cell_type": "code",
   "execution_count": 9,
   "metadata": {},
   "outputs": [
    {
     "data": {
      "text/plain": [
       "array(['Flat', 'Condominium/Apartment', 'Town House', 'Terrace House',\n",
       "       'Hotel/Service Apartment', 'Detached House', 'Semi-Detached House',\n",
       "       'Low-Cost House', 'Cluster House'], dtype=object)"
      ]
     },
     "execution_count": 9,
     "metadata": {},
     "output_type": "execute_result"
    }
   ],
   "source": [
    "transactions['property_type'].unique()"
   ]
  },
  {
   "cell_type": "code",
   "execution_count": 10,
   "metadata": {},
   "outputs": [
    {
     "data": {
      "text/plain": [
       "array(['Freehold', 'Leasehold'], dtype=object)"
      ]
     },
     "execution_count": 10,
     "metadata": {},
     "output_type": "execute_result"
    }
   ],
   "source": [
    "transactions['tenure'].unique()"
   ]
  },
  {
   "cell_type": "code",
   "execution_count": 11,
   "metadata": {},
   "outputs": [],
   "source": [
    "import pickle\n",
    "model = pickle.load(open('../data/model.pkl', 'rb'))\n"
   ]
  },
  {
   "cell_type": "code",
   "execution_count": 12,
   "metadata": {},
   "outputs": [],
   "source": [
    "input_features = pd.DataFrame([\n",
    "    json.loads('{\"nearest_poi\": \"51.04681088991547\", \"project_id\": \"15292\", \"property_type\": \"Detached House\", \"tenure\": \"Freehold\", \"area_sqft\": \"1230\", \"bedrooms\": \"3\"}')\n",
    "])\n",
    "# predicted_price = model.predict(input_features)"
   ]
  },
  {
   "cell_type": "code",
   "execution_count": null,
   "metadata": {},
   "outputs": [],
   "source": []
  },
  {
   "cell_type": "code",
   "execution_count": 13,
   "metadata": {},
   "outputs": [],
   "source": [
    "def state_lookup(township_id):\n",
    "  township_id = int(township_id)\n",
    "  townships = pd.read_csv('../data/processed/edgeprop_townships_preprocessed.csv').drop_duplicates(\n",
    "    subset='project_id', keep=\"first\"\n",
    "  )\n",
    "\n",
    "  results = townships[townships['project_id'] == township_id]\n",
    "\n",
    "  return results['state'].iloc[0]\n",
    "\n",
    "\n",
    "def city_lookup(township_id):\n",
    "  township_id = int(township_id)\n",
    "  townships = pd.read_csv('../data/processed/edgeprop_townships_preprocessed.csv').drop_duplicates(\n",
    "    subset='project_id', keep=\"first\"\n",
    "  )\n",
    "\n",
    "  results = townships[townships['project_id'] == township_id]\n",
    "\n",
    "  return results['area'].iloc[0]\n"
   ]
  },
  {
   "cell_type": "code",
   "execution_count": 14,
   "metadata": {},
   "outputs": [],
   "source": [
    "input_features['state'] = input_features['project_id'].apply(state_lookup)\n",
    "input_features['city'] = input_features['project_id'].apply(city_lookup)\n",
    "input_features['project_id'] = input_features['project_id'].astype('int')"
   ]
  },
  {
   "cell_type": "code",
   "execution_count": 15,
   "metadata": {},
   "outputs": [
    {
     "data": {
      "text/html": [
       "<div>\n",
       "<style scoped>\n",
       "    .dataframe tbody tr th:only-of-type {\n",
       "        vertical-align: middle;\n",
       "    }\n",
       "\n",
       "    .dataframe tbody tr th {\n",
       "        vertical-align: top;\n",
       "    }\n",
       "\n",
       "    .dataframe thead th {\n",
       "        text-align: right;\n",
       "    }\n",
       "</style>\n",
       "<table border=\"1\" class=\"dataframe\">\n",
       "  <thead>\n",
       "    <tr style=\"text-align: right;\">\n",
       "      <th></th>\n",
       "      <th>nearest_poi</th>\n",
       "      <th>project_id</th>\n",
       "      <th>property_type</th>\n",
       "      <th>tenure</th>\n",
       "      <th>area_sqft</th>\n",
       "      <th>bedrooms</th>\n",
       "      <th>state</th>\n",
       "      <th>city</th>\n",
       "    </tr>\n",
       "  </thead>\n",
       "  <tbody>\n",
       "    <tr>\n",
       "      <th>0</th>\n",
       "      <td>51.04681088991547</td>\n",
       "      <td>15292</td>\n",
       "      <td>Detached House</td>\n",
       "      <td>Freehold</td>\n",
       "      <td>1230</td>\n",
       "      <td>3</td>\n",
       "      <td>Kuala Lumpur</td>\n",
       "      <td>Bukit Jalil</td>\n",
       "    </tr>\n",
       "  </tbody>\n",
       "</table>\n",
       "</div>"
      ],
      "text/plain": [
       "         nearest_poi  project_id   property_type    tenure area_sqft bedrooms  \\\n",
       "0  51.04681088991547       15292  Detached House  Freehold      1230        3   \n",
       "\n",
       "          state         city  \n",
       "0  Kuala Lumpur  Bukit Jalil  "
      ]
     },
     "execution_count": 15,
     "metadata": {},
     "output_type": "execute_result"
    }
   ],
   "source": [
    "input_features"
   ]
  },
  {
   "cell_type": "code",
   "execution_count": 16,
   "metadata": {},
   "outputs": [
    {
     "name": "stderr",
     "output_type": "stream",
     "text": [
      "/home/kitlim/py3_kernel/lib/python3.6/site-packages/sklearn/compose/_column_transformer.py:440: FutureWarning: Given feature/column names or counts do not match the ones for the data given during fit. This will fail from v0.24.\n",
      "  FutureWarning)\n"
     ]
    }
   ],
   "source": [
    "predicted_price = model.predict(input_features)"
   ]
  },
  {
   "cell_type": "code",
   "execution_count": 18,
   "metadata": {},
   "outputs": [
    {
     "data": {
      "text/plain": [
       "'988,791.86'"
      ]
     },
     "execution_count": 18,
     "metadata": {},
     "output_type": "execute_result"
    }
   ],
   "source": [
    "'{:,.2f}'.format(predicted_price[0])"
   ]
  },
  {
   "cell_type": "code",
   "execution_count": null,
   "metadata": {},
   "outputs": [],
   "source": []
  },
  {
   "cell_type": "code",
   "execution_count": null,
   "metadata": {},
   "outputs": [],
   "source": []
  },
  {
   "cell_type": "code",
   "execution_count": null,
   "metadata": {},
   "outputs": [],
   "source": []
  },
  {
   "cell_type": "code",
   "execution_count": null,
   "metadata": {},
   "outputs": [],
   "source": [
    "\n"
   ]
  },
  {
   "cell_type": "code",
   "execution_count": null,
   "metadata": {},
   "outputs": [],
   "source": []
  },
  {
   "cell_type": "code",
   "execution_count": null,
   "metadata": {},
   "outputs": [],
   "source": []
  }
 ],
 "metadata": {
  "kernelspec": {
   "display_name": "py3",
   "language": "python",
   "name": "py3"
  },
  "language_info": {
   "codemirror_mode": {
    "name": "ipython",
    "version": 3
   },
   "file_extension": ".py",
   "mimetype": "text/x-python",
   "name": "python",
   "nbconvert_exporter": "python",
   "pygments_lexer": "ipython3",
   "version": "3.6.9"
  }
 },
 "nbformat": 4,
 "nbformat_minor": 2
}
