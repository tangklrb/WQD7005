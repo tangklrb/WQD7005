{
 "cells": [
  {
   "cell_type": "code",
   "execution_count": 1,
   "metadata": {},
   "outputs": [],
   "source": [
    "import numpy as np \n",
    "import pandas as pd\n",
    "import matplotlib\n",
    "import seaborn as sns\n"
   ]
  },
  {
   "cell_type": "code",
   "execution_count": 2,
   "metadata": {},
   "outputs": [],
   "source": [
    "# load data from csv\n",
    "\n",
    "data_directory = 'data/'\n",
    "\n",
    "q2_township_csv = data_directory + 'q2_townships.csv'\n",
    "q2_transaction_csv = data_directory + 'q2_transactions.csv'\n",
    "q2_poi_csv = data_directory + 'q2_pois.csv'\n",
    "\n",
    "township_csv = data_directory + 'q3_townships.csv'\n",
    "transaction_csv = data_directory + 'q3_transactions.csv'\n",
    "poi_csv = data_directory + 'q3_pois.csv'\n",
    "\n",
    "townships = pd.read_csv(q2_township_csv, na_values=['None'], index_col=0)\n",
    "transactions = pd.read_csv(q2_transaction_csv, na_values=['None'], index_col=0)\n",
    "pois = pd.read_csv(q2_poi_csv, na_values=['None'], index_col=0)\n"
   ]
  },
  {
   "cell_type": "markdown",
   "metadata": {},
   "source": [
    "### Few data to clean:\n",
    "#### TOWNSHIP:\n",
    "#### - drop area = None\n",
    "#### - drop latitude or longitude = None or 0\n",
    "\n",
    "#### POI:\n",
    "#### - drop duplicate rows\n",
    "\n",
    "#### TRANSACTION:\n",
    "#### - drop planned_region = None\n",
    "#### - drop tenure column\n",
    "#### - replace bedrooms None with 0\n"
   ]
  },
  {
   "cell_type": "markdown",
   "metadata": {},
   "source": [
    "## Township"
   ]
  },
  {
   "cell_type": "code",
   "execution_count": 3,
   "metadata": {},
   "outputs": [
    {
     "data": {
      "text/html": [
       "<div>\n",
       "<style scoped>\n",
       "    .dataframe tbody tr th:only-of-type {\n",
       "        vertical-align: middle;\n",
       "    }\n",
       "\n",
       "    .dataframe tbody tr th {\n",
       "        vertical-align: top;\n",
       "    }\n",
       "\n",
       "    .dataframe thead th {\n",
       "        text-align: right;\n",
       "    }\n",
       "</style>\n",
       "<table border=\"1\" class=\"dataframe\">\n",
       "  <thead>\n",
       "    <tr style=\"text-align: right;\">\n",
       "      <th></th>\n",
       "      <th>project_id</th>\n",
       "      <th>latitude</th>\n",
       "      <th>longitude</th>\n",
       "      <th>project_name</th>\n",
       "      <th>state</th>\n",
       "      <th>area</th>\n",
       "      <th>street_name</th>\n",
       "      <th>median_psf</th>\n",
       "      <th>median_price</th>\n",
       "    </tr>\n",
       "  </thead>\n",
       "  <tbody>\n",
       "    <tr>\n",
       "      <th>0</th>\n",
       "      <td>10113</td>\n",
       "      <td>3.200030</td>\n",
       "      <td>101.642998</td>\n",
       "      <td>Kepong Baru</td>\n",
       "      <td>Kuala Lumpur</td>\n",
       "      <td>Kepong</td>\n",
       "      <td>JALAN HELANG</td>\n",
       "      <td>388</td>\n",
       "      <td>775000</td>\n",
       "    </tr>\n",
       "    <tr>\n",
       "      <th>1</th>\n",
       "      <td>16814</td>\n",
       "      <td>3.087248</td>\n",
       "      <td>101.721283</td>\n",
       "      <td>Bandar Tun Razak (Kampung Konggo)</td>\n",
       "      <td>Kuala Lumpur</td>\n",
       "      <td>Bandar Tun Razak</td>\n",
       "      <td>JALAN JUJUR 3</td>\n",
       "      <td>294</td>\n",
       "      <td>396667</td>\n",
       "    </tr>\n",
       "    <tr>\n",
       "      <th>2</th>\n",
       "      <td>16319</td>\n",
       "      <td>3.181050</td>\n",
       "      <td>101.672996</td>\n",
       "      <td>Sri Putramas I</td>\n",
       "      <td>Kuala Lumpur</td>\n",
       "      <td>Dutamas</td>\n",
       "      <td>JALAN PUTRAMAS 1</td>\n",
       "      <td>394</td>\n",
       "      <td>432667</td>\n",
       "    </tr>\n",
       "    <tr>\n",
       "      <th>3</th>\n",
       "      <td>17003</td>\n",
       "      <td>3.149142</td>\n",
       "      <td>101.624763</td>\n",
       "      <td>Taman Tun Dr Ismail (TTDI)</td>\n",
       "      <td>Kuala Lumpur</td>\n",
       "      <td>Taman Tun Dr Ismail</td>\n",
       "      <td>LENGKOK AMINUDDIN BAKI</td>\n",
       "      <td>814</td>\n",
       "      <td>1541667</td>\n",
       "    </tr>\n",
       "    <tr>\n",
       "      <th>4</th>\n",
       "      <td>25133</td>\n",
       "      <td>3.192106</td>\n",
       "      <td>101.639056</td>\n",
       "      <td>Bandar Menjalara (Desa Seri Mahkota)</td>\n",
       "      <td>Kuala Lumpur</td>\n",
       "      <td>Bandar Menjalara</td>\n",
       "      <td>JALAN 6/62</td>\n",
       "      <td>512</td>\n",
       "      <td>635000</td>\n",
       "    </tr>\n",
       "  </tbody>\n",
       "</table>\n",
       "</div>"
      ],
      "text/plain": [
       "   project_id  latitude   longitude                          project_name  \\\n",
       "0       10113  3.200030  101.642998                           Kepong Baru   \n",
       "1       16814  3.087248  101.721283     Bandar Tun Razak (Kampung Konggo)   \n",
       "2       16319  3.181050  101.672996                        Sri Putramas I   \n",
       "3       17003  3.149142  101.624763            Taman Tun Dr Ismail (TTDI)   \n",
       "4       25133  3.192106  101.639056  Bandar Menjalara (Desa Seri Mahkota)   \n",
       "\n",
       "          state                 area             street_name  median_psf  \\\n",
       "0  Kuala Lumpur               Kepong            JALAN HELANG         388   \n",
       "1  Kuala Lumpur     Bandar Tun Razak           JALAN JUJUR 3         294   \n",
       "2  Kuala Lumpur              Dutamas        JALAN PUTRAMAS 1         394   \n",
       "3  Kuala Lumpur  Taman Tun Dr Ismail  LENGKOK AMINUDDIN BAKI         814   \n",
       "4  Kuala Lumpur     Bandar Menjalara              JALAN 6/62         512   \n",
       "\n",
       "   median_price  \n",
       "0        775000  \n",
       "1        396667  \n",
       "2        432667  \n",
       "3       1541667  \n",
       "4        635000  "
      ]
     },
     "execution_count": 3,
     "metadata": {},
     "output_type": "execute_result"
    }
   ],
   "source": [
    "townships.head()"
   ]
  },
  {
   "cell_type": "code",
   "execution_count": 4,
   "metadata": {},
   "outputs": [
    {
     "data": {
      "text/plain": [
       "(132, 9)"
      ]
     },
     "execution_count": 4,
     "metadata": {},
     "output_type": "execute_result"
    }
   ],
   "source": [
    "townships.shape"
   ]
  },
  {
   "cell_type": "code",
   "execution_count": 5,
   "metadata": {
    "scrolled": true
   },
   "outputs": [
    {
     "data": {
      "text/plain": [
       "<matplotlib.axes._subplots.AxesSubplot at 0x7fe1efc94588>"
      ]
     },
     "execution_count": 5,
     "metadata": {},
     "output_type": "execute_result"
    },
    {
     "data": {
      "image/png": "[encoded data removed]",
      "text/plain": [
       "<Figure size 432x288 with 1 Axes>"
      ]
     },
     "metadata": {
      "needs_background": "light"
     },
     "output_type": "display_data"
    }
   ],
   "source": [
    "# scatter plot of longitude and latitude data visualized geographical distribution.\n",
    "# null values as well as extreme values which are far from the targetted geographical area \n",
    "# needs to be corrected or cleaned\n",
    "\n",
    "townships[['latitude', 'longitude']].dropna().astype(float).plot.scatter(\n",
    "    x = 'longitude', y = 'latitude', c = 'Blue', alpha = 0.3\n",
    ")"
   ]
  },
  {
   "cell_type": "code",
   "execution_count": 6,
   "metadata": {},
   "outputs": [
    {
     "data": {
      "text/html": [
       "<div>\n",
       "<style scoped>\n",
       "    .dataframe tbody tr th:only-of-type {\n",
       "        vertical-align: middle;\n",
       "    }\n",
       "\n",
       "    .dataframe tbody tr th {\n",
       "        vertical-align: top;\n",
       "    }\n",
       "\n",
       "    .dataframe thead th {\n",
       "        text-align: right;\n",
       "    }\n",
       "</style>\n",
       "<table border=\"1\" class=\"dataframe\">\n",
       "  <thead>\n",
       "    <tr style=\"text-align: right;\">\n",
       "      <th></th>\n",
       "      <th>project_id</th>\n",
       "      <th>latitude</th>\n",
       "      <th>longitude</th>\n",
       "      <th>project_name</th>\n",
       "      <th>state</th>\n",
       "      <th>area</th>\n",
       "      <th>street_name</th>\n",
       "      <th>median_psf</th>\n",
       "      <th>median_price</th>\n",
       "    </tr>\n",
       "  </thead>\n",
       "  <tbody>\n",
       "    <tr>\n",
       "      <th>6</th>\n",
       "      <td>29292</td>\n",
       "      <td>NaN</td>\n",
       "      <td>NaN</td>\n",
       "      <td>DESA PARK CITY (SOUTH LAKE)</td>\n",
       "      <td>Kuala Lumpur</td>\n",
       "      <td>NaN</td>\n",
       "      <td>JALAN DENAI SELATAN</td>\n",
       "      <td>1124</td>\n",
       "      <td>1850000</td>\n",
       "    </tr>\n",
       "    <tr>\n",
       "      <th>29</th>\n",
       "      <td>26244</td>\n",
       "      <td>NaN</td>\n",
       "      <td>NaN</td>\n",
       "      <td>Jalan Sri Hartamas</td>\n",
       "      <td>Kuala Lumpur</td>\n",
       "      <td>NaN</td>\n",
       "      <td>JALAN SRI HARTAMAS</td>\n",
       "      <td>824</td>\n",
       "      <td>550000</td>\n",
       "    </tr>\n",
       "    <tr>\n",
       "      <th>30</th>\n",
       "      <td>26245</td>\n",
       "      <td>NaN</td>\n",
       "      <td>NaN</td>\n",
       "      <td>Jalan Stonor</td>\n",
       "      <td>Kuala Lumpur</td>\n",
       "      <td>NaN</td>\n",
       "      <td>JALAN STONOR</td>\n",
       "      <td>789</td>\n",
       "      <td>2650000</td>\n",
       "    </tr>\n",
       "    <tr>\n",
       "      <th>78</th>\n",
       "      <td>28340</td>\n",
       "      <td>0.0</td>\n",
       "      <td>0.0</td>\n",
       "      <td>Serenia City</td>\n",
       "      <td>Selangor</td>\n",
       "      <td>Dengkil</td>\n",
       "      <td>JALAN AMAN SERENIA 7/10 BANDAR SERENIA</td>\n",
       "      <td>388</td>\n",
       "      <td>624088</td>\n",
       "    </tr>\n",
       "    <tr>\n",
       "      <th>86</th>\n",
       "      <td>28531</td>\n",
       "      <td>0.0</td>\n",
       "      <td>0.0</td>\n",
       "      <td>Taman Sri Pelangi</td>\n",
       "      <td>Selangor</td>\n",
       "      <td>NaN</td>\n",
       "      <td>JALAN SUNGAI RABA</td>\n",
       "      <td>285</td>\n",
       "      <td>438800</td>\n",
       "    </tr>\n",
       "    <tr>\n",
       "      <th>104</th>\n",
       "      <td>8643</td>\n",
       "      <td>0.0</td>\n",
       "      <td>0.0</td>\n",
       "      <td>Pangsapuri PKNS SS3</td>\n",
       "      <td>Selangor</td>\n",
       "      <td>Kelana Jaya</td>\n",
       "      <td>JALAN SS 3/39</td>\n",
       "      <td>216</td>\n",
       "      <td>130000</td>\n",
       "    </tr>\n",
       "  </tbody>\n",
       "</table>\n",
       "</div>"
      ],
      "text/plain": [
       "     project_id  latitude  longitude                 project_name  \\\n",
       "6         29292       NaN        NaN  DESA PARK CITY (SOUTH LAKE)   \n",
       "29        26244       NaN        NaN           Jalan Sri Hartamas   \n",
       "30        26245       NaN        NaN                 Jalan Stonor   \n",
       "78        28340       0.0        0.0                 Serenia City   \n",
       "86        28531       0.0        0.0            Taman Sri Pelangi   \n",
       "104        8643       0.0        0.0          Pangsapuri PKNS SS3   \n",
       "\n",
       "            state         area                             street_name  \\\n",
       "6    Kuala Lumpur          NaN                     JALAN DENAI SELATAN   \n",
       "29   Kuala Lumpur          NaN                      JALAN SRI HARTAMAS   \n",
       "30   Kuala Lumpur          NaN                            JALAN STONOR   \n",
       "78       Selangor      Dengkil  JALAN AMAN SERENIA 7/10 BANDAR SERENIA   \n",
       "86       Selangor          NaN                       JALAN SUNGAI RABA   \n",
       "104      Selangor  Kelana Jaya                           JALAN SS 3/39   \n",
       "\n",
       "     median_psf  median_price  \n",
       "6          1124       1850000  \n",
       "29          824        550000  \n",
       "30          789       2650000  \n",
       "78          388        624088  \n",
       "86          285        438800  \n",
       "104         216        130000  "
      ]
     },
     "execution_count": 6,
     "metadata": {},
     "output_type": "execute_result"
    }
   ],
   "source": [
    "townships[\n",
    "    (townships['latitude'].isnull()) |\n",
    "    (townships['latitude'] == 0) |\n",
    "    (townships['longitude'].isnull()) |\n",
    "    (townships['longitude'] == 0)\n",
    "]"
   ]
  },
  {
   "cell_type": "code",
   "execution_count": 7,
   "metadata": {},
   "outputs": [
    {
     "data": {
      "text/html": [
       "<div>\n",
       "<style scoped>\n",
       "    .dataframe tbody tr th:only-of-type {\n",
       "        vertical-align: middle;\n",
       "    }\n",
       "\n",
       "    .dataframe tbody tr th {\n",
       "        vertical-align: top;\n",
       "    }\n",
       "\n",
       "    .dataframe thead th {\n",
       "        text-align: right;\n",
       "    }\n",
       "</style>\n",
       "<table border=\"1\" class=\"dataframe\">\n",
       "  <thead>\n",
       "    <tr style=\"text-align: right;\">\n",
       "      <th></th>\n",
       "      <th>project_id</th>\n",
       "      <th>latitude</th>\n",
       "      <th>longitude</th>\n",
       "      <th>project_name</th>\n",
       "      <th>state</th>\n",
       "      <th>area</th>\n",
       "      <th>street_name</th>\n",
       "      <th>median_psf</th>\n",
       "      <th>median_price</th>\n",
       "    </tr>\n",
       "  </thead>\n",
       "  <tbody>\n",
       "    <tr>\n",
       "      <th>6</th>\n",
       "      <td>29292</td>\n",
       "      <td>NaN</td>\n",
       "      <td>NaN</td>\n",
       "      <td>DESA PARK CITY (SOUTH LAKE)</td>\n",
       "      <td>Kuala Lumpur</td>\n",
       "      <td>NaN</td>\n",
       "      <td>JALAN DENAI SELATAN</td>\n",
       "      <td>1124</td>\n",
       "      <td>1850000</td>\n",
       "    </tr>\n",
       "    <tr>\n",
       "      <th>29</th>\n",
       "      <td>26244</td>\n",
       "      <td>NaN</td>\n",
       "      <td>NaN</td>\n",
       "      <td>Jalan Sri Hartamas</td>\n",
       "      <td>Kuala Lumpur</td>\n",
       "      <td>NaN</td>\n",
       "      <td>JALAN SRI HARTAMAS</td>\n",
       "      <td>824</td>\n",
       "      <td>550000</td>\n",
       "    </tr>\n",
       "    <tr>\n",
       "      <th>30</th>\n",
       "      <td>26245</td>\n",
       "      <td>NaN</td>\n",
       "      <td>NaN</td>\n",
       "      <td>Jalan Stonor</td>\n",
       "      <td>Kuala Lumpur</td>\n",
       "      <td>NaN</td>\n",
       "      <td>JALAN STONOR</td>\n",
       "      <td>789</td>\n",
       "      <td>2650000</td>\n",
       "    </tr>\n",
       "    <tr>\n",
       "      <th>86</th>\n",
       "      <td>28531</td>\n",
       "      <td>0.0</td>\n",
       "      <td>0.0</td>\n",
       "      <td>Taman Sri Pelangi</td>\n",
       "      <td>Selangor</td>\n",
       "      <td>NaN</td>\n",
       "      <td>JALAN SUNGAI RABA</td>\n",
       "      <td>285</td>\n",
       "      <td>438800</td>\n",
       "    </tr>\n",
       "  </tbody>\n",
       "</table>\n",
       "</div>"
      ],
      "text/plain": [
       "    project_id  latitude  longitude                 project_name  \\\n",
       "6        29292       NaN        NaN  DESA PARK CITY (SOUTH LAKE)   \n",
       "29       26244       NaN        NaN           Jalan Sri Hartamas   \n",
       "30       26245       NaN        NaN                 Jalan Stonor   \n",
       "86       28531       0.0        0.0            Taman Sri Pelangi   \n",
       "\n",
       "           state area          street_name  median_psf  median_price  \n",
       "6   Kuala Lumpur  NaN  JALAN DENAI SELATAN        1124       1850000  \n",
       "29  Kuala Lumpur  NaN   JALAN SRI HARTAMAS         824        550000  \n",
       "30  Kuala Lumpur  NaN         JALAN STONOR         789       2650000  \n",
       "86      Selangor  NaN    JALAN SUNGAI RABA         285        438800  "
      ]
     },
     "execution_count": 7,
     "metadata": {},
     "output_type": "execute_result"
    }
   ],
   "source": [
    "# rows with missing area are subsets of rows with missing GPS coordination\n",
    "townships[pd.isna(townships['area'])]"
   ]
  },
  {
   "cell_type": "code",
   "execution_count": 8,
   "metadata": {},
   "outputs": [
    {
     "data": {
      "text/plain": [
       "(126, 9)"
      ]
     },
     "execution_count": 8,
     "metadata": {},
     "output_type": "execute_result"
    }
   ],
   "source": [
    "# For latitude and longitude, fill 0 with NaN, then drop NaN\n",
    "townships[['latitude', 'longitude']] = townships[['latitude', 'longitude']].replace(['0', 0], np.nan)\n",
    "townships.dropna(subset=['latitude', 'longitude'], how='any', inplace=True)\n",
    "townships.shape"
   ]
  },
  {
   "cell_type": "code",
   "execution_count": 9,
   "metadata": {},
   "outputs": [
    {
     "data": {
      "text/plain": [
       "<matplotlib.axes._subplots.AxesSubplot at 0x7fe1edbe4550>"
      ]
     },
     "execution_count": 9,
     "metadata": {},
     "output_type": "execute_result"
    },
    {
     "data": {
      "image/png": "[encoded data removed]",
      "text/plain": [
       "<Figure size 432x288 with 1 Axes>"
      ]
     },
     "metadata": {
      "needs_background": "light"
     },
     "output_type": "display_data"
    }
   ],
   "source": [
    "# Plot after droping NaN and 0\n",
    "\n",
    "townships[['latitude', 'longitude']].plot.scatter(\n",
    "    x = 'longitude', y = 'latitude', c = 'Blue', alpha = 0.3\n",
    ")"
   ]
  },
  {
   "cell_type": "code",
   "execution_count": 10,
   "metadata": {},
   "outputs": [
    {
     "data": {
      "text/plain": [
       "0"
      ]
     },
     "execution_count": 10,
     "metadata": {},
     "output_type": "execute_result"
    }
   ],
   "source": [
    "## Skip droping area = None because these rows are the same with Latitude or Longitude = NaN or 0\n",
    "townships['area'].isnull().sum()"
   ]
  },
  {
   "cell_type": "code",
   "execution_count": 11,
   "metadata": {},
   "outputs": [
    {
     "data": {
      "text/html": [
       "<div>\n",
       "<style scoped>\n",
       "    .dataframe tbody tr th:only-of-type {\n",
       "        vertical-align: middle;\n",
       "    }\n",
       "\n",
       "    .dataframe tbody tr th {\n",
       "        vertical-align: top;\n",
       "    }\n",
       "\n",
       "    .dataframe thead th {\n",
       "        text-align: right;\n",
       "    }\n",
       "</style>\n",
       "<table border=\"1\" class=\"dataframe\">\n",
       "  <thead>\n",
       "    <tr style=\"text-align: right;\">\n",
       "      <th></th>\n",
       "      <th>project_id</th>\n",
       "      <th>latitude</th>\n",
       "      <th>longitude</th>\n",
       "      <th>project_name</th>\n",
       "      <th>state</th>\n",
       "      <th>area</th>\n",
       "      <th>street_name</th>\n",
       "      <th>median_psf</th>\n",
       "      <th>median_price</th>\n",
       "    </tr>\n",
       "  </thead>\n",
       "  <tbody>\n",
       "    <tr>\n",
       "      <th>0</th>\n",
       "      <td>10113</td>\n",
       "      <td>3.200030</td>\n",
       "      <td>101.642998</td>\n",
       "      <td>Kepong Baru</td>\n",
       "      <td>Kuala Lumpur</td>\n",
       "      <td>Kepong</td>\n",
       "      <td>JALAN HELANG</td>\n",
       "      <td>388</td>\n",
       "      <td>775000</td>\n",
       "    </tr>\n",
       "    <tr>\n",
       "      <th>1</th>\n",
       "      <td>16814</td>\n",
       "      <td>3.087248</td>\n",
       "      <td>101.721283</td>\n",
       "      <td>Bandar Tun Razak (Kampung Konggo)</td>\n",
       "      <td>Kuala Lumpur</td>\n",
       "      <td>Bandar Tun Razak</td>\n",
       "      <td>JALAN JUJUR 3</td>\n",
       "      <td>294</td>\n",
       "      <td>396667</td>\n",
       "    </tr>\n",
       "    <tr>\n",
       "      <th>2</th>\n",
       "      <td>16319</td>\n",
       "      <td>3.181050</td>\n",
       "      <td>101.672996</td>\n",
       "      <td>Sri Putramas I</td>\n",
       "      <td>Kuala Lumpur</td>\n",
       "      <td>Dutamas</td>\n",
       "      <td>JALAN PUTRAMAS 1</td>\n",
       "      <td>394</td>\n",
       "      <td>432667</td>\n",
       "    </tr>\n",
       "    <tr>\n",
       "      <th>3</th>\n",
       "      <td>17003</td>\n",
       "      <td>3.149142</td>\n",
       "      <td>101.624763</td>\n",
       "      <td>Taman Tun Dr Ismail (TTDI)</td>\n",
       "      <td>Kuala Lumpur</td>\n",
       "      <td>Taman Tun Dr Ismail</td>\n",
       "      <td>LENGKOK AMINUDDIN BAKI</td>\n",
       "      <td>814</td>\n",
       "      <td>1541667</td>\n",
       "    </tr>\n",
       "    <tr>\n",
       "      <th>4</th>\n",
       "      <td>25133</td>\n",
       "      <td>3.192106</td>\n",
       "      <td>101.639056</td>\n",
       "      <td>Bandar Menjalara (Desa Seri Mahkota)</td>\n",
       "      <td>Kuala Lumpur</td>\n",
       "      <td>Bandar Menjalara</td>\n",
       "      <td>JALAN 6/62</td>\n",
       "      <td>512</td>\n",
       "      <td>635000</td>\n",
       "    </tr>\n",
       "  </tbody>\n",
       "</table>\n",
       "</div>"
      ],
      "text/plain": [
       "   project_id  latitude   longitude                          project_name  \\\n",
       "0       10113  3.200030  101.642998                           Kepong Baru   \n",
       "1       16814  3.087248  101.721283     Bandar Tun Razak (Kampung Konggo)   \n",
       "2       16319  3.181050  101.672996                        Sri Putramas I   \n",
       "3       17003  3.149142  101.624763            Taman Tun Dr Ismail (TTDI)   \n",
       "4       25133  3.192106  101.639056  Bandar Menjalara (Desa Seri Mahkota)   \n",
       "\n",
       "          state                 area             street_name  median_psf  \\\n",
       "0  Kuala Lumpur               Kepong            JALAN HELANG         388   \n",
       "1  Kuala Lumpur     Bandar Tun Razak           JALAN JUJUR 3         294   \n",
       "2  Kuala Lumpur              Dutamas        JALAN PUTRAMAS 1         394   \n",
       "3  Kuala Lumpur  Taman Tun Dr Ismail  LENGKOK AMINUDDIN BAKI         814   \n",
       "4  Kuala Lumpur     Bandar Menjalara              JALAN 6/62         512   \n",
       "\n",
       "   median_price  \n",
       "0        775000  \n",
       "1        396667  \n",
       "2        432667  \n",
       "3       1541667  \n",
       "4        635000  "
      ]
     },
     "execution_count": 11,
     "metadata": {},
     "output_type": "execute_result"
    }
   ],
   "source": [
    "townships.head()"
   ]
  },
  {
   "cell_type": "code",
   "execution_count": 12,
   "metadata": {},
   "outputs": [
    {
     "data": {
      "text/plain": [
       "(126, 9)"
      ]
     },
     "execution_count": 12,
     "metadata": {},
     "output_type": "execute_result"
    }
   ],
   "source": [
    "townships.shape"
   ]
  },
  {
   "cell_type": "code",
   "execution_count": 13,
   "metadata": {},
   "outputs": [],
   "source": [
    "townships.to_csv(township_csv)"
   ]
  },
  {
   "cell_type": "markdown",
   "metadata": {},
   "source": [
    "## POI"
   ]
  },
  {
   "cell_type": "code",
   "execution_count": 14,
   "metadata": {},
   "outputs": [
    {
     "data": {
      "text/html": [
       "<div>\n",
       "<style scoped>\n",
       "    .dataframe tbody tr th:only-of-type {\n",
       "        vertical-align: middle;\n",
       "    }\n",
       "\n",
       "    .dataframe tbody tr th {\n",
       "        vertical-align: top;\n",
       "    }\n",
       "\n",
       "    .dataframe thead th {\n",
       "        text-align: right;\n",
       "    }\n",
       "</style>\n",
       "<table border=\"1\" class=\"dataframe\">\n",
       "  <thead>\n",
       "    <tr style=\"text-align: right;\">\n",
       "      <th></th>\n",
       "      <th>name</th>\n",
       "      <th>category</th>\n",
       "      <th>latitude</th>\n",
       "      <th>longitude</th>\n",
       "    </tr>\n",
       "  </thead>\n",
       "  <tbody>\n",
       "    <tr>\n",
       "      <th>0</th>\n",
       "      <td>Sekolah Menengah Kebangsaan Kepong Baru</td>\n",
       "      <td>education</td>\n",
       "      <td>3.197770</td>\n",
       "      <td>101.647000</td>\n",
       "    </tr>\n",
       "    <tr>\n",
       "      <th>1</th>\n",
       "      <td>Sekolah Kebangsaan Taman Kepong</td>\n",
       "      <td>education</td>\n",
       "      <td>3.198950</td>\n",
       "      <td>101.648000</td>\n",
       "    </tr>\n",
       "    <tr>\n",
       "      <th>2</th>\n",
       "      <td>Sekolah Kebangsaan Kepong Baru</td>\n",
       "      <td>education</td>\n",
       "      <td>3.205899</td>\n",
       "      <td>101.645528</td>\n",
       "    </tr>\n",
       "    <tr>\n",
       "      <th>3</th>\n",
       "      <td>Sekolah Kebangsaan Menjalara</td>\n",
       "      <td>education</td>\n",
       "      <td>3.193969</td>\n",
       "      <td>101.637578</td>\n",
       "    </tr>\n",
       "    <tr>\n",
       "      <th>4</th>\n",
       "      <td>Sekolah Menengah Kebangsaan Taman Bukit Maluri</td>\n",
       "      <td>education</td>\n",
       "      <td>3.202450</td>\n",
       "      <td>101.634000</td>\n",
       "    </tr>\n",
       "  </tbody>\n",
       "</table>\n",
       "</div>"
      ],
      "text/plain": [
       "                                             name   category  latitude  \\\n",
       "0         Sekolah Menengah Kebangsaan Kepong Baru  education  3.197770   \n",
       "1                 Sekolah Kebangsaan Taman Kepong  education  3.198950   \n",
       "2                  Sekolah Kebangsaan Kepong Baru  education  3.205899   \n",
       "3                    Sekolah Kebangsaan Menjalara  education  3.193969   \n",
       "4  Sekolah Menengah Kebangsaan Taman Bukit Maluri  education  3.202450   \n",
       "\n",
       "    longitude  \n",
       "0  101.647000  \n",
       "1  101.648000  \n",
       "2  101.645528  \n",
       "3  101.637578  \n",
       "4  101.634000  "
      ]
     },
     "execution_count": 14,
     "metadata": {},
     "output_type": "execute_result"
    }
   ],
   "source": [
    "pois.head()"
   ]
  },
  {
   "cell_type": "code",
   "execution_count": 15,
   "metadata": {},
   "outputs": [
    {
     "data": {
      "text/plain": [
       "(5442, 4)"
      ]
     },
     "execution_count": 15,
     "metadata": {},
     "output_type": "execute_result"
    }
   ],
   "source": [
    "pois.shape"
   ]
  },
  {
   "cell_type": "code",
   "execution_count": 16,
   "metadata": {
    "scrolled": true
   },
   "outputs": [
    {
     "data": {
      "text/plain": [
       "(1255, 4)"
      ]
     },
     "execution_count": 16,
     "metadata": {},
     "output_type": "execute_result"
    }
   ],
   "source": [
    "pois.drop_duplicates(inplace = True)\n",
    "pois.shape"
   ]
  },
  {
   "cell_type": "code",
   "execution_count": 17,
   "metadata": {},
   "outputs": [],
   "source": [
    "pois.to_csv(poi_csv)"
   ]
  },
  {
   "cell_type": "markdown",
   "metadata": {},
   "source": [
    "## Transactions"
   ]
  },
  {
   "cell_type": "code",
   "execution_count": 18,
   "metadata": {
    "scrolled": true
   },
   "outputs": [
    {
     "data": {
      "text/html": [
       "<div>\n",
       "<style scoped>\n",
       "    .dataframe tbody tr th:only-of-type {\n",
       "        vertical-align: middle;\n",
       "    }\n",
       "\n",
       "    .dataframe tbody tr th {\n",
       "        vertical-align: top;\n",
       "    }\n",
       "\n",
       "    .dataframe thead th {\n",
       "        text-align: right;\n",
       "    }\n",
       "</style>\n",
       "<table border=\"1\" class=\"dataframe\">\n",
       "  <thead>\n",
       "    <tr style=\"text-align: right;\">\n",
       "      <th></th>\n",
       "      <th>project_id</th>\n",
       "      <th>date</th>\n",
       "      <th>property_type</th>\n",
       "      <th>tenure</th>\n",
       "      <th>area_sqft</th>\n",
       "      <th>non_landed</th>\n",
       "      <th>bedrooms</th>\n",
       "      <th>street_name</th>\n",
       "      <th>psf</th>\n",
       "      <th>price</th>\n",
       "      <th>planning_region</th>\n",
       "    </tr>\n",
       "  </thead>\n",
       "  <tbody>\n",
       "    <tr>\n",
       "      <th>0</th>\n",
       "      <td>10113</td>\n",
       "      <td>1576454400</td>\n",
       "      <td>Terrace House</td>\n",
       "      <td>Leasehold</td>\n",
       "      <td>1970</td>\n",
       "      <td>0</td>\n",
       "      <td>3.0</td>\n",
       "      <td>JALAN HELANG</td>\n",
       "      <td>310</td>\n",
       "      <td>610000</td>\n",
       "      <td>Kepong</td>\n",
       "    </tr>\n",
       "    <tr>\n",
       "      <th>1</th>\n",
       "      <td>10113</td>\n",
       "      <td>1576195200</td>\n",
       "      <td>Terrace House</td>\n",
       "      <td>Leasehold</td>\n",
       "      <td>1539</td>\n",
       "      <td>0</td>\n",
       "      <td>3.0</td>\n",
       "      <td>LORONG LANG HITAM 6</td>\n",
       "      <td>468</td>\n",
       "      <td>720000</td>\n",
       "      <td>Kepong</td>\n",
       "    </tr>\n",
       "    <tr>\n",
       "      <th>2</th>\n",
       "      <td>10113</td>\n",
       "      <td>1576108800</td>\n",
       "      <td>Terrace House</td>\n",
       "      <td>Leasehold</td>\n",
       "      <td>1539</td>\n",
       "      <td>0</td>\n",
       "      <td>3.0</td>\n",
       "      <td>JALAN LANG KEPALA PUTIH</td>\n",
       "      <td>435</td>\n",
       "      <td>670000</td>\n",
       "      <td>Kepong</td>\n",
       "    </tr>\n",
       "    <tr>\n",
       "      <th>3</th>\n",
       "      <td>10113</td>\n",
       "      <td>1575936000</td>\n",
       "      <td>Terrace House</td>\n",
       "      <td>Leasehold</td>\n",
       "      <td>3272</td>\n",
       "      <td>0</td>\n",
       "      <td>3.0</td>\n",
       "      <td>JALAN CHIAK RAYA</td>\n",
       "      <td>336</td>\n",
       "      <td>1100000</td>\n",
       "      <td>Kepong</td>\n",
       "    </tr>\n",
       "    <tr>\n",
       "      <th>4</th>\n",
       "      <td>16814</td>\n",
       "      <td>1575936000</td>\n",
       "      <td>Cluster House</td>\n",
       "      <td>Leasehold</td>\n",
       "      <td>990</td>\n",
       "      <td>0</td>\n",
       "      <td>2.0</td>\n",
       "      <td>JALAN JUJUR 3</td>\n",
       "      <td>283</td>\n",
       "      <td>280000</td>\n",
       "      <td>Bandar Tun Razak</td>\n",
       "    </tr>\n",
       "  </tbody>\n",
       "</table>\n",
       "</div>"
      ],
      "text/plain": [
       "   project_id        date  property_type     tenure  area_sqft  non_landed  \\\n",
       "0       10113  1576454400  Terrace House  Leasehold       1970           0   \n",
       "1       10113  1576195200  Terrace House  Leasehold       1539           0   \n",
       "2       10113  1576108800  Terrace House  Leasehold       1539           0   \n",
       "3       10113  1575936000  Terrace House  Leasehold       3272           0   \n",
       "4       16814  1575936000  Cluster House  Leasehold        990           0   \n",
       "\n",
       "   bedrooms              street_name  psf    price   planning_region  \n",
       "0       3.0             JALAN HELANG  310   610000            Kepong  \n",
       "1       3.0      LORONG LANG HITAM 6  468   720000            Kepong  \n",
       "2       3.0  JALAN LANG KEPALA PUTIH  435   670000            Kepong  \n",
       "3       3.0         JALAN CHIAK RAYA  336  1100000            Kepong  \n",
       "4       2.0            JALAN JUJUR 3  283   280000  Bandar Tun Razak  "
      ]
     },
     "execution_count": 18,
     "metadata": {},
     "output_type": "execute_result"
    }
   ],
   "source": [
    "transactions.head()"
   ]
  },
  {
   "cell_type": "code",
   "execution_count": 19,
   "metadata": {},
   "outputs": [
    {
     "data": {
      "text/plain": [
       "(166, 11)"
      ]
     },
     "execution_count": 19,
     "metadata": {},
     "output_type": "execute_result"
    }
   ],
   "source": [
    "transactions.shape"
   ]
  },
  {
   "cell_type": "code",
   "execution_count": 20,
   "metadata": {},
   "outputs": [
    {
     "data": {
      "text/plain": [
       "<matplotlib.axes._subplots.AxesSubplot at 0x7fe1ed493eb8>"
      ]
     },
     "execution_count": 20,
     "metadata": {},
     "output_type": "execute_result"
    },
    {
     "data": {
      "image/png": "[encoded data removed]",
      "text/plain": [
       "<Figure size 432x288 with 1 Axes>"
      ]
     },
     "metadata": {
      "needs_background": "light"
     },
     "output_type": "display_data"
    }
   ],
   "source": [
    "sns.countplot(transactions['bedrooms'])"
   ]
  },
  {
   "cell_type": "code",
   "execution_count": 21,
   "metadata": {},
   "outputs": [],
   "source": [
    "# replace NaN with 0 for bedrooms\n",
    "transactions = transactions.fillna(value = {'bedrooms': 0})"
   ]
  },
  {
   "cell_type": "code",
   "execution_count": 22,
   "metadata": {},
   "outputs": [
    {
     "data": {
      "text/plain": [
       "<matplotlib.axes._subplots.AxesSubplot at 0x7fe1ed48d2b0>"
      ]
     },
     "execution_count": 22,
     "metadata": {},
     "output_type": "execute_result"
    },
    {
     "data": {
      "image/png": "[encoded data removed]",
      "text/plain": [
       "<Figure size 432x288 with 1 Axes>"
      ]
     },
     "metadata": {
      "needs_background": "light"
     },
     "output_type": "display_data"
    }
   ],
   "source": [
    "sns.countplot(transactions['bedrooms'])"
   ]
  },
  {
   "cell_type": "code",
   "execution_count": 23,
   "metadata": {},
   "outputs": [
    {
     "data": {
      "text/html": [
       "<div>\n",
       "<style scoped>\n",
       "    .dataframe tbody tr th:only-of-type {\n",
       "        vertical-align: middle;\n",
       "    }\n",
       "\n",
       "    .dataframe tbody tr th {\n",
       "        vertical-align: top;\n",
       "    }\n",
       "\n",
       "    .dataframe thead th {\n",
       "        text-align: right;\n",
       "    }\n",
       "</style>\n",
       "<table border=\"1\" class=\"dataframe\">\n",
       "  <thead>\n",
       "    <tr style=\"text-align: right;\">\n",
       "      <th></th>\n",
       "      <th>project_id</th>\n",
       "      <th>date</th>\n",
       "      <th>property_type</th>\n",
       "      <th>tenure</th>\n",
       "      <th>area_sqft</th>\n",
       "      <th>non_landed</th>\n",
       "      <th>bedrooms</th>\n",
       "      <th>street_name</th>\n",
       "      <th>psf</th>\n",
       "      <th>price</th>\n",
       "      <th>planning_region</th>\n",
       "    </tr>\n",
       "  </thead>\n",
       "  <tbody>\n",
       "    <tr>\n",
       "      <th>17</th>\n",
       "      <td>29292</td>\n",
       "      <td>1577664000</td>\n",
       "      <td>Terrace House</td>\n",
       "      <td>Leasehold</td>\n",
       "      <td>1647</td>\n",
       "      <td>0</td>\n",
       "      <td>4.0</td>\n",
       "      <td>JALAN DENAI SELATAN</td>\n",
       "      <td>1154</td>\n",
       "      <td>1900000</td>\n",
       "      <td>NaN</td>\n",
       "    </tr>\n",
       "    <tr>\n",
       "      <th>18</th>\n",
       "      <td>29292</td>\n",
       "      <td>1576022400</td>\n",
       "      <td>Terrace House</td>\n",
       "      <td>Leasehold</td>\n",
       "      <td>1647</td>\n",
       "      <td>0</td>\n",
       "      <td>4.0</td>\n",
       "      <td>JALAN DENAI SELATAN</td>\n",
       "      <td>1093</td>\n",
       "      <td>1800000</td>\n",
       "      <td>NaN</td>\n",
       "    </tr>\n",
       "    <tr>\n",
       "      <th>46</th>\n",
       "      <td>26244</td>\n",
       "      <td>1577318400</td>\n",
       "      <td>Hotel/Service Apartment</td>\n",
       "      <td>Leasehold</td>\n",
       "      <td>667</td>\n",
       "      <td>1</td>\n",
       "      <td>0.0</td>\n",
       "      <td>JALAN SRI HARTAMAS</td>\n",
       "      <td>824</td>\n",
       "      <td>550000</td>\n",
       "      <td>NaN</td>\n",
       "    </tr>\n",
       "    <tr>\n",
       "      <th>47</th>\n",
       "      <td>26245</td>\n",
       "      <td>1575417600</td>\n",
       "      <td>Condominium/Apartment</td>\n",
       "      <td>Leasehold</td>\n",
       "      <td>3358</td>\n",
       "      <td>1</td>\n",
       "      <td>6.0</td>\n",
       "      <td>JALAN STONOR</td>\n",
       "      <td>789</td>\n",
       "      <td>2650000</td>\n",
       "      <td>NaN</td>\n",
       "    </tr>\n",
       "    <tr>\n",
       "      <th>121</th>\n",
       "      <td>28531</td>\n",
       "      <td>1575417600</td>\n",
       "      <td>Terrace House</td>\n",
       "      <td>Leasehold</td>\n",
       "      <td>1539</td>\n",
       "      <td>0</td>\n",
       "      <td>4.0</td>\n",
       "      <td>JALAN SUNGAI RABA</td>\n",
       "      <td>285</td>\n",
       "      <td>438800</td>\n",
       "      <td>NaN</td>\n",
       "    </tr>\n",
       "    <tr>\n",
       "      <th>122</th>\n",
       "      <td>28531</td>\n",
       "      <td>1575417600</td>\n",
       "      <td>Terrace House</td>\n",
       "      <td>Leasehold</td>\n",
       "      <td>1539</td>\n",
       "      <td>0</td>\n",
       "      <td>4.0</td>\n",
       "      <td>JALAN SUNGAI RABA</td>\n",
       "      <td>285</td>\n",
       "      <td>438800</td>\n",
       "      <td>NaN</td>\n",
       "    </tr>\n",
       "  </tbody>\n",
       "</table>\n",
       "</div>"
      ],
      "text/plain": [
       "     project_id        date            property_type     tenure  area_sqft  \\\n",
       "17        29292  1577664000            Terrace House  Leasehold       1647   \n",
       "18        29292  1576022400            Terrace House  Leasehold       1647   \n",
       "46        26244  1577318400  Hotel/Service Apartment  Leasehold        667   \n",
       "47        26245  1575417600    Condominium/Apartment  Leasehold       3358   \n",
       "121       28531  1575417600            Terrace House  Leasehold       1539   \n",
       "122       28531  1575417600            Terrace House  Leasehold       1539   \n",
       "\n",
       "     non_landed  bedrooms          street_name   psf    price planning_region  \n",
       "17            0       4.0  JALAN DENAI SELATAN  1154  1900000             NaN  \n",
       "18            0       4.0  JALAN DENAI SELATAN  1093  1800000             NaN  \n",
       "46            1       0.0   JALAN SRI HARTAMAS   824   550000             NaN  \n",
       "47            1       6.0         JALAN STONOR   789  2650000             NaN  \n",
       "121           0       4.0    JALAN SUNGAI RABA   285   438800             NaN  \n",
       "122           0       4.0    JALAN SUNGAI RABA   285   438800             NaN  "
      ]
     },
     "execution_count": 23,
     "metadata": {},
     "output_type": "execute_result"
    }
   ],
   "source": [
    "transactions[pd.isna(transactions['planning_region'])]"
   ]
  },
  {
   "cell_type": "code",
   "execution_count": 24,
   "metadata": {
    "scrolled": true
   },
   "outputs": [
    {
     "data": {
      "text/html": [
       "<div>\n",
       "<style scoped>\n",
       "    .dataframe tbody tr th:only-of-type {\n",
       "        vertical-align: middle;\n",
       "    }\n",
       "\n",
       "    .dataframe tbody tr th {\n",
       "        vertical-align: top;\n",
       "    }\n",
       "\n",
       "    .dataframe thead th {\n",
       "        text-align: right;\n",
       "    }\n",
       "</style>\n",
       "<table border=\"1\" class=\"dataframe\">\n",
       "  <thead>\n",
       "    <tr style=\"text-align: right;\">\n",
       "      <th></th>\n",
       "      <th>project_id</th>\n",
       "      <th>latitude</th>\n",
       "      <th>longitude</th>\n",
       "      <th>project_name</th>\n",
       "      <th>state</th>\n",
       "      <th>area</th>\n",
       "      <th>street_name</th>\n",
       "      <th>median_psf</th>\n",
       "      <th>median_price</th>\n",
       "    </tr>\n",
       "  </thead>\n",
       "  <tbody>\n",
       "  </tbody>\n",
       "</table>\n",
       "</div>"
      ],
      "text/plain": [
       "Empty DataFrame\n",
       "Columns: [project_id, latitude, longitude, project_name, state, area, street_name, median_psf, median_price]\n",
       "Index: []"
      ]
     },
     "execution_count": 24,
     "metadata": {},
     "output_type": "execute_result"
    }
   ],
   "source": [
    "# Missing planning_region cannot be looked up from township\n",
    "# Because they belong to the same projects as those twonship with missing area, \n",
    "# Drop rows with the missing value \n",
    "townships[townships['project_id'].isin([29292, 26244, 26245, 28531])]"
   ]
  },
  {
   "cell_type": "code",
   "execution_count": 25,
   "metadata": {},
   "outputs": [],
   "source": [
    "transactions.dropna(subset=['planning_region'], inplace = True)"
   ]
  },
  {
   "cell_type": "code",
   "execution_count": 26,
   "metadata": {},
   "outputs": [],
   "source": [
    "transactions.drop(['tenure'], axis=1, inplace=True)"
   ]
  },
  {
   "cell_type": "code",
   "execution_count": 27,
   "metadata": {
    "scrolled": true
   },
   "outputs": [
    {
     "data": {
      "text/html": [
       "<div>\n",
       "<style scoped>\n",
       "    .dataframe tbody tr th:only-of-type {\n",
       "        vertical-align: middle;\n",
       "    }\n",
       "\n",
       "    .dataframe tbody tr th {\n",
       "        vertical-align: top;\n",
       "    }\n",
       "\n",
       "    .dataframe thead th {\n",
       "        text-align: right;\n",
       "    }\n",
       "</style>\n",
       "<table border=\"1\" class=\"dataframe\">\n",
       "  <thead>\n",
       "    <tr style=\"text-align: right;\">\n",
       "      <th></th>\n",
       "      <th>project_id</th>\n",
       "      <th>date</th>\n",
       "      <th>property_type</th>\n",
       "      <th>area_sqft</th>\n",
       "      <th>non_landed</th>\n",
       "      <th>bedrooms</th>\n",
       "      <th>street_name</th>\n",
       "      <th>psf</th>\n",
       "      <th>price</th>\n",
       "      <th>planning_region</th>\n",
       "    </tr>\n",
       "  </thead>\n",
       "  <tbody>\n",
       "    <tr>\n",
       "      <th>0</th>\n",
       "      <td>10113</td>\n",
       "      <td>1576454400</td>\n",
       "      <td>Terrace House</td>\n",
       "      <td>1970</td>\n",
       "      <td>0</td>\n",
       "      <td>3.0</td>\n",
       "      <td>JALAN HELANG</td>\n",
       "      <td>310</td>\n",
       "      <td>610000</td>\n",
       "      <td>Kepong</td>\n",
       "    </tr>\n",
       "    <tr>\n",
       "      <th>1</th>\n",
       "      <td>10113</td>\n",
       "      <td>1576195200</td>\n",
       "      <td>Terrace House</td>\n",
       "      <td>1539</td>\n",
       "      <td>0</td>\n",
       "      <td>3.0</td>\n",
       "      <td>LORONG LANG HITAM 6</td>\n",
       "      <td>468</td>\n",
       "      <td>720000</td>\n",
       "      <td>Kepong</td>\n",
       "    </tr>\n",
       "    <tr>\n",
       "      <th>2</th>\n",
       "      <td>10113</td>\n",
       "      <td>1576108800</td>\n",
       "      <td>Terrace House</td>\n",
       "      <td>1539</td>\n",
       "      <td>0</td>\n",
       "      <td>3.0</td>\n",
       "      <td>JALAN LANG KEPALA PUTIH</td>\n",
       "      <td>435</td>\n",
       "      <td>670000</td>\n",
       "      <td>Kepong</td>\n",
       "    </tr>\n",
       "    <tr>\n",
       "      <th>3</th>\n",
       "      <td>10113</td>\n",
       "      <td>1575936000</td>\n",
       "      <td>Terrace House</td>\n",
       "      <td>3272</td>\n",
       "      <td>0</td>\n",
       "      <td>3.0</td>\n",
       "      <td>JALAN CHIAK RAYA</td>\n",
       "      <td>336</td>\n",
       "      <td>1100000</td>\n",
       "      <td>Kepong</td>\n",
       "    </tr>\n",
       "    <tr>\n",
       "      <th>4</th>\n",
       "      <td>16814</td>\n",
       "      <td>1575936000</td>\n",
       "      <td>Cluster House</td>\n",
       "      <td>990</td>\n",
       "      <td>0</td>\n",
       "      <td>2.0</td>\n",
       "      <td>JALAN JUJUR 3</td>\n",
       "      <td>283</td>\n",
       "      <td>280000</td>\n",
       "      <td>Bandar Tun Razak</td>\n",
       "    </tr>\n",
       "  </tbody>\n",
       "</table>\n",
       "</div>"
      ],
      "text/plain": [
       "   project_id        date  property_type  area_sqft  non_landed  bedrooms  \\\n",
       "0       10113  1576454400  Terrace House       1970           0       3.0   \n",
       "1       10113  1576195200  Terrace House       1539           0       3.0   \n",
       "2       10113  1576108800  Terrace House       1539           0       3.0   \n",
       "3       10113  1575936000  Terrace House       3272           0       3.0   \n",
       "4       16814  1575936000  Cluster House        990           0       2.0   \n",
       "\n",
       "               street_name  psf    price   planning_region  \n",
       "0             JALAN HELANG  310   610000            Kepong  \n",
       "1      LORONG LANG HITAM 6  468   720000            Kepong  \n",
       "2  JALAN LANG KEPALA PUTIH  435   670000            Kepong  \n",
       "3         JALAN CHIAK RAYA  336  1100000            Kepong  \n",
       "4            JALAN JUJUR 3  283   280000  Bandar Tun Razak  "
      ]
     },
     "execution_count": 27,
     "metadata": {},
     "output_type": "execute_result"
    }
   ],
   "source": [
    "transactions.head()"
   ]
  },
  {
   "cell_type": "code",
   "execution_count": 28,
   "metadata": {},
   "outputs": [
    {
     "data": {
      "text/plain": [
       "(160, 10)"
      ]
     },
     "execution_count": 28,
     "metadata": {},
     "output_type": "execute_result"
    }
   ],
   "source": [
    "transactions.shape"
   ]
  },
  {
   "cell_type": "code",
   "execution_count": 29,
   "metadata": {},
   "outputs": [],
   "source": [
    "transactions.to_csv(transaction_csv)"
   ]
  }
 ],
 "metadata": {
  "kernelspec": {
   "display_name": "py3",
   "language": "python",
   "name": "py3"
  },
  "language_info": {
   "codemirror_mode": {
    "name": "ipython",
    "version": 3
   },
   "file_extension": ".py",
   "mimetype": "text/x-python",
   "name": "python",
   "nbconvert_exporter": "python",
   "pygments_lexer": "ipython3",
   "version": "3.6.9"
  }
 },
 "nbformat": 4,
 "nbformat_minor": 4
}
