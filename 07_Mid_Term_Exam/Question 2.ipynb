{
 "cells": [
  {
   "cell_type": "code",
   "execution_count": 1,
   "metadata": {},
   "outputs": [],
   "source": [
    "import numpy as np \n",
    "import pandas as pd\n",
    "import matplotlib"
   ]
  },
  {
   "cell_type": "code",
   "execution_count": 2,
   "metadata": {},
   "outputs": [],
   "source": [
    "# load data from csv\n",
    "\n",
    "data_directory = 'data/'\n",
    "\n",
    "q1_township_csv = data_directory + 'q1_townships.csv'\n",
    "q1_transaction_csv = data_directory + 'q1_transactions.csv'\n",
    "q1_poi_csv = data_directory + 'q1_pois.csv'\n",
    "\n",
    "township_csv = data_directory + 'q2_townships.csv'\n",
    "transaction_csv = data_directory + 'q2_transactions.csv'\n",
    "poi_csv = data_directory + 'q2_pois.csv'\n",
    "\n",
    "townships = pd.read_csv(q1_township_csv, na_values=['None'])\n",
    "transactions = pd.read_csv(q1_transaction_csv, na_values=['None'])\n",
    "pois = pd.read_csv(q1_poi_csv, na_values=['None'])"
   ]
  },
  {
   "cell_type": "markdown",
   "metadata": {},
   "source": [
    "## Exploration on Twonship data"
   ]
  },
  {
   "cell_type": "code",
   "execution_count": 3,
   "metadata": {
    "scrolled": true
   },
   "outputs": [
    {
     "data": {
      "text/html": [
       "<div>\n",
       "<style scoped>\n",
       "    .dataframe tbody tr th:only-of-type {\n",
       "        vertical-align: middle;\n",
       "    }\n",
       "\n",
       "    .dataframe tbody tr th {\n",
       "        vertical-align: top;\n",
       "    }\n",
       "\n",
       "    .dataframe thead th {\n",
       "        text-align: right;\n",
       "    }\n",
       "</style>\n",
       "<table border=\"1\" class=\"dataframe\">\n",
       "  <thead>\n",
       "    <tr style=\"text-align: right;\">\n",
       "      <th></th>\n",
       "      <th>project_id</th>\n",
       "      <th>asset_id</th>\n",
       "      <th>latitude</th>\n",
       "      <th>longitude</th>\n",
       "      <th>project_name</th>\n",
       "      <th>state</th>\n",
       "      <th>area</th>\n",
       "      <th>street_name</th>\n",
       "      <th>transaction_count</th>\n",
       "      <th>median_psf</th>\n",
       "      <th>median_price</th>\n",
       "    </tr>\n",
       "  </thead>\n",
       "  <tbody>\n",
       "    <tr>\n",
       "      <th>0</th>\n",
       "      <td>10113</td>\n",
       "      <td>197831.0</td>\n",
       "      <td>3.200030</td>\n",
       "      <td>101.642998</td>\n",
       "      <td>Kepong Baru</td>\n",
       "      <td>Kuala Lumpur</td>\n",
       "      <td>Kepong</td>\n",
       "      <td>JALAN HELANG</td>\n",
       "      <td>4</td>\n",
       "      <td>388</td>\n",
       "      <td>775000</td>\n",
       "    </tr>\n",
       "    <tr>\n",
       "      <th>1</th>\n",
       "      <td>16814</td>\n",
       "      <td>198072.0</td>\n",
       "      <td>3.087248</td>\n",
       "      <td>101.721283</td>\n",
       "      <td>Bandar Tun Razak (Kampung Konggo)</td>\n",
       "      <td>Kuala Lumpur</td>\n",
       "      <td>Bandar Tun Razak</td>\n",
       "      <td>JALAN JUJUR 3</td>\n",
       "      <td>3</td>\n",
       "      <td>294</td>\n",
       "      <td>396667</td>\n",
       "    </tr>\n",
       "    <tr>\n",
       "      <th>2</th>\n",
       "      <td>16319</td>\n",
       "      <td>10652.0</td>\n",
       "      <td>3.181050</td>\n",
       "      <td>101.672996</td>\n",
       "      <td>Sri Putramas I</td>\n",
       "      <td>Kuala Lumpur</td>\n",
       "      <td>Dutamas</td>\n",
       "      <td>JALAN PUTRAMAS 1</td>\n",
       "      <td>3</td>\n",
       "      <td>394</td>\n",
       "      <td>432667</td>\n",
       "    </tr>\n",
       "    <tr>\n",
       "      <th>3</th>\n",
       "      <td>17003</td>\n",
       "      <td>198261.0</td>\n",
       "      <td>3.149142</td>\n",
       "      <td>101.624763</td>\n",
       "      <td>Taman Tun Dr Ismail (TTDI)</td>\n",
       "      <td>Kuala Lumpur</td>\n",
       "      <td>Taman Tun Dr Ismail</td>\n",
       "      <td>LENGKOK AMINUDDIN BAKI</td>\n",
       "      <td>3</td>\n",
       "      <td>814</td>\n",
       "      <td>1541667</td>\n",
       "    </tr>\n",
       "    <tr>\n",
       "      <th>4</th>\n",
       "      <td>25133</td>\n",
       "      <td>414613.0</td>\n",
       "      <td>3.192106</td>\n",
       "      <td>101.639056</td>\n",
       "      <td>Bandar Menjalara (Desa Seri Mahkota)</td>\n",
       "      <td>Kuala Lumpur</td>\n",
       "      <td>Bandar Menjalara</td>\n",
       "      <td>JALAN 6/62</td>\n",
       "      <td>2</td>\n",
       "      <td>512</td>\n",
       "      <td>635000</td>\n",
       "    </tr>\n",
       "  </tbody>\n",
       "</table>\n",
       "</div>"
      ],
      "text/plain": [
       "   project_id  asset_id  latitude   longitude  \\\n",
       "0       10113  197831.0  3.200030  101.642998   \n",
       "1       16814  198072.0  3.087248  101.721283   \n",
       "2       16319   10652.0  3.181050  101.672996   \n",
       "3       17003  198261.0  3.149142  101.624763   \n",
       "4       25133  414613.0  3.192106  101.639056   \n",
       "\n",
       "                           project_name         state                 area  \\\n",
       "0                           Kepong Baru  Kuala Lumpur               Kepong   \n",
       "1     Bandar Tun Razak (Kampung Konggo)  Kuala Lumpur     Bandar Tun Razak   \n",
       "2                        Sri Putramas I  Kuala Lumpur              Dutamas   \n",
       "3            Taman Tun Dr Ismail (TTDI)  Kuala Lumpur  Taman Tun Dr Ismail   \n",
       "4  Bandar Menjalara (Desa Seri Mahkota)  Kuala Lumpur     Bandar Menjalara   \n",
       "\n",
       "              street_name  transaction_count  median_psf  median_price  \n",
       "0            JALAN HELANG                  4         388        775000  \n",
       "1           JALAN JUJUR 3                  3         294        396667  \n",
       "2        JALAN PUTRAMAS 1                  3         394        432667  \n",
       "3  LENGKOK AMINUDDIN BAKI                  3         814       1541667  \n",
       "4              JALAN 6/62                  2         512        635000  "
      ]
     },
     "execution_count": 3,
     "metadata": {},
     "output_type": "execute_result"
    }
   ],
   "source": [
    "townships.head()"
   ]
  },
  {
   "cell_type": "code",
   "execution_count": 4,
   "metadata": {},
   "outputs": [
    {
     "data": {
      "text/plain": [
       "(132, 11)"
      ]
     },
     "execution_count": 4,
     "metadata": {},
     "output_type": "execute_result"
    }
   ],
   "source": [
    "townships.shape"
   ]
  },
  {
   "cell_type": "code",
   "execution_count": 5,
   "metadata": {
    "scrolled": true
   },
   "outputs": [
    {
     "data": {
      "text/html": [
       "<div>\n",
       "<style scoped>\n",
       "    .dataframe tbody tr th:only-of-type {\n",
       "        vertical-align: middle;\n",
       "    }\n",
       "\n",
       "    .dataframe tbody tr th {\n",
       "        vertical-align: top;\n",
       "    }\n",
       "\n",
       "    .dataframe thead th {\n",
       "        text-align: right;\n",
       "    }\n",
       "</style>\n",
       "<table border=\"1\" class=\"dataframe\">\n",
       "  <thead>\n",
       "    <tr style=\"text-align: right;\">\n",
       "      <th></th>\n",
       "      <th>project_id</th>\n",
       "      <th>asset_id</th>\n",
       "      <th>latitude</th>\n",
       "      <th>longitude</th>\n",
       "      <th>transaction_count</th>\n",
       "      <th>median_psf</th>\n",
       "      <th>median_price</th>\n",
       "    </tr>\n",
       "  </thead>\n",
       "  <tbody>\n",
       "    <tr>\n",
       "      <th>count</th>\n",
       "      <td>132.000000</td>\n",
       "      <td>126.000000</td>\n",
       "      <td>129.000000</td>\n",
       "      <td>129.000000</td>\n",
       "      <td>132.000000</td>\n",
       "      <td>132.000000</td>\n",
       "      <td>1.320000e+02</td>\n",
       "    </tr>\n",
       "    <tr>\n",
       "      <th>mean</th>\n",
       "      <td>14780.000000</td>\n",
       "      <td>161102.460317</td>\n",
       "      <td>3.018852</td>\n",
       "      <td>99.294902</td>\n",
       "      <td>1.272727</td>\n",
       "      <td>459.893939</td>\n",
       "      <td>8.175854e+05</td>\n",
       "    </tr>\n",
       "    <tr>\n",
       "      <th>std</th>\n",
       "      <td>5322.187322</td>\n",
       "      <td>139161.007630</td>\n",
       "      <td>0.479010</td>\n",
       "      <td>15.381447</td>\n",
       "      <td>0.933604</td>\n",
       "      <td>232.859039</td>\n",
       "      <td>8.960429e+05</td>\n",
       "    </tr>\n",
       "    <tr>\n",
       "      <th>min</th>\n",
       "      <td>8643.000000</td>\n",
       "      <td>3042.000000</td>\n",
       "      <td>0.000000</td>\n",
       "      <td>0.000000</td>\n",
       "      <td>1.000000</td>\n",
       "      <td>36.000000</td>\n",
       "      <td>5.000000e+04</td>\n",
       "    </tr>\n",
       "    <tr>\n",
       "      <th>25%</th>\n",
       "      <td>10849.250000</td>\n",
       "      <td>7703.500000</td>\n",
       "      <td>3.056050</td>\n",
       "      <td>101.616348</td>\n",
       "      <td>1.000000</td>\n",
       "      <td>329.000000</td>\n",
       "      <td>3.837500e+05</td>\n",
       "    </tr>\n",
       "    <tr>\n",
       "      <th>50%</th>\n",
       "      <td>13487.000000</td>\n",
       "      <td>197998.000000</td>\n",
       "      <td>3.104379</td>\n",
       "      <td>101.663002</td>\n",
       "      <td>1.000000</td>\n",
       "      <td>424.500000</td>\n",
       "      <td>5.675000e+05</td>\n",
       "    </tr>\n",
       "    <tr>\n",
       "      <th>75%</th>\n",
       "      <td>16896.250000</td>\n",
       "      <td>265539.000000</td>\n",
       "      <td>3.165540</td>\n",
       "      <td>101.710673</td>\n",
       "      <td>1.000000</td>\n",
       "      <td>551.750000</td>\n",
       "      <td>8.535000e+05</td>\n",
       "    </tr>\n",
       "    <tr>\n",
       "      <th>max</th>\n",
       "      <td>29292.000000</td>\n",
       "      <td>415438.000000</td>\n",
       "      <td>3.223386</td>\n",
       "      <td>101.842003</td>\n",
       "      <td>10.000000</td>\n",
       "      <td>1682.000000</td>\n",
       "      <td>7.200000e+06</td>\n",
       "    </tr>\n",
       "  </tbody>\n",
       "</table>\n",
       "</div>"
      ],
      "text/plain": [
       "         project_id       asset_id    latitude   longitude  transaction_count  \\\n",
       "count    132.000000     126.000000  129.000000  129.000000         132.000000   \n",
       "mean   14780.000000  161102.460317    3.018852   99.294902           1.272727   \n",
       "std     5322.187322  139161.007630    0.479010   15.381447           0.933604   \n",
       "min     8643.000000    3042.000000    0.000000    0.000000           1.000000   \n",
       "25%    10849.250000    7703.500000    3.056050  101.616348           1.000000   \n",
       "50%    13487.000000  197998.000000    3.104379  101.663002           1.000000   \n",
       "75%    16896.250000  265539.000000    3.165540  101.710673           1.000000   \n",
       "max    29292.000000  415438.000000    3.223386  101.842003          10.000000   \n",
       "\n",
       "        median_psf  median_price  \n",
       "count   132.000000  1.320000e+02  \n",
       "mean    459.893939  8.175854e+05  \n",
       "std     232.859039  8.960429e+05  \n",
       "min      36.000000  5.000000e+04  \n",
       "25%     329.000000  3.837500e+05  \n",
       "50%     424.500000  5.675000e+05  \n",
       "75%     551.750000  8.535000e+05  \n",
       "max    1682.000000  7.200000e+06  "
      ]
     },
     "execution_count": 5,
     "metadata": {},
     "output_type": "execute_result"
    }
   ],
   "source": [
    "townships.describe()"
   ]
  },
  {
   "cell_type": "code",
   "execution_count": 6,
   "metadata": {
    "scrolled": true
   },
   "outputs": [
    {
     "data": {
      "text/plain": [
       "asset_id             6\n",
       "area                 4\n",
       "longitude            3\n",
       "latitude             3\n",
       "street_name          1\n",
       "median_price         0\n",
       "median_psf           0\n",
       "transaction_count    0\n",
       "state                0\n",
       "project_name         0\n",
       "project_id           0\n",
       "dtype: int64"
      ]
     },
     "execution_count": 6,
     "metadata": {},
     "output_type": "execute_result"
    }
   ],
   "source": [
    "townships.isnull().sum().sort_values(ascending = False)"
   ]
  },
  {
   "cell_type": "code",
   "execution_count": 7,
   "metadata": {},
   "outputs": [
    {
     "data": {
      "text/html": [
       "<div>\n",
       "<style scoped>\n",
       "    .dataframe tbody tr th:only-of-type {\n",
       "        vertical-align: middle;\n",
       "    }\n",
       "\n",
       "    .dataframe tbody tr th {\n",
       "        vertical-align: top;\n",
       "    }\n",
       "\n",
       "    .dataframe thead th {\n",
       "        text-align: right;\n",
       "    }\n",
       "</style>\n",
       "<table border=\"1\" class=\"dataframe\">\n",
       "  <thead>\n",
       "    <tr style=\"text-align: right;\">\n",
       "      <th></th>\n",
       "      <th>project_id</th>\n",
       "      <th>asset_id</th>\n",
       "      <th>latitude</th>\n",
       "      <th>longitude</th>\n",
       "      <th>project_name</th>\n",
       "      <th>state</th>\n",
       "      <th>area</th>\n",
       "      <th>street_name</th>\n",
       "      <th>transaction_count</th>\n",
       "      <th>median_psf</th>\n",
       "      <th>median_price</th>\n",
       "    </tr>\n",
       "  </thead>\n",
       "  <tbody>\n",
       "    <tr>\n",
       "      <th>6</th>\n",
       "      <td>29292</td>\n",
       "      <td>NaN</td>\n",
       "      <td>NaN</td>\n",
       "      <td>NaN</td>\n",
       "      <td>DESA PARK CITY (SOUTH LAKE)</td>\n",
       "      <td>Kuala Lumpur</td>\n",
       "      <td>NaN</td>\n",
       "      <td>JALAN DENAI SELATAN</td>\n",
       "      <td>2</td>\n",
       "      <td>1124</td>\n",
       "      <td>1850000</td>\n",
       "    </tr>\n",
       "    <tr>\n",
       "      <th>29</th>\n",
       "      <td>26244</td>\n",
       "      <td>415438.0</td>\n",
       "      <td>NaN</td>\n",
       "      <td>NaN</td>\n",
       "      <td>Jalan Sri Hartamas</td>\n",
       "      <td>Kuala Lumpur</td>\n",
       "      <td>NaN</td>\n",
       "      <td>JALAN SRI HARTAMAS</td>\n",
       "      <td>1</td>\n",
       "      <td>824</td>\n",
       "      <td>550000</td>\n",
       "    </tr>\n",
       "    <tr>\n",
       "      <th>30</th>\n",
       "      <td>26245</td>\n",
       "      <td>415437.0</td>\n",
       "      <td>NaN</td>\n",
       "      <td>NaN</td>\n",
       "      <td>Jalan Stonor</td>\n",
       "      <td>Kuala Lumpur</td>\n",
       "      <td>NaN</td>\n",
       "      <td>JALAN STONOR</td>\n",
       "      <td>1</td>\n",
       "      <td>789</td>\n",
       "      <td>2650000</td>\n",
       "    </tr>\n",
       "    <tr>\n",
       "      <th>86</th>\n",
       "      <td>28531</td>\n",
       "      <td>NaN</td>\n",
       "      <td>0.0</td>\n",
       "      <td>0.0</td>\n",
       "      <td>Taman Sri Pelangi</td>\n",
       "      <td>Selangor</td>\n",
       "      <td>NaN</td>\n",
       "      <td>JALAN SUNGAI RABA</td>\n",
       "      <td>2</td>\n",
       "      <td>285</td>\n",
       "      <td>438800</td>\n",
       "    </tr>\n",
       "  </tbody>\n",
       "</table>\n",
       "</div>"
      ],
      "text/plain": [
       "    project_id  asset_id  latitude  longitude                 project_name  \\\n",
       "6        29292       NaN       NaN        NaN  DESA PARK CITY (SOUTH LAKE)   \n",
       "29       26244  415438.0       NaN        NaN           Jalan Sri Hartamas   \n",
       "30       26245  415437.0       NaN        NaN                 Jalan Stonor   \n",
       "86       28531       NaN       0.0        0.0            Taman Sri Pelangi   \n",
       "\n",
       "           state area          street_name  transaction_count  median_psf  \\\n",
       "6   Kuala Lumpur  NaN  JALAN DENAI SELATAN                  2        1124   \n",
       "29  Kuala Lumpur  NaN   JALAN SRI HARTAMAS                  1         824   \n",
       "30  Kuala Lumpur  NaN         JALAN STONOR                  1         789   \n",
       "86      Selangor  NaN    JALAN SUNGAI RABA                  2         285   \n",
       "\n",
       "    median_price  \n",
       "6        1850000  \n",
       "29        550000  \n",
       "30       2650000  \n",
       "86        438800  "
      ]
     },
     "execution_count": 7,
     "metadata": {},
     "output_type": "execute_result"
    }
   ],
   "source": [
    "townships[townships['area'].isnull()]"
   ]
  },
  {
   "cell_type": "code",
   "execution_count": 8,
   "metadata": {
    "scrolled": true
   },
   "outputs": [
    {
     "data": {
      "text/plain": [
       "0.000000    3\n",
       "3.131900    1\n",
       "3.220616    1\n",
       "3.187610    1\n",
       "3.203160    1\n",
       "           ..\n",
       "3.181397    1\n",
       "3.211430    1\n",
       "3.154346    1\n",
       "3.077770    1\n",
       "3.086390    1\n",
       "Name: latitude, Length: 127, dtype: int64"
      ]
     },
     "execution_count": 8,
     "metadata": {},
     "output_type": "execute_result"
    }
   ],
   "source": [
    "townships['latitude'].value_counts()"
   ]
  },
  {
   "cell_type": "code",
   "execution_count": 9,
   "metadata": {
    "scrolled": true
   },
   "outputs": [
    {
     "data": {
      "text/plain": [
       "0.000000      3\n",
       "101.728996    2\n",
       "101.680000    2\n",
       "101.748001    2\n",
       "101.661003    1\n",
       "             ..\n",
       "101.606003    1\n",
       "101.681999    1\n",
       "101.722033    1\n",
       "101.593521    1\n",
       "101.551003    1\n",
       "Name: longitude, Length: 124, dtype: int64"
      ]
     },
     "execution_count": 9,
     "metadata": {},
     "output_type": "execute_result"
    }
   ],
   "source": [
    "townships['longitude'].value_counts()"
   ]
  },
  {
   "cell_type": "code",
   "execution_count": 10,
   "metadata": {},
   "outputs": [
    {
     "data": {
      "text/html": [
       "<div>\n",
       "<style scoped>\n",
       "    .dataframe tbody tr th:only-of-type {\n",
       "        vertical-align: middle;\n",
       "    }\n",
       "\n",
       "    .dataframe tbody tr th {\n",
       "        vertical-align: top;\n",
       "    }\n",
       "\n",
       "    .dataframe thead th {\n",
       "        text-align: right;\n",
       "    }\n",
       "</style>\n",
       "<table border=\"1\" class=\"dataframe\">\n",
       "  <thead>\n",
       "    <tr style=\"text-align: right;\">\n",
       "      <th></th>\n",
       "      <th>project_id</th>\n",
       "      <th>asset_id</th>\n",
       "      <th>latitude</th>\n",
       "      <th>longitude</th>\n",
       "      <th>project_name</th>\n",
       "      <th>state</th>\n",
       "      <th>area</th>\n",
       "      <th>street_name</th>\n",
       "      <th>transaction_count</th>\n",
       "      <th>median_psf</th>\n",
       "      <th>median_price</th>\n",
       "    </tr>\n",
       "  </thead>\n",
       "  <tbody>\n",
       "    <tr>\n",
       "      <th>6</th>\n",
       "      <td>29292</td>\n",
       "      <td>NaN</td>\n",
       "      <td>NaN</td>\n",
       "      <td>NaN</td>\n",
       "      <td>DESA PARK CITY (SOUTH LAKE)</td>\n",
       "      <td>Kuala Lumpur</td>\n",
       "      <td>NaN</td>\n",
       "      <td>JALAN DENAI SELATAN</td>\n",
       "      <td>2</td>\n",
       "      <td>1124</td>\n",
       "      <td>1850000</td>\n",
       "    </tr>\n",
       "    <tr>\n",
       "      <th>29</th>\n",
       "      <td>26244</td>\n",
       "      <td>415438.0</td>\n",
       "      <td>NaN</td>\n",
       "      <td>NaN</td>\n",
       "      <td>Jalan Sri Hartamas</td>\n",
       "      <td>Kuala Lumpur</td>\n",
       "      <td>NaN</td>\n",
       "      <td>JALAN SRI HARTAMAS</td>\n",
       "      <td>1</td>\n",
       "      <td>824</td>\n",
       "      <td>550000</td>\n",
       "    </tr>\n",
       "    <tr>\n",
       "      <th>30</th>\n",
       "      <td>26245</td>\n",
       "      <td>415437.0</td>\n",
       "      <td>NaN</td>\n",
       "      <td>NaN</td>\n",
       "      <td>Jalan Stonor</td>\n",
       "      <td>Kuala Lumpur</td>\n",
       "      <td>NaN</td>\n",
       "      <td>JALAN STONOR</td>\n",
       "      <td>1</td>\n",
       "      <td>789</td>\n",
       "      <td>2650000</td>\n",
       "    </tr>\n",
       "    <tr>\n",
       "      <th>78</th>\n",
       "      <td>28340</td>\n",
       "      <td>NaN</td>\n",
       "      <td>0.0</td>\n",
       "      <td>0.0</td>\n",
       "      <td>Serenia City</td>\n",
       "      <td>Selangor</td>\n",
       "      <td>Dengkil</td>\n",
       "      <td>JALAN AMAN SERENIA 7/10 BANDAR SERENIA</td>\n",
       "      <td>10</td>\n",
       "      <td>388</td>\n",
       "      <td>624088</td>\n",
       "    </tr>\n",
       "    <tr>\n",
       "      <th>86</th>\n",
       "      <td>28531</td>\n",
       "      <td>NaN</td>\n",
       "      <td>0.0</td>\n",
       "      <td>0.0</td>\n",
       "      <td>Taman Sri Pelangi</td>\n",
       "      <td>Selangor</td>\n",
       "      <td>NaN</td>\n",
       "      <td>JALAN SUNGAI RABA</td>\n",
       "      <td>2</td>\n",
       "      <td>285</td>\n",
       "      <td>438800</td>\n",
       "    </tr>\n",
       "    <tr>\n",
       "      <th>104</th>\n",
       "      <td>8643</td>\n",
       "      <td>3042.0</td>\n",
       "      <td>0.0</td>\n",
       "      <td>0.0</td>\n",
       "      <td>Pangsapuri PKNS SS3</td>\n",
       "      <td>Selangor</td>\n",
       "      <td>Kelana Jaya</td>\n",
       "      <td>JALAN SS 3/39</td>\n",
       "      <td>1</td>\n",
       "      <td>216</td>\n",
       "      <td>130000</td>\n",
       "    </tr>\n",
       "  </tbody>\n",
       "</table>\n",
       "</div>"
      ],
      "text/plain": [
       "     project_id  asset_id  latitude  longitude                 project_name  \\\n",
       "6         29292       NaN       NaN        NaN  DESA PARK CITY (SOUTH LAKE)   \n",
       "29        26244  415438.0       NaN        NaN           Jalan Sri Hartamas   \n",
       "30        26245  415437.0       NaN        NaN                 Jalan Stonor   \n",
       "78        28340       NaN       0.0        0.0                 Serenia City   \n",
       "86        28531       NaN       0.0        0.0            Taman Sri Pelangi   \n",
       "104        8643    3042.0       0.0        0.0          Pangsapuri PKNS SS3   \n",
       "\n",
       "            state         area                             street_name  \\\n",
       "6    Kuala Lumpur          NaN                     JALAN DENAI SELATAN   \n",
       "29   Kuala Lumpur          NaN                      JALAN SRI HARTAMAS   \n",
       "30   Kuala Lumpur          NaN                            JALAN STONOR   \n",
       "78       Selangor      Dengkil  JALAN AMAN SERENIA 7/10 BANDAR SERENIA   \n",
       "86       Selangor          NaN                       JALAN SUNGAI RABA   \n",
       "104      Selangor  Kelana Jaya                           JALAN SS 3/39   \n",
       "\n",
       "     transaction_count  median_psf  median_price  \n",
       "6                    2        1124       1850000  \n",
       "29                   1         824        550000  \n",
       "30                   1         789       2650000  \n",
       "78                  10         388        624088  \n",
       "86                   2         285        438800  \n",
       "104                  1         216        130000  "
      ]
     },
     "execution_count": 10,
     "metadata": {},
     "output_type": "execute_result"
    }
   ],
   "source": [
    "# There're a few rows without valid latitude and longitude\n",
    "\n",
    "townships[\n",
    "    (townships['latitude'].isnull()) |\n",
    "    (townships['latitude'] == 0) |\n",
    "    (townships['longitude'].isnull()) |\n",
    "    (townships['longitude'] == 0)\n",
    "]"
   ]
  },
  {
   "cell_type": "code",
   "execution_count": 11,
   "metadata": {
    "scrolled": true
   },
   "outputs": [
    {
     "data": {
      "text/plain": [
       "352    4\n",
       "306    2\n",
       "285    2\n",
       "432    2\n",
       "307    2\n",
       "      ..\n",
       "424    1\n",
       "425    1\n",
       "683    1\n",
       "429    1\n",
       "512    1\n",
       "Name: median_psf, Length: 111, dtype: int64"
      ]
     },
     "execution_count": 11,
     "metadata": {},
     "output_type": "execute_result"
    }
   ],
   "source": [
    "townships['median_psf'].value_counts()"
   ]
  },
  {
   "cell_type": "code",
   "execution_count": 12,
   "metadata": {
    "scrolled": false
   },
   "outputs": [
    {
     "data": {
      "text/plain": [
       "<matplotlib.axes._subplots.AxesSubplot at 0x7f65e3909f60>"
      ]
     },
     "execution_count": 12,
     "metadata": {},
     "output_type": "execute_result"
    },
    {
     "data": {
      "image/png": "[encoded data removed]",
      "text/plain": [
       "<Figure size 432x288 with 1 Axes>"
      ]
     },
     "metadata": {
      "needs_background": "light"
     },
     "output_type": "display_data"
    }
   ],
   "source": [
    "townships['median_psf'].plot.hist(bins = 10, alpha = 0.5)"
   ]
  },
  {
   "cell_type": "code",
   "execution_count": 13,
   "metadata": {
    "scrolled": true
   },
   "outputs": [
    {
     "data": {
      "text/plain": [
       "450000    4\n",
       "550000    3\n",
       "700000    3\n",
       "600000    3\n",
       "635000    2\n",
       "         ..\n",
       "322896    1\n",
       "475000    1\n",
       "185000    1\n",
       "565000    1\n",
       "864000    1\n",
       "Name: median_price, Length: 112, dtype: int64"
      ]
     },
     "execution_count": 13,
     "metadata": {},
     "output_type": "execute_result"
    }
   ],
   "source": [
    "townships['median_price'].value_counts()"
   ]
  },
  {
   "cell_type": "code",
   "execution_count": 14,
   "metadata": {
    "scrolled": false
   },
   "outputs": [
    {
     "data": {
      "text/plain": [
       "<matplotlib.axes._subplots.AxesSubplot at 0x7f66193ab668>"
      ]
     },
     "execution_count": 14,
     "metadata": {},
     "output_type": "execute_result"
    },
    {
     "data": {
      "image/png": "[encoded data removed]",
      "text/plain": [
       "<Figure size 432x288 with 1 Axes>"
      ]
     },
     "metadata": {
      "needs_background": "light"
     },
     "output_type": "display_data"
    }
   ],
   "source": [
    "townships['median_price'].plot.hist(bins = 10, alpha = 0.5)"
   ]
  },
  {
   "cell_type": "code",
   "execution_count": 15,
   "metadata": {},
   "outputs": [
    {
     "data": {
      "text/html": [
       "<div>\n",
       "<style scoped>\n",
       "    .dataframe tbody tr th:only-of-type {\n",
       "        vertical-align: middle;\n",
       "    }\n",
       "\n",
       "    .dataframe tbody tr th {\n",
       "        vertical-align: top;\n",
       "    }\n",
       "\n",
       "    .dataframe thead th {\n",
       "        text-align: right;\n",
       "    }\n",
       "</style>\n",
       "<table border=\"1\" class=\"dataframe\">\n",
       "  <thead>\n",
       "    <tr style=\"text-align: right;\">\n",
       "      <th></th>\n",
       "      <th>project_id</th>\n",
       "      <th>latitude</th>\n",
       "      <th>longitude</th>\n",
       "      <th>project_name</th>\n",
       "      <th>state</th>\n",
       "      <th>area</th>\n",
       "      <th>street_name</th>\n",
       "      <th>median_psf</th>\n",
       "      <th>median_price</th>\n",
       "    </tr>\n",
       "  </thead>\n",
       "  <tbody>\n",
       "    <tr>\n",
       "      <th>34</th>\n",
       "      <td>16891</td>\n",
       "      <td>3.160685</td>\n",
       "      <td>101.643264</td>\n",
       "      <td>Kiara View Sungai Penchala</td>\n",
       "      <td>Kuala Lumpur</td>\n",
       "      <td>Kampung Sungai Penchala</td>\n",
       "      <td>JALAN PUNCAK KIARA INDAH</td>\n",
       "      <td>618</td>\n",
       "      <td>3700000</td>\n",
       "    </tr>\n",
       "    <tr>\n",
       "      <th>117</th>\n",
       "      <td>13999</td>\n",
       "      <td>3.049067</td>\n",
       "      <td>101.558453</td>\n",
       "      <td>Taman Pinggiran USJ</td>\n",
       "      <td>Selangor</td>\n",
       "      <td>USJ</td>\n",
       "      <td>JALAN PINGGIRAN USJ 3/3</td>\n",
       "      <td>189</td>\n",
       "      <td>265000</td>\n",
       "    </tr>\n",
       "    <tr>\n",
       "      <th>108</th>\n",
       "      <td>11355</td>\n",
       "      <td>3.106530</td>\n",
       "      <td>101.652000</td>\n",
       "      <td>Section 10 Petaling Jaya</td>\n",
       "      <td>Selangor</td>\n",
       "      <td>Petaling Jaya</td>\n",
       "      <td>JALAN 10/10A</td>\n",
       "      <td>341</td>\n",
       "      <td>550000</td>\n",
       "    </tr>\n",
       "    <tr>\n",
       "      <th>116</th>\n",
       "      <td>22811</td>\n",
       "      <td>2.908204</td>\n",
       "      <td>101.468182</td>\n",
       "      <td>Taman Panglima</td>\n",
       "      <td>Selangor</td>\n",
       "      <td>Telok Panglima Garang</td>\n",
       "      <td>JALAN TOMBAK</td>\n",
       "      <td>36</td>\n",
       "      <td>50000</td>\n",
       "    </tr>\n",
       "    <tr>\n",
       "      <th>13</th>\n",
       "      <td>16177</td>\n",
       "      <td>3.067360</td>\n",
       "      <td>101.699665</td>\n",
       "      <td>Bandar Baru Sri Petaling</td>\n",
       "      <td>Kuala Lumpur</td>\n",
       "      <td>Bandar Baru Sri Petaling</td>\n",
       "      <td>JALAN 8/149K</td>\n",
       "      <td>469</td>\n",
       "      <td>1100000</td>\n",
       "    </tr>\n",
       "    <tr>\n",
       "      <th>121</th>\n",
       "      <td>13218</td>\n",
       "      <td>3.008400</td>\n",
       "      <td>101.691002</td>\n",
       "      <td>Taman Universiti Indah</td>\n",
       "      <td>Selangor</td>\n",
       "      <td>Seri Kembangan</td>\n",
       "      <td>JALAN INDAH 1/28</td>\n",
       "      <td>303</td>\n",
       "      <td>600000</td>\n",
       "    </tr>\n",
       "    <tr>\n",
       "      <th>81</th>\n",
       "      <td>28428</td>\n",
       "      <td>2.880766</td>\n",
       "      <td>101.724023</td>\n",
       "      <td>Jenderam Impian</td>\n",
       "      <td>Selangor</td>\n",
       "      <td>Dengkil</td>\n",
       "      <td>JALAN KAJANG-DENGKIL</td>\n",
       "      <td>429</td>\n",
       "      <td>550000</td>\n",
       "    </tr>\n",
       "    <tr>\n",
       "      <th>94</th>\n",
       "      <td>23964</td>\n",
       "      <td>3.185111</td>\n",
       "      <td>101.505752</td>\n",
       "      <td>Elmina West @ Denai Alam</td>\n",
       "      <td>Selangor</td>\n",
       "      <td>Shah Alam</td>\n",
       "      <td>JALAN METAFASA U16/161</td>\n",
       "      <td>493</td>\n",
       "      <td>690000</td>\n",
       "    </tr>\n",
       "    <tr>\n",
       "      <th>19</th>\n",
       "      <td>17240</td>\n",
       "      <td>3.203637</td>\n",
       "      <td>101.717212</td>\n",
       "      <td>Danau Kota</td>\n",
       "      <td>Kuala Lumpur</td>\n",
       "      <td>Setapak</td>\n",
       "      <td>JALAN TAMAN IBU KOTA</td>\n",
       "      <td>284</td>\n",
       "      <td>199000</td>\n",
       "    </tr>\n",
       "    <tr>\n",
       "      <th>33</th>\n",
       "      <td>10125</td>\n",
       "      <td>3.168400</td>\n",
       "      <td>101.648003</td>\n",
       "      <td>Kiara Designer Suites</td>\n",
       "      <td>Kuala Lumpur</td>\n",
       "      <td>Mont Kiara</td>\n",
       "      <td>JALAN KIARA 3</td>\n",
       "      <td>573</td>\n",
       "      <td>820000</td>\n",
       "    </tr>\n",
       "  </tbody>\n",
       "</table>\n",
       "</div>"
      ],
      "text/plain": [
       "     project_id  latitude   longitude                project_name  \\\n",
       "34        16891  3.160685  101.643264  Kiara View Sungai Penchala   \n",
       "117       13999  3.049067  101.558453        Taman Pinggiran USJ    \n",
       "108       11355  3.106530  101.652000    Section 10 Petaling Jaya   \n",
       "116       22811  2.908204  101.468182              Taman Panglima   \n",
       "13        16177  3.067360  101.699665    Bandar Baru Sri Petaling   \n",
       "121       13218  3.008400  101.691002      Taman Universiti Indah   \n",
       "81        28428  2.880766  101.724023             Jenderam Impian   \n",
       "94        23964  3.185111  101.505752    Elmina West @ Denai Alam   \n",
       "19        17240  3.203637  101.717212                  Danau Kota   \n",
       "33        10125  3.168400  101.648003       Kiara Designer Suites   \n",
       "\n",
       "            state                      area               street_name  \\\n",
       "34   Kuala Lumpur   Kampung Sungai Penchala  JALAN PUNCAK KIARA INDAH   \n",
       "117      Selangor                       USJ   JALAN PINGGIRAN USJ 3/3   \n",
       "108      Selangor             Petaling Jaya              JALAN 10/10A   \n",
       "116      Selangor     Telok Panglima Garang              JALAN TOMBAK   \n",
       "13   Kuala Lumpur  Bandar Baru Sri Petaling              JALAN 8/149K   \n",
       "121      Selangor            Seri Kembangan          JALAN INDAH 1/28   \n",
       "81       Selangor                   Dengkil      JALAN KAJANG-DENGKIL   \n",
       "94       Selangor                 Shah Alam    JALAN METAFASA U16/161   \n",
       "19   Kuala Lumpur                   Setapak      JALAN TAMAN IBU KOTA   \n",
       "33   Kuala Lumpur                Mont Kiara             JALAN KIARA 3   \n",
       "\n",
       "     median_psf  median_price  \n",
       "34          618       3700000  \n",
       "117         189        265000  \n",
       "108         341        550000  \n",
       "116          36         50000  \n",
       "13          469       1100000  \n",
       "121         303        600000  \n",
       "81          429        550000  \n",
       "94          493        690000  \n",
       "19          284        199000  \n",
       "33          573        820000  "
      ]
     },
     "execution_count": 15,
     "metadata": {},
     "output_type": "execute_result"
    }
   ],
   "source": [
    "# Townships data are considered clean, only a few rows with None or 0 value for latitude and longitude\n",
    "# There's row without gps coordination, keep street name to lookup geocode later\n",
    "# The following columns will be retained for integration with the other two data sets. \n",
    "# project_id, latitude, longitude, project_name, state, area, street_name, median_psf, median_price\n",
    "\n",
    "townships_q2 = townships[[\n",
    "    'project_id', 'latitude', 'longitude', 'project_name', 'state', 'area', 'street_name', \n",
    "    'median_psf', 'median_price'\n",
    "]]\n",
    "\n",
    "townships_q2.sample(10)"
   ]
  },
  {
   "cell_type": "code",
   "execution_count": 16,
   "metadata": {},
   "outputs": [],
   "source": [
    "townships_q2.to_csv(township_csv)"
   ]
  },
  {
   "cell_type": "markdown",
   "metadata": {},
   "source": [
    "## Exploration on POI data"
   ]
  },
  {
   "cell_type": "code",
   "execution_count": 17,
   "metadata": {
    "scrolled": true
   },
   "outputs": [
    {
     "data": {
      "text/html": [
       "<div>\n",
       "<style scoped>\n",
       "    .dataframe tbody tr th:only-of-type {\n",
       "        vertical-align: middle;\n",
       "    }\n",
       "\n",
       "    .dataframe tbody tr th {\n",
       "        vertical-align: top;\n",
       "    }\n",
       "\n",
       "    .dataframe thead th {\n",
       "        text-align: right;\n",
       "    }\n",
       "</style>\n",
       "<table border=\"1\" class=\"dataframe\">\n",
       "  <thead>\n",
       "    <tr style=\"text-align: right;\">\n",
       "      <th></th>\n",
       "      <th>name</th>\n",
       "      <th>sub_type_label</th>\n",
       "      <th>sub_type_extra</th>\n",
       "      <th>sub_type</th>\n",
       "      <th>category</th>\n",
       "      <th>line_name</th>\n",
       "      <th>place_id</th>\n",
       "      <th>completion_year</th>\n",
       "      <th>type</th>\n",
       "      <th>city</th>\n",
       "      <th>district</th>\n",
       "      <th>public_type</th>\n",
       "      <th>curriculum_offered</th>\n",
       "      <th>latitude</th>\n",
       "      <th>longitude</th>\n",
       "    </tr>\n",
       "  </thead>\n",
       "  <tbody>\n",
       "    <tr>\n",
       "      <th>0</th>\n",
       "      <td>Sekolah Menengah Kebangsaan Kepong Baru</td>\n",
       "      <td>Secondary</td>\n",
       "      <td>['SM Kebangsaan']</td>\n",
       "      <td>secondary</td>\n",
       "      <td>education</td>\n",
       "      <td>NaN</td>\n",
       "      <td>NaN</td>\n",
       "      <td>NaN</td>\n",
       "      <td>Public School</td>\n",
       "      <td>NaN</td>\n",
       "      <td>NaN</td>\n",
       "      <td>['SM Kebangsaan']</td>\n",
       "      <td>NaN</td>\n",
       "      <td>3.197770</td>\n",
       "      <td>101.647000</td>\n",
       "    </tr>\n",
       "    <tr>\n",
       "      <th>1</th>\n",
       "      <td>Sekolah Kebangsaan Taman Kepong</td>\n",
       "      <td>Primary</td>\n",
       "      <td>['Kebangsaan']</td>\n",
       "      <td>primary</td>\n",
       "      <td>education</td>\n",
       "      <td>NaN</td>\n",
       "      <td>NaN</td>\n",
       "      <td>NaN</td>\n",
       "      <td>Public School</td>\n",
       "      <td>NaN</td>\n",
       "      <td>NaN</td>\n",
       "      <td>['Kebangsaan']</td>\n",
       "      <td>NaN</td>\n",
       "      <td>3.198950</td>\n",
       "      <td>101.648000</td>\n",
       "    </tr>\n",
       "    <tr>\n",
       "      <th>2</th>\n",
       "      <td>Sekolah Kebangsaan Kepong Baru</td>\n",
       "      <td>Primary</td>\n",
       "      <td>['Kebangsaan']</td>\n",
       "      <td>primary</td>\n",
       "      <td>education</td>\n",
       "      <td>NaN</td>\n",
       "      <td>NaN</td>\n",
       "      <td>NaN</td>\n",
       "      <td>Public School</td>\n",
       "      <td>NaN</td>\n",
       "      <td>NaN</td>\n",
       "      <td>['Kebangsaan']</td>\n",
       "      <td>NaN</td>\n",
       "      <td>3.205899</td>\n",
       "      <td>101.645528</td>\n",
       "    </tr>\n",
       "    <tr>\n",
       "      <th>3</th>\n",
       "      <td>Sekolah Kebangsaan Menjalara</td>\n",
       "      <td>Primary</td>\n",
       "      <td>['Kebangsaan']</td>\n",
       "      <td>primary</td>\n",
       "      <td>education</td>\n",
       "      <td>NaN</td>\n",
       "      <td>NaN</td>\n",
       "      <td>NaN</td>\n",
       "      <td>Public School</td>\n",
       "      <td>NaN</td>\n",
       "      <td>NaN</td>\n",
       "      <td>['Kebangsaan']</td>\n",
       "      <td>NaN</td>\n",
       "      <td>3.193969</td>\n",
       "      <td>101.637578</td>\n",
       "    </tr>\n",
       "    <tr>\n",
       "      <th>4</th>\n",
       "      <td>Sekolah Menengah Kebangsaan Taman Bukit Maluri</td>\n",
       "      <td>Secondary</td>\n",
       "      <td>['SM Kebangsaan']</td>\n",
       "      <td>secondary</td>\n",
       "      <td>education</td>\n",
       "      <td>NaN</td>\n",
       "      <td>NaN</td>\n",
       "      <td>NaN</td>\n",
       "      <td>Public School</td>\n",
       "      <td>NaN</td>\n",
       "      <td>NaN</td>\n",
       "      <td>['SM Kebangsaan']</td>\n",
       "      <td>NaN</td>\n",
       "      <td>3.202450</td>\n",
       "      <td>101.634000</td>\n",
       "    </tr>\n",
       "  </tbody>\n",
       "</table>\n",
       "</div>"
      ],
      "text/plain": [
       "                                             name sub_type_label  \\\n",
       "0         Sekolah Menengah Kebangsaan Kepong Baru      Secondary   \n",
       "1                 Sekolah Kebangsaan Taman Kepong        Primary   \n",
       "2                  Sekolah Kebangsaan Kepong Baru        Primary   \n",
       "3                    Sekolah Kebangsaan Menjalara        Primary   \n",
       "4  Sekolah Menengah Kebangsaan Taman Bukit Maluri      Secondary   \n",
       "\n",
       "      sub_type_extra   sub_type   category line_name  place_id  \\\n",
       "0  ['SM Kebangsaan']  secondary  education       NaN       NaN   \n",
       "1     ['Kebangsaan']    primary  education       NaN       NaN   \n",
       "2     ['Kebangsaan']    primary  education       NaN       NaN   \n",
       "3     ['Kebangsaan']    primary  education       NaN       NaN   \n",
       "4  ['SM Kebangsaan']  secondary  education       NaN       NaN   \n",
       "\n",
       "   completion_year           type city district        public_type  \\\n",
       "0              NaN  Public School  NaN      NaN  ['SM Kebangsaan']   \n",
       "1              NaN  Public School  NaN      NaN     ['Kebangsaan']   \n",
       "2              NaN  Public School  NaN      NaN     ['Kebangsaan']   \n",
       "3              NaN  Public School  NaN      NaN     ['Kebangsaan']   \n",
       "4              NaN  Public School  NaN      NaN  ['SM Kebangsaan']   \n",
       "\n",
       "  curriculum_offered  latitude   longitude  \n",
       "0                NaN  3.197770  101.647000  \n",
       "1                NaN  3.198950  101.648000  \n",
       "2                NaN  3.205899  101.645528  \n",
       "3                NaN  3.193969  101.637578  \n",
       "4                NaN  3.202450  101.634000  "
      ]
     },
     "execution_count": 17,
     "metadata": {},
     "output_type": "execute_result"
    }
   ],
   "source": [
    "pois.head()"
   ]
  },
  {
   "cell_type": "code",
   "execution_count": 18,
   "metadata": {},
   "outputs": [
    {
     "data": {
      "text/plain": [
       "(5442, 15)"
      ]
     },
     "execution_count": 18,
     "metadata": {},
     "output_type": "execute_result"
    }
   ],
   "source": [
    "pois.shape"
   ]
  },
  {
   "cell_type": "code",
   "execution_count": 19,
   "metadata": {
    "scrolled": true
   },
   "outputs": [
    {
     "data": {
      "text/html": [
       "<div>\n",
       "<style scoped>\n",
       "    .dataframe tbody tr th:only-of-type {\n",
       "        vertical-align: middle;\n",
       "    }\n",
       "\n",
       "    .dataframe tbody tr th {\n",
       "        vertical-align: top;\n",
       "    }\n",
       "\n",
       "    .dataframe thead th {\n",
       "        text-align: right;\n",
       "    }\n",
       "</style>\n",
       "<table border=\"1\" class=\"dataframe\">\n",
       "  <thead>\n",
       "    <tr style=\"text-align: right;\">\n",
       "      <th></th>\n",
       "      <th>place_id</th>\n",
       "      <th>completion_year</th>\n",
       "      <th>latitude</th>\n",
       "      <th>longitude</th>\n",
       "    </tr>\n",
       "  </thead>\n",
       "  <tbody>\n",
       "    <tr>\n",
       "      <th>count</th>\n",
       "      <td>0.0</td>\n",
       "      <td>945.000000</td>\n",
       "      <td>5442.000000</td>\n",
       "      <td>5442.000000</td>\n",
       "    </tr>\n",
       "    <tr>\n",
       "      <th>mean</th>\n",
       "      <td>NaN</td>\n",
       "      <td>2007.725926</td>\n",
       "      <td>3.127340</td>\n",
       "      <td>101.675702</td>\n",
       "    </tr>\n",
       "    <tr>\n",
       "      <th>std</th>\n",
       "      <td>NaN</td>\n",
       "      <td>10.905799</td>\n",
       "      <td>0.065307</td>\n",
       "      <td>0.054669</td>\n",
       "    </tr>\n",
       "    <tr>\n",
       "      <th>min</th>\n",
       "      <td>NaN</td>\n",
       "      <td>1995.000000</td>\n",
       "      <td>2.651790</td>\n",
       "      <td>101.421676</td>\n",
       "    </tr>\n",
       "    <tr>\n",
       "      <th>25%</th>\n",
       "      <td>NaN</td>\n",
       "      <td>1998.000000</td>\n",
       "      <td>3.089669</td>\n",
       "      <td>101.645000</td>\n",
       "    </tr>\n",
       "    <tr>\n",
       "      <th>50%</th>\n",
       "      <td>NaN</td>\n",
       "      <td>2003.000000</td>\n",
       "      <td>3.132765</td>\n",
       "      <td>101.681366</td>\n",
       "    </tr>\n",
       "    <tr>\n",
       "      <th>75%</th>\n",
       "      <td>NaN</td>\n",
       "      <td>2017.000000</td>\n",
       "      <td>3.178468</td>\n",
       "      <td>101.718000</td>\n",
       "    </tr>\n",
       "    <tr>\n",
       "      <th>max</th>\n",
       "      <td>NaN</td>\n",
       "      <td>2022.000000</td>\n",
       "      <td>3.246800</td>\n",
       "      <td>101.865288</td>\n",
       "    </tr>\n",
       "  </tbody>\n",
       "</table>\n",
       "</div>"
      ],
      "text/plain": [
       "       place_id  completion_year     latitude    longitude\n",
       "count       0.0       945.000000  5442.000000  5442.000000\n",
       "mean        NaN      2007.725926     3.127340   101.675702\n",
       "std         NaN        10.905799     0.065307     0.054669\n",
       "min         NaN      1995.000000     2.651790   101.421676\n",
       "25%         NaN      1998.000000     3.089669   101.645000\n",
       "50%         NaN      2003.000000     3.132765   101.681366\n",
       "75%         NaN      2017.000000     3.178468   101.718000\n",
       "max         NaN      2022.000000     3.246800   101.865288"
      ]
     },
     "execution_count": 19,
     "metadata": {},
     "output_type": "execute_result"
    }
   ],
   "source": [
    "pois.describe()"
   ]
  },
  {
   "cell_type": "code",
   "execution_count": 20,
   "metadata": {
    "scrolled": false
   },
   "outputs": [
    {
     "data": {
      "text/plain": [
       "place_id              5442\n",
       "district              5325\n",
       "city                  5325\n",
       "curriculum_offered    4651\n",
       "completion_year       4497\n",
       "line_name             4497\n",
       "public_type           2555\n",
       "sub_type_extra        2555\n",
       "type                   947\n",
       "longitude                0\n",
       "latitude                 0\n",
       "category                 0\n",
       "sub_type                 0\n",
       "sub_type_label           0\n",
       "name                     0\n",
       "dtype: int64"
      ]
     },
     "execution_count": 20,
     "metadata": {},
     "output_type": "execute_result"
    }
   ],
   "source": [
    "pois.isnull().sum().sort_values(ascending = False)"
   ]
  },
  {
   "cell_type": "code",
   "execution_count": 21,
   "metadata": {
    "scrolled": false
   },
   "outputs": [
    {
     "data": {
      "text/plain": [
       "3.076077    24\n",
       "3.093210    17\n",
       "3.185520    17\n",
       "3.185218    17\n",
       "3.123772    16\n",
       "            ..\n",
       "3.018483     1\n",
       "2.993393     1\n",
       "2.951248     1\n",
       "2.921500     1\n",
       "2.968750     1\n",
       "Name: latitude, Length: 1233, dtype: int64"
      ]
     },
     "execution_count": 21,
     "metadata": {},
     "output_type": "execute_result"
    }
   ],
   "source": [
    "pois['latitude'].value_counts()"
   ]
  },
  {
   "cell_type": "code",
   "execution_count": 22,
   "metadata": {
    "scrolled": true
   },
   "outputs": [
    {
     "data": {
      "text/plain": [
       "101.647000    41\n",
       "101.720000    37\n",
       "101.727000    34\n",
       "101.728000    32\n",
       "101.729000    30\n",
       "              ..\n",
       "101.515048     1\n",
       "101.570449     1\n",
       "101.505218     1\n",
       "101.528177     1\n",
       "101.795082     1\n",
       "Name: longitude, Length: 1137, dtype: int64"
      ]
     },
     "execution_count": 22,
     "metadata": {},
     "output_type": "execute_result"
    }
   ],
   "source": [
    "pois['longitude'].value_counts()"
   ]
  },
  {
   "cell_type": "code",
   "execution_count": 23,
   "metadata": {},
   "outputs": [
    {
     "data": {
      "text/plain": [
       "1995.0    174\n",
       "2022.0    161\n",
       "1998.0    152\n",
       "2017.0    128\n",
       "1999.0     63\n",
       "2015.0     57\n",
       "2016.0     54\n",
       "2003.0     45\n",
       "1996.0     38\n",
       "2020.0     30\n",
       "2002.0     17\n",
       "2019.0     16\n",
       "2018.0     10\n",
       "Name: completion_year, dtype: int64"
      ]
     },
     "execution_count": 23,
     "metadata": {},
     "output_type": "execute_result"
    }
   ],
   "source": [
    "# Completion year might be used if the main model is going to be time series\n",
    "# By too many rows without completion year, this column will not be selected \n",
    "\n",
    "pois['completion_year'].value_counts()"
   ]
  },
  {
   "cell_type": "code",
   "execution_count": 24,
   "metadata": {},
   "outputs": [
    {
     "data": {
      "text/html": [
       "<div>\n",
       "<style scoped>\n",
       "    .dataframe tbody tr th:only-of-type {\n",
       "        vertical-align: middle;\n",
       "    }\n",
       "\n",
       "    .dataframe tbody tr th {\n",
       "        vertical-align: top;\n",
       "    }\n",
       "\n",
       "    .dataframe thead th {\n",
       "        text-align: right;\n",
       "    }\n",
       "</style>\n",
       "<table border=\"1\" class=\"dataframe\">\n",
       "  <thead>\n",
       "    <tr style=\"text-align: right;\">\n",
       "      <th></th>\n",
       "      <th>name</th>\n",
       "      <th>category</th>\n",
       "      <th>latitude</th>\n",
       "      <th>longitude</th>\n",
       "    </tr>\n",
       "  </thead>\n",
       "  <tbody>\n",
       "    <tr>\n",
       "      <th>401</th>\n",
       "      <td>Hi-5 House of Learning</td>\n",
       "      <td>education</td>\n",
       "      <td>3.150299</td>\n",
       "      <td>101.664755</td>\n",
       "    </tr>\n",
       "    <tr>\n",
       "      <th>3671</th>\n",
       "      <td>Sekolah Kebangsaan Gombak Setia</td>\n",
       "      <td>education</td>\n",
       "      <td>3.218685</td>\n",
       "      <td>101.715563</td>\n",
       "    </tr>\n",
       "    <tr>\n",
       "      <th>3601</th>\n",
       "      <td>Sekolah Kebangsaan Taman Dato Harun (2)</td>\n",
       "      <td>education</td>\n",
       "      <td>3.077246</td>\n",
       "      <td>101.635939</td>\n",
       "    </tr>\n",
       "    <tr>\n",
       "      <th>2702</th>\n",
       "      <td>Sekolah Jenis Kebangsaan (Cina) Tai Thung</td>\n",
       "      <td>education</td>\n",
       "      <td>3.106086</td>\n",
       "      <td>101.705617</td>\n",
       "    </tr>\n",
       "    <tr>\n",
       "      <th>1046</th>\n",
       "      <td>Sekolah Kebangsaan Seri Setia</td>\n",
       "      <td>education</td>\n",
       "      <td>3.092883</td>\n",
       "      <td>101.683978</td>\n",
       "    </tr>\n",
       "    <tr>\n",
       "      <th>178</th>\n",
       "      <td>Segambut</td>\n",
       "      <td>transportation</td>\n",
       "      <td>3.186389</td>\n",
       "      <td>101.663889</td>\n",
       "    </tr>\n",
       "    <tr>\n",
       "      <th>3320</th>\n",
       "      <td>Sekolah Kebangsaan Sungai Pusu</td>\n",
       "      <td>education</td>\n",
       "      <td>3.236947</td>\n",
       "      <td>101.715548</td>\n",
       "    </tr>\n",
       "    <tr>\n",
       "      <th>2460</th>\n",
       "      <td>Tunku Azizah Women And Children'S Hospital</td>\n",
       "      <td>healthcare</td>\n",
       "      <td>3.196335</td>\n",
       "      <td>101.727782</td>\n",
       "    </tr>\n",
       "    <tr>\n",
       "      <th>12</th>\n",
       "      <td>Kolej Tingkatan Enam Desa Mahkota</td>\n",
       "      <td>education</td>\n",
       "      <td>3.188694</td>\n",
       "      <td>101.639831</td>\n",
       "    </tr>\n",
       "    <tr>\n",
       "      <th>2160</th>\n",
       "      <td>Taman Melati</td>\n",
       "      <td>transportation</td>\n",
       "      <td>3.219409</td>\n",
       "      <td>101.721727</td>\n",
       "    </tr>\n",
       "  </tbody>\n",
       "</table>\n",
       "</div>"
      ],
      "text/plain": [
       "                                            name        category  latitude  \\\n",
       "401                       Hi-5 House of Learning       education  3.150299   \n",
       "3671             Sekolah Kebangsaan Gombak Setia       education  3.218685   \n",
       "3601     Sekolah Kebangsaan Taman Dato Harun (2)       education  3.077246   \n",
       "2702   Sekolah Jenis Kebangsaan (Cina) Tai Thung       education  3.106086   \n",
       "1046               Sekolah Kebangsaan Seri Setia       education  3.092883   \n",
       "178                                     Segambut  transportation  3.186389   \n",
       "3320              Sekolah Kebangsaan Sungai Pusu       education  3.236947   \n",
       "2460  Tunku Azizah Women And Children'S Hospital      healthcare  3.196335   \n",
       "12             Kolej Tingkatan Enam Desa Mahkota       education  3.188694   \n",
       "2160                                Taman Melati  transportation  3.219409   \n",
       "\n",
       "       longitude  \n",
       "401   101.664755  \n",
       "3671  101.715563  \n",
       "3601  101.635939  \n",
       "2702  101.705617  \n",
       "1046  101.683978  \n",
       "178   101.663889  \n",
       "3320  101.715548  \n",
       "2460  101.727782  \n",
       "12    101.639831  \n",
       "2160  101.721727  "
      ]
     },
     "execution_count": 24,
     "metadata": {},
     "output_type": "execute_result"
    }
   ],
   "source": [
    "# All POI data are clean, but duplicated POIs are likely exist\n",
    "# We need the following columns to be retained for integration with the other two data sets\n",
    "# name, category, latitude, longitude \n",
    "\n",
    "pois_q2 = pois[[\n",
    "    'name', 'category', 'latitude', 'longitude'\n",
    "]]\n",
    "\n",
    "pois_q2.sample(10)"
   ]
  },
  {
   "cell_type": "code",
   "execution_count": 25,
   "metadata": {},
   "outputs": [],
   "source": [
    "pois_q2.to_csv(poi_csv)"
   ]
  },
  {
   "cell_type": "markdown",
   "metadata": {},
   "source": [
    "## Exploration on Transaction data"
   ]
  },
  {
   "cell_type": "code",
   "execution_count": 26,
   "metadata": {
    "scrolled": true
   },
   "outputs": [
    {
     "data": {
      "text/html": [
       "<div>\n",
       "<style scoped>\n",
       "    .dataframe tbody tr th:only-of-type {\n",
       "        vertical-align: middle;\n",
       "    }\n",
       "\n",
       "    .dataframe tbody tr th {\n",
       "        vertical-align: top;\n",
       "    }\n",
       "\n",
       "    .dataframe thead th {\n",
       "        text-align: right;\n",
       "    }\n",
       "</style>\n",
       "<table border=\"1\" class=\"dataframe\">\n",
       "  <thead>\n",
       "    <tr style=\"text-align: right;\">\n",
       "      <th></th>\n",
       "      <th>project_id</th>\n",
       "      <th>project_name</th>\n",
       "      <th>transacted_price</th>\n",
       "      <th>unit_price_psf</th>\n",
       "      <th>date</th>\n",
       "      <th>property_type</th>\n",
       "      <th>tenure</th>\n",
       "      <th>floor</th>\n",
       "      <th>area_sqft</th>\n",
       "      <th>non_landed</th>\n",
       "      <th>bedrooms</th>\n",
       "      <th>street_name</th>\n",
       "      <th>psf</th>\n",
       "      <th>price</th>\n",
       "      <th>state</th>\n",
       "      <th>planning_region</th>\n",
       "    </tr>\n",
       "  </thead>\n",
       "  <tbody>\n",
       "    <tr>\n",
       "      <th>0</th>\n",
       "      <td>10113</td>\n",
       "      <td>Kepong Baru</td>\n",
       "      <td>610000</td>\n",
       "      <td>310</td>\n",
       "      <td>1576454400</td>\n",
       "      <td>Terrace House</td>\n",
       "      <td>Leasehold</td>\n",
       "      <td>NaN</td>\n",
       "      <td>1970</td>\n",
       "      <td>0</td>\n",
       "      <td>3.0</td>\n",
       "      <td>JALAN HELANG</td>\n",
       "      <td>310</td>\n",
       "      <td>610000</td>\n",
       "      <td>Kuala Lumpur</td>\n",
       "      <td>Kepong</td>\n",
       "    </tr>\n",
       "    <tr>\n",
       "      <th>1</th>\n",
       "      <td>10113</td>\n",
       "      <td>Kepong Baru</td>\n",
       "      <td>720000</td>\n",
       "      <td>468</td>\n",
       "      <td>1576195200</td>\n",
       "      <td>Terrace House</td>\n",
       "      <td>Leasehold</td>\n",
       "      <td>NaN</td>\n",
       "      <td>1539</td>\n",
       "      <td>0</td>\n",
       "      <td>3.0</td>\n",
       "      <td>LORONG LANG HITAM 6</td>\n",
       "      <td>468</td>\n",
       "      <td>720000</td>\n",
       "      <td>Kuala Lumpur</td>\n",
       "      <td>Kepong</td>\n",
       "    </tr>\n",
       "    <tr>\n",
       "      <th>2</th>\n",
       "      <td>10113</td>\n",
       "      <td>Kepong Baru</td>\n",
       "      <td>670000</td>\n",
       "      <td>435</td>\n",
       "      <td>1576108800</td>\n",
       "      <td>Terrace House</td>\n",
       "      <td>Leasehold</td>\n",
       "      <td>NaN</td>\n",
       "      <td>1539</td>\n",
       "      <td>0</td>\n",
       "      <td>3.0</td>\n",
       "      <td>JALAN LANG KEPALA PUTIH</td>\n",
       "      <td>435</td>\n",
       "      <td>670000</td>\n",
       "      <td>Kuala Lumpur</td>\n",
       "      <td>Kepong</td>\n",
       "    </tr>\n",
       "    <tr>\n",
       "      <th>3</th>\n",
       "      <td>10113</td>\n",
       "      <td>Kepong Baru</td>\n",
       "      <td>1100000</td>\n",
       "      <td>336</td>\n",
       "      <td>1575936000</td>\n",
       "      <td>Terrace House</td>\n",
       "      <td>Leasehold</td>\n",
       "      <td>NaN</td>\n",
       "      <td>3272</td>\n",
       "      <td>0</td>\n",
       "      <td>3.0</td>\n",
       "      <td>JALAN CHIAK RAYA</td>\n",
       "      <td>336</td>\n",
       "      <td>1100000</td>\n",
       "      <td>Kuala Lumpur</td>\n",
       "      <td>Kepong</td>\n",
       "    </tr>\n",
       "    <tr>\n",
       "      <th>4</th>\n",
       "      <td>16814</td>\n",
       "      <td>Bandar Tun Razak (Kampung Konggo)</td>\n",
       "      <td>280000</td>\n",
       "      <td>283</td>\n",
       "      <td>1575936000</td>\n",
       "      <td>Cluster House</td>\n",
       "      <td>Leasehold</td>\n",
       "      <td>NaN</td>\n",
       "      <td>990</td>\n",
       "      <td>0</td>\n",
       "      <td>2.0</td>\n",
       "      <td>JALAN JUJUR 3</td>\n",
       "      <td>283</td>\n",
       "      <td>280000</td>\n",
       "      <td>Kuala Lumpur</td>\n",
       "      <td>Bandar Tun Razak</td>\n",
       "    </tr>\n",
       "  </tbody>\n",
       "</table>\n",
       "</div>"
      ],
      "text/plain": [
       "   project_id                       project_name  transacted_price  \\\n",
       "0       10113                        Kepong Baru            610000   \n",
       "1       10113                        Kepong Baru            720000   \n",
       "2       10113                        Kepong Baru            670000   \n",
       "3       10113                        Kepong Baru           1100000   \n",
       "4       16814  Bandar Tun Razak (Kampung Konggo)            280000   \n",
       "\n",
       "   unit_price_psf        date  property_type     tenure floor  area_sqft  \\\n",
       "0             310  1576454400  Terrace House  Leasehold   NaN       1970   \n",
       "1             468  1576195200  Terrace House  Leasehold   NaN       1539   \n",
       "2             435  1576108800  Terrace House  Leasehold   NaN       1539   \n",
       "3             336  1575936000  Terrace House  Leasehold   NaN       3272   \n",
       "4             283  1575936000  Cluster House  Leasehold   NaN        990   \n",
       "\n",
       "   non_landed  bedrooms              street_name  psf    price         state  \\\n",
       "0           0       3.0             JALAN HELANG  310   610000  Kuala Lumpur   \n",
       "1           0       3.0      LORONG LANG HITAM 6  468   720000  Kuala Lumpur   \n",
       "2           0       3.0  JALAN LANG KEPALA PUTIH  435   670000  Kuala Lumpur   \n",
       "3           0       3.0         JALAN CHIAK RAYA  336  1100000  Kuala Lumpur   \n",
       "4           0       2.0            JALAN JUJUR 3  283   280000  Kuala Lumpur   \n",
       "\n",
       "    planning_region  \n",
       "0            Kepong  \n",
       "1            Kepong  \n",
       "2            Kepong  \n",
       "3            Kepong  \n",
       "4  Bandar Tun Razak  "
      ]
     },
     "execution_count": 26,
     "metadata": {},
     "output_type": "execute_result"
    }
   ],
   "source": [
    "transactions.head()"
   ]
  },
  {
   "cell_type": "code",
   "execution_count": 27,
   "metadata": {},
   "outputs": [
    {
     "data": {
      "text/plain": [
       "(166, 16)"
      ]
     },
     "execution_count": 27,
     "metadata": {},
     "output_type": "execute_result"
    }
   ],
   "source": [
    "transactions.shape"
   ]
  },
  {
   "cell_type": "code",
   "execution_count": 28,
   "metadata": {
    "scrolled": true
   },
   "outputs": [
    {
     "data": {
      "text/html": [
       "<div>\n",
       "<style scoped>\n",
       "    .dataframe tbody tr th:only-of-type {\n",
       "        vertical-align: middle;\n",
       "    }\n",
       "\n",
       "    .dataframe tbody tr th {\n",
       "        vertical-align: top;\n",
       "    }\n",
       "\n",
       "    .dataframe thead th {\n",
       "        text-align: right;\n",
       "    }\n",
       "</style>\n",
       "<table border=\"1\" class=\"dataframe\">\n",
       "  <thead>\n",
       "    <tr style=\"text-align: right;\">\n",
       "      <th></th>\n",
       "      <th>project_id</th>\n",
       "      <th>transacted_price</th>\n",
       "      <th>unit_price_psf</th>\n",
       "      <th>date</th>\n",
       "      <th>area_sqft</th>\n",
       "      <th>non_landed</th>\n",
       "      <th>bedrooms</th>\n",
       "      <th>psf</th>\n",
       "      <th>price</th>\n",
       "    </tr>\n",
       "  </thead>\n",
       "  <tbody>\n",
       "    <tr>\n",
       "      <th>count</th>\n",
       "      <td>166.000000</td>\n",
       "      <td>1.660000e+02</td>\n",
       "      <td>166.000000</td>\n",
       "      <td>1.660000e+02</td>\n",
       "      <td>166.000000</td>\n",
       "      <td>166.000000</td>\n",
       "      <td>163.000000</td>\n",
       "      <td>166.000000</td>\n",
       "      <td>1.660000e+02</td>\n",
       "    </tr>\n",
       "    <tr>\n",
       "      <th>mean</th>\n",
       "      <td>15757.313253</td>\n",
       "      <td>8.231200e+05</td>\n",
       "      <td>460.259036</td>\n",
       "      <td>1.576077e+09</td>\n",
       "      <td>1708.692771</td>\n",
       "      <td>0.409639</td>\n",
       "      <td>3.343558</td>\n",
       "      <td>460.259036</td>\n",
       "      <td>8.231200e+05</td>\n",
       "    </tr>\n",
       "    <tr>\n",
       "      <th>std</th>\n",
       "      <td>6212.985326</td>\n",
       "      <td>8.382611e+05</td>\n",
       "      <td>227.408774</td>\n",
       "      <td>6.868198e+05</td>\n",
       "      <td>1123.250142</td>\n",
       "      <td>0.493255</td>\n",
       "      <td>0.958267</td>\n",
       "      <td>227.408774</td>\n",
       "      <td>8.382611e+05</td>\n",
       "    </tr>\n",
       "    <tr>\n",
       "      <th>min</th>\n",
       "      <td>8643.000000</td>\n",
       "      <td>5.000000e+04</td>\n",
       "      <td>36.000000</td>\n",
       "      <td>1.575158e+09</td>\n",
       "      <td>409.000000</td>\n",
       "      <td>0.000000</td>\n",
       "      <td>1.000000</td>\n",
       "      <td>36.000000</td>\n",
       "      <td>5.000000e+04</td>\n",
       "    </tr>\n",
       "    <tr>\n",
       "      <th>25%</th>\n",
       "      <td>11149.500000</td>\n",
       "      <td>4.137500e+05</td>\n",
       "      <td>337.000000</td>\n",
       "      <td>1.575418e+09</td>\n",
       "      <td>1055.000000</td>\n",
       "      <td>0.000000</td>\n",
       "      <td>3.000000</td>\n",
       "      <td>337.000000</td>\n",
       "      <td>4.137500e+05</td>\n",
       "    </tr>\n",
       "    <tr>\n",
       "      <th>50%</th>\n",
       "      <td>13586.000000</td>\n",
       "      <td>5.998880e+05</td>\n",
       "      <td>411.000000</td>\n",
       "      <td>1.575936e+09</td>\n",
       "      <td>1469.000000</td>\n",
       "      <td>0.000000</td>\n",
       "      <td>3.000000</td>\n",
       "      <td>411.000000</td>\n",
       "      <td>5.998880e+05</td>\n",
       "    </tr>\n",
       "    <tr>\n",
       "      <th>75%</th>\n",
       "      <td>17003.000000</td>\n",
       "      <td>8.875000e+05</td>\n",
       "      <td>543.500000</td>\n",
       "      <td>1.576541e+09</td>\n",
       "      <td>1854.000000</td>\n",
       "      <td>1.000000</td>\n",
       "      <td>4.000000</td>\n",
       "      <td>543.500000</td>\n",
       "      <td>8.875000e+05</td>\n",
       "    </tr>\n",
       "    <tr>\n",
       "      <th>max</th>\n",
       "      <td>29292.000000</td>\n",
       "      <td>7.200000e+06</td>\n",
       "      <td>1682.000000</td>\n",
       "      <td>1.577750e+09</td>\n",
       "      <td>8084.000000</td>\n",
       "      <td>1.000000</td>\n",
       "      <td>7.000000</td>\n",
       "      <td>1682.000000</td>\n",
       "      <td>7.200000e+06</td>\n",
       "    </tr>\n",
       "  </tbody>\n",
       "</table>\n",
       "</div>"
      ],
      "text/plain": [
       "         project_id  transacted_price  unit_price_psf          date  \\\n",
       "count    166.000000      1.660000e+02      166.000000  1.660000e+02   \n",
       "mean   15757.313253      8.231200e+05      460.259036  1.576077e+09   \n",
       "std     6212.985326      8.382611e+05      227.408774  6.868198e+05   \n",
       "min     8643.000000      5.000000e+04       36.000000  1.575158e+09   \n",
       "25%    11149.500000      4.137500e+05      337.000000  1.575418e+09   \n",
       "50%    13586.000000      5.998880e+05      411.000000  1.575936e+09   \n",
       "75%    17003.000000      8.875000e+05      543.500000  1.576541e+09   \n",
       "max    29292.000000      7.200000e+06     1682.000000  1.577750e+09   \n",
       "\n",
       "         area_sqft  non_landed    bedrooms          psf         price  \n",
       "count   166.000000  166.000000  163.000000   166.000000  1.660000e+02  \n",
       "mean   1708.692771    0.409639    3.343558   460.259036  8.231200e+05  \n",
       "std    1123.250142    0.493255    0.958267   227.408774  8.382611e+05  \n",
       "min     409.000000    0.000000    1.000000    36.000000  5.000000e+04  \n",
       "25%    1055.000000    0.000000    3.000000   337.000000  4.137500e+05  \n",
       "50%    1469.000000    0.000000    3.000000   411.000000  5.998880e+05  \n",
       "75%    1854.000000    1.000000    4.000000   543.500000  8.875000e+05  \n",
       "max    8084.000000    1.000000    7.000000  1682.000000  7.200000e+06  "
      ]
     },
     "execution_count": 28,
     "metadata": {},
     "output_type": "execute_result"
    }
   ],
   "source": [
    "transactions.describe()"
   ]
  },
  {
   "cell_type": "code",
   "execution_count": 29,
   "metadata": {
    "scrolled": false
   },
   "outputs": [
    {
     "data": {
      "text/plain": [
       "floor               100\n",
       "planning_region       6\n",
       "bedrooms              3\n",
       "street_name           1\n",
       "state                 0\n",
       "price                 0\n",
       "psf                   0\n",
       "non_landed            0\n",
       "area_sqft             0\n",
       "tenure                0\n",
       "property_type         0\n",
       "date                  0\n",
       "unit_price_psf        0\n",
       "transacted_price      0\n",
       "project_name          0\n",
       "project_id            0\n",
       "dtype: int64"
      ]
     },
     "execution_count": 29,
     "metadata": {},
     "output_type": "execute_result"
    }
   ],
   "source": [
    "transactions.isnull().sum().sort_values(ascending = False)"
   ]
  },
  {
   "cell_type": "code",
   "execution_count": 30,
   "metadata": {},
   "outputs": [
    {
     "data": {
      "text/html": [
       "<div>\n",
       "<style scoped>\n",
       "    .dataframe tbody tr th:only-of-type {\n",
       "        vertical-align: middle;\n",
       "    }\n",
       "\n",
       "    .dataframe tbody tr th {\n",
       "        vertical-align: top;\n",
       "    }\n",
       "\n",
       "    .dataframe thead th {\n",
       "        text-align: right;\n",
       "    }\n",
       "</style>\n",
       "<table border=\"1\" class=\"dataframe\">\n",
       "  <thead>\n",
       "    <tr style=\"text-align: right;\">\n",
       "      <th></th>\n",
       "      <th>project_id</th>\n",
       "      <th>project_name</th>\n",
       "      <th>transacted_price</th>\n",
       "      <th>unit_price_psf</th>\n",
       "      <th>date</th>\n",
       "      <th>property_type</th>\n",
       "      <th>tenure</th>\n",
       "      <th>floor</th>\n",
       "      <th>area_sqft</th>\n",
       "      <th>non_landed</th>\n",
       "      <th>bedrooms</th>\n",
       "      <th>street_name</th>\n",
       "      <th>psf</th>\n",
       "      <th>price</th>\n",
       "      <th>state</th>\n",
       "      <th>planning_region</th>\n",
       "    </tr>\n",
       "  </thead>\n",
       "  <tbody>\n",
       "    <tr>\n",
       "      <th>17</th>\n",
       "      <td>29292</td>\n",
       "      <td>DESA PARK CITY (SOUTH LAKE)</td>\n",
       "      <td>1900000</td>\n",
       "      <td>1154</td>\n",
       "      <td>1577664000</td>\n",
       "      <td>Terrace House</td>\n",
       "      <td>Leasehold</td>\n",
       "      <td>NaN</td>\n",
       "      <td>1647</td>\n",
       "      <td>0</td>\n",
       "      <td>4.0</td>\n",
       "      <td>JALAN DENAI SELATAN</td>\n",
       "      <td>1154</td>\n",
       "      <td>1900000</td>\n",
       "      <td>Kuala Lumpur</td>\n",
       "      <td>NaN</td>\n",
       "    </tr>\n",
       "    <tr>\n",
       "      <th>18</th>\n",
       "      <td>29292</td>\n",
       "      <td>DESA PARK CITY (SOUTH LAKE)</td>\n",
       "      <td>1800000</td>\n",
       "      <td>1093</td>\n",
       "      <td>1576022400</td>\n",
       "      <td>Terrace House</td>\n",
       "      <td>Leasehold</td>\n",
       "      <td>NaN</td>\n",
       "      <td>1647</td>\n",
       "      <td>0</td>\n",
       "      <td>4.0</td>\n",
       "      <td>JALAN DENAI SELATAN</td>\n",
       "      <td>1093</td>\n",
       "      <td>1800000</td>\n",
       "      <td>Kuala Lumpur</td>\n",
       "      <td>NaN</td>\n",
       "    </tr>\n",
       "    <tr>\n",
       "      <th>46</th>\n",
       "      <td>26244</td>\n",
       "      <td>Jalan Sri Hartamas</td>\n",
       "      <td>550000</td>\n",
       "      <td>824</td>\n",
       "      <td>1577318400</td>\n",
       "      <td>Hotel/Service Apartment</td>\n",
       "      <td>Leasehold</td>\n",
       "      <td>15</td>\n",
       "      <td>667</td>\n",
       "      <td>1</td>\n",
       "      <td>NaN</td>\n",
       "      <td>JALAN SRI HARTAMAS</td>\n",
       "      <td>824</td>\n",
       "      <td>550000</td>\n",
       "      <td>Kuala Lumpur</td>\n",
       "      <td>NaN</td>\n",
       "    </tr>\n",
       "    <tr>\n",
       "      <th>47</th>\n",
       "      <td>26245</td>\n",
       "      <td>Jalan Stonor</td>\n",
       "      <td>2650000</td>\n",
       "      <td>789</td>\n",
       "      <td>1575417600</td>\n",
       "      <td>Condominium/Apartment</td>\n",
       "      <td>Leasehold</td>\n",
       "      <td>17</td>\n",
       "      <td>3358</td>\n",
       "      <td>1</td>\n",
       "      <td>6.0</td>\n",
       "      <td>JALAN STONOR</td>\n",
       "      <td>789</td>\n",
       "      <td>2650000</td>\n",
       "      <td>Kuala Lumpur</td>\n",
       "      <td>NaN</td>\n",
       "    </tr>\n",
       "    <tr>\n",
       "      <th>121</th>\n",
       "      <td>28531</td>\n",
       "      <td>Taman Sri Pelangi</td>\n",
       "      <td>438800</td>\n",
       "      <td>285</td>\n",
       "      <td>1575417600</td>\n",
       "      <td>Terrace House</td>\n",
       "      <td>Leasehold</td>\n",
       "      <td>NaN</td>\n",
       "      <td>1539</td>\n",
       "      <td>0</td>\n",
       "      <td>4.0</td>\n",
       "      <td>JALAN SUNGAI RABA</td>\n",
       "      <td>285</td>\n",
       "      <td>438800</td>\n",
       "      <td>Selangor</td>\n",
       "      <td>NaN</td>\n",
       "    </tr>\n",
       "    <tr>\n",
       "      <th>122</th>\n",
       "      <td>28531</td>\n",
       "      <td>Taman Sri Pelangi</td>\n",
       "      <td>438800</td>\n",
       "      <td>285</td>\n",
       "      <td>1575417600</td>\n",
       "      <td>Terrace House</td>\n",
       "      <td>Leasehold</td>\n",
       "      <td>NaN</td>\n",
       "      <td>1539</td>\n",
       "      <td>0</td>\n",
       "      <td>4.0</td>\n",
       "      <td>JALAN SUNGAI RABA</td>\n",
       "      <td>285</td>\n",
       "      <td>438800</td>\n",
       "      <td>Selangor</td>\n",
       "      <td>NaN</td>\n",
       "    </tr>\n",
       "  </tbody>\n",
       "</table>\n",
       "</div>"
      ],
      "text/plain": [
       "     project_id                 project_name  transacted_price  \\\n",
       "17        29292  DESA PARK CITY (SOUTH LAKE)           1900000   \n",
       "18        29292  DESA PARK CITY (SOUTH LAKE)           1800000   \n",
       "46        26244           Jalan Sri Hartamas            550000   \n",
       "47        26245                 Jalan Stonor           2650000   \n",
       "121       28531            Taman Sri Pelangi            438800   \n",
       "122       28531            Taman Sri Pelangi            438800   \n",
       "\n",
       "     unit_price_psf        date            property_type     tenure floor  \\\n",
       "17             1154  1577664000            Terrace House  Leasehold   NaN   \n",
       "18             1093  1576022400            Terrace House  Leasehold   NaN   \n",
       "46              824  1577318400  Hotel/Service Apartment  Leasehold    15   \n",
       "47              789  1575417600    Condominium/Apartment  Leasehold    17   \n",
       "121             285  1575417600            Terrace House  Leasehold   NaN   \n",
       "122             285  1575417600            Terrace House  Leasehold   NaN   \n",
       "\n",
       "     area_sqft  non_landed  bedrooms          street_name   psf    price  \\\n",
       "17        1647           0       4.0  JALAN DENAI SELATAN  1154  1900000   \n",
       "18        1647           0       4.0  JALAN DENAI SELATAN  1093  1800000   \n",
       "46         667           1       NaN   JALAN SRI HARTAMAS   824   550000   \n",
       "47        3358           1       6.0         JALAN STONOR   789  2650000   \n",
       "121       1539           0       4.0    JALAN SUNGAI RABA   285   438800   \n",
       "122       1539           0       4.0    JALAN SUNGAI RABA   285   438800   \n",
       "\n",
       "            state planning_region  \n",
       "17   Kuala Lumpur             NaN  \n",
       "18   Kuala Lumpur             NaN  \n",
       "46   Kuala Lumpur             NaN  \n",
       "47   Kuala Lumpur             NaN  \n",
       "121      Selangor             NaN  \n",
       "122      Selangor             NaN  "
      ]
     },
     "execution_count": 30,
     "metadata": {},
     "output_type": "execute_result"
    }
   ],
   "source": [
    "transactions[transactions['planning_region'].isnull()]"
   ]
  },
  {
   "cell_type": "code",
   "execution_count": 31,
   "metadata": {
    "scrolled": true
   },
   "outputs": [
    {
     "data": {
      "text/plain": [
       "406    6\n",
       "352    3\n",
       "398    3\n",
       "402    3\n",
       "285    3\n",
       "      ..\n",
       "419    1\n",
       "709    1\n",
       "425    1\n",
       "427    1\n",
       "533    1\n",
       "Name: unit_price_psf, Length: 135, dtype: int64"
      ]
     },
     "execution_count": 31,
     "metadata": {},
     "output_type": "execute_result"
    }
   ],
   "source": [
    "transactions['unit_price_psf'].value_counts()"
   ]
  },
  {
   "cell_type": "code",
   "execution_count": 32,
   "metadata": {
    "scrolled": false
   },
   "outputs": [
    {
     "data": {
      "text/plain": [
       "<matplotlib.axes._subplots.AxesSubplot at 0x7f65e0f526d8>"
      ]
     },
     "execution_count": 32,
     "metadata": {},
     "output_type": "execute_result"
    },
    {
     "data": {
      "image/png": "[encoded data removed]",
      "text/plain": [
       "<Figure size 432x288 with 1 Axes>"
      ]
     },
     "metadata": {
      "needs_background": "light"
     },
     "output_type": "display_data"
    }
   ],
   "source": [
    "transactions['unit_price_psf'].plot.hist(bins = 10, alpha = 0.5)"
   ]
  },
  {
   "cell_type": "code",
   "execution_count": 33,
   "metadata": {
    "scrolled": true
   },
   "outputs": [
    {
     "data": {
      "text/plain": [
       "450000     6\n",
       "611888     6\n",
       "550000     5\n",
       "600000     4\n",
       "700000     3\n",
       "          ..\n",
       "80000      1\n",
       "385000     1\n",
       "985000     1\n",
       "4500000    1\n",
       "322896     1\n",
       "Name: transacted_price, Length: 123, dtype: int64"
      ]
     },
     "execution_count": 33,
     "metadata": {},
     "output_type": "execute_result"
    }
   ],
   "source": [
    "transactions['transacted_price'].value_counts()"
   ]
  },
  {
   "cell_type": "code",
   "execution_count": 34,
   "metadata": {
    "scrolled": false
   },
   "outputs": [
    {
     "data": {
      "text/plain": [
       "<matplotlib.axes._subplots.AxesSubplot at 0x7f65e0ea6588>"
      ]
     },
     "execution_count": 34,
     "metadata": {},
     "output_type": "execute_result"
    },
    {
     "data": {
      "image/png": "[encoded data removed]",
      "text/plain": [
       "<Figure size 432x288 with 1 Axes>"
      ]
     },
     "metadata": {
      "needs_background": "light"
     },
     "output_type": "display_data"
    }
   ],
   "source": [
    "transactions['transacted_price'].plot.hist(bins = 10, alpha = 0.5)"
   ]
  },
  {
   "cell_type": "code",
   "execution_count": 35,
   "metadata": {
    "scrolled": false
   },
   "outputs": [
    {
     "data": {
      "text/plain": [
       "406    6\n",
       "352    3\n",
       "398    3\n",
       "402    3\n",
       "285    3\n",
       "      ..\n",
       "419    1\n",
       "709    1\n",
       "425    1\n",
       "427    1\n",
       "533    1\n",
       "Name: psf, Length: 135, dtype: int64"
      ]
     },
     "execution_count": 35,
     "metadata": {},
     "output_type": "execute_result"
    }
   ],
   "source": [
    "transactions['psf'].value_counts()"
   ]
  },
  {
   "cell_type": "code",
   "execution_count": 36,
   "metadata": {
    "scrolled": false
   },
   "outputs": [
    {
     "data": {
      "text/plain": [
       "<matplotlib.axes._subplots.AxesSubplot at 0x7f65e0dd1dd8>"
      ]
     },
     "execution_count": 36,
     "metadata": {},
     "output_type": "execute_result"
    },
    {
     "data": {
      "image/png": "[encoded data removed]",
      "text/plain": [
       "<Figure size 432x288 with 1 Axes>"
      ]
     },
     "metadata": {
      "needs_background": "light"
     },
     "output_type": "display_data"
    }
   ],
   "source": [
    "transactions['psf'].plot.hist(bins = 10, alpha = 0.5)"
   ]
  },
  {
   "cell_type": "code",
   "execution_count": 37,
   "metadata": {
    "scrolled": true
   },
   "outputs": [
    {
     "data": {
      "text/plain": [
       "450000     6\n",
       "611888     6\n",
       "550000     5\n",
       "600000     4\n",
       "700000     3\n",
       "          ..\n",
       "80000      1\n",
       "385000     1\n",
       "985000     1\n",
       "4500000    1\n",
       "322896     1\n",
       "Name: price, Length: 123, dtype: int64"
      ]
     },
     "execution_count": 37,
     "metadata": {},
     "output_type": "execute_result"
    }
   ],
   "source": [
    "transactions['price'].value_counts()"
   ]
  },
  {
   "cell_type": "code",
   "execution_count": 38,
   "metadata": {
    "scrolled": false
   },
   "outputs": [
    {
     "data": {
      "text/plain": [
       "<matplotlib.axes._subplots.AxesSubplot at 0x7f65e0d3f6a0>"
      ]
     },
     "execution_count": 38,
     "metadata": {},
     "output_type": "execute_result"
    },
    {
     "data": {
      "image/png": "[encoded data removed]",
      "text/plain": [
       "<Figure size 432x288 with 1 Axes>"
      ]
     },
     "metadata": {
      "needs_background": "light"
     },
     "output_type": "display_data"
    }
   ],
   "source": [
    "transactions['price'].plot.hist(bins = 10, alpha = 0.5)"
   ]
  },
  {
   "cell_type": "code",
   "execution_count": 39,
   "metadata": {
    "scrolled": true
   },
   "outputs": [
    {
     "data": {
      "text/plain": [
       "0    166\n",
       "Name: unit_price_psf_vs_psf, dtype: int64"
      ]
     },
     "execution_count": 39,
     "metadata": {},
     "output_type": "execute_result"
    }
   ],
   "source": [
    "# 'unit_price_psf' and 'psf' are identical\n",
    "transactions['unit_price_psf_vs_psf'] = transactions['unit_price_psf'] - transactions['psf']\n",
    "transactions['unit_price_psf_vs_psf'].value_counts()"
   ]
  },
  {
   "cell_type": "code",
   "execution_count": 40,
   "metadata": {
    "scrolled": true
   },
   "outputs": [
    {
     "data": {
      "text/plain": [
       "0    166\n",
       "Name: transacted_price_vs_price, dtype: int64"
      ]
     },
     "execution_count": 40,
     "metadata": {},
     "output_type": "execute_result"
    }
   ],
   "source": [
    "# 'transacted_price' and 'price' are identical\n",
    "transactions['transacted_price_vs_price'] = transactions['transacted_price'] - transactions['price']\n",
    "transactions['transacted_price_vs_price'].value_counts()"
   ]
  },
  {
   "cell_type": "code",
   "execution_count": 41,
   "metadata": {
    "scrolled": true
   },
   "outputs": [
    {
     "data": {
      "text/plain": [
       "Terrace House              78\n",
       "Condominium/Apartment      46\n",
       "Hotel/Service Apartment    17\n",
       "Semi-Detached House        13\n",
       "Flat                        5\n",
       "Cluster House               3\n",
       "Detached House              2\n",
       "Town House                  2\n",
       "Name: property_type, dtype: int64"
      ]
     },
     "execution_count": 41,
     "metadata": {},
     "output_type": "execute_result"
    }
   ],
   "source": [
    "transactions['property_type'].value_counts()"
   ]
  },
  {
   "cell_type": "code",
   "execution_count": 42,
   "metadata": {
    "scrolled": true
   },
   "outputs": [
    {
     "data": {
      "text/plain": [
       "0    98\n",
       "1    68\n",
       "Name: non_landed, dtype: int64"
      ]
     },
     "execution_count": 42,
     "metadata": {},
     "output_type": "execute_result"
    }
   ],
   "source": [
    "transactions['non_landed'].value_counts()"
   ]
  },
  {
   "cell_type": "code",
   "execution_count": 43,
   "metadata": {
    "scrolled": true
   },
   "outputs": [
    {
     "data": {
      "text/plain": [
       "Leasehold    166\n",
       "Name: tenure, dtype: int64"
      ]
     },
     "execution_count": 43,
     "metadata": {},
     "output_type": "execute_result"
    }
   ],
   "source": [
    "# Something might be wrong with the data crawled, all rows has value 'Leasehold' for tenure\n",
    "transactions['tenure'].value_counts()"
   ]
  },
  {
   "cell_type": "code",
   "execution_count": 44,
   "metadata": {
    "scrolled": false
   },
   "outputs": [
    {
     "data": {
      "text/plain": [
       "3.0    93\n",
       "4.0    39\n",
       "2.0    17\n",
       "5.0     6\n",
       "6.0     4\n",
       "7.0     3\n",
       "1.0     1\n",
       "Name: bedrooms, dtype: int64"
      ]
     },
     "execution_count": 44,
     "metadata": {},
     "output_type": "execute_result"
    }
   ],
   "source": [
    "transactions['bedrooms'].value_counts()"
   ]
  },
  {
   "cell_type": "code",
   "execution_count": 45,
   "metadata": {},
   "outputs": [
    {
     "data": {
      "text/html": [
       "<div>\n",
       "<style scoped>\n",
       "    .dataframe tbody tr th:only-of-type {\n",
       "        vertical-align: middle;\n",
       "    }\n",
       "\n",
       "    .dataframe tbody tr th {\n",
       "        vertical-align: top;\n",
       "    }\n",
       "\n",
       "    .dataframe thead th {\n",
       "        text-align: right;\n",
       "    }\n",
       "</style>\n",
       "<table border=\"1\" class=\"dataframe\">\n",
       "  <thead>\n",
       "    <tr style=\"text-align: right;\">\n",
       "      <th></th>\n",
       "      <th>project_id</th>\n",
       "      <th>project_name</th>\n",
       "      <th>transacted_price</th>\n",
       "      <th>unit_price_psf</th>\n",
       "      <th>date</th>\n",
       "      <th>property_type</th>\n",
       "      <th>tenure</th>\n",
       "      <th>floor</th>\n",
       "      <th>area_sqft</th>\n",
       "      <th>non_landed</th>\n",
       "      <th>bedrooms</th>\n",
       "      <th>street_name</th>\n",
       "      <th>psf</th>\n",
       "      <th>price</th>\n",
       "      <th>state</th>\n",
       "      <th>planning_region</th>\n",
       "      <th>unit_price_psf_vs_psf</th>\n",
       "      <th>transacted_price_vs_price</th>\n",
       "    </tr>\n",
       "  </thead>\n",
       "  <tbody>\n",
       "    <tr>\n",
       "      <th>45</th>\n",
       "      <td>25495</td>\n",
       "      <td>Jalan Cheras</td>\n",
       "      <td>560000</td>\n",
       "      <td>733</td>\n",
       "      <td>1576022400</td>\n",
       "      <td>Hotel/Service Apartment</td>\n",
       "      <td>Leasehold</td>\n",
       "      <td>12</td>\n",
       "      <td>764</td>\n",
       "      <td>1</td>\n",
       "      <td>NaN</td>\n",
       "      <td>JALAN CHERAS</td>\n",
       "      <td>733</td>\n",
       "      <td>560000</td>\n",
       "      <td>Kuala Lumpur</td>\n",
       "      <td>Cheras</td>\n",
       "      <td>0</td>\n",
       "      <td>0</td>\n",
       "    </tr>\n",
       "    <tr>\n",
       "      <th>46</th>\n",
       "      <td>26244</td>\n",
       "      <td>Jalan Sri Hartamas</td>\n",
       "      <td>550000</td>\n",
       "      <td>824</td>\n",
       "      <td>1577318400</td>\n",
       "      <td>Hotel/Service Apartment</td>\n",
       "      <td>Leasehold</td>\n",
       "      <td>15</td>\n",
       "      <td>667</td>\n",
       "      <td>1</td>\n",
       "      <td>NaN</td>\n",
       "      <td>JALAN SRI HARTAMAS</td>\n",
       "      <td>824</td>\n",
       "      <td>550000</td>\n",
       "      <td>Kuala Lumpur</td>\n",
       "      <td>NaN</td>\n",
       "      <td>0</td>\n",
       "      <td>0</td>\n",
       "    </tr>\n",
       "    <tr>\n",
       "      <th>158</th>\n",
       "      <td>21820</td>\n",
       "      <td>Trefoil</td>\n",
       "      <td>325000</td>\n",
       "      <td>671</td>\n",
       "      <td>1576195200</td>\n",
       "      <td>Hotel/Service Apartment</td>\n",
       "      <td>Leasehold</td>\n",
       "      <td>36</td>\n",
       "      <td>484</td>\n",
       "      <td>1</td>\n",
       "      <td>NaN</td>\n",
       "      <td>JALAN SETIA DAGANG AH U13/AH</td>\n",
       "      <td>671</td>\n",
       "      <td>325000</td>\n",
       "      <td>Selangor</td>\n",
       "      <td>Setia Alam/Alam Nusantara</td>\n",
       "      <td>0</td>\n",
       "      <td>0</td>\n",
       "    </tr>\n",
       "  </tbody>\n",
       "</table>\n",
       "</div>"
      ],
      "text/plain": [
       "     project_id        project_name  transacted_price  unit_price_psf  \\\n",
       "45        25495        Jalan Cheras            560000             733   \n",
       "46        26244  Jalan Sri Hartamas            550000             824   \n",
       "158       21820             Trefoil            325000             671   \n",
       "\n",
       "           date            property_type     tenure floor  area_sqft  \\\n",
       "45   1576022400  Hotel/Service Apartment  Leasehold    12        764   \n",
       "46   1577318400  Hotel/Service Apartment  Leasehold    15        667   \n",
       "158  1576195200  Hotel/Service Apartment  Leasehold    36        484   \n",
       "\n",
       "     non_landed  bedrooms                   street_name  psf   price  \\\n",
       "45            1       NaN                  JALAN CHERAS  733  560000   \n",
       "46            1       NaN            JALAN SRI HARTAMAS  824  550000   \n",
       "158           1       NaN  JALAN SETIA DAGANG AH U13/AH  671  325000   \n",
       "\n",
       "            state            planning_region  unit_price_psf_vs_psf  \\\n",
       "45   Kuala Lumpur                     Cheras                      0   \n",
       "46   Kuala Lumpur                        NaN                      0   \n",
       "158      Selangor  Setia Alam/Alam Nusantara                      0   \n",
       "\n",
       "     transacted_price_vs_price  \n",
       "45                           0  \n",
       "46                           0  \n",
       "158                          0  "
      ]
     },
     "execution_count": 45,
     "metadata": {},
     "output_type": "execute_result"
    }
   ],
   "source": [
    "# For service appartment or studio, it's reasonable to be without a room.\n",
    "transactions[pd.isna(transactions['bedrooms'])]\n"
   ]
  },
  {
   "cell_type": "code",
   "execution_count": 46,
   "metadata": {},
   "outputs": [
    {
     "data": {
      "text/html": [
       "<div>\n",
       "<style scoped>\n",
       "    .dataframe tbody tr th:only-of-type {\n",
       "        vertical-align: middle;\n",
       "    }\n",
       "\n",
       "    .dataframe tbody tr th {\n",
       "        vertical-align: top;\n",
       "    }\n",
       "\n",
       "    .dataframe thead th {\n",
       "        text-align: right;\n",
       "    }\n",
       "</style>\n",
       "<table border=\"1\" class=\"dataframe\">\n",
       "  <thead>\n",
       "    <tr style=\"text-align: right;\">\n",
       "      <th></th>\n",
       "      <th>project_id</th>\n",
       "      <th>date</th>\n",
       "      <th>property_type</th>\n",
       "      <th>tenure</th>\n",
       "      <th>area_sqft</th>\n",
       "      <th>non_landed</th>\n",
       "      <th>bedrooms</th>\n",
       "      <th>street_name</th>\n",
       "      <th>psf</th>\n",
       "      <th>price</th>\n",
       "      <th>planning_region</th>\n",
       "    </tr>\n",
       "  </thead>\n",
       "  <tbody>\n",
       "    <tr>\n",
       "      <th>115</th>\n",
       "      <td>11769</td>\n",
       "      <td>1575331200</td>\n",
       "      <td>Detached House</td>\n",
       "      <td>Leasehold</td>\n",
       "      <td>8084</td>\n",
       "      <td>0</td>\n",
       "      <td>5.0</td>\n",
       "      <td>JALAN SS 19/4E</td>\n",
       "      <td>371</td>\n",
       "      <td>3000000</td>\n",
       "      <td>Subang Jaya</td>\n",
       "    </tr>\n",
       "    <tr>\n",
       "      <th>21</th>\n",
       "      <td>11721</td>\n",
       "      <td>1575331200</td>\n",
       "      <td>Condominium/Apartment</td>\n",
       "      <td>Leasehold</td>\n",
       "      <td>1948</td>\n",
       "      <td>1</td>\n",
       "      <td>2.0</td>\n",
       "      <td>JALAN MEDANG SERAI</td>\n",
       "      <td>1006</td>\n",
       "      <td>1960000</td>\n",
       "      <td>Bangsar</td>\n",
       "    </tr>\n",
       "    <tr>\n",
       "      <th>156</th>\n",
       "      <td>13218</td>\n",
       "      <td>1575936000</td>\n",
       "      <td>Terrace House</td>\n",
       "      <td>Leasehold</td>\n",
       "      <td>1981</td>\n",
       "      <td>0</td>\n",
       "      <td>3.0</td>\n",
       "      <td>JALAN INDAH 1/28</td>\n",
       "      <td>303</td>\n",
       "      <td>600000</td>\n",
       "      <td>Seri Kembangan</td>\n",
       "    </tr>\n",
       "    <tr>\n",
       "      <th>105</th>\n",
       "      <td>11518</td>\n",
       "      <td>1576454400</td>\n",
       "      <td>Terrace House</td>\n",
       "      <td>Leasehold</td>\n",
       "      <td>1302</td>\n",
       "      <td>0</td>\n",
       "      <td>4.0</td>\n",
       "      <td>JALAN ECOHILL 1/3B</td>\n",
       "      <td>361</td>\n",
       "      <td>470000</td>\n",
       "      <td>Semenyih</td>\n",
       "    </tr>\n",
       "    <tr>\n",
       "      <th>150</th>\n",
       "      <td>12610</td>\n",
       "      <td>1575590400</td>\n",
       "      <td>Terrace House</td>\n",
       "      <td>Leasehold</td>\n",
       "      <td>1399</td>\n",
       "      <td>0</td>\n",
       "      <td>3.0</td>\n",
       "      <td>JALAN MERANTI JAYA 1/11</td>\n",
       "      <td>493</td>\n",
       "      <td>690000</td>\n",
       "      <td>Puchong</td>\n",
       "    </tr>\n",
       "    <tr>\n",
       "      <th>161</th>\n",
       "      <td>13592</td>\n",
       "      <td>1575936000</td>\n",
       "      <td>Terrace House</td>\n",
       "      <td>Leasehold</td>\n",
       "      <td>3337</td>\n",
       "      <td>0</td>\n",
       "      <td>3.0</td>\n",
       "      <td>JALAN USJ 11/7</td>\n",
       "      <td>330</td>\n",
       "      <td>1100000</td>\n",
       "      <td>USJ</td>\n",
       "    </tr>\n",
       "    <tr>\n",
       "      <th>126</th>\n",
       "      <td>9233</td>\n",
       "      <td>1576627200</td>\n",
       "      <td>Terrace House</td>\n",
       "      <td>Leasehold</td>\n",
       "      <td>1539</td>\n",
       "      <td>0</td>\n",
       "      <td>4.0</td>\n",
       "      <td>JALAN VISTA 3/1A</td>\n",
       "      <td>450</td>\n",
       "      <td>693000</td>\n",
       "      <td>Cheras South</td>\n",
       "    </tr>\n",
       "    <tr>\n",
       "      <th>57</th>\n",
       "      <td>24915</td>\n",
       "      <td>1577318400</td>\n",
       "      <td>Condominium/Apartment</td>\n",
       "      <td>Leasehold</td>\n",
       "      <td>1044</td>\n",
       "      <td>1</td>\n",
       "      <td>3.0</td>\n",
       "      <td>JALAN BESI KAWI</td>\n",
       "      <td>177</td>\n",
       "      <td>184803</td>\n",
       "      <td>Salak Selatan</td>\n",
       "    </tr>\n",
       "    <tr>\n",
       "      <th>84</th>\n",
       "      <td>25349</td>\n",
       "      <td>1575590400</td>\n",
       "      <td>Condominium/Apartment</td>\n",
       "      <td>Leasehold</td>\n",
       "      <td>657</td>\n",
       "      <td>1</td>\n",
       "      <td>2.0</td>\n",
       "      <td>OFF JALAN LANGKAWI</td>\n",
       "      <td>365</td>\n",
       "      <td>240000</td>\n",
       "      <td>Setapak</td>\n",
       "    </tr>\n",
       "    <tr>\n",
       "      <th>7</th>\n",
       "      <td>16319</td>\n",
       "      <td>1577145600</td>\n",
       "      <td>Condominium/Apartment</td>\n",
       "      <td>Leasehold</td>\n",
       "      <td>1098</td>\n",
       "      <td>1</td>\n",
       "      <td>3.0</td>\n",
       "      <td>JALAN PUTRAMAS 1</td>\n",
       "      <td>410</td>\n",
       "      <td>450000</td>\n",
       "      <td>Dutamas</td>\n",
       "    </tr>\n",
       "  </tbody>\n",
       "</table>\n",
       "</div>"
      ],
      "text/plain": [
       "     project_id        date          property_type     tenure  area_sqft  \\\n",
       "115       11769  1575331200         Detached House  Leasehold       8084   \n",
       "21        11721  1575331200  Condominium/Apartment  Leasehold       1948   \n",
       "156       13218  1575936000          Terrace House  Leasehold       1981   \n",
       "105       11518  1576454400          Terrace House  Leasehold       1302   \n",
       "150       12610  1575590400          Terrace House  Leasehold       1399   \n",
       "161       13592  1575936000          Terrace House  Leasehold       3337   \n",
       "126        9233  1576627200          Terrace House  Leasehold       1539   \n",
       "57        24915  1577318400  Condominium/Apartment  Leasehold       1044   \n",
       "84        25349  1575590400  Condominium/Apartment  Leasehold        657   \n",
       "7         16319  1577145600  Condominium/Apartment  Leasehold       1098   \n",
       "\n",
       "     non_landed  bedrooms              street_name   psf    price  \\\n",
       "115           0       5.0           JALAN SS 19/4E   371  3000000   \n",
       "21            1       2.0       JALAN MEDANG SERAI  1006  1960000   \n",
       "156           0       3.0         JALAN INDAH 1/28   303   600000   \n",
       "105           0       4.0       JALAN ECOHILL 1/3B   361   470000   \n",
       "150           0       3.0  JALAN MERANTI JAYA 1/11   493   690000   \n",
       "161           0       3.0           JALAN USJ 11/7   330  1100000   \n",
       "126           0       4.0         JALAN VISTA 3/1A   450   693000   \n",
       "57            1       3.0          JALAN BESI KAWI   177   184803   \n",
       "84            1       2.0       OFF JALAN LANGKAWI   365   240000   \n",
       "7             1       3.0         JALAN PUTRAMAS 1   410   450000   \n",
       "\n",
       "    planning_region  \n",
       "115     Subang Jaya  \n",
       "21          Bangsar  \n",
       "156  Seri Kembangan  \n",
       "105        Semenyih  \n",
       "150         Puchong  \n",
       "161             USJ  \n",
       "126    Cheras South  \n",
       "57    Salak Selatan  \n",
       "84          Setapak  \n",
       "7           Dutamas  "
      ]
     },
     "execution_count": 46,
     "metadata": {},
     "output_type": "execute_result"
    }
   ],
   "source": [
    "# POI data are clean, there are likely duplicated records to be removed\n",
    "# we need the following columns to be retained for integration with the other two data sets\n",
    "# projectid, date, proptype, tenure, area_sqft, non_landed, bedrooms, street_name, psf, price, planning_region\n",
    "\n",
    "transactions_q2 = transactions[[\n",
    "    'project_id', 'date', 'property_type', 'tenure', 'area_sqft', 'non_landed', 'bedrooms', \n",
    "    'street_name', 'psf', 'price', 'planning_region'\n",
    "]]\n",
    "\n",
    "transactions_q2.sample(10)"
   ]
  },
  {
   "cell_type": "code",
   "execution_count": 47,
   "metadata": {},
   "outputs": [],
   "source": [
    "transactions_q2.to_csv(transaction_csv)"
   ]
  },
  {
   "cell_type": "code",
   "execution_count": null,
   "metadata": {},
   "outputs": [],
   "source": []
  }
 ],
 "metadata": {
  "kernelspec": {
   "display_name": "py3",
   "language": "python",
   "name": "py3"
  },
  "language_info": {
   "codemirror_mode": {
    "name": "ipython",
    "version": 3
   },
   "file_extension": ".py",
   "mimetype": "text/x-python",
   "name": "python",
   "nbconvert_exporter": "python",
   "pygments_lexer": "ipython3",
   "version": "3.6.9"
  }
 },
 "nbformat": 4,
 "nbformat_minor": 4
}
