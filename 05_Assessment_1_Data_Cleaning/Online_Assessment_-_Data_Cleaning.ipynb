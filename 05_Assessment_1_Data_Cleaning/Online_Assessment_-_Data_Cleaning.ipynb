{
 "cells": [
  {
   "cell_type": "code",
   "execution_count": 1,
   "metadata": {},
   "outputs": [],
   "source": [
    "import pandas as pd"
   ]
  },
  {
   "cell_type": "markdown",
   "metadata": {},
   "source": [
    "### Load Data and Perform General Exploration"
   ]
  },
  {
   "cell_type": "code",
   "execution_count": 2,
   "metadata": {},
   "outputs": [],
   "source": [
    "# load data from csv\n",
    "listings = pd.read_csv(\"iproperty_listing.csv.tar.gz\", compression='gzip', low_memory=False)"
   ]
  },
  {
   "cell_type": "code",
   "execution_count": 3,
   "metadata": {
    "scrolled": true
   },
   "outputs": [
    {
     "data": {
      "text/html": [
       "<div>\n",
       "<style scoped>\n",
       "    .dataframe tbody tr th:only-of-type {\n",
       "        vertical-align: middle;\n",
       "    }\n",
       "\n",
       "    .dataframe tbody tr th {\n",
       "        vertical-align: top;\n",
       "    }\n",
       "\n",
       "    .dataframe thead th {\n",
       "        text-align: right;\n",
       "    }\n",
       "</style>\n",
       "<table border=\"1\" class=\"dataframe\">\n",
       "  <thead>\n",
       "    <tr style=\"text-align: right;\">\n",
       "      <th></th>\n",
       "      <th>iproperty_listing.csv</th>\n",
       "      <th>kind</th>\n",
       "      <th>title</th>\n",
       "      <th>subtitle</th>\n",
       "      <th>tier</th>\n",
       "      <th>propertyType</th>\n",
       "      <th>color</th>\n",
       "      <th>transacted</th>\n",
       "      <th>price_type</th>\n",
       "      <th>price_currency</th>\n",
       "      <th>...</th>\n",
       "      <th>attr_transportDescription</th>\n",
       "      <th>attr_governmentWebsite</th>\n",
       "      <th>attr_minimumStay</th>\n",
       "      <th>attr_architectName</th>\n",
       "      <th>attr_contractorName</th>\n",
       "      <th>attr_projectType</th>\n",
       "      <th>attr_budgetRange</th>\n",
       "      <th>poi_education</th>\n",
       "      <th>poi_healthcare</th>\n",
       "      <th>poi_transportation</th>\n",
       "    </tr>\n",
       "  </thead>\n",
       "  <tbody>\n",
       "    <tr>\n",
       "      <th>0</th>\n",
       "      <td>sale-8526600</td>\n",
       "      <td>property</td>\n",
       "      <td>Taman Sri Pulai, Jempol</td>\n",
       "      <td>NaN</td>\n",
       "      <td>1.0</td>\n",
       "      <td>1-sty Terrace/Link House</td>\n",
       "      <td>NaN</td>\n",
       "      <td>NaN</td>\n",
       "      <td>sale</td>\n",
       "      <td>MYR</td>\n",
       "      <td>...</td>\n",
       "      <td>NaN</td>\n",
       "      <td>NaN</td>\n",
       "      <td>NaN</td>\n",
       "      <td>NaN</td>\n",
       "      <td>NaN</td>\n",
       "      <td>NaN</td>\n",
       "      <td>NaN</td>\n",
       "      <td>0.0</td>\n",
       "      <td>0.0</td>\n",
       "      <td>0.0</td>\n",
       "    </tr>\n",
       "    <tr>\n",
       "      <th>1</th>\n",
       "      <td>sale-8726821</td>\n",
       "      <td>property</td>\n",
       "      <td>Pekan Mahsan, Jempol</td>\n",
       "      <td>NaN</td>\n",
       "      <td>1.0</td>\n",
       "      <td>Residential Land</td>\n",
       "      <td>NaN</td>\n",
       "      <td>NaN</td>\n",
       "      <td>sale</td>\n",
       "      <td>MYR</td>\n",
       "      <td>...</td>\n",
       "      <td>NaN</td>\n",
       "      <td>NaN</td>\n",
       "      <td>NaN</td>\n",
       "      <td>NaN</td>\n",
       "      <td>NaN</td>\n",
       "      <td>NaN</td>\n",
       "      <td>NaN</td>\n",
       "      <td>0.0</td>\n",
       "      <td>0.0</td>\n",
       "      <td>0.0</td>\n",
       "    </tr>\n",
       "    <tr>\n",
       "      <th>2</th>\n",
       "      <td>sale-8114392</td>\n",
       "      <td>property</td>\n",
       "      <td>The Light Point, Gelugor</td>\n",
       "      <td>NaN</td>\n",
       "      <td>1.0</td>\n",
       "      <td>Condominium</td>\n",
       "      <td>NaN</td>\n",
       "      <td>NaN</td>\n",
       "      <td>sale</td>\n",
       "      <td>MYR</td>\n",
       "      <td>...</td>\n",
       "      <td>NaN</td>\n",
       "      <td>NaN</td>\n",
       "      <td>NaN</td>\n",
       "      <td>NaN</td>\n",
       "      <td>NaN</td>\n",
       "      <td>NaN</td>\n",
       "      <td>NaN</td>\n",
       "      <td>12.0</td>\n",
       "      <td>1.0</td>\n",
       "      <td>0.0</td>\n",
       "    </tr>\n",
       "    <tr>\n",
       "      <th>3</th>\n",
       "      <td>sale-8081290</td>\n",
       "      <td>property</td>\n",
       "      <td>The Light Collection II, Gelugor</td>\n",
       "      <td>NaN</td>\n",
       "      <td>1.0</td>\n",
       "      <td>Condominium</td>\n",
       "      <td>NaN</td>\n",
       "      <td>NaN</td>\n",
       "      <td>sale</td>\n",
       "      <td>MYR</td>\n",
       "      <td>...</td>\n",
       "      <td>NaN</td>\n",
       "      <td>NaN</td>\n",
       "      <td>NaN</td>\n",
       "      <td>NaN</td>\n",
       "      <td>NaN</td>\n",
       "      <td>NaN</td>\n",
       "      <td>NaN</td>\n",
       "      <td>16.0</td>\n",
       "      <td>2.0</td>\n",
       "      <td>0.0</td>\n",
       "    </tr>\n",
       "    <tr>\n",
       "      <th>4</th>\n",
       "      <td>sale-7691638</td>\n",
       "      <td>property</td>\n",
       "      <td>The Light Point, Gelugor</td>\n",
       "      <td>NaN</td>\n",
       "      <td>1.0</td>\n",
       "      <td>Condominium</td>\n",
       "      <td>NaN</td>\n",
       "      <td>NaN</td>\n",
       "      <td>sale</td>\n",
       "      <td>MYR</td>\n",
       "      <td>...</td>\n",
       "      <td>NaN</td>\n",
       "      <td>NaN</td>\n",
       "      <td>NaN</td>\n",
       "      <td>NaN</td>\n",
       "      <td>NaN</td>\n",
       "      <td>NaN</td>\n",
       "      <td>NaN</td>\n",
       "      <td>12.0</td>\n",
       "      <td>1.0</td>\n",
       "      <td>0.0</td>\n",
       "    </tr>\n",
       "  </tbody>\n",
       "</table>\n",
       "<p>5 rows × 102 columns</p>\n",
       "</div>"
      ],
      "text/plain": [
       "  iproperty_listing.csv      kind                             title  subtitle  \\\n",
       "0          sale-8526600  property           Taman Sri Pulai, Jempol       NaN   \n",
       "1          sale-8726821  property              Pekan Mahsan, Jempol       NaN   \n",
       "2          sale-8114392  property          The Light Point, Gelugor       NaN   \n",
       "3          sale-8081290  property  The Light Collection II, Gelugor       NaN   \n",
       "4          sale-7691638  property          The Light Point, Gelugor       NaN   \n",
       "\n",
       "   tier              propertyType color  transacted price_type price_currency  \\\n",
       "0   1.0  1-sty Terrace/Link House   NaN         NaN       sale            MYR   \n",
       "1   1.0          Residential Land   NaN         NaN       sale            MYR   \n",
       "2   1.0               Condominium   NaN         NaN       sale            MYR   \n",
       "3   1.0               Condominium   NaN         NaN       sale            MYR   \n",
       "4   1.0               Condominium   NaN         NaN       sale            MYR   \n",
       "\n",
       "   ...  attr_transportDescription  attr_governmentWebsite  attr_minimumStay  \\\n",
       "0  ...                        NaN                     NaN               NaN   \n",
       "1  ...                        NaN                     NaN               NaN   \n",
       "2  ...                        NaN                     NaN               NaN   \n",
       "3  ...                        NaN                     NaN               NaN   \n",
       "4  ...                        NaN                     NaN               NaN   \n",
       "\n",
       "   attr_architectName  attr_contractorName  attr_projectType attr_budgetRange  \\\n",
       "0                 NaN                  NaN               NaN              NaN   \n",
       "1                 NaN                  NaN               NaN              NaN   \n",
       "2                 NaN                  NaN               NaN              NaN   \n",
       "3                 NaN                  NaN               NaN              NaN   \n",
       "4                 NaN                  NaN               NaN              NaN   \n",
       "\n",
       "   poi_education  poi_healthcare poi_transportation  \n",
       "0            0.0             0.0                0.0  \n",
       "1            0.0             0.0                0.0  \n",
       "2           12.0             1.0                0.0  \n",
       "3           16.0             2.0                0.0  \n",
       "4           12.0             1.0                0.0  \n",
       "\n",
       "[5 rows x 102 columns]"
      ]
     },
     "execution_count": 3,
     "metadata": {},
     "output_type": "execute_result"
    }
   ],
   "source": [
    "# perform general exploration\n",
    "listings.head()"
   ]
  },
  {
   "cell_type": "code",
   "execution_count": 4,
   "metadata": {},
   "outputs": [
    {
     "data": {
      "text/plain": [
       "transacted                             68769\n",
       "price_minPricePerSizeUnitByLandArea    68769\n",
       "attr_buildYear                         68769\n",
       "attr_developerName                     68769\n",
       "attr_hasImage360                       68769\n",
       "                                       ...  \n",
       "state                                      1\n",
       "city                                       1\n",
       "poi_healthcare                             1\n",
       "poi_education                              1\n",
       "iproperty_listing.csv                      1\n",
       "Length: 102, dtype: int64"
      ]
     },
     "execution_count": 4,
     "metadata": {},
     "output_type": "execute_result"
    }
   ],
   "source": [
    "listings.isnull().sum().sort_values(ascending = False)"
   ]
  },
  {
   "cell_type": "code",
   "execution_count": 5,
   "metadata": {},
   "outputs": [
    {
     "data": {
      "text/plain": [
       "(68769, 102)"
      ]
     },
     "execution_count": 5,
     "metadata": {},
     "output_type": "execute_result"
    }
   ],
   "source": [
    "listings.shape"
   ]
  },
  {
   "cell_type": "markdown",
   "metadata": {},
   "source": [
    "### Drop Unuseful Columns"
   ]
  },
  {
   "cell_type": "code",
   "execution_count": 6,
   "metadata": {},
   "outputs": [],
   "source": [
    "# drop all columns without any data\n",
    "listings.dropna(how='all', axis=1, inplace=True)"
   ]
  },
  {
   "cell_type": "code",
   "execution_count": 7,
   "metadata": {},
   "outputs": [
    {
     "data": {
      "text/plain": [
       "(68769, 53)"
      ]
     },
     "execution_count": 7,
     "metadata": {},
     "output_type": "execute_result"
    }
   ],
   "source": [
    "listings.shape"
   ]
  },
  {
   "cell_type": "code",
   "execution_count": 8,
   "metadata": {},
   "outputs": [
    {
     "data": {
      "text/plain": [
       "price_maxPricePerSizeUnitByBuiltUp           68742\n",
       "attr_completionStatus                        68738\n",
       "price_minPricePerSizeUnitByBuiltUp           68723\n",
       "attr_promotion                               68709\n",
       "attr_projectLandEncumbrance                  68700\n",
       "attr_projectApprovalAuthorityBuildingPlan    68685\n",
       "attr_projectBuildingReferenceNo              68685\n",
       "attr_projectAdvertisingPermitValidity        68685\n",
       "attr_projectLicenseValidity                  68684\n",
       "attr_projectAdvertisingPermit                68680\n",
       "attr_highlight                               68646\n",
       "attr_completionDate                          68603\n",
       "attr_projectStage                            68586\n",
       "color                                        68586\n",
       "attr_bumiDiscount                            68586\n",
       "attr_totalUnits                              68586\n",
       "attr_maintenanceFee                          67267\n",
       "attr_auctionDate                             66089\n",
       "attr_maximumPricePerSizeUnit                 62780\n",
       "attr_pricePSF                                62761\n",
       "attr_minimumPricePerSizeUnit                 62761\n",
       "attr_facingDirection                         46812\n",
       "township                                     39130\n",
       "attr_occupancy                               33694\n",
       "attr_landArea                                32008\n",
       "attr_unitType                                30853\n",
       "attr_carPark                                 26308\n",
       "attr_titleType                               23054\n",
       "attr_landTitleType                           21577\n",
       "longitude                                    20495\n",
       "latitude                                     20494\n",
       "attr_furnishing                              17412\n",
       "attr_builtUp                                 11033\n",
       "attr_tenure                                  10117\n",
       "attr_bathroom                                 4135\n",
       "attr_bedroom                                  3860\n",
       "attr_sizeUnit                                  185\n",
       "attr_downloadUrl                               184\n",
       "tier                                             1\n",
       "propertyType                                     1\n",
       "title                                            1\n",
       "price_currency                                   1\n",
       "kind                                             1\n",
       "price_type                                       1\n",
       "poi_transportation                               1\n",
       "price_min                                        1\n",
       "price_max                                        1\n",
       "formatedAddress                                  1\n",
       "state                                            1\n",
       "city                                             1\n",
       "poi_healthcare                                   1\n",
       "poi_education                                    1\n",
       "iproperty_listing.csv                            1\n",
       "dtype: int64"
      ]
     },
     "execution_count": 8,
     "metadata": {},
     "output_type": "execute_result"
    }
   ],
   "source": [
    "listings.isnull().sum().sort_values(ascending = False)"
   ]
  },
  {
   "cell_type": "code",
   "execution_count": 9,
   "metadata": {},
   "outputs": [],
   "source": [
    "# drop columns which majority of rows contain no data\n",
    "listings.drop(['price_maxPricePerSizeUnitByBuiltUp', 'attr_completionStatus',\n",
    "       'price_minPricePerSizeUnitByBuiltUp', 'attr_promotion',\n",
    "       'attr_projectLandEncumbrance',\n",
    "       'attr_projectApprovalAuthorityBuildingPlan',\n",
    "       'attr_projectBuildingReferenceNo',\n",
    "       'attr_projectAdvertisingPermitValidity', 'attr_projectLicenseValidity',\n",
    "       'attr_projectAdvertisingPermit', 'attr_highlight',\n",
    "       'attr_completionDate', 'attr_projectStage', 'color',\n",
    "       'attr_bumiDiscount', 'attr_totalUnits', 'attr_maintenanceFee',\n",
    "       'attr_auctionDate', 'attr_maximumPricePerSizeUnit', 'attr_pricePSF',\n",
    "       'attr_minimumPricePerSizeUnit'], axis=1, inplace=True)"
   ]
  },
  {
   "cell_type": "code",
   "execution_count": 10,
   "metadata": {},
   "outputs": [
    {
     "data": {
      "text/plain": [
       "(68769, 32)"
      ]
     },
     "execution_count": 10,
     "metadata": {},
     "output_type": "execute_result"
    }
   ],
   "source": [
    "listings.shape"
   ]
  },
  {
   "cell_type": "markdown",
   "metadata": {},
   "source": [
    "### Fill Missing Categorial Data"
   ]
  },
  {
   "cell_type": "code",
   "execution_count": 11,
   "metadata": {},
   "outputs": [
    {
     "data": {
      "text/plain": [
       "attr_facingDirection     46812\n",
       "township                 39130\n",
       "attr_occupancy           33694\n",
       "attr_landArea            32008\n",
       "attr_unitType            30853\n",
       "attr_carPark             26308\n",
       "attr_titleType           23054\n",
       "attr_landTitleType       21577\n",
       "longitude                20495\n",
       "latitude                 20494\n",
       "attr_furnishing          17412\n",
       "attr_builtUp             11033\n",
       "attr_tenure              10117\n",
       "attr_bathroom             4135\n",
       "attr_bedroom              3860\n",
       "attr_sizeUnit              185\n",
       "attr_downloadUrl           184\n",
       "price_min                    1\n",
       "title                        1\n",
       "tier                         1\n",
       "propertyType                 1\n",
       "kind                         1\n",
       "price_type                   1\n",
       "price_currency               1\n",
       "poi_transportation           1\n",
       "price_max                    1\n",
       "formatedAddress              1\n",
       "state                        1\n",
       "city                         1\n",
       "poi_healthcare               1\n",
       "poi_education                1\n",
       "iproperty_listing.csv        1\n",
       "dtype: int64"
      ]
     },
     "execution_count": 11,
     "metadata": {},
     "output_type": "execute_result"
    }
   ],
   "source": [
    "# list columns and their null value count\n",
    "listings.isnull().sum().sort_values(ascending = False)"
   ]
  },
  {
   "cell_type": "code",
   "execution_count": 12,
   "metadata": {},
   "outputs": [
    {
     "data": {
      "text/plain": [
       "Unknown      7674\n",
       "North        3672\n",
       "South        3458\n",
       "East         1622\n",
       "NorthEast    1561\n",
       "SouthEast    1323\n",
       "SouthWest    1157\n",
       "NorthWest     912\n",
       "West          578\n",
       "Name: attr_facingDirection, dtype: int64"
      ]
     },
     "execution_count": 12,
     "metadata": {},
     "output_type": "execute_result"
    }
   ],
   "source": [
    "listings['attr_facingDirection'].value_counts()"
   ]
  },
  {
   "cell_type": "code",
   "execution_count": 13,
   "metadata": {},
   "outputs": [],
   "source": [
    "listings['attr_facingDirection'].fillna(value='Unknown', inplace=True)"
   ]
  },
  {
   "cell_type": "code",
   "execution_count": 14,
   "metadata": {},
   "outputs": [
    {
     "data": {
      "text/plain": [
       "Vacant            23185\n",
       "Tenanted           5161\n",
       "Owner Occupied     4406\n",
       "Unknown            2323\n",
       "Name: attr_occupancy, dtype: int64"
      ]
     },
     "execution_count": 14,
     "metadata": {},
     "output_type": "execute_result"
    }
   ],
   "source": [
    "listings['attr_occupancy'].value_counts()"
   ]
  },
  {
   "cell_type": "code",
   "execution_count": 15,
   "metadata": {},
   "outputs": [],
   "source": [
    "listings['attr_occupancy'].fillna(value='Unknown', inplace=True)"
   ]
  },
  {
   "cell_type": "code",
   "execution_count": 16,
   "metadata": {},
   "outputs": [
    {
     "data": {
      "text/plain": [
       "Intermediate    24625\n",
       "Corner          10207\n",
       "EndLot           2081\n",
       "Duplex            412\n",
       "Penthouse         286\n",
       "Studio            197\n",
       "SOHO               64\n",
       "Triplex            44\n",
       "Name: attr_unitType, dtype: int64"
      ]
     },
     "execution_count": 16,
     "metadata": {},
     "output_type": "execute_result"
    }
   ],
   "source": [
    "listings['attr_unitType'].value_counts()"
   ]
  },
  {
   "cell_type": "code",
   "execution_count": 17,
   "metadata": {},
   "outputs": [],
   "source": [
    "listings['attr_unitType'].fillna(value='Unknown', inplace=True)"
   ]
  },
  {
   "cell_type": "code",
   "execution_count": 18,
   "metadata": {},
   "outputs": [
    {
     "data": {
      "text/plain": [
       "Individual    25961\n",
       "Strata        18463\n",
       "Unknown        1291\n",
       "Name: attr_titleType, dtype: int64"
      ]
     },
     "execution_count": 18,
     "metadata": {},
     "output_type": "execute_result"
    }
   ],
   "source": [
    "listings['attr_titleType'].value_counts()"
   ]
  },
  {
   "cell_type": "code",
   "execution_count": 19,
   "metadata": {},
   "outputs": [],
   "source": [
    "listings['attr_titleType'].fillna(value='Unknown', inplace=True)"
   ]
  },
  {
   "cell_type": "code",
   "execution_count": 20,
   "metadata": {
    "scrolled": true
   },
   "outputs": [
    {
     "data": {
      "text/plain": [
       "Residential    43954\n",
       "Commercial      2556\n",
       "Unknown          471\n",
       "Industrial       211\n",
       "Name: attr_landTitleType, dtype: int64"
      ]
     },
     "execution_count": 20,
     "metadata": {},
     "output_type": "execute_result"
    }
   ],
   "source": [
    "listings['attr_landTitleType'].value_counts()"
   ]
  },
  {
   "cell_type": "code",
   "execution_count": 21,
   "metadata": {},
   "outputs": [],
   "source": [
    "listings['attr_landTitleType'].fillna(value='Unknown', inplace=True)"
   ]
  },
  {
   "cell_type": "code",
   "execution_count": 22,
   "metadata": {
    "scrolled": true
   },
   "outputs": [
    {
     "data": {
      "text/plain": [
       "Partly Furnished    24380\n",
       "Fully Furnished     13263\n",
       "Unfurnished         12752\n",
       "Unknown               962\n",
       "Name: attr_furnishing, dtype: int64"
      ]
     },
     "execution_count": 22,
     "metadata": {},
     "output_type": "execute_result"
    }
   ],
   "source": [
    "listings['attr_furnishing'].value_counts()"
   ]
  },
  {
   "cell_type": "code",
   "execution_count": 23,
   "metadata": {},
   "outputs": [],
   "source": [
    "listings['attr_furnishing'].fillna(value='Unknown', inplace=True)"
   ]
  },
  {
   "cell_type": "code",
   "execution_count": 24,
   "metadata": {},
   "outputs": [
    {
     "data": {
      "text/plain": [
       "Freehold               42844\n",
       "Leasehold              14985\n",
       "Malay Reserved Land      474\n",
       "Lease Tenancy            189\n",
       "Unknown                  160\n",
       "Name: attr_tenure, dtype: int64"
      ]
     },
     "execution_count": 24,
     "metadata": {},
     "output_type": "execute_result"
    }
   ],
   "source": [
    "listings['attr_tenure'].value_counts()"
   ]
  },
  {
   "cell_type": "code",
   "execution_count": 25,
   "metadata": {},
   "outputs": [],
   "source": [
    "listings['attr_tenure'].fillna(value='Unknown', inplace=True)"
   ]
  },
  {
   "cell_type": "code",
   "execution_count": 26,
   "metadata": {},
   "outputs": [
    {
     "data": {
      "text/plain": [
       "3        17241\n",
       "4        14863\n",
       "4+1       5484\n",
       "3+1       5291\n",
       "5         4375\n",
       "         ...  \n",
       "5 - 7        1\n",
       "1 - 7        1\n",
       "14+          1\n",
       "4 - 7        1\n",
       "13+1         1\n",
       "Name: attr_bedroom, Length: 65, dtype: int64"
      ]
     },
     "execution_count": 26,
     "metadata": {},
     "output_type": "execute_result"
    }
   ],
   "source": [
    "listings['attr_bedroom'].value_counts()"
   ]
  },
  {
   "cell_type": "code",
   "execution_count": 27,
   "metadata": {},
   "outputs": [
    {
     "data": {
      "text/plain": [
       "SQUARE_FEET      67999\n",
       "ACRES              323\n",
       "SQUARE_METERS      251\n",
       "HECTARE             11\n",
       "Name: attr_sizeUnit, dtype: int64"
      ]
     },
     "execution_count": 27,
     "metadata": {},
     "output_type": "execute_result"
    }
   ],
   "source": [
    "listings['attr_sizeUnit'].value_counts()"
   ]
  },
  {
   "cell_type": "markdown",
   "metadata": {},
   "source": [
    "### Clean Data With Inconsistent Format"
   ]
  },
  {
   "cell_type": "code",
   "execution_count": 28,
   "metadata": {},
   "outputs": [
    {
     "data": {
      "text/plain": [
       "22x75      1162\n",
       "20x70      1025\n",
       "22x70       766\n",
       "1400        744\n",
       "1,400       500\n",
       "           ... \n",
       "6652          1\n",
       "56'X85'       1\n",
       "36'x80'       1\n",
       "8,746         1\n",
       "3891          1\n",
       "Name: attr_landArea, Length: 8945, dtype: int64"
      ]
     },
     "execution_count": 28,
     "metadata": {},
     "output_type": "execute_result"
    }
   ],
   "source": [
    "listings['attr_landArea'].value_counts()"
   ]
  },
  {
   "cell_type": "code",
   "execution_count": 29,
   "metadata": {},
   "outputs": [],
   "source": [
    "# mixed of categorial & numerical data, need to study on the data first before cleaning"
   ]
  },
  {
   "cell_type": "code",
   "execution_count": 30,
   "metadata": {
    "scrolled": true
   },
   "outputs": [
    {
     "data": {
      "text/plain": [
       "2,000             1046\n",
       "1,400              879\n",
       "1,800              825\n",
       "1,600              733\n",
       "3,000              714\n",
       "                  ... \n",
       "6,862                1\n",
       "From 611 - 983       1\n",
       "5,307                1\n",
       "681                  1\n",
       "5,587                1\n",
       "Name: attr_builtUp, Length: 4926, dtype: int64"
      ]
     },
     "execution_count": 30,
     "metadata": {},
     "output_type": "execute_result"
    }
   ],
   "source": [
    "listings['attr_builtUp'].value_counts()"
   ]
  },
  {
   "cell_type": "code",
   "execution_count": 31,
   "metadata": {},
   "outputs": [],
   "source": [
    "# mixed of categorial & numerical data, need to study on the data first before cleaning"
   ]
  },
  {
   "cell_type": "code",
   "execution_count": 32,
   "metadata": {},
   "outputs": [
    {
     "data": {
      "text/plain": [
       "2        20806\n",
       "1        11414\n",
       "3         4058\n",
       "4         3614\n",
       "6         1104\n",
       "5          726\n",
       "8          209\n",
       "10         206\n",
       "7           82\n",
       "0           52\n",
       "20          33\n",
       "30          25\n",
       "12          19\n",
       "1 - 2       18\n",
       "2 - 3       17\n",
       "9           16\n",
       "15          13\n",
       "1 - 3        9\n",
       "2 - 4        9\n",
       "11           6\n",
       "14           4\n",
       "13           3\n",
       "17           3\n",
       "16           2\n",
       "1 - 4        2\n",
       "18           2\n",
       "2 - 6        2\n",
       "28           1\n",
       "3 - 4        1\n",
       "1 - 5        1\n",
       "3 - 6        1\n",
       "4 - 6        1\n",
       "0 - 2        1\n",
       "23           1\n",
       "Name: attr_carPark, dtype: int64"
      ]
     },
     "execution_count": 32,
     "metadata": {},
     "output_type": "execute_result"
    }
   ],
   "source": [
    "listings['attr_carPark'].value_counts()"
   ]
  },
  {
   "cell_type": "code",
   "execution_count": 33,
   "metadata": {},
   "outputs": [],
   "source": [
    "# mixed of categorial & numerical data, need to study on the data first before cleaning"
   ]
  },
  {
   "cell_type": "code",
   "execution_count": 34,
   "metadata": {},
   "outputs": [
    {
     "data": {
      "text/plain": [
       "2        22860\n",
       "3        16764\n",
       "4         8308\n",
       "5         6054\n",
       "1         4229\n",
       "6         3661\n",
       "7         1681\n",
       "8          581\n",
       "9          206\n",
       "10          87\n",
       "12          25\n",
       "20          23\n",
       "11          21\n",
       "0           17\n",
       "2 - 3       14\n",
       "1 - 2       14\n",
       "13          13\n",
       "15          12\n",
       "1 - 3        8\n",
       "14           8\n",
       "5 - 6        6\n",
       "4 - 5        6\n",
       "3 - 4        6\n",
       "16           3\n",
       "1 - 5        3\n",
       "17           3\n",
       "1 - 4        3\n",
       "3 - 6        2\n",
       "6 - 7        2\n",
       "0 - 3        2\n",
       "4 - 6        2\n",
       "2 - 4        2\n",
       "2 - 5        2\n",
       "2 - 9        1\n",
       "7 - 8        1\n",
       "6 - 8        1\n",
       "2 - 6        1\n",
       "5 - 7        1\n",
       "0 - 4        1\n",
       "Name: attr_bathroom, dtype: int64"
      ]
     },
     "execution_count": 34,
     "metadata": {},
     "output_type": "execute_result"
    }
   ],
   "source": [
    "listings['attr_bathroom'].value_counts()"
   ]
  },
  {
   "cell_type": "code",
   "execution_count": 35,
   "metadata": {},
   "outputs": [],
   "source": [
    "# listings['attr_bathroom'].fillna(value='Unknown', inplace=True)\n",
    "# mixed of categorial & numerical data, need to study on the data first before cleaning"
   ]
  },
  {
   "cell_type": "code",
   "execution_count": 36,
   "metadata": {},
   "outputs": [
    {
     "data": {
      "text/plain": [
       "3        17241\n",
       "4        14863\n",
       "4+1       5484\n",
       "3+1       5291\n",
       "5         4375\n",
       "         ...  \n",
       "5 - 7        1\n",
       "1 - 7        1\n",
       "14+          1\n",
       "4 - 7        1\n",
       "13+1         1\n",
       "Name: attr_bedroom, Length: 65, dtype: int64"
      ]
     },
     "execution_count": 36,
     "metadata": {},
     "output_type": "execute_result"
    }
   ],
   "source": [
    "listings['attr_bedroom'].value_counts()"
   ]
  },
  {
   "cell_type": "code",
   "execution_count": 37,
   "metadata": {},
   "outputs": [],
   "source": [
    "# listings['attr_bedroom'].fillna(value='Unknown', inplace=True)\n",
    "# mixed of categorial & numerical data, need to study on the data first before cleaning"
   ]
  },
  {
   "cell_type": "markdown",
   "metadata": {},
   "source": [
    "### Drop Rows With Missing important Data"
   ]
  },
  {
   "cell_type": "code",
   "execution_count": 38,
   "metadata": {},
   "outputs": [],
   "source": [
    "# drop rows with no size unit\n",
    "listings.dropna(subset=['attr_sizeUnit'], inplace=True)"
   ]
  },
  {
   "cell_type": "code",
   "execution_count": 39,
   "metadata": {},
   "outputs": [],
   "source": [
    "# drop rows with no data in both attr_landArea and attr_builtUp\n",
    "listings.dropna(subset=['attr_landArea', 'attr_builtUp'], how='all', inplace=True)"
   ]
  },
  {
   "cell_type": "code",
   "execution_count": 40,
   "metadata": {},
   "outputs": [],
   "source": [
    "# drop rows without latitude, longitude and township \n",
    "listings.dropna(subset=['latitude', 'longitude', 'township'], how='all', inplace=True)"
   ]
  },
  {
   "cell_type": "code",
   "execution_count": 41,
   "metadata": {},
   "outputs": [
    {
     "data": {
      "text/plain": [
       "attr_landArea            28301\n",
       "township                 21129\n",
       "attr_carPark             16622\n",
       "attr_builtUp              5264\n",
       "longitude                 2708\n",
       "latitude                  2707\n",
       "attr_bathroom             2230\n",
       "attr_bedroom              2027\n",
       "price_min                    0\n",
       "state                        0\n",
       "formatedAddress              0\n",
       "price_currency               0\n",
       "price_type                   0\n",
       "propertyType                 0\n",
       "tier                         0\n",
       "title                        0\n",
       "kind                         0\n",
       "price_max                    0\n",
       "poi_transportation           0\n",
       "city                         0\n",
       "poi_healthcare               0\n",
       "attr_furnishing              0\n",
       "attr_landTitleType           0\n",
       "attr_tenure                  0\n",
       "attr_facingDirection         0\n",
       "attr_unitType                0\n",
       "attr_occupancy               0\n",
       "attr_titleType               0\n",
       "attr_sizeUnit                0\n",
       "attr_downloadUrl             0\n",
       "poi_education                0\n",
       "iproperty_listing.csv        0\n",
       "dtype: int64"
      ]
     },
     "execution_count": 41,
     "metadata": {},
     "output_type": "execute_result"
    }
   ],
   "source": [
    "listings.isnull().sum().sort_values(ascending = False)"
   ]
  },
  {
   "cell_type": "code",
   "execution_count": 42,
   "metadata": {},
   "outputs": [
    {
     "data": {
      "text/plain": [
       "(49947, 32)"
      ]
     },
     "execution_count": 42,
     "metadata": {},
     "output_type": "execute_result"
    }
   ],
   "source": [
    "listings.shape"
   ]
  }
 ],
 "metadata": {
  "kernelspec": {
   "display_name": "Python 3",
   "language": "python",
   "name": "python3"
  },
  "language_info": {
   "codemirror_mode": {
    "name": "ipython",
    "version": 3
   },
   "file_extension": ".py",
   "mimetype": "text/x-python",
   "name": "python",
   "nbconvert_exporter": "python",
   "pygments_lexer": "ipython3",
   "version": "3.6.9"
  }
 },
 "nbformat": 4,
 "nbformat_minor": 4
}
